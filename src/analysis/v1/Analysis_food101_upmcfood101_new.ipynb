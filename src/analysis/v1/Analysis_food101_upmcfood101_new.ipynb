{
 "cells": [
  {
   "cell_type": "code",
   "execution_count": 1,
   "metadata": {},
   "outputs": [],
   "source": [
    "import pickle\n",
    "import pandas as pd\n",
    "import numpy as np\n",
    "import os\n",
    "import matplotlib.pyplot as plt\n",
    "import matplotlib.image as mpimg\n"
   ]
  },
  {
   "cell_type": "code",
   "execution_count": 2,
   "metadata": {},
   "outputs": [],
   "source": [
    "pd.options.display.max_rows = 999"
   ]
  },
  {
   "cell_type": "markdown",
   "metadata": {},
   "source": [
    "# UNICOM\n"
   ]
  },
  {
   "cell_type": "markdown",
   "metadata": {},
   "source": [
    "# Baseline runs"
   ]
  },
  {
   "cell_type": "code",
   "execution_count": 3,
   "metadata": {},
   "outputs": [],
   "source": [
    "base_dir = \"/work/hdd/bdgs/npatil/New/Enola_Augmented/MT_food101_full_101_f739c19e1aeeaea18c60b1bf802b05db\"\n",
    "\n",
    "runs   = [\n",
    "            \"MT_Baseline_8915e10296bdf7f70fb9b4bfed4f45fe/Metrics\",\n",
    "        ]\n",
    "\n",
    "stats_filename = \"agg_class_stats.pkl\"\n",
    "\n",
    "dhard_base = \"/work/hdd/bdgs/npatil/New/Enola_Augmented/MT_food101_full_101_f739c19e1aeeaea18c60b1bf802b05db/Datasets\"\n",
    "\n",
    "dhard_runs = [\n",
    "              \"df_food101_val_test_empirical_8915e10296bdf7f70fb9b4bfed4f45fe.pkl\",\n",
    "              ]\n",
    "\n",
    "# Load labels\n",
    "val_path = \"/projects/bdgs/zsarwar/data/food-101/DF/df_food101_val.pkl\"\n",
    "df_val = pd.read_pickle(val_path)"
   ]
  },
  {
   "cell_type": "code",
   "execution_count": 4,
   "metadata": {},
   "outputs": [],
   "source": [
    "all_stats_paths = []\n",
    "for r in runs:\n",
    "    stats_path = os.path.join(base_dir, r, stats_filename)\n",
    "    all_stats_paths.append(stats_path)\n",
    "    \n",
    "\n",
    "all_stats_acc = []\n",
    "for path in all_stats_paths:\n",
    "    stats = pd.read_pickle(path)\n",
    "    all_stats_acc.append(stats['accuracy'])\n"
   ]
  },
  {
   "cell_type": "code",
   "execution_count": 5,
   "metadata": {},
   "outputs": [],
   "source": [
    "df_val = df_val.drop_duplicates('label')\n",
    "df_val_classes = df_val[['class', 'label']]\n",
    "\n",
    "label_list = list(df_val_classes['label'])\n",
    "\n",
    "all_acc_list = []\n",
    "for i in range(len(all_stats_acc)):\n",
    "    accuracy_list = [all_stats_acc[i][cl] for cl in label_list]\n",
    "    all_acc_list.append(accuracy_list)\n",
    "\n",
    "for i in range(len(all_acc_list)):\n",
    "    col_name = f\"accuracy_{i}\"\n",
    "    df_val_classes.insert(2, col_name, all_acc_list[i], True)   "
   ]
  },
  {
   "cell_type": "code",
   "execution_count": 6,
   "metadata": {},
   "outputs": [
    {
     "name": "stdout",
     "output_type": "stream",
     "text": [
      "Accruracy for each run :  [87.53663514392211]\n",
      "Mean accuracy across runs :  87.53663514392211\n"
     ]
    }
   ],
   "source": [
    "df_base = df_val_classes.copy()\n",
    "\n",
    "cols = [f\"accuracy_{i}\" for i in range(len(all_acc_list))]\n",
    "df_base['accuracy_0'].mean()\n",
    "mean_accs = []\n",
    "for c in cols:\n",
    "    t_acc = df_base[c].mean()\n",
    "    mean_accs.append(t_acc)\n",
    "print(\"Accruracy for each run : \", mean_accs)\n",
    "mean_accs = np.asarray(mean_accs)\n",
    "print(\"Mean accuracy across runs : \", np.mean(mean_accs))"
   ]
  },
  {
   "cell_type": "code",
   "execution_count": null,
   "metadata": {},
   "outputs": [],
   "source": []
  },
  {
   "cell_type": "markdown",
   "metadata": {},
   "source": [
    "# Augmented runs"
   ]
  },
  {
   "cell_type": "code",
   "execution_count": 7,
   "metadata": {},
   "outputs": [],
   "source": [
    "base_dir = \"/work/hdd/bdgs/npatil/New/Enola_Augmented/MT_food101_full_101_f739c19e1aeeaea18c60b1bf802b05db\"\n",
    "\n",
    "runs = [\n",
    "    \"MT_Augmented_2f987a41ac943434abbc00a488110549/Metrics\"\n",
    "]\n",
    "\n",
    "\n",
    "stats_filename = \"agg_class_stats.pkl\"\n",
    "\n",
    "# Load labels\n",
    "#val_path = \"/bigstor/zsarwar/Imagenet/DF/df_imagenet_dogs_val.pkl\"\n",
    "val_path = \"/projects/bdgs/zsarwar/data/food-101/DF/df_food101_val.pkl\"\n",
    "df_val = pd.read_pickle(val_path)"
   ]
  },
  {
   "cell_type": "code",
   "execution_count": 8,
   "metadata": {},
   "outputs": [],
   "source": [
    "all_stats_paths = []\n",
    "for r in runs:\n",
    "    stats_path = os.path.join(base_dir, r, stats_filename)\n",
    "    all_stats_paths.append(stats_path)\n",
    "    \n",
    "all_stats_acc = []\n",
    "for path in all_stats_paths:\n",
    "    stats = pd.read_pickle(path)\n",
    "    all_stats_acc.append(stats['accuracy'])\n"
   ]
  },
  {
   "cell_type": "code",
   "execution_count": 9,
   "metadata": {},
   "outputs": [],
   "source": [
    "df_val = df_val.drop_duplicates('label')\n",
    "df_val_classes = df_val[['class', 'label']]\n",
    "\n",
    "label_list = list(df_val_classes['label'])\n",
    "\n",
    "all_acc_list = []\n",
    "for i in range(len(all_stats_acc)):\n",
    "    accuracy_list = [all_stats_acc[i][cl] for cl in label_list]\n",
    "    all_acc_list.append(accuracy_list)\n",
    "\n",
    "for i in range(len(all_acc_list)):\n",
    "    col_name = f\"accuracy_{i}\"\n",
    "    df_val_classes.insert(2, col_name, all_acc_list[i], True)   \n",
    "#df_val_classes.insert(2, \"accuracy\", accuracy_list, True)"
   ]
  },
  {
   "cell_type": "code",
   "execution_count": 10,
   "metadata": {},
   "outputs": [
    {
     "name": "stdout",
     "output_type": "stream",
     "text": [
      "Accruracy for each run :  [87.56435775756836]\n",
      "Mean accuracy across runs :  87.56435775756836\n"
     ]
    }
   ],
   "source": [
    "df_aug = df_val_classes.copy()\n",
    "\n",
    "cols = [f\"accuracy_{i}\" for i in range(len(all_acc_list))]\n",
    "df_aug['accuracy_0'].mean()\n",
    "mean_accs = []\n",
    "for c in cols:\n",
    "    t_acc = df_aug[c].mean()\n",
    "    mean_accs.append(t_acc)\n",
    "print(\"Accruracy for each run : \", mean_accs)\n",
    "mean_accs = np.asarray(mean_accs)\n",
    "print(\"Mean accuracy across runs : \", np.mean(mean_accs))"
   ]
  },
  {
   "cell_type": "markdown",
   "metadata": {},
   "source": [
    "# DF EMP"
   ]
  },
  {
   "cell_type": "code",
   "execution_count": 11,
   "metadata": {},
   "outputs": [],
   "source": [
    "all_emp_paths = []\n",
    "for r in dhard_runs:\n",
    "    emp_path = os.path.join(dhard_base, r)\n",
    "    all_emp_paths.append(emp_path)\n",
    "    \n",
    "all_df_emps = []\n",
    "\n",
    "for p in all_emp_paths:\n",
    "    df_emp = pd.read_pickle(p)\n",
    "    all_df_emps.append(df_emp)\n"
   ]
  },
  {
   "cell_type": "code",
   "execution_count": 12,
   "metadata": {},
   "outputs": [],
   "source": [
    "all_emp_classes = []\n",
    "for i in range(len(all_df_emps)):\n",
    "    emp_classes = all_df_emps[i]['class'].unique().tolist()\n",
    "    all_emp_classes.append(emp_classes)"
   ]
  },
  {
   "cell_type": "code",
   "execution_count": 13,
   "metadata": {},
   "outputs": [
    {
     "name": "stdout",
     "output_type": "stream",
     "text": [
      "[['Ice cream', 'Ceviche', 'Huevos rancheros', 'Pork chop', 'Chicken curry', 'Tuna tartare', 'Ravioli', 'Garlic bread', 'Apple pie', 'Filet mignon', 'Chocolate mousse', 'Steak', 'Crab cakes', 'Omelette', 'Lasagna', 'Cheesecake', 'Foie gras', 'Gnocchi', 'Risotto', 'Bread pudding']]\n"
     ]
    }
   ],
   "source": [
    "print(all_emp_classes)"
   ]
  },
  {
   "cell_type": "code",
   "execution_count": 14,
   "metadata": {},
   "outputs": [
    {
     "data": {
      "text/plain": [
       "ice_cream/3315881.jpg          78.800003\n",
       "ceviche/42489.jpg              72.800003\n",
       "huevos_rancheros/883821.jpg    76.400002\n",
       "pork_chop/245214.jpg           67.200005\n",
       "chicken_curry/1346888.jpg      82.800003\n",
       "tuna_tartare/1959450.jpg       73.599998\n",
       "ravioli/1103898.jpg            68.400002\n",
       "garlic_bread/2981508.jpg       80.800003\n",
       "apple_pie/1272958.jpg          67.200005\n",
       "filet_mignon/2325804.jpg       76.400002\n",
       "chocolate_mousse/612385.jpg    76.800003\n",
       "steak/27415.jpg                49.600002\n",
       "crab_cakes/943630.jpg          84.400002\n",
       "omelette/2898508.jpg           82.400002\n",
       "lasagna/207825.jpg             80.800003\n",
       "cheesecake/2574796.jpg         76.400002\n",
       "foie_gras/1007306.jpg          76.000000\n",
       "gnocchi/119920.jpg             82.000000\n",
       "risotto/2765043.jpg            74.400002\n",
       "bread_pudding/1436760.jpg      70.000000\n",
       "Name: accuracy_0, dtype: float64"
      ]
     },
     "execution_count": 14,
     "metadata": {},
     "output_type": "execute_result"
    }
   ],
   "source": [
    "df_aug[df_aug['class'].isin(all_emp_classes[i])][col_name]"
   ]
  },
  {
   "cell_type": "code",
   "execution_count": 15,
   "metadata": {},
   "outputs": [
    {
     "data": {
      "text/plain": [
       "ice_cream/3315881.jpg          78.400002\n",
       "ceviche/42489.jpg              76.000000\n",
       "huevos_rancheros/883821.jpg    76.000000\n",
       "pork_chop/245214.jpg           66.400002\n",
       "chicken_curry/1346888.jpg      80.400002\n",
       "tuna_tartare/1959450.jpg       75.599998\n",
       "ravioli/1103898.jpg            69.599998\n",
       "garlic_bread/2981508.jpg       78.000000\n",
       "apple_pie/1272958.jpg          66.400002\n",
       "filet_mignon/2325804.jpg       74.000000\n",
       "chocolate_mousse/612385.jpg    76.400002\n",
       "steak/27415.jpg                54.400002\n",
       "crab_cakes/943630.jpg          80.800003\n",
       "omelette/2898508.jpg           80.800003\n",
       "lasagna/207825.jpg             80.000000\n",
       "cheesecake/2574796.jpg         74.800003\n",
       "foie_gras/1007306.jpg          73.599998\n",
       "gnocchi/119920.jpg             77.200005\n",
       "risotto/2765043.jpg            74.000000\n",
       "bread_pudding/1436760.jpg      74.000000\n",
       "Name: accuracy_0, dtype: float64"
      ]
     },
     "execution_count": 15,
     "metadata": {},
     "output_type": "execute_result"
    }
   ],
   "source": [
    " df_base[df_base['class'].isin(all_emp_classes[i])][col_name]"
   ]
  },
  {
   "cell_type": "code",
   "execution_count": 16,
   "metadata": {},
   "outputs": [
    {
     "name": "stdout",
     "output_type": "stream",
     "text": [
      "ice_cream/3315881.jpg          0.400002\n",
      "ceviche/42489.jpg             -3.199997\n",
      "huevos_rancheros/883821.jpg    0.400002\n",
      "pork_chop/245214.jpg           0.800003\n",
      "chicken_curry/1346888.jpg      2.400002\n",
      "tuna_tartare/1959450.jpg      -2.000000\n",
      "ravioli/1103898.jpg           -1.199997\n",
      "garlic_bread/2981508.jpg       2.800003\n",
      "apple_pie/1272958.jpg          0.800003\n",
      "filet_mignon/2325804.jpg       2.400002\n",
      "chocolate_mousse/612385.jpg    0.400002\n",
      "steak/27415.jpg               -4.799999\n",
      "crab_cakes/943630.jpg          3.599998\n",
      "omelette/2898508.jpg           1.599998\n",
      "lasagna/207825.jpg             0.800003\n",
      "cheesecake/2574796.jpg         1.599998\n",
      "foie_gras/1007306.jpg          2.400002\n",
      "gnocchi/119920.jpg             4.799995\n",
      "risotto/2765043.jpg            0.400002\n",
      "bread_pudding/1436760.jpg     -4.000000\n",
      "Name: accuracy_0, dtype: float64\n"
     ]
    }
   ],
   "source": [
    "all_acc_diffs = []\n",
    "for i in range(len(all_emp_classes)):\n",
    "    col_name = f\"accuracy_{i}\"\n",
    "    col_diff = df_aug[df_aug['class'].isin(all_emp_classes[i])][col_name] - df_base[df_base['class'].isin(all_emp_classes[i])][col_name]\n",
    "    col_diff_sum = col_diff.sum()\n",
    "    print(col_diff)\n",
    "    all_acc_diffs.append(col_diff_sum)\n",
    "\n"
   ]
  },
  {
   "cell_type": "code",
   "execution_count": 17,
   "metadata": {},
   "outputs": [
    {
     "data": {
      "text/plain": [
       "0.5200010299682617"
      ]
     },
     "execution_count": 17,
     "metadata": {},
     "output_type": "execute_result"
    }
   ],
   "source": [
    "all_acc_diffs[0] / 20"
   ]
  },
  {
   "cell_type": "code",
   "execution_count": 18,
   "metadata": {},
   "outputs": [
    {
     "data": {
      "text/plain": [
       "ice_cream/3315881.jpg          0.400002\n",
       "ceviche/42489.jpg             -3.199997\n",
       "huevos_rancheros/883821.jpg    0.400002\n",
       "pork_chop/245214.jpg           0.800003\n",
       "chicken_curry/1346888.jpg      2.400002\n",
       "tuna_tartare/1959450.jpg      -2.000000\n",
       "ravioli/1103898.jpg           -1.199997\n",
       "garlic_bread/2981508.jpg       2.800003\n",
       "apple_pie/1272958.jpg          0.800003\n",
       "filet_mignon/2325804.jpg       2.400002\n",
       "chocolate_mousse/612385.jpg    0.400002\n",
       "steak/27415.jpg               -4.799999\n",
       "crab_cakes/943630.jpg          3.599998\n",
       "omelette/2898508.jpg           1.599998\n",
       "lasagna/207825.jpg             0.800003\n",
       "cheesecake/2574796.jpg         1.599998\n",
       "foie_gras/1007306.jpg          2.400002\n",
       "gnocchi/119920.jpg             4.799995\n",
       "risotto/2765043.jpg            0.400002\n",
       "bread_pudding/1436760.jpg     -4.000000\n",
       "Name: accuracy_0, dtype: float64"
      ]
     },
     "execution_count": 18,
     "metadata": {},
     "output_type": "execute_result"
    }
   ],
   "source": [
    "df_aug[df_aug['class'].isin(all_emp_classes[0])]['accuracy_0'] - df_base[df_base['class'].isin(all_emp_classes[0])]['accuracy_0']"
   ]
  },
  {
   "cell_type": "code",
   "execution_count": 19,
   "metadata": {},
   "outputs": [
    {
     "data": {
      "text/plain": [
       "[10.400020599365234]"
      ]
     },
     "execution_count": 19,
     "metadata": {},
     "output_type": "execute_result"
    }
   ],
   "source": [
    "all_acc_diffs"
   ]
  },
  {
   "cell_type": "code",
   "execution_count": 20,
   "metadata": {},
   "outputs": [
    {
     "data": {
      "text/plain": [
       "0.5200010299682617"
      ]
     },
     "execution_count": 20,
     "metadata": {},
     "output_type": "execute_result"
    }
   ],
   "source": [
    "(sum(all_acc_diffs) ) / 20"
   ]
  },
  {
   "cell_type": "code",
   "execution_count": 21,
   "metadata": {},
   "outputs": [
    {
     "data": {
      "text/plain": [
       "french_onion_soup/2993508.jpg         0.400002\n",
       "beignets/847393.jpg                  -0.800003\n",
       "falafel/1286955.jpg                  -0.400002\n",
       "escargots/1376753.jpg                 0.000000\n",
       "fried_rice/2407861.jpg               -1.199997\n",
       "churros/274692.jpg                   -0.800003\n",
       "ice_cream/3315881.jpg                 0.400002\n",
       "ceviche/42489.jpg                    -3.199997\n",
       "french_fries/2913911.jpg              1.599998\n",
       "shrimp_and_grits/176613.jpg           2.799995\n",
       "caprese_salad/3888592.jpg             0.400002\n",
       "chicken_wings/2509984.jpg            -0.800003\n",
       "fried_calamari/3674776.jpg            0.399994\n",
       "spaghetti_carbonara/884965.jpg       -0.400002\n",
       "spring_rolls/2078556.jpg             -0.799995\n",
       "huevos_rancheros/883821.jpg           0.400002\n",
       "bruschetta/912428.jpg                -0.800003\n",
       "sushi/1457312.jpg                    -0.800003\n",
       "pork_chop/245214.jpg                  0.800003\n",
       "donuts/2887204.jpg                   -0.399994\n",
       "club_sandwich/970294.jpg              0.000000\n",
       "pizza/3827990.jpg                     0.400002\n",
       "sashimi/3686273.jpg                   0.000000\n",
       "grilled_cheese_sandwich/473381.jpg    1.199997\n",
       "strawberry_shortcake/2576734.jpg      3.200005\n",
       "pho/163128.jpg                       -1.199997\n",
       "hot_and_sour_soup/1864685.jpg         0.000000\n",
       "takoyaki/3609028.jpg                  0.000000\n",
       "hot_dog/2553535.jpg                  -0.799995\n",
       "frozen_yogurt/185773.jpg              0.400002\n",
       "tiramisu/3041535.jpg                  2.399994\n",
       "macarons/1005656.jpg                  0.000000\n",
       "beef_carpaccio/3057236.jpg           -0.800003\n",
       "chicken_curry/1346888.jpg             2.400002\n",
       "tuna_tartare/1959450.jpg             -2.000000\n",
       "poutine/184084.jpg                   -1.200005\n",
       "baklava/2662831.jpg                  -0.800003\n",
       "ravioli/1103898.jpg                  -1.199997\n",
       "panna_cotta/3746420.jpg              -0.800003\n",
       "garlic_bread/2981508.jpg              2.800003\n",
       "cup_cakes/492343.jpg                 -0.399994\n",
       "guacamole/494617.jpg                  2.400002\n",
       "cannoli/2809497.jpg                   0.399994\n",
       "miso_soup/1074122.jpg                -1.599998\n",
       "pancakes/261532.jpg                   0.000000\n",
       "cheese_plate/543593.jpg               0.799995\n",
       "tacos/467930.jpg                     -0.800003\n",
       "grilled_salmon/3058966.jpg            1.199997\n",
       "hamburger/3577939.jpg                 2.400002\n",
       "beef_tartare/2731908.jpg              0.400002\n",
       "edamame/2263853.jpg                   0.000000\n",
       "pulled_pork_sandwich/3825873.jpg     -1.200005\n",
       "apple_pie/1272958.jpg                 0.800003\n",
       "paella/3772674.jpg                    1.599998\n",
       "samosa/1061284.jpg                   -0.400002\n",
       "pad_thai/517387.jpg                   0.000000\n",
       "mussels/362356.jpg                   -0.799995\n",
       "clam_chowder/770062.jpg              -2.000000\n",
       "dumplings/188495.jpg                  0.400002\n",
       "hummus/2884441.jpg                    0.000000\n",
       "red_velvet_cake/66489.jpg             0.000000\n",
       "waffles/59277.jpg                     0.000000\n",
       "greek_salad/2083010.jpg              -0.799995\n",
       "seaweed_salad/2014238.jpg             2.000000\n",
       "beet_salad/1912120.jpg               -3.599998\n",
       "lobster_roll_sandwich/548558.jpg      0.000000\n",
       "macaroni_and_cheese/625676.jpg       -1.199997\n",
       "fish_and_chips/2879070.jpg            0.399994\n",
       "deviled_eggs/217992.jpg               0.000000\n",
       "onion_rings/3494133.jpg              -0.800003\n",
       "breakfast_burrito/1590373.jpg         1.200005\n",
       "spaghetti_bolognese/1598961.jpg       0.400002\n",
       "chocolate_cake/1370651.jpg           -6.000000\n",
       "lobster_bisque/378185.jpg             1.599998\n",
       "gyoza/3294004.jpg                     0.399994\n",
       "prime_rib/3922072.jpg                 0.000000\n",
       "ramen/2981910.jpg                    -0.799995\n",
       "caesar_salad/2656764.jpg              0.000000\n",
       "filet_mignon/2325804.jpg              2.400002\n",
       "scallops/3874540.jpg                  0.000000\n",
       "chocolate_mousse/612385.jpg           0.400002\n",
       "chicken_quesadilla/2657851.jpg       -1.199997\n",
       "steak/27415.jpg                      -4.799999\n",
       "crab_cakes/943630.jpg                 3.599998\n",
       "omelette/2898508.jpg                  1.599998\n",
       "lasagna/207825.jpg                    0.800003\n",
       "cheesecake/2574796.jpg                1.599998\n",
       "french_toast/3493695.jpg             -0.800003\n",
       "carrot_cake/477397.jpg                1.200005\n",
       "peking_duck/2951717.jpg               0.399994\n",
       "bibimbap/2436230.jpg                 -0.400002\n",
       "foie_gras/1007306.jpg                 2.400002\n",
       "gnocchi/119920.jpg                    4.799995\n",
       "oysters/1785675.jpg                   0.000000\n",
       "croque_madame/1554222.jpg            -0.800003\n",
       "baby_back_ribs/1022479.jpg           -2.000000\n",
       "creme_brulee/2152670.jpg              0.400002\n",
       "eggs_benedict/470093.jpg              1.599998\n",
       "risotto/2765043.jpg                   0.400002\n",
       "nachos/3753454.jpg                   -1.600006\n",
       "bread_pudding/1436760.jpg            -4.000000\n",
       "Name: accuracy_0, dtype: float64"
      ]
     },
     "execution_count": 21,
     "metadata": {},
     "output_type": "execute_result"
    }
   ],
   "source": [
    "df_aug['accuracy_0'] - df_base['accuracy_0']"
   ]
  },
  {
   "cell_type": "code",
   "execution_count": null,
   "metadata": {},
   "outputs": [],
   "source": []
  },
  {
   "cell_type": "code",
   "execution_count": null,
   "metadata": {},
   "outputs": [],
   "source": []
  },
  {
   "cell_type": "code",
   "execution_count": null,
   "metadata": {},
   "outputs": [],
   "source": []
  },
  {
   "cell_type": "code",
   "execution_count": null,
   "metadata": {},
   "outputs": [],
   "source": []
  },
  {
   "cell_type": "code",
   "execution_count": null,
   "metadata": {},
   "outputs": [],
   "source": []
  },
  {
   "cell_type": "markdown",
   "metadata": {},
   "source": [
    "# GRADMATCH"
   ]
  },
  {
   "cell_type": "markdown",
   "metadata": {},
   "source": [
    "# Baseline runs"
   ]
  },
  {
   "cell_type": "code",
   "execution_count": 22,
   "metadata": {},
   "outputs": [],
   "source": [
    "base_dir = \"/work/hdd/bdgs/npatil/New/Enola_Augmented/MT_food101_full_101_f739c19e1aeeaea18c60b1bf802b05db\"\n",
    "\n",
    "runs   = [\n",
    "            \"MT_Baseline_8915e10296bdf7f70fb9b4bfed4f45fe/Metrics\",\n",
    "        ]\n",
    "\n",
    "stats_filename = \"agg_class_stats.pkl\"\n",
    "\n",
    "#dhard_base = \"/bigstor/zsarwar/Enola_Augmented/MT_food101_full_101_f739c19e1aeeaea18c60b1bf802b05db/Datasets\"\n",
    "dhard_base = \"/work/hdd/bdgs/npatil/New/Enola_Augmented/MT_food101_full_101_f739c19e1aeeaea18c60b1bf802b05db/GradMatch\"\n",
    "dhard_runs = [\n",
    "                \"df_upmcfood101_full_1707ca43a9ed0f95bee2a13e46fd0b4b_c6082710f52d8437b1d14c2fb144a6ca_b36e5a37e79e85ddf0540da91cbdc86c.pkl\"\n",
    "            ]\n",
    "\n",
    "\n",
    "\n",
    "# Load labels\n",
    "val_path = \"/projects/bdgs/zsarwar/data/food-101/DF/df_food101_val.pkl\"\n",
    "df_val = pd.read_pickle(val_path)"
   ]
  },
  {
   "cell_type": "code",
   "execution_count": 23,
   "metadata": {},
   "outputs": [],
   "source": [
    "all_stats_paths = []\n",
    "for r in runs:\n",
    "    stats_path = os.path.join(base_dir, r, stats_filename)\n",
    "    all_stats_paths.append(stats_path)\n",
    "    \n",
    "\n",
    "all_stats_acc = []\n",
    "for path in all_stats_paths:\n",
    "    stats = pd.read_pickle(path)\n",
    "    all_stats_acc.append(stats['accuracy'])\n"
   ]
  },
  {
   "cell_type": "code",
   "execution_count": 24,
   "metadata": {},
   "outputs": [],
   "source": [
    "df_val = df_val.drop_duplicates('label')\n",
    "df_val_classes = df_val[['class', 'label']]\n",
    "\n",
    "label_list = list(df_val_classes['label'])\n",
    "\n",
    "all_acc_list = []\n",
    "for i in range(len(all_stats_acc)):\n",
    "    accuracy_list = [all_stats_acc[i][cl] for cl in label_list]\n",
    "    all_acc_list.append(accuracy_list)\n",
    "\n",
    "for i in range(len(all_acc_list)):\n",
    "    col_name = f\"accuracy_{i}\"\n",
    "    df_val_classes.insert(2, col_name, all_acc_list[i], True)   "
   ]
  },
  {
   "cell_type": "code",
   "execution_count": 25,
   "metadata": {},
   "outputs": [
    {
     "name": "stdout",
     "output_type": "stream",
     "text": [
      "Accruracy for each run :  [87.53663514392211]\n",
      "Mean accuracy across runs :  87.53663514392211\n"
     ]
    }
   ],
   "source": [
    "df_base = df_val_classes.copy()\n",
    "\n",
    "cols = [f\"accuracy_{i}\" for i in range(len(all_acc_list))]\n",
    "df_base['accuracy_0'].mean()\n",
    "mean_accs = []\n",
    "for c in cols:\n",
    "    t_acc = df_base[c].mean()\n",
    "    mean_accs.append(t_acc)\n",
    "print(\"Accruracy for each run : \", mean_accs)\n",
    "mean_accs = np.asarray(mean_accs)\n",
    "print(\"Mean accuracy across runs : \", np.mean(mean_accs))"
   ]
  },
  {
   "cell_type": "markdown",
   "metadata": {},
   "source": [
    "# Augmented runs"
   ]
  },
  {
   "cell_type": "code",
   "execution_count": 26,
   "metadata": {},
   "outputs": [],
   "source": [
    "base_dir = \"/work/hdd/bdgs/npatil/New/Enola_Augmented/MT_food101_full_101_f739c19e1aeeaea18c60b1bf802b05db\"\n",
    "\n",
    "runs = [\n",
    "    \"MT_Augmented_f21647f521c4cc310f2d1ddfaf29aa9f/Metrics\"\n",
    "]\n",
    "\n",
    "\n",
    "stats_filename = \"agg_class_stats.pkl\"\n",
    "\n",
    "# Load labels\n",
    "val_path = \"/projects/bdgs/zsarwar/data/food-101/DF/df_food101_val.pkl\"\n",
    "df_val = pd.read_pickle(val_path)"
   ]
  },
  {
   "cell_type": "code",
   "execution_count": 27,
   "metadata": {},
   "outputs": [],
   "source": [
    "all_stats_paths = []\n",
    "for r in runs:\n",
    "    stats_path = os.path.join(base_dir, r, stats_filename)\n",
    "    all_stats_paths.append(stats_path)\n",
    "    \n",
    "all_stats_acc = []\n",
    "for path in all_stats_paths:\n",
    "    stats = pd.read_pickle(path)\n",
    "    all_stats_acc.append(stats['accuracy'])\n"
   ]
  },
  {
   "cell_type": "code",
   "execution_count": 28,
   "metadata": {},
   "outputs": [],
   "source": [
    "df_val = df_val.drop_duplicates('label')\n",
    "df_val_classes = df_val[['class', 'label']]\n",
    "\n",
    "label_list = list(df_val_classes['label'])\n",
    "\n",
    "all_acc_list = []\n",
    "for i in range(len(all_stats_acc)):\n",
    "    accuracy_list = [all_stats_acc[i][cl] for cl in label_list]\n",
    "    all_acc_list.append(accuracy_list)\n",
    "\n",
    "for i in range(len(all_acc_list)):\n",
    "    col_name = f\"accuracy_{i}\"\n",
    "    df_val_classes.insert(2, col_name, all_acc_list[i], True)   \n",
    "#df_val_classes.insert(2, \"accuracy\", accuracy_list, True)"
   ]
  },
  {
   "cell_type": "code",
   "execution_count": 29,
   "metadata": {},
   "outputs": [
    {
     "name": "stdout",
     "output_type": "stream",
     "text": [
      "Accruracy for each run :  [87.47722954325157]\n",
      "Mean accuracy across runs :  87.47722954325157\n"
     ]
    }
   ],
   "source": [
    "df_aug = df_val_classes.copy()\n",
    "\n",
    "cols = [f\"accuracy_{i}\" for i in range(len(all_acc_list))]\n",
    "df_aug['accuracy_0'].mean()\n",
    "mean_accs = []\n",
    "for c in cols:\n",
    "    t_acc = df_aug[c].mean()\n",
    "    mean_accs.append(t_acc)\n",
    "print(\"Accruracy for each run : \", mean_accs)\n",
    "mean_accs = np.asarray(mean_accs)\n",
    "print(\"Mean accuracy across runs : \", np.mean(mean_accs))"
   ]
  },
  {
   "cell_type": "markdown",
   "metadata": {},
   "source": [
    "# DF EMP"
   ]
  },
  {
   "cell_type": "code",
   "execution_count": 30,
   "metadata": {},
   "outputs": [],
   "source": [
    "all_emp_paths = []\n",
    "for r in dhard_runs:\n",
    "    emp_path = os.path.join(dhard_base, r)\n",
    "    all_emp_paths.append(emp_path)\n",
    "    \n",
    "all_df_emps = []\n",
    "\n",
    "for p in all_emp_paths:\n",
    "    df_emp = pd.read_pickle(p)\n",
    "    all_df_emps.append(df_emp)\n"
   ]
  },
  {
   "cell_type": "code",
   "execution_count": 31,
   "metadata": {},
   "outputs": [],
   "source": [
    "all_emp_classes = []\n",
    "for i in range(len(all_df_emps)):\n",
    "    emp_classes = all_df_emps[i]['class'].unique().tolist()\n",
    "    all_emp_classes.append(emp_classes)"
   ]
  },
  {
   "cell_type": "code",
   "execution_count": 32,
   "metadata": {},
   "outputs": [],
   "source": [
    "all_acc_diffs = []\n",
    "for i in range(len(all_emp_classes)):\n",
    "    col_name = f\"accuracy_{i}\"\n",
    "    col_diff = df_aug[df_aug['class'].isin(all_emp_classes[i])][col_name] - df_base[df_base['class'].isin(all_emp_classes[i])][col_name]\n",
    "    col_diff_sum = col_diff.sum()\n",
    "    all_acc_diffs.append(col_diff_sum)\n",
    "\n"
   ]
  },
  {
   "cell_type": "code",
   "execution_count": 33,
   "metadata": {},
   "outputs": [
    {
     "data": {
      "text/plain": [
       "0.8000009536743165"
      ]
     },
     "execution_count": 33,
     "metadata": {},
     "output_type": "execute_result"
    }
   ],
   "source": [
    "sum(all_acc_diffs)  / 20"
   ]
  },
  {
   "cell_type": "code",
   "execution_count": 34,
   "metadata": {},
   "outputs": [
    {
     "data": {
      "text/plain": [
       "ice_cream/3315881.jpg          0.400002\n",
       "ceviche/42489.jpg              1.200005\n",
       "huevos_rancheros/883821.jpg    2.800003\n",
       "pork_chop/245214.jpg           2.000000\n",
       "chicken_curry/1346888.jpg      2.400002\n",
       "tuna_tartare/1959450.jpg       0.400002\n",
       "ravioli/1103898.jpg           -1.199997\n",
       "garlic_bread/2981508.jpg       3.599998\n",
       "apple_pie/1272958.jpg          2.400002\n",
       "filet_mignon/2325804.jpg      -2.000000\n",
       "chocolate_mousse/612385.jpg    0.000000\n",
       "steak/27415.jpg               -1.600002\n",
       "crab_cakes/943630.jpg          2.799995\n",
       "omelette/2898508.jpg           0.000000\n",
       "lasagna/207825.jpg             0.400002\n",
       "cheesecake/2574796.jpg        -1.599998\n",
       "foie_gras/1007306.jpg          1.600006\n",
       "gnocchi/119920.jpg             2.799995\n",
       "risotto/2765043.jpg            2.400002\n",
       "bread_pudding/1436760.jpg     -2.799995\n",
       "Name: accuracy_0, dtype: float64"
      ]
     },
     "execution_count": 34,
     "metadata": {},
     "output_type": "execute_result"
    }
   ],
   "source": [
    "df_aug[df_aug['class'].isin(all_emp_classes[0])]['accuracy_0'] - df_base[df_base['class'].isin(all_emp_classes[0])]['accuracy_0']"
   ]
  },
  {
   "cell_type": "code",
   "execution_count": 35,
   "metadata": {},
   "outputs": [],
   "source": [
    "# Analysis of classes which are going down in performance after augmentation"
   ]
  },
  {
   "cell_type": "code",
   "execution_count": 36,
   "metadata": {},
   "outputs": [
    {
     "data": {
      "text/plain": [
       "french_onion_soup/2993508.jpg        -0.399994\n",
       "beignets/847393.jpg                   0.400002\n",
       "falafel/1286955.jpg                  -0.400002\n",
       "escargots/1376753.jpg                -0.800003\n",
       "fried_rice/2407861.jpg               -1.599998\n",
       "churros/274692.jpg                    0.000000\n",
       "ice_cream/3315881.jpg                 0.400002\n",
       "ceviche/42489.jpg                     1.200005\n",
       "french_fries/2913911.jpg              0.799995\n",
       "shrimp_and_grits/176613.jpg           0.799995\n",
       "caprese_salad/3888592.jpg             2.800003\n",
       "chicken_wings/2509984.jpg            -1.599998\n",
       "fried_calamari/3674776.jpg            1.599998\n",
       "spaghetti_carbonara/884965.jpg       -0.800003\n",
       "spring_rolls/2078556.jpg             -0.399994\n",
       "huevos_rancheros/883821.jpg           2.800003\n",
       "bruschetta/912428.jpg                -1.599998\n",
       "sushi/1457312.jpg                     0.000000\n",
       "pork_chop/245214.jpg                  2.000000\n",
       "donuts/2887204.jpg                   -0.399994\n",
       "club_sandwich/970294.jpg             -2.000000\n",
       "pizza/3827990.jpg                     0.400002\n",
       "sashimi/3686273.jpg                   0.400002\n",
       "grilled_cheese_sandwich/473381.jpg    0.000000\n",
       "strawberry_shortcake/2576734.jpg     -0.400002\n",
       "pho/163128.jpg                       -1.199997\n",
       "hot_and_sour_soup/1864685.jpg         0.000000\n",
       "takoyaki/3609028.jpg                  0.000000\n",
       "hot_dog/2553535.jpg                  -0.400002\n",
       "frozen_yogurt/185773.jpg              1.599998\n",
       "tiramisu/3041535.jpg                  3.599998\n",
       "macarons/1005656.jpg                  0.400002\n",
       "beef_carpaccio/3057236.jpg            0.400002\n",
       "chicken_curry/1346888.jpg             2.400002\n",
       "tuna_tartare/1959450.jpg              0.400002\n",
       "poutine/184084.jpg                   -0.400002\n",
       "baklava/2662831.jpg                  -1.200005\n",
       "ravioli/1103898.jpg                  -1.199997\n",
       "panna_cotta/3746420.jpg              -0.400002\n",
       "garlic_bread/2981508.jpg              3.599998\n",
       "cup_cakes/492343.jpg                 -0.399994\n",
       "guacamole/494617.jpg                  1.199997\n",
       "cannoli/2809497.jpg                   0.399994\n",
       "miso_soup/1074122.jpg                -0.400002\n",
       "pancakes/261532.jpg                   0.000000\n",
       "cheese_plate/543593.jpg              -0.800003\n",
       "tacos/467930.jpg                     -1.199997\n",
       "grilled_salmon/3058966.jpg            2.000000\n",
       "hamburger/3577939.jpg                -2.399994\n",
       "beef_tartare/2731908.jpg             -2.399994\n",
       "edamame/2263853.jpg                   0.000000\n",
       "pulled_pork_sandwich/3825873.jpg      0.400002\n",
       "apple_pie/1272958.jpg                 2.400002\n",
       "paella/3772674.jpg                    0.400002\n",
       "samosa/1061284.jpg                   -0.400002\n",
       "pad_thai/517387.jpg                  -0.400002\n",
       "mussels/362356.jpg                   -0.400002\n",
       "clam_chowder/770062.jpg              -2.000000\n",
       "dumplings/188495.jpg                 -0.800003\n",
       "hummus/2884441.jpg                   -0.800003\n",
       "red_velvet_cake/66489.jpg             0.400002\n",
       "waffles/59277.jpg                     1.599998\n",
       "greek_salad/2083010.jpg               0.000000\n",
       "seaweed_salad/2014238.jpg             2.000000\n",
       "beet_salad/1912120.jpg               -2.799995\n",
       "lobster_roll_sandwich/548558.jpg      1.200005\n",
       "macaroni_and_cheese/625676.jpg        0.000000\n",
       "fish_and_chips/2879070.jpg            0.000000\n",
       "deviled_eggs/217992.jpg               0.399994\n",
       "onion_rings/3494133.jpg              -3.200005\n",
       "breakfast_burrito/1590373.jpg         1.200005\n",
       "spaghetti_bolognese/1598961.jpg       2.400002\n",
       "chocolate_cake/1370651.jpg           -6.400002\n",
       "lobster_bisque/378185.jpg             1.599998\n",
       "gyoza/3294004.jpg                     2.799995\n",
       "prime_rib/3922072.jpg                -0.799995\n",
       "ramen/2981910.jpg                    -1.199997\n",
       "caesar_salad/2656764.jpg              0.400002\n",
       "filet_mignon/2325804.jpg             -2.000000\n",
       "scallops/3874540.jpg                 -0.400002\n",
       "chocolate_mousse/612385.jpg           0.000000\n",
       "chicken_quesadilla/2657851.jpg       -0.799995\n",
       "steak/27415.jpg                      -1.600002\n",
       "crab_cakes/943630.jpg                 2.799995\n",
       "omelette/2898508.jpg                  0.000000\n",
       "lasagna/207825.jpg                    0.400002\n",
       "cheesecake/2574796.jpg               -1.599998\n",
       "french_toast/3493695.jpg             -0.400002\n",
       "carrot_cake/477397.jpg                0.400002\n",
       "peking_duck/2951717.jpg               0.000000\n",
       "bibimbap/2436230.jpg                 -1.599998\n",
       "foie_gras/1007306.jpg                 1.600006\n",
       "gnocchi/119920.jpg                    2.799995\n",
       "oysters/1785675.jpg                  -0.800003\n",
       "croque_madame/1554222.jpg            -0.400002\n",
       "baby_back_ribs/1022479.jpg           -4.000000\n",
       "creme_brulee/2152670.jpg             -0.399994\n",
       "eggs_benedict/470093.jpg             -1.199997\n",
       "risotto/2765043.jpg                   2.400002\n",
       "nachos/3753454.jpg                   -3.200005\n",
       "bread_pudding/1436760.jpg            -2.799995\n",
       "Name: accuracy_0, dtype: float64"
      ]
     },
     "execution_count": 36,
     "metadata": {},
     "output_type": "execute_result"
    }
   ],
   "source": [
    "(df_aug['accuracy_0'] - df_base['accuracy_0'])"
   ]
  },
  {
   "cell_type": "code",
   "execution_count": 37,
   "metadata": {},
   "outputs": [
    {
     "data": {
      "text/plain": [
       "[16.000019073486328]"
      ]
     },
     "execution_count": 37,
     "metadata": {},
     "output_type": "execute_result"
    }
   ],
   "source": [
    "all_acc_diffs"
   ]
  },
  {
   "cell_type": "code",
   "execution_count": null,
   "metadata": {},
   "outputs": [],
   "source": []
  },
  {
   "cell_type": "code",
   "execution_count": null,
   "metadata": {},
   "outputs": [],
   "source": []
  },
  {
   "cell_type": "code",
   "execution_count": null,
   "metadata": {},
   "outputs": [],
   "source": []
  },
  {
   "cell_type": "markdown",
   "metadata": {},
   "source": [
    "# RANDOM"
   ]
  },
  {
   "cell_type": "markdown",
   "metadata": {},
   "source": [
    "# Baseline runs"
   ]
  },
  {
   "cell_type": "code",
   "execution_count": 11,
   "metadata": {},
   "outputs": [],
   "source": [
    "base_dir = \"/bigstor/zsarwar/Enola_Augmented/MT_food101_full_101_f739c19e1aeeaea18c60b1bf802b05db\"\n",
    "\n",
    "runs   = [\n",
    "            \"MT_Baseline_8915e10296bdf7f70fb9b4bfed4f45fe/Metrics\",\n",
    "        ]\n",
    "\n",
    "stats_filename = \"agg_class_stats.pkl\"\n",
    "\n",
    "dhard_base = \"/bigstor/zsarwar/Enola_Augmented/MT_food101_full_101_f739c19e1aeeaea18c60b1bf802b05db/Datasets\"\n",
    "\n",
    "dhard_runs = [\n",
    "              \"df_food101_val_test_empirical_8915e10296bdf7f70fb9b4bfed4f45fe.pkl\",\n",
    "              ]\n",
    "\n",
    "# Load labels\n",
    "val_path = \"/bigstor/common_data/food_101/DF/df_food101_val.pkl\"\n",
    "df_val = pd.read_pickle(val_path)"
   ]
  },
  {
   "cell_type": "code",
   "execution_count": 12,
   "metadata": {},
   "outputs": [],
   "source": [
    "all_stats_paths = []\n",
    "for r in runs:\n",
    "    stats_path = os.path.join(base_dir, r, stats_filename)\n",
    "    all_stats_paths.append(stats_path)\n",
    "    \n",
    "\n",
    "all_stats_acc = []\n",
    "for path in all_stats_paths:\n",
    "    stats = pd.read_pickle(path)\n",
    "    all_stats_acc.append(stats['accuracy'])\n"
   ]
  },
  {
   "cell_type": "code",
   "execution_count": 13,
   "metadata": {},
   "outputs": [],
   "source": [
    "df_val = df_val.drop_duplicates('label')\n",
    "df_val_classes = df_val[['class', 'label']]\n",
    "\n",
    "label_list = list(df_val_classes['label'])\n",
    "\n",
    "all_acc_list = []\n",
    "for i in range(len(all_stats_acc)):\n",
    "    accuracy_list = [all_stats_acc[i][cl] for cl in label_list]\n",
    "    all_acc_list.append(accuracy_list)\n",
    "\n",
    "for i in range(len(all_acc_list)):\n",
    "    col_name = f\"accuracy_{i}\"\n",
    "    df_val_classes.insert(2, col_name, all_acc_list[i], True)   "
   ]
  },
  {
   "cell_type": "code",
   "execution_count": 14,
   "metadata": {},
   "outputs": [
    {
     "name": "stdout",
     "output_type": "stream",
     "text": [
      "Accruracy for each run :  [87.53663514392211]\n",
      "Mean accuracy across runs :  87.53663514392211\n"
     ]
    }
   ],
   "source": [
    "df_base = df_val_classes.copy()\n",
    "\n",
    "cols = [f\"accuracy_{i}\" for i in range(len(all_acc_list))]\n",
    "df_base['accuracy_0'].mean()\n",
    "mean_accs = []\n",
    "for c in cols:\n",
    "    t_acc = df_base[c].mean()\n",
    "    mean_accs.append(t_acc)\n",
    "print(\"Accruracy for each run : \", mean_accs)\n",
    "mean_accs = np.asarray(mean_accs)\n",
    "print(\"Mean accuracy across runs : \", np.mean(mean_accs))"
   ]
  },
  {
   "cell_type": "code",
   "execution_count": null,
   "metadata": {},
   "outputs": [],
   "source": []
  },
  {
   "cell_type": "markdown",
   "metadata": {},
   "source": [
    "# Augmented runs"
   ]
  },
  {
   "cell_type": "code",
   "execution_count": 15,
   "metadata": {},
   "outputs": [],
   "source": [
    "base_dir = \"/bigstor/zsarwar/Enola_Augmented/MT_food101_full_101_f739c19e1aeeaea18c60b1bf802b05db\"\n",
    "\n",
    "runs = [\n",
    "  #\"MT_Augmented_73ea69b0d18ea080b7ad6e8bedf7ccc1/Metrics\" # Unicom sized\n",
    "    \"MT_Augmented_d5b3cf37297ff14cf159e045d9f2c440/Metrics\" # GM sized\n",
    "]\n",
    "\n",
    "\n",
    "stats_filename = \"agg_class_stats.pkl\"\n",
    "\n",
    "# Load labels\n",
    "#val_path = \"/bigstor/zsarwar/Imagenet/DF/df_imagenet_dogs_val.pkl\"\n",
    "val_path = \"/bigstor/common_data/food_101/DF/df_food101_val.pkl\"\n",
    "df_val = pd.read_pickle(val_path)"
   ]
  },
  {
   "cell_type": "code",
   "execution_count": 16,
   "metadata": {},
   "outputs": [],
   "source": [
    "all_stats_paths = []\n",
    "for r in runs:\n",
    "    stats_path = os.path.join(base_dir, r, stats_filename)\n",
    "    all_stats_paths.append(stats_path)\n",
    "    \n",
    "all_stats_acc = []\n",
    "for path in all_stats_paths:\n",
    "    stats = pd.read_pickle(path)\n",
    "    all_stats_acc.append(stats['accuracy'])\n"
   ]
  },
  {
   "cell_type": "code",
   "execution_count": 17,
   "metadata": {},
   "outputs": [],
   "source": [
    "df_val = df_val.drop_duplicates('label')\n",
    "df_val_classes = df_val[['class', 'label']]\n",
    "\n",
    "label_list = list(df_val_classes['label'])\n",
    "\n",
    "all_acc_list = []\n",
    "for i in range(len(all_stats_acc)):\n",
    "    accuracy_list = [all_stats_acc[i][cl] for cl in label_list]\n",
    "    all_acc_list.append(accuracy_list)\n",
    "\n",
    "for i in range(len(all_acc_list)):\n",
    "    col_name = f\"accuracy_{i}\"\n",
    "    df_val_classes.insert(2, col_name, all_acc_list[i], True)   \n",
    "#df_val_classes.insert(2, \"accuracy\", accuracy_list, True)"
   ]
  },
  {
   "cell_type": "code",
   "execution_count": 18,
   "metadata": {},
   "outputs": [
    {
     "name": "stdout",
     "output_type": "stream",
     "text": [
      "Accruracy for each run :  [87.54059544176158]\n",
      "Mean accuracy across runs :  87.54059544176158\n"
     ]
    }
   ],
   "source": [
    "df_aug = df_val_classes.copy()\n",
    "\n",
    "cols = [f\"accuracy_{i}\" for i in range(len(all_acc_list))]\n",
    "df_aug['accuracy_0'].mean()\n",
    "mean_accs = []\n",
    "for c in cols:\n",
    "    t_acc = df_aug[c].mean()\n",
    "    mean_accs.append(t_acc)\n",
    "print(\"Accruracy for each run : \", mean_accs)\n",
    "mean_accs = np.asarray(mean_accs)\n",
    "print(\"Mean accuracy across runs : \", np.mean(mean_accs))"
   ]
  },
  {
   "cell_type": "markdown",
   "metadata": {},
   "source": [
    "# DF EMP"
   ]
  },
  {
   "cell_type": "code",
   "execution_count": 19,
   "metadata": {},
   "outputs": [],
   "source": [
    "all_emp_paths = []\n",
    "for r in dhard_runs:\n",
    "    emp_path = os.path.join(dhard_base, r)\n",
    "    all_emp_paths.append(emp_path)\n",
    "    \n",
    "all_df_emps = []\n",
    "\n",
    "for p in all_emp_paths:\n",
    "    df_emp = pd.read_pickle(p)\n",
    "    all_df_emps.append(df_emp)\n"
   ]
  },
  {
   "cell_type": "code",
   "execution_count": 20,
   "metadata": {},
   "outputs": [],
   "source": [
    "all_emp_classes = []\n",
    "for i in range(len(all_df_emps)):\n",
    "    emp_classes = all_df_emps[i]['class'].unique().tolist()\n",
    "    all_emp_classes.append(emp_classes)"
   ]
  },
  {
   "cell_type": "code",
   "execution_count": 21,
   "metadata": {},
   "outputs": [],
   "source": [
    "all_acc_diffs = []\n",
    "for i in range(len(all_emp_classes)):\n",
    "    col_name = f\"accuracy_{i}\"\n",
    "    col_diff = df_aug[df_aug['class'].isin(all_emp_classes[i])][col_name] - df_base[df_base['class'].isin(all_emp_classes[i])][col_name]\n",
    "    col_diff_sum = col_diff.sum()\n",
    "    all_acc_diffs.append(col_diff_sum)\n",
    "\n"
   ]
  },
  {
   "cell_type": "code",
   "execution_count": 22,
   "metadata": {},
   "outputs": [
    {
     "data": {
      "text/plain": [
       "2.8800004959106444"
      ]
     },
     "execution_count": 22,
     "metadata": {},
     "output_type": "execute_result"
    }
   ],
   "source": [
    "sum(all_acc_diffs) / 20"
   ]
  },
  {
   "cell_type": "code",
   "execution_count": 23,
   "metadata": {},
   "outputs": [
    {
     "data": {
      "text/plain": [
       "ice_cream/3315881.jpg          0.400002\n",
       "ceviche/42489.jpg              0.000000\n",
       "huevos_rancheros/883821.jpg    6.800003\n",
       "pork_chop/245214.jpg           6.000000\n",
       "chicken_curry/1346888.jpg      2.400002\n",
       "tuna_tartare/1959450.jpg       6.000000\n",
       "ravioli/1103898.jpg            1.600006\n",
       "garlic_bread/2981508.jpg       4.400002\n",
       "apple_pie/1272958.jpg          2.800003\n",
       "filet_mignon/2325804.jpg      -0.400002\n",
       "chocolate_mousse/612385.jpg    3.599998\n",
       "steak/27415.jpg                2.799999\n",
       "crab_cakes/943630.jpg          1.199997\n",
       "omelette/2898508.jpg          -0.400002\n",
       "lasagna/207825.jpg             4.000000\n",
       "cheesecake/2574796.jpg         7.199997\n",
       "foie_gras/1007306.jpg          2.800003\n",
       "gnocchi/119920.jpg             0.000000\n",
       "risotto/2765043.jpg            6.800003\n",
       "bread_pudding/1436760.jpg     -0.400002\n",
       "Name: accuracy_0, dtype: float64"
      ]
     },
     "execution_count": 23,
     "metadata": {},
     "output_type": "execute_result"
    }
   ],
   "source": [
    "df_aug[df_aug['class'].isin(all_emp_classes[0])]['accuracy_0'] - df_base[df_base['class'].isin(all_emp_classes[0])]['accuracy_0']"
   ]
  },
  {
   "cell_type": "code",
   "execution_count": 24,
   "metadata": {},
   "outputs": [
    {
     "data": {
      "text/plain": [
       "57.60000991821289"
      ]
     },
     "execution_count": 24,
     "metadata": {},
     "output_type": "execute_result"
    }
   ],
   "source": [
    "all_acc_diffs[0]"
   ]
  },
  {
   "cell_type": "code",
   "execution_count": null,
   "metadata": {},
   "outputs": [],
   "source": []
  },
  {
   "cell_type": "code",
   "execution_count": null,
   "metadata": {},
   "outputs": [],
   "source": []
  },
  {
   "cell_type": "code",
   "execution_count": null,
   "metadata": {},
   "outputs": [],
   "source": []
  },
  {
   "cell_type": "code",
   "execution_count": null,
   "metadata": {},
   "outputs": [],
   "source": []
  },
  {
   "cell_type": "code",
   "execution_count": null,
   "metadata": {},
   "outputs": [],
   "source": []
  },
  {
   "cell_type": "code",
   "execution_count": null,
   "metadata": {},
   "outputs": [],
   "source": []
  },
  {
   "cell_type": "code",
   "execution_count": null,
   "metadata": {},
   "outputs": [],
   "source": []
  },
  {
   "cell_type": "code",
   "execution_count": null,
   "metadata": {},
   "outputs": [],
   "source": []
  },
  {
   "cell_type": "code",
   "execution_count": null,
   "metadata": {},
   "outputs": [],
   "source": []
  },
  {
   "cell_type": "code",
   "execution_count": null,
   "metadata": {},
   "outputs": [],
   "source": []
  },
  {
   "cell_type": "code",
   "execution_count": null,
   "metadata": {},
   "outputs": [],
   "source": []
  },
  {
   "cell_type": "code",
   "execution_count": null,
   "metadata": {},
   "outputs": [],
   "source": []
  },
  {
   "cell_type": "markdown",
   "metadata": {},
   "source": [
    "# Unicom retrievals"
   ]
  },
  {
   "cell_type": "code",
   "execution_count": 24,
   "metadata": {},
   "outputs": [],
   "source": [
    "df_uni = pd.read_pickle(\"/bigstor/zsarwar/Enola_Augmented/MT_food101_full_101_f739c19e1aeeaea18c60b1bf802b05db/Unicom/df_uecfood256_full_5380bfbd4407e03050ed26afbb98e440_74d7170cc8af0b8340d0290b43517cd1_58c5118d18fa07649b578fd9744876b2.pkl\")"
   ]
  },
  {
   "cell_type": "markdown",
   "metadata": {},
   "source": [
    "# Visualize DHard vs D_Retrieved"
   ]
  },
  {
   "cell_type": "code",
   "execution_count": 53,
   "metadata": {},
   "outputs": [],
   "source": [
    "df_uni = pd.read_pickle(\"/bigstor/zsarwar/Enola_Augmented/MT_food101_full_101_f739c19e1aeeaea18c60b1bf802b05db/Unicom/df_uecfood256_full_5380bfbd4407e03050ed26afbb98e440_74d7170cc8af0b8340d0290b43517cd1_58c5118d18fa07649b578fd9744876b2.pkl\")"
   ]
  },
  {
   "cell_type": "code",
   "execution_count": null,
   "metadata": {},
   "outputs": [],
   "source": []
  },
  {
   "cell_type": "code",
   "execution_count": 3,
   "metadata": {},
   "outputs": [],
   "source": [
    "#Augmented Labels\n",
    "df_dhard = pd.read_pickle(\"/bigstor/zsarwar/Enola_Augmented/MT_food101_full_101_f739c19e1aeeaea18c60b1bf802b05db/Datasets/df_food101_val_test_empirical_35d052c2a3ff5225c6d663d84afbb33c.pkl\")\n",
    "#df_labels = df_labels.drop_duplicates('label')\n",
    "dhard_labels = df_dhard['label'].unique().tolist()"
   ]
  },
  {
   "cell_type": "code",
   "execution_count": 4,
   "metadata": {},
   "outputs": [
    {
     "data": {
      "text/plain": [
       "'/bigstor/common_data/food_101/food-101/images/apple_pie/229142.jpg'"
      ]
     },
     "execution_count": 4,
     "metadata": {},
     "output_type": "execute_result"
    }
   ],
   "source": [
    "df_dhard[df_dhard['class'] == 'Apple pie']['img_path'][1]"
   ]
  },
  {
   "cell_type": "code",
   "execution_count": null,
   "metadata": {},
   "outputs": [],
   "source": [
    "all_images = df_dhard[df_dhard['label'] == dhard_labels[7]]['img_path'].tolist()\n",
    "# Visualize samples\n",
    "for i, im_path in enumerate(all_images[0:50]):\n",
    "    img = mpimg.imread(im_path)\n",
    "    plt.axis('off')\n",
    "    imgplot = plt.imshow(img)\n",
    "    plt.figure()\n",
    "    plt.clf()"
   ]
  },
  {
   "cell_type": "code",
   "execution_count": 10,
   "metadata": {},
   "outputs": [],
   "source": [
    "# DF_Retrieved\n",
    "#Augmented Labels\n",
    "df_augmented = pd.read_pickle(\"/bigstor/zsarwar/Enola_Augmented/MT_food101_full_101_f739c19e1aeeaea18c60b1bf802b05db/Unicom/df_uecfood256_full_5380bfbd4407e03050ed26afbb98e440_74d7170cc8af0b8340d0290b43517cd1_58c5118d18fa07649b578fd9744876b2.pkl\")\n",
    "#df_labels = df_labels.drop_duplicates('label')\n",
    "augmented_labels = df_augmented['label'].unique().tolist()"
   ]
  },
  {
   "cell_type": "code",
   "execution_count": null,
   "metadata": {},
   "outputs": [],
   "source": [
    "all_images = df_augmented[df_augmented['label'] == dhard_labels[7]]['img_path'].tolist()\n",
    "# Visualize samples\n",
    "for i, im_path in enumerate(all_images[0:50]):\n",
    "    img = mpimg.imread(im_path)\n",
    "    plt.axis('off')\n",
    "    imgplot = plt.imshow(img)\n",
    "    plt.figure()\n",
    "    plt.clf()"
   ]
  },
  {
   "cell_type": "code",
   "execution_count": null,
   "metadata": {},
   "outputs": [],
   "source": []
  }
 ],
 "metadata": {
  "kernelspec": {
   "display_name": "enola",
   "language": "python",
   "name": "python3"
  },
  "language_info": {
   "codemirror_mode": {
    "name": "ipython",
    "version": 3
   },
   "file_extension": ".py",
   "mimetype": "text/x-python",
   "name": "python",
   "nbconvert_exporter": "python",
   "pygments_lexer": "ipython3",
   "version": "3.9.16"
  }
 },
 "nbformat": 4,
 "nbformat_minor": 2
}

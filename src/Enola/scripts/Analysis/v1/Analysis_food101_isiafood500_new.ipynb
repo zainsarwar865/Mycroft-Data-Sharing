{
 "cells": [
  {
   "cell_type": "code",
   "execution_count": 1,
   "metadata": {},
   "outputs": [],
   "source": [
    "import pickle\n",
    "import pandas as pd\n",
    "import numpy as np\n",
    "import os\n",
    "import matplotlib.pyplot as plt\n",
    "import matplotlib.image as mpimg\n"
   ]
  },
  {
   "cell_type": "code",
   "execution_count": 2,
   "metadata": {},
   "outputs": [],
   "source": [
    "pd.options.display.max_rows = 999"
   ]
  },
  {
   "cell_type": "markdown",
   "metadata": {},
   "source": [
    "# UNICOM"
   ]
  },
  {
   "cell_type": "markdown",
   "metadata": {},
   "source": [
    "# Baseline runs"
   ]
  },
  {
   "cell_type": "code",
   "execution_count": 3,
   "metadata": {},
   "outputs": [],
   "source": [
    "base_dir = \"/bigstor/zsarwar/Enola_Augmented/MT_food101_full_101_f739c19e1aeeaea18c60b1bf802b05db_archived\"\n",
    "\n",
    "runs   = [\n",
    "            \"MT_Baseline_a868a1618372a781faedfcb1574f5c16/Metrics\"\n",
    "        ]\n",
    "\n",
    "stats_filename = \"agg_class_stats.pkl\"\n",
    "\n",
    "#dhard_base = \"/bigstor/zsarwar/Enola_Augmented/MT_food101_full_101_f739c19e1aeeaea18c60b1bf802b05db/Datasets\"\n",
    "dhard_base = \"/bigstor/zsarwar/Enola_Augmented/MT_food101_full_101_f739c19e1aeeaea18c60b1bf802b05db_archived/Unicom\"\n",
    "\n",
    "dhard_runs = [\n",
    "                \"df_ISIAFood101_full_fc07cbc44009621d1f05d1d227846c31_8922515f3e2435a704fc003db105a960_fc4e79326c45bb5e832b6abb5659732b.pkl\"\n",
    "              ]\n",
    "\n",
    "# Load labels\n",
    "val_path = \"/bigstor/common_data/food_101/DF/df_food101_val.pkl\"\n",
    "df_val = pd.read_pickle(val_path)"
   ]
  },
  {
   "cell_type": "code",
   "execution_count": null,
   "metadata": {},
   "outputs": [],
   "source": []
  },
  {
   "cell_type": "code",
   "execution_count": 4,
   "metadata": {},
   "outputs": [],
   "source": [
    "all_stats_paths = []\n",
    "for r in runs:\n",
    "    stats_path = os.path.join(base_dir, r, stats_filename)\n",
    "    all_stats_paths.append(stats_path)\n",
    "    \n",
    "\n",
    "all_stats_acc = []\n",
    "for path in all_stats_paths:\n",
    "    stats = pd.read_pickle(path)\n",
    "    all_stats_acc.append(stats['accuracy'])\n"
   ]
  },
  {
   "cell_type": "code",
   "execution_count": 5,
   "metadata": {},
   "outputs": [],
   "source": [
    "df_val = df_val.drop_duplicates('label')\n",
    "df_val_classes = df_val[['class', 'label']]\n",
    "\n",
    "label_list = list(df_val_classes['label'])\n",
    "\n",
    "all_acc_list = []\n",
    "for i in range(len(all_stats_acc)):\n",
    "    accuracy_list = [all_stats_acc[i][cl] for cl in label_list]\n",
    "    all_acc_list.append(accuracy_list)\n",
    "\n",
    "for i in range(len(all_acc_list)):\n",
    "    col_name = f\"accuracy_{i}\"\n",
    "    df_val_classes.insert(2, col_name, all_acc_list[i], True)   "
   ]
  },
  {
   "cell_type": "code",
   "execution_count": 6,
   "metadata": {},
   "outputs": [
    {
     "name": "stdout",
     "output_type": "stream",
     "text": [
      "Accruracy for each run :  [87.58416003992062]\n",
      "Mean accuracy across runs :  87.58416003992062\n"
     ]
    }
   ],
   "source": [
    "df_base = df_val_classes.copy()\n",
    "\n",
    "cols = [f\"accuracy_{i}\" for i in range(len(all_acc_list))]\n",
    "df_base['accuracy_0'].mean()\n",
    "mean_accs = []\n",
    "for c in cols:\n",
    "    t_acc = df_base[c].mean()\n",
    "    mean_accs.append(t_acc)\n",
    "print(\"Accruracy for each run : \", mean_accs)\n",
    "mean_accs = np.asarray(mean_accs)\n",
    "print(\"Mean accuracy across runs : \", np.mean(mean_accs))"
   ]
  },
  {
   "cell_type": "code",
   "execution_count": 7,
   "metadata": {},
   "outputs": [],
   "source": [
    "# Classes in ISIA500\n",
    "df_isia = pd.read_pickle(\"/bigstor/common_data/ISIA-Food-500/DF/df_ISIA-Food-500_train.pkl\")"
   ]
  },
  {
   "cell_type": "code",
   "execution_count": 8,
   "metadata": {},
   "outputs": [],
   "source": [
    "isia_classes = set(df_isia['class'].unique())"
   ]
  },
  {
   "cell_type": "code",
   "execution_count": 9,
   "metadata": {},
   "outputs": [],
   "source": [
    "df_base_sorted = df_base.sort_values(by=['accuracy_0'], ascending=False)"
   ]
  },
  {
   "cell_type": "code",
   "execution_count": 10,
   "metadata": {},
   "outputs": [],
   "source": [
    "base_classes = set(df_base_sorted['class'].unique())\n",
    "mutual_classes = base_classes.intersection(isia_classes)"
   ]
  },
  {
   "cell_type": "code",
   "execution_count": 12,
   "metadata": {},
   "outputs": [
    {
     "data": {
      "text/plain": [
       "['Edamame',\n",
       " 'Hot and sour soup',\n",
       " 'Pho',\n",
       " 'Takoyaki',\n",
       " 'Churros',\n",
       " 'Beignets',\n",
       " 'Lobster bisque',\n",
       " 'Sashimi',\n",
       " 'Clam chowder',\n",
       " 'Onion rings',\n",
       " 'French onion soup']"
      ]
     },
     "execution_count": 12,
     "metadata": {},
     "output_type": "execute_result"
    }
   ],
   "source": [
    "df_base_sorted[df_base_sorted['class'].isin(mutual_classes)].iloc[0:11]['class'].tolist()"
   ]
  },
  {
   "cell_type": "code",
   "execution_count": 11,
   "metadata": {},
   "outputs": [
    {
     "data": {
      "text/html": [
       "<div>\n",
       "<style scoped>\n",
       "    .dataframe tbody tr th:only-of-type {\n",
       "        vertical-align: middle;\n",
       "    }\n",
       "\n",
       "    .dataframe tbody tr th {\n",
       "        vertical-align: top;\n",
       "    }\n",
       "\n",
       "    .dataframe thead th {\n",
       "        text-align: right;\n",
       "    }\n",
       "</style>\n",
       "<table border=\"1\" class=\"dataframe\">\n",
       "  <thead>\n",
       "    <tr style=\"text-align: right;\">\n",
       "      <th></th>\n",
       "      <th>class</th>\n",
       "      <th>label</th>\n",
       "      <th>accuracy_0</th>\n",
       "    </tr>\n",
       "  </thead>\n",
       "  <tbody>\n",
       "    <tr>\n",
       "      <th>edamame/2263853.jpg</th>\n",
       "      <td>Edamame</td>\n",
       "      <td>33</td>\n",
       "      <td>99.599998</td>\n",
       "    </tr>\n",
       "    <tr>\n",
       "      <th>hot_and_sour_soup/1864685.jpg</th>\n",
       "      <td>Hot and sour soup</td>\n",
       "      <td>54</td>\n",
       "      <td>96.800003</td>\n",
       "    </tr>\n",
       "    <tr>\n",
       "      <th>pho/163128.jpg</th>\n",
       "      <td>Pho</td>\n",
       "      <td>75</td>\n",
       "      <td>95.200005</td>\n",
       "    </tr>\n",
       "    <tr>\n",
       "      <th>takoyaki/3609028.jpg</th>\n",
       "      <td>Takoyaki</td>\n",
       "      <td>97</td>\n",
       "      <td>94.800003</td>\n",
       "    </tr>\n",
       "    <tr>\n",
       "      <th>churros/274692.jpg</th>\n",
       "      <td>Churros</td>\n",
       "      <td>23</td>\n",
       "      <td>94.400002</td>\n",
       "    </tr>\n",
       "    <tr>\n",
       "      <th>beignets/847393.jpg</th>\n",
       "      <td>Beignets</td>\n",
       "      <td>6</td>\n",
       "      <td>93.599998</td>\n",
       "    </tr>\n",
       "    <tr>\n",
       "      <th>lobster_bisque/378185.jpg</th>\n",
       "      <td>Lobster bisque</td>\n",
       "      <td>60</td>\n",
       "      <td>93.200005</td>\n",
       "    </tr>\n",
       "    <tr>\n",
       "      <th>sashimi/3686273.jpg</th>\n",
       "      <td>Sashimi</td>\n",
       "      <td>86</td>\n",
       "      <td>92.800003</td>\n",
       "    </tr>\n",
       "    <tr>\n",
       "      <th>clam_chowder/770062.jpg</th>\n",
       "      <td>Clam chowder</td>\n",
       "      <td>24</td>\n",
       "      <td>92.400002</td>\n",
       "    </tr>\n",
       "    <tr>\n",
       "      <th>onion_rings/3494133.jpg</th>\n",
       "      <td>Onion rings</td>\n",
       "      <td>68</td>\n",
       "      <td>92.400002</td>\n",
       "    </tr>\n",
       "  </tbody>\n",
       "</table>\n",
       "</div>"
      ],
      "text/plain": [
       "                                           class  label  accuracy_0\n",
       "edamame/2263853.jpg                      Edamame     33   99.599998\n",
       "hot_and_sour_soup/1864685.jpg  Hot and sour soup     54   96.800003\n",
       "pho/163128.jpg                               Pho     75   95.200005\n",
       "takoyaki/3609028.jpg                    Takoyaki     97   94.800003\n",
       "churros/274692.jpg                       Churros     23   94.400002\n",
       "beignets/847393.jpg                     Beignets      6   93.599998\n",
       "lobster_bisque/378185.jpg         Lobster bisque     60   93.200005\n",
       "sashimi/3686273.jpg                      Sashimi     86   92.800003\n",
       "clam_chowder/770062.jpg             Clam chowder     24   92.400002\n",
       "onion_rings/3494133.jpg              Onion rings     68   92.400002"
      ]
     },
     "execution_count": 11,
     "metadata": {},
     "output_type": "execute_result"
    }
   ],
   "source": [
    "df_base_sorted[df_base_sorted['class'].isin(mutual_classes)].iloc[0:11]"
   ]
  },
  {
   "cell_type": "code",
   "execution_count": null,
   "metadata": {},
   "outputs": [],
   "source": []
  },
  {
   "cell_type": "code",
   "execution_count": null,
   "metadata": {},
   "outputs": [],
   "source": []
  },
  {
   "cell_type": "markdown",
   "metadata": {},
   "source": [
    "# Augmented runs"
   ]
  },
  {
   "cell_type": "code",
   "execution_count": 8,
   "metadata": {},
   "outputs": [],
   "source": [
    "base_dir = \"/bigstor/zsarwar/Enola_Augmented/MT_food101_full_101_f739c19e1aeeaea18c60b1bf802b05db\"\n",
    "\n",
    "runs = [\n",
    "    \"MT_Augmented_41c38b7924ccee328a4d3825552ec34f/Metrics\"\n",
    "]\n",
    "\n",
    "\n",
    "stats_filename = \"agg_class_stats.pkl\"\n",
    "\n",
    "# Load labels\n",
    "#val_path = \"/bigstor/zsarwar/Imagenet/DF/df_imagenet_dogs_val.pkl\"\n",
    "val_path = \"/bigstor/common_data/food_101/DF/df_food101_val.pkl\"\n",
    "df_val = pd.read_pickle(val_path)"
   ]
  },
  {
   "cell_type": "code",
   "execution_count": 9,
   "metadata": {},
   "outputs": [],
   "source": [
    "all_stats_paths = []\n",
    "for r in runs:\n",
    "    stats_path = os.path.join(base_dir, r, stats_filename)\n",
    "    all_stats_paths.append(stats_path)\n",
    "    \n",
    "all_stats_acc = []\n",
    "for path in all_stats_paths:\n",
    "    stats = pd.read_pickle(path)\n",
    "    all_stats_acc.append(stats['accuracy'])\n"
   ]
  },
  {
   "cell_type": "code",
   "execution_count": 10,
   "metadata": {},
   "outputs": [],
   "source": [
    "df_val = df_val.drop_duplicates('label')\n",
    "df_val_classes = df_val[['class', 'label']]\n",
    "\n",
    "label_list = list(df_val_classes['label'])\n",
    "\n",
    "all_acc_list = []\n",
    "for i in range(len(all_stats_acc)):\n",
    "    accuracy_list = [all_stats_acc[i][cl] for cl in label_list]\n",
    "    all_acc_list.append(accuracy_list)\n",
    "\n",
    "for i in range(len(all_acc_list)):\n",
    "    col_name = f\"accuracy_{i}\"\n",
    "    df_val_classes.insert(2, col_name, all_acc_list[i], True)   \n",
    "#df_val_classes.insert(2, \"accuracy\", accuracy_list, True)"
   ]
  },
  {
   "cell_type": "code",
   "execution_count": 11,
   "metadata": {},
   "outputs": [
    {
     "name": "stdout",
     "output_type": "stream",
     "text": [
      "Accruracy for each run :  [87.50099170798123]\n",
      "Mean accuracy across runs :  87.50099170798123\n"
     ]
    }
   ],
   "source": [
    "df_aug = df_val_classes.copy()\n",
    "\n",
    "cols = [f\"accuracy_{i}\" for i in range(len(all_acc_list))]\n",
    "df_aug['accuracy_0'].mean()\n",
    "mean_accs = []\n",
    "for c in cols:\n",
    "    t_acc = df_aug[c].mean()\n",
    "    mean_accs.append(t_acc)\n",
    "print(\"Accruracy for each run : \", mean_accs)\n",
    "mean_accs = np.asarray(mean_accs)\n",
    "print(\"Mean accuracy across runs : \", np.mean(mean_accs))"
   ]
  },
  {
   "cell_type": "markdown",
   "metadata": {},
   "source": [
    "# DF EMP"
   ]
  },
  {
   "cell_type": "code",
   "execution_count": 12,
   "metadata": {},
   "outputs": [],
   "source": [
    "all_emp_paths = []\n",
    "for r in dhard_runs:\n",
    "    emp_path = os.path.join(dhard_base, r)\n",
    "    all_emp_paths.append(emp_path)\n",
    "    \n",
    "all_df_emps = []\n",
    "\n",
    "for p in all_emp_paths:\n",
    "    df_emp = pd.read_pickle(p)\n",
    "    all_df_emps.append(df_emp)\n"
   ]
  },
  {
   "cell_type": "code",
   "execution_count": 13,
   "metadata": {},
   "outputs": [],
   "source": [
    "all_emp_classes = []\n",
    "for i in range(len(all_df_emps)):\n",
    "    emp_classes = all_df_emps[i]['class'].unique().tolist()\n",
    "    all_emp_classes.append(emp_classes)"
   ]
  },
  {
   "cell_type": "code",
   "execution_count": 14,
   "metadata": {},
   "outputs": [],
   "source": [
    "all_acc_diffs = []\n",
    "for i in range(len(all_emp_classes)):\n",
    "    col_name = f\"accuracy_{i}\"\n",
    "    col_diff = df_aug[df_aug['class'].isin(all_emp_classes[i])][col_name] - df_base[df_base['class'].isin(all_emp_classes[i])][col_name]\n",
    "    col_diff_sum = col_diff.sum()\n",
    "    all_acc_diffs.append(col_diff_sum)\n",
    "\n"
   ]
  },
  {
   "cell_type": "code",
   "execution_count": 15,
   "metadata": {},
   "outputs": [
    {
     "data": {
      "text/plain": [
       "2.9777789645724826"
      ]
     },
     "execution_count": 15,
     "metadata": {},
     "output_type": "execute_result"
    }
   ],
   "source": [
    "sum(all_acc_diffs) / 9"
   ]
  },
  {
   "cell_type": "code",
   "execution_count": 16,
   "metadata": {},
   "outputs": [
    {
     "data": {
      "text/html": [
       "<div>\n",
       "<style scoped>\n",
       "    .dataframe tbody tr th:only-of-type {\n",
       "        vertical-align: middle;\n",
       "    }\n",
       "\n",
       "    .dataframe tbody tr th {\n",
       "        vertical-align: top;\n",
       "    }\n",
       "\n",
       "    .dataframe thead th {\n",
       "        text-align: right;\n",
       "    }\n",
       "</style>\n",
       "<table border=\"1\" class=\"dataframe\">\n",
       "  <thead>\n",
       "    <tr style=\"text-align: right;\">\n",
       "      <th></th>\n",
       "      <th>class</th>\n",
       "      <th>label</th>\n",
       "      <th>accuracy_0</th>\n",
       "    </tr>\n",
       "  </thead>\n",
       "  <tbody>\n",
       "    <tr>\n",
       "      <th>ceviche/42489.jpg</th>\n",
       "      <td>Ceviche</td>\n",
       "      <td>15</td>\n",
       "      <td>76.400002</td>\n",
       "    </tr>\n",
       "    <tr>\n",
       "      <th>huevos_rancheros/883821.jpg</th>\n",
       "      <td>Huevos rancheros</td>\n",
       "      <td>56</td>\n",
       "      <td>81.200005</td>\n",
       "    </tr>\n",
       "    <tr>\n",
       "      <th>garlic_bread/2981508.jpg</th>\n",
       "      <td>Garlic bread</td>\n",
       "      <td>46</td>\n",
       "      <td>82.400002</td>\n",
       "    </tr>\n",
       "    <tr>\n",
       "      <th>apple_pie/1272958.jpg</th>\n",
       "      <td>Apple pie</td>\n",
       "      <td>0</td>\n",
       "      <td>70.800003</td>\n",
       "    </tr>\n",
       "    <tr>\n",
       "      <th>filet_mignon/2325804.jpg</th>\n",
       "      <td>Filet mignon</td>\n",
       "      <td>37</td>\n",
       "      <td>74.000000</td>\n",
       "    </tr>\n",
       "    <tr>\n",
       "      <th>chocolate_mousse/612385.jpg</th>\n",
       "      <td>Chocolate mousse</td>\n",
       "      <td>22</td>\n",
       "      <td>78.400002</td>\n",
       "    </tr>\n",
       "    <tr>\n",
       "      <th>crab_cakes/943630.jpg</th>\n",
       "      <td>Crab cakes</td>\n",
       "      <td>26</td>\n",
       "      <td>83.200005</td>\n",
       "    </tr>\n",
       "    <tr>\n",
       "      <th>lasagna/207825.jpg</th>\n",
       "      <td>Lasagna</td>\n",
       "      <td>59</td>\n",
       "      <td>81.599998</td>\n",
       "    </tr>\n",
       "    <tr>\n",
       "      <th>cheesecake/2574796.jpg</th>\n",
       "      <td>Cheesecake</td>\n",
       "      <td>16</td>\n",
       "      <td>81.200005</td>\n",
       "    </tr>\n",
       "  </tbody>\n",
       "</table>\n",
       "</div>"
      ],
      "text/plain": [
       "                                        class  label  accuracy_0\n",
       "ceviche/42489.jpg                     Ceviche     15   76.400002\n",
       "huevos_rancheros/883821.jpg  Huevos rancheros     56   81.200005\n",
       "garlic_bread/2981508.jpg         Garlic bread     46   82.400002\n",
       "apple_pie/1272958.jpg               Apple pie      0   70.800003\n",
       "filet_mignon/2325804.jpg         Filet mignon     37   74.000000\n",
       "chocolate_mousse/612385.jpg  Chocolate mousse     22   78.400002\n",
       "crab_cakes/943630.jpg              Crab cakes     26   83.200005\n",
       "lasagna/207825.jpg                    Lasagna     59   81.599998\n",
       "cheesecake/2574796.jpg             Cheesecake     16   81.200005"
      ]
     },
     "execution_count": 16,
     "metadata": {},
     "output_type": "execute_result"
    }
   ],
   "source": [
    "df_aug[df_aug['class'].isin(all_emp_classes[0])]"
   ]
  },
  {
   "cell_type": "code",
   "execution_count": 17,
   "metadata": {},
   "outputs": [
    {
     "data": {
      "text/plain": [
       "ceviche/42489.jpg              0.400002\n",
       "huevos_rancheros/883821.jpg    5.200005\n",
       "garlic_bread/2981508.jpg       4.400002\n",
       "apple_pie/1272958.jpg          4.400002\n",
       "filet_mignon/2325804.jpg       0.000000\n",
       "chocolate_mousse/612385.jpg    2.000000\n",
       "crab_cakes/943630.jpg          2.400002\n",
       "lasagna/207825.jpg             1.599998\n",
       "cheesecake/2574796.jpg         6.400002\n",
       "Name: accuracy_0, dtype: float64"
      ]
     },
     "execution_count": 17,
     "metadata": {},
     "output_type": "execute_result"
    }
   ],
   "source": [
    "df_aug[df_aug['class'].isin(all_emp_classes[0])]['accuracy_0'] - df_base[df_base['class'].isin(all_emp_classes[0])]['accuracy_0']"
   ]
  },
  {
   "cell_type": "code",
   "execution_count": 17,
   "metadata": {},
   "outputs": [
    {
     "data": {
      "text/plain": [
       "4.426666514078776"
      ]
     },
     "execution_count": 17,
     "metadata": {},
     "output_type": "execute_result"
    }
   ],
   "source": [
    "(sum(all_acc_diffs) / 3) / 10"
   ]
  },
  {
   "cell_type": "code",
   "execution_count": 16,
   "metadata": {},
   "outputs": [
    {
     "data": {
      "text/plain": [
       "4.3999992370605465"
      ]
     },
     "execution_count": 16,
     "metadata": {},
     "output_type": "execute_result"
    }
   ],
   "source": [
    "(sum(all_acc_diffs) / 10)"
   ]
  },
  {
   "cell_type": "code",
   "execution_count": null,
   "metadata": {},
   "outputs": [],
   "source": []
  },
  {
   "cell_type": "code",
   "execution_count": null,
   "metadata": {},
   "outputs": [],
   "source": []
  },
  {
   "cell_type": "markdown",
   "metadata": {},
   "source": [
    "# GradMatch"
   ]
  },
  {
   "cell_type": "markdown",
   "metadata": {},
   "source": [
    "# Baseline runs"
   ]
  },
  {
   "cell_type": "code",
   "execution_count": 38,
   "metadata": {},
   "outputs": [],
   "source": [
    "base_dir = \"/bigstor/zsarwar/Enola_Augmented/MT_food101_full_101_f739c19e1aeeaea18c60b1bf802b05db\"\n",
    "\n",
    "runs   = [\n",
    "            #\"MT_Baseline_075a3dd4b758bf1dc5f8e45e79b19d95/Metrics\", # 40\n",
    "            #\"MT_Baseline_7e0b9b0a19780ab4210dd40fe629df3f/Metrics\", # 80\n",
    "            \"MT_Baseline_8915e10296bdf7f70fb9b4bfed4f45fe/Metrics\"  # 60\n",
    "        ]\n",
    "\n",
    "stats_filename = \"agg_class_stats.pkl\"\n",
    "\n",
    "dhard_base = \"/bigstor/zsarwar/Enola_Augmented/MT_food101_full_101_f739c19e1aeeaea18c60b1bf802b05db/GradMatch\"\n",
    "\n",
    "dhard_runs = [\n",
    "              \"df_ISIAFood101_full_1707ca43a9ed0f95bee2a13e46fd0b4b_4c62bebbff3a010c8c379fa816b88bee_fc4e79326c45bb5e832b6abb5659732b.pkl\"\n",
    "              ]\n",
    "\n",
    "# Load labels\n",
    "val_path = \"/bigstor/common_data/food_101/DF/df_food101_val.pkl\"\n",
    "df_val = pd.read_pickle(val_path)"
   ]
  },
  {
   "cell_type": "code",
   "execution_count": null,
   "metadata": {},
   "outputs": [],
   "source": []
  },
  {
   "cell_type": "code",
   "execution_count": 39,
   "metadata": {},
   "outputs": [],
   "source": [
    "all_stats_paths = []\n",
    "for r in runs:\n",
    "    stats_path = os.path.join(base_dir, r, stats_filename)\n",
    "    all_stats_paths.append(stats_path)\n",
    "    \n",
    "\n",
    "all_stats_acc = []\n",
    "for path in all_stats_paths:\n",
    "    stats = pd.read_pickle(path)\n",
    "    all_stats_acc.append(stats['accuracy'])\n"
   ]
  },
  {
   "cell_type": "code",
   "execution_count": 40,
   "metadata": {},
   "outputs": [],
   "source": [
    "df_val = df_val.drop_duplicates('label')\n",
    "df_val_classes = df_val[['class', 'label']]\n",
    "\n",
    "label_list = list(df_val_classes['label'])\n",
    "\n",
    "all_acc_list = []\n",
    "for i in range(len(all_stats_acc)):\n",
    "    accuracy_list = [all_stats_acc[i][cl] for cl in label_list]\n",
    "    all_acc_list.append(accuracy_list)\n",
    "\n",
    "for i in range(len(all_acc_list)):\n",
    "    col_name = f\"accuracy_{i}\"\n",
    "    df_val_classes.insert(2, col_name, all_acc_list[i], True)   "
   ]
  },
  {
   "cell_type": "code",
   "execution_count": 41,
   "metadata": {},
   "outputs": [
    {
     "name": "stdout",
     "output_type": "stream",
     "text": [
      "Accruracy for each run :  [87.53663514392211]\n",
      "Mean accuracy across runs :  87.53663514392211\n"
     ]
    }
   ],
   "source": [
    "df_base = df_val_classes.copy()\n",
    "\n",
    "cols = [f\"accuracy_{i}\" for i in range(len(all_acc_list))]\n",
    "mean_accs = []\n",
    "for c in cols:\n",
    "    t_acc = df_base[c].mean()\n",
    "    mean_accs.append(t_acc)\n",
    "print(\"Accruracy for each run : \", mean_accs)\n",
    "mean_accs = np.asarray(mean_accs)\n",
    "print(\"Mean accuracy across runs : \", np.mean(mean_accs))"
   ]
  },
  {
   "cell_type": "code",
   "execution_count": null,
   "metadata": {},
   "outputs": [],
   "source": []
  },
  {
   "cell_type": "markdown",
   "metadata": {},
   "source": [
    "# Augmented runs"
   ]
  },
  {
   "cell_type": "code",
   "execution_count": 42,
   "metadata": {},
   "outputs": [],
   "source": [
    "base_dir = \"/bigstor/zsarwar/Enola_Augmented/MT_food101_full_101_f739c19e1aeeaea18c60b1bf802b05db\"\n",
    "\n",
    "runs = [\n",
    "        \"MT_Augmented_e28e11254b86976145eaea5b3c6af9a2/Metrics\"\n",
    "]\n",
    "\n",
    "\n",
    "stats_filename = \"agg_class_stats.pkl\"\n",
    "\n",
    "# Load labels\n",
    "#val_path = \"/bigstor/zsarwar/Imagenet/DF/df_imagenet_dogs_val.pkl\"\n",
    "val_path = \"/bigstor/common_data/food_101/DF/df_food101_val.pkl\"\n",
    "df_val = pd.read_pickle(val_path)"
   ]
  },
  {
   "cell_type": "code",
   "execution_count": 43,
   "metadata": {},
   "outputs": [],
   "source": [
    "all_stats_paths = []\n",
    "for r in runs:\n",
    "    stats_path = os.path.join(base_dir, r, stats_filename)\n",
    "    all_stats_paths.append(stats_path)\n",
    "    \n",
    "all_stats_acc = []\n",
    "for path in all_stats_paths:\n",
    "    stats = pd.read_pickle(path)\n",
    "    all_stats_acc.append(stats['accuracy'])\n"
   ]
  },
  {
   "cell_type": "code",
   "execution_count": 46,
   "metadata": {},
   "outputs": [],
   "source": [
    "df_val = df_val.drop_duplicates('label')\n",
    "df_val_classes = df_val[['class', 'label']]\n",
    "\n",
    "label_list = list(df_val_classes['label'])\n",
    "\n",
    "all_acc_list = []\n",
    "for i in range(len(all_stats_acc)):\n",
    "    accuracy_list = [all_stats_acc[i][cl] for cl in label_list]\n",
    "    all_acc_list.append(accuracy_list)\n",
    "\n",
    "for i in range(len(all_acc_list)):\n",
    "    col_name = f\"accuracy_{i}\"\n",
    "    df_val_classes.insert(2, col_name, all_acc_list[i], True)   \n",
    "#df_val_classes.insert(2, \"accuracy\", accuracy_list, True)"
   ]
  },
  {
   "cell_type": "code",
   "execution_count": 47,
   "metadata": {},
   "outputs": [
    {
     "name": "stdout",
     "output_type": "stream",
     "text": [
      "Accruracy for each run :  [87.46534819650178]\n",
      "Mean accuracy across runs :  87.46534819650178\n"
     ]
    }
   ],
   "source": [
    "df_aug = df_val_classes.copy()\n",
    "\n",
    "cols = [f\"accuracy_{i}\" for i in range(len(all_acc_list))]\n",
    "df_aug['accuracy_0'].mean()\n",
    "mean_accs = []\n",
    "for c in cols:\n",
    "    t_acc = df_aug[c].mean()\n",
    "    mean_accs.append(t_acc)\n",
    "print(\"Accruracy for each run : \", mean_accs)\n",
    "mean_accs = np.asarray(mean_accs)\n",
    "print(\"Mean accuracy across runs : \", np.mean(mean_accs))"
   ]
  },
  {
   "cell_type": "markdown",
   "metadata": {},
   "source": [
    "# DF EMP"
   ]
  },
  {
   "cell_type": "code",
   "execution_count": 48,
   "metadata": {},
   "outputs": [],
   "source": [
    "all_emp_paths = []\n",
    "for r in dhard_runs:\n",
    "    emp_path = os.path.join(dhard_base, r)\n",
    "    all_emp_paths.append(emp_path)\n",
    "    \n",
    "all_df_emps = []\n",
    "\n",
    "for p in all_emp_paths:\n",
    "    df_emp = pd.read_pickle(p)\n",
    "    all_df_emps.append(df_emp)\n"
   ]
  },
  {
   "cell_type": "code",
   "execution_count": 49,
   "metadata": {},
   "outputs": [],
   "source": [
    "all_emp_classes = []\n",
    "for i in range(len(all_df_emps)):\n",
    "    emp_classes = all_df_emps[i]['class'].unique().tolist()\n",
    "    all_emp_classes.append(emp_classes)"
   ]
  },
  {
   "cell_type": "code",
   "execution_count": 50,
   "metadata": {},
   "outputs": [],
   "source": [
    "all_acc_diffs = []\n",
    "for i in range(len(all_emp_classes)):\n",
    "    col_name = f\"accuracy_{i}\"\n",
    "    col_diff = df_aug[df_aug['class'].isin(all_emp_classes[i])][col_name] - df_base[df_base['class'].isin(all_emp_classes[i])][col_name]\n",
    "    col_diff_sum = col_diff.sum()\n",
    "    all_acc_diffs.append(col_diff_sum)\n",
    "\n"
   ]
  },
  {
   "cell_type": "code",
   "execution_count": 51,
   "metadata": {},
   "outputs": [
    {
     "data": {
      "text/html": [
       "<div>\n",
       "<style scoped>\n",
       "    .dataframe tbody tr th:only-of-type {\n",
       "        vertical-align: middle;\n",
       "    }\n",
       "\n",
       "    .dataframe tbody tr th {\n",
       "        vertical-align: top;\n",
       "    }\n",
       "\n",
       "    .dataframe thead th {\n",
       "        text-align: right;\n",
       "    }\n",
       "</style>\n",
       "<table border=\"1\" class=\"dataframe\">\n",
       "  <thead>\n",
       "    <tr style=\"text-align: right;\">\n",
       "      <th></th>\n",
       "      <th>class</th>\n",
       "      <th>label</th>\n",
       "      <th>accuracy_0</th>\n",
       "    </tr>\n",
       "  </thead>\n",
       "  <tbody>\n",
       "    <tr>\n",
       "      <th>ceviche/42489.jpg</th>\n",
       "      <td>Ceviche</td>\n",
       "      <td>15</td>\n",
       "      <td>79.200005</td>\n",
       "    </tr>\n",
       "    <tr>\n",
       "      <th>huevos_rancheros/883821.jpg</th>\n",
       "      <td>Huevos rancheros</td>\n",
       "      <td>56</td>\n",
       "      <td>82.800003</td>\n",
       "    </tr>\n",
       "    <tr>\n",
       "      <th>garlic_bread/2981508.jpg</th>\n",
       "      <td>Garlic bread</td>\n",
       "      <td>46</td>\n",
       "      <td>83.599998</td>\n",
       "    </tr>\n",
       "    <tr>\n",
       "      <th>apple_pie/1272958.jpg</th>\n",
       "      <td>Apple pie</td>\n",
       "      <td>0</td>\n",
       "      <td>77.200005</td>\n",
       "    </tr>\n",
       "    <tr>\n",
       "      <th>filet_mignon/2325804.jpg</th>\n",
       "      <td>Filet mignon</td>\n",
       "      <td>37</td>\n",
       "      <td>83.599998</td>\n",
       "    </tr>\n",
       "    <tr>\n",
       "      <th>chocolate_mousse/612385.jpg</th>\n",
       "      <td>Chocolate mousse</td>\n",
       "      <td>22</td>\n",
       "      <td>78.400002</td>\n",
       "    </tr>\n",
       "    <tr>\n",
       "      <th>crab_cakes/943630.jpg</th>\n",
       "      <td>Crab cakes</td>\n",
       "      <td>26</td>\n",
       "      <td>84.800003</td>\n",
       "    </tr>\n",
       "    <tr>\n",
       "      <th>lasagna/207825.jpg</th>\n",
       "      <td>Lasagna</td>\n",
       "      <td>59</td>\n",
       "      <td>84.000000</td>\n",
       "    </tr>\n",
       "    <tr>\n",
       "      <th>cheesecake/2574796.jpg</th>\n",
       "      <td>Cheesecake</td>\n",
       "      <td>16</td>\n",
       "      <td>82.000000</td>\n",
       "    </tr>\n",
       "  </tbody>\n",
       "</table>\n",
       "</div>"
      ],
      "text/plain": [
       "                                        class  label  accuracy_0\n",
       "ceviche/42489.jpg                     Ceviche     15   79.200005\n",
       "huevos_rancheros/883821.jpg  Huevos rancheros     56   82.800003\n",
       "garlic_bread/2981508.jpg         Garlic bread     46   83.599998\n",
       "apple_pie/1272958.jpg               Apple pie      0   77.200005\n",
       "filet_mignon/2325804.jpg         Filet mignon     37   83.599998\n",
       "chocolate_mousse/612385.jpg  Chocolate mousse     22   78.400002\n",
       "crab_cakes/943630.jpg              Crab cakes     26   84.800003\n",
       "lasagna/207825.jpg                    Lasagna     59   84.000000\n",
       "cheesecake/2574796.jpg             Cheesecake     16   82.000000"
      ]
     },
     "execution_count": 51,
     "metadata": {},
     "output_type": "execute_result"
    }
   ],
   "source": [
    "df_aug[df_aug['class'].isin(all_emp_classes[0])]"
   ]
  },
  {
   "cell_type": "code",
   "execution_count": 52,
   "metadata": {},
   "outputs": [
    {
     "data": {
      "text/plain": [
       "53.20000457763672"
      ]
     },
     "execution_count": 52,
     "metadata": {},
     "output_type": "execute_result"
    }
   ],
   "source": [
    "(df_aug[df_aug['class'].isin(all_emp_classes[0])]['accuracy_0'] - df_base[df_base['class'].isin(all_emp_classes[0])]['accuracy_0']).sum()"
   ]
  },
  {
   "cell_type": "code",
   "execution_count": 54,
   "metadata": {},
   "outputs": [
    {
     "data": {
      "text/plain": [
       "5.911111619737413"
      ]
     },
     "execution_count": 54,
     "metadata": {},
     "output_type": "execute_result"
    }
   ],
   "source": [
    "sum(all_acc_diffs)   /  9"
   ]
  },
  {
   "cell_type": "code",
   "execution_count": 55,
   "metadata": {},
   "outputs": [
    {
     "data": {
      "text/plain": [
       "[53.20000457763672]"
      ]
     },
     "execution_count": 55,
     "metadata": {},
     "output_type": "execute_result"
    }
   ],
   "source": [
    "all_acc_diffs"
   ]
  },
  {
   "cell_type": "code",
   "execution_count": 57,
   "metadata": {},
   "outputs": [
    {
     "data": {
      "text/plain": [
       "53.20000457763672"
      ]
     },
     "execution_count": 57,
     "metadata": {},
     "output_type": "execute_result"
    }
   ],
   "source": [
    "sum(all_acc_diffs)\n"
   ]
  },
  {
   "cell_type": "code",
   "execution_count": 58,
   "metadata": {},
   "outputs": [
    {
     "data": {
      "text/plain": [
       "[53.20000457763672]"
      ]
     },
     "execution_count": 58,
     "metadata": {},
     "output_type": "execute_result"
    }
   ],
   "source": [
    "all_acc_diffs"
   ]
  },
  {
   "cell_type": "code",
   "execution_count": null,
   "metadata": {},
   "outputs": [],
   "source": []
  },
  {
   "cell_type": "markdown",
   "metadata": {},
   "source": [
    "# Random"
   ]
  },
  {
   "cell_type": "markdown",
   "metadata": {},
   "source": [
    "# Baseline runs"
   ]
  },
  {
   "cell_type": "code",
   "execution_count": 61,
   "metadata": {},
   "outputs": [],
   "source": [
    "base_dir = \"/bigstor/zsarwar/Enola_Augmented/MT_food101_full_101_f739c19e1aeeaea18c60b1bf802b05db\"\n",
    "\n",
    "runs   = [\n",
    "            \"MT_Baseline_8915e10296bdf7f70fb9b4bfed4f45fe/Metrics\"\n",
    "        ]\n",
    "\n",
    "stats_filename = \"agg_class_stats.pkl\"\n",
    "\n",
    "dhard_base = \"/bigstor/zsarwar/Enola_Augmented/MT_food101_full_101_f739c19e1aeeaea18c60b1bf802b05db/Random/\"\n",
    "\n",
    "dhard_runs = [\n",
    "              #\"df_ISIAFood101_full_b0c600dc754670598cc20fd65f2d71c6_b0c600dc754670598cc20fd65f2d71c6_fc4e79326c45bb5e832b6abb5659732b.pkl\"\n",
    "              \"df_ISIAFood101_full_d079a6abeaee999a97eaa51f8bdfba45_d079a6abeaee999a97eaa51f8bdfba45_fc4e79326c45bb5e832b6abb5659732b.pkl\"\n",
    "              ]\n",
    "\n",
    "# Load labels\n",
    "val_path = \"/bigstor/common_data/food_101/DF/df_food101_val.pkl\"\n",
    "df_val = pd.read_pickle(val_path)"
   ]
  },
  {
   "cell_type": "code",
   "execution_count": null,
   "metadata": {},
   "outputs": [],
   "source": []
  },
  {
   "cell_type": "code",
   "execution_count": 62,
   "metadata": {},
   "outputs": [],
   "source": [
    "all_stats_paths = []\n",
    "for r in runs:\n",
    "    stats_path = os.path.join(base_dir, r, stats_filename)\n",
    "    all_stats_paths.append(stats_path)\n",
    "    \n",
    "\n",
    "all_stats_acc = []\n",
    "for path in all_stats_paths:\n",
    "    stats = pd.read_pickle(path)\n",
    "    all_stats_acc.append(stats['accuracy'])\n"
   ]
  },
  {
   "cell_type": "code",
   "execution_count": 63,
   "metadata": {},
   "outputs": [],
   "source": [
    "df_val = df_val.drop_duplicates('label')\n",
    "df_val_classes = df_val[['class', 'label']]\n",
    "\n",
    "label_list = list(df_val_classes['label'])\n",
    "\n",
    "all_acc_list = []\n",
    "for i in range(len(all_stats_acc)):\n",
    "    accuracy_list = [all_stats_acc[i][cl] for cl in label_list]\n",
    "    all_acc_list.append(accuracy_list)\n",
    "\n",
    "for i in range(len(all_acc_list)):\n",
    "    col_name = f\"accuracy_{i}\"\n",
    "    df_val_classes.insert(2, col_name, all_acc_list[i], True)   "
   ]
  },
  {
   "cell_type": "code",
   "execution_count": 64,
   "metadata": {},
   "outputs": [
    {
     "name": "stdout",
     "output_type": "stream",
     "text": [
      "Accruracy for each run :  [87.53663514392211]\n",
      "Mean accuracy across runs :  87.53663514392211\n"
     ]
    }
   ],
   "source": [
    "df_base = df_val_classes.copy()\n",
    "\n",
    "cols = [f\"accuracy_{i}\" for i in range(len(all_acc_list))]\n",
    "df_base['accuracy_0'].mean()\n",
    "mean_accs = []\n",
    "for c in cols:\n",
    "    t_acc = df_base[c].mean()\n",
    "    mean_accs.append(t_acc)\n",
    "print(\"Accruracy for each run : \", mean_accs)\n",
    "mean_accs = np.asarray(mean_accs)\n",
    "print(\"Mean accuracy across runs : \", np.mean(mean_accs))"
   ]
  },
  {
   "cell_type": "markdown",
   "metadata": {},
   "source": [
    "# Augmented runs"
   ]
  },
  {
   "cell_type": "code",
   "execution_count": 65,
   "metadata": {},
   "outputs": [],
   "source": [
    "base_dir = \"/bigstor/zsarwar/Enola_Augmented/MT_food101_full_101_f739c19e1aeeaea18c60b1bf802b05db\"\n",
    "\n",
    "runs = [\n",
    "    #\"MT_Augmented_a9d68f58fe8a7455ad7813f12154b806/Metrics\", # Unicom size\n",
    "    \"MT_Augmented_5c524abe14b24fe845724faebc9666e0/Metrics\" # Gradmatch size\n",
    "]\n",
    "\n",
    "stats_filename = \"agg_class_stats.pkl\"\n",
    "\n",
    "# Load labels\n",
    "#val_path = \"/bigstor/zsarwar/Imagenet/DF/df_imagenet_dogs_val.pkl\"\n",
    "val_path = \"/bigstor/common_data/food_101/DF/df_food101_val.pkl\"\n",
    "df_val = pd.read_pickle(val_path)"
   ]
  },
  {
   "cell_type": "code",
   "execution_count": 66,
   "metadata": {},
   "outputs": [],
   "source": [
    "all_stats_paths = []\n",
    "for r in runs:\n",
    "    stats_path = os.path.join(base_dir, r, stats_filename)\n",
    "    all_stats_paths.append(stats_path)\n",
    "    \n",
    "all_stats_acc = []\n",
    "for path in all_stats_paths:\n",
    "    stats = pd.read_pickle(path)\n",
    "    all_stats_acc.append(stats['accuracy'])\n"
   ]
  },
  {
   "cell_type": "code",
   "execution_count": 67,
   "metadata": {},
   "outputs": [],
   "source": [
    "df_val = df_val.drop_duplicates('label')\n",
    "df_val_classes = df_val[['class', 'label']]\n",
    "\n",
    "label_list = list(df_val_classes['label'])\n",
    "\n",
    "all_acc_list = []\n",
    "for i in range(len(all_stats_acc)):\n",
    "    accuracy_list = [all_stats_acc[i][cl] for cl in label_list]\n",
    "    all_acc_list.append(accuracy_list)\n",
    "\n",
    "for i in range(len(all_acc_list)):\n",
    "    col_name = f\"accuracy_{i}\"\n",
    "    df_val_classes.insert(2, col_name, all_acc_list[i], True)   \n",
    "#df_val_classes.insert(2, \"accuracy\", accuracy_list, True)"
   ]
  },
  {
   "cell_type": "code",
   "execution_count": 68,
   "metadata": {},
   "outputs": [
    {
     "name": "stdout",
     "output_type": "stream",
     "text": [
      "Accruracy for each run :  [87.40198158037545]\n",
      "Mean accuracy across runs :  87.40198158037545\n"
     ]
    }
   ],
   "source": [
    "df_aug = df_val_classes.copy()\n",
    "\n",
    "cols = [f\"accuracy_{i}\" for i in range(len(all_acc_list))]\n",
    "df_aug['accuracy_0'].mean()\n",
    "mean_accs = []\n",
    "for c in cols:\n",
    "    t_acc = df_aug[c].mean()\n",
    "    mean_accs.append(t_acc)\n",
    "print(\"Accruracy for each run : \", mean_accs)\n",
    "mean_accs = np.asarray(mean_accs)\n",
    "print(\"Mean accuracy across runs : \", np.mean(mean_accs))"
   ]
  },
  {
   "cell_type": "markdown",
   "metadata": {},
   "source": [
    "# DF EMP"
   ]
  },
  {
   "cell_type": "code",
   "execution_count": 69,
   "metadata": {},
   "outputs": [],
   "source": [
    "all_emp_paths = []\n",
    "for r in dhard_runs:\n",
    "    emp_path = os.path.join(dhard_base, r)\n",
    "    all_emp_paths.append(emp_path)\n",
    "    \n",
    "all_df_emps = []\n",
    "\n",
    "for p in all_emp_paths:\n",
    "    df_emp = pd.read_pickle(p)\n",
    "    all_df_emps.append(df_emp)\n"
   ]
  },
  {
   "cell_type": "code",
   "execution_count": 70,
   "metadata": {},
   "outputs": [],
   "source": [
    "all_emp_classes = []\n",
    "for i in range(len(all_df_emps)):\n",
    "    emp_classes = all_df_emps[i]['class'].unique().tolist()\n",
    "    all_emp_classes.append(emp_classes)"
   ]
  },
  {
   "cell_type": "code",
   "execution_count": 71,
   "metadata": {},
   "outputs": [],
   "source": [
    "all_acc_diffs = []\n",
    "for i in range(len(all_emp_classes)):\n",
    "    col_name = f\"accuracy_{i}\"\n",
    "    col_diff = df_aug[df_aug['class'].isin(all_emp_classes[i])][col_name] - df_base[df_base['class'].isin(all_emp_classes[i])][col_name]\n",
    "    col_diff_sum = col_diff.sum()\n",
    "    all_acc_diffs.append(col_diff_sum)\n",
    "\n"
   ]
  },
  {
   "cell_type": "code",
   "execution_count": 72,
   "metadata": {},
   "outputs": [
    {
     "data": {
      "text/plain": [
       "3.8222223917643228"
      ]
     },
     "execution_count": 72,
     "metadata": {},
     "output_type": "execute_result"
    }
   ],
   "source": [
    "sum(all_acc_diffs) / 9"
   ]
  },
  {
   "cell_type": "code",
   "execution_count": 73,
   "metadata": {},
   "outputs": [
    {
     "data": {
      "text/html": [
       "<div>\n",
       "<style scoped>\n",
       "    .dataframe tbody tr th:only-of-type {\n",
       "        vertical-align: middle;\n",
       "    }\n",
       "\n",
       "    .dataframe tbody tr th {\n",
       "        vertical-align: top;\n",
       "    }\n",
       "\n",
       "    .dataframe thead th {\n",
       "        text-align: right;\n",
       "    }\n",
       "</style>\n",
       "<table border=\"1\" class=\"dataframe\">\n",
       "  <thead>\n",
       "    <tr style=\"text-align: right;\">\n",
       "      <th></th>\n",
       "      <th>class</th>\n",
       "      <th>label</th>\n",
       "      <th>accuracy_0</th>\n",
       "    </tr>\n",
       "  </thead>\n",
       "  <tbody>\n",
       "    <tr>\n",
       "      <th>ceviche/42489.jpg</th>\n",
       "      <td>Ceviche</td>\n",
       "      <td>15</td>\n",
       "      <td>76.400002</td>\n",
       "    </tr>\n",
       "    <tr>\n",
       "      <th>huevos_rancheros/883821.jpg</th>\n",
       "      <td>Huevos rancheros</td>\n",
       "      <td>56</td>\n",
       "      <td>78.800003</td>\n",
       "    </tr>\n",
       "    <tr>\n",
       "      <th>garlic_bread/2981508.jpg</th>\n",
       "      <td>Garlic bread</td>\n",
       "      <td>46</td>\n",
       "      <td>83.200005</td>\n",
       "    </tr>\n",
       "    <tr>\n",
       "      <th>apple_pie/1272958.jpg</th>\n",
       "      <td>Apple pie</td>\n",
       "      <td>0</td>\n",
       "      <td>71.200005</td>\n",
       "    </tr>\n",
       "    <tr>\n",
       "      <th>filet_mignon/2325804.jpg</th>\n",
       "      <td>Filet mignon</td>\n",
       "      <td>37</td>\n",
       "      <td>82.000000</td>\n",
       "    </tr>\n",
       "    <tr>\n",
       "      <th>chocolate_mousse/612385.jpg</th>\n",
       "      <td>Chocolate mousse</td>\n",
       "      <td>22</td>\n",
       "      <td>80.000000</td>\n",
       "    </tr>\n",
       "    <tr>\n",
       "      <th>crab_cakes/943630.jpg</th>\n",
       "      <td>Crab cakes</td>\n",
       "      <td>26</td>\n",
       "      <td>83.599998</td>\n",
       "    </tr>\n",
       "    <tr>\n",
       "      <th>lasagna/207825.jpg</th>\n",
       "      <td>Lasagna</td>\n",
       "      <td>59</td>\n",
       "      <td>82.000000</td>\n",
       "    </tr>\n",
       "    <tr>\n",
       "      <th>cheesecake/2574796.jpg</th>\n",
       "      <td>Cheesecake</td>\n",
       "      <td>16</td>\n",
       "      <td>79.599998</td>\n",
       "    </tr>\n",
       "  </tbody>\n",
       "</table>\n",
       "</div>"
      ],
      "text/plain": [
       "                                        class  label  accuracy_0\n",
       "ceviche/42489.jpg                     Ceviche     15   76.400002\n",
       "huevos_rancheros/883821.jpg  Huevos rancheros     56   78.800003\n",
       "garlic_bread/2981508.jpg         Garlic bread     46   83.200005\n",
       "apple_pie/1272958.jpg               Apple pie      0   71.200005\n",
       "filet_mignon/2325804.jpg         Filet mignon     37   82.000000\n",
       "chocolate_mousse/612385.jpg  Chocolate mousse     22   80.000000\n",
       "crab_cakes/943630.jpg              Crab cakes     26   83.599998\n",
       "lasagna/207825.jpg                    Lasagna     59   82.000000\n",
       "cheesecake/2574796.jpg             Cheesecake     16   79.599998"
      ]
     },
     "execution_count": 73,
     "metadata": {},
     "output_type": "execute_result"
    }
   ],
   "source": [
    "df_aug[df_aug['class'].isin(all_emp_classes[0])]"
   ]
  },
  {
   "cell_type": "code",
   "execution_count": 74,
   "metadata": {},
   "outputs": [
    {
     "data": {
      "text/plain": [
       "ceviche/42489.jpg              0.400002\n",
       "huevos_rancheros/883821.jpg    2.800003\n",
       "garlic_bread/2981508.jpg       5.200005\n",
       "apple_pie/1272958.jpg          4.800003\n",
       "filet_mignon/2325804.jpg       8.000000\n",
       "chocolate_mousse/612385.jpg    3.599998\n",
       "crab_cakes/943630.jpg          2.799995\n",
       "lasagna/207825.jpg             2.000000\n",
       "cheesecake/2574796.jpg         4.799995\n",
       "Name: accuracy_0, dtype: float64"
      ]
     },
     "execution_count": 74,
     "metadata": {},
     "output_type": "execute_result"
    }
   ],
   "source": [
    "df_aug[df_aug['class'].isin(all_emp_classes[0])]['accuracy_0'] - df_base[df_base['class'].isin(all_emp_classes[0])]['accuracy_0']"
   ]
  },
  {
   "cell_type": "code",
   "execution_count": 76,
   "metadata": {},
   "outputs": [
    {
     "data": {
      "text/plain": [
       "[34.400001525878906]"
      ]
     },
     "execution_count": 76,
     "metadata": {},
     "output_type": "execute_result"
    }
   ],
   "source": [
    "all_acc_diffs"
   ]
  },
  {
   "cell_type": "code",
   "execution_count": 77,
   "metadata": {},
   "outputs": [
    {
     "data": {
      "text/plain": [
       "3.8222223917643228"
      ]
     },
     "execution_count": 77,
     "metadata": {},
     "output_type": "execute_result"
    }
   ],
   "source": [
    "(sum(all_acc_diffs) / 9)"
   ]
  },
  {
   "cell_type": "code",
   "execution_count": null,
   "metadata": {},
   "outputs": [],
   "source": []
  },
  {
   "cell_type": "code",
   "execution_count": null,
   "metadata": {},
   "outputs": [],
   "source": []
  },
  {
   "cell_type": "code",
   "execution_count": null,
   "metadata": {},
   "outputs": [],
   "source": []
  },
  {
   "cell_type": "code",
   "execution_count": null,
   "metadata": {},
   "outputs": [],
   "source": []
  },
  {
   "cell_type": "code",
   "execution_count": null,
   "metadata": {},
   "outputs": [],
   "source": []
  },
  {
   "cell_type": "code",
   "execution_count": null,
   "metadata": {},
   "outputs": [],
   "source": []
  },
  {
   "cell_type": "code",
   "execution_count": null,
   "metadata": {},
   "outputs": [],
   "source": []
  },
  {
   "cell_type": "code",
   "execution_count": null,
   "metadata": {},
   "outputs": [],
   "source": []
  },
  {
   "cell_type": "code",
   "execution_count": null,
   "metadata": {},
   "outputs": [],
   "source": []
  },
  {
   "cell_type": "markdown",
   "metadata": {},
   "source": [
    "# Unicom retrievals"
   ]
  },
  {
   "cell_type": "code",
   "execution_count": 24,
   "metadata": {},
   "outputs": [],
   "source": [
    "df_uni = pd.read_pickle(\"/bigstor/zsarwar/Enola_Augmented/MT_food101_full_101_f739c19e1aeeaea18c60b1bf802b05db/Unicom/df_uecfood256_full_5380bfbd4407e03050ed26afbb98e440_74d7170cc8af0b8340d0290b43517cd1_58c5118d18fa07649b578fd9744876b2.pkl\")"
   ]
  },
  {
   "cell_type": "markdown",
   "metadata": {},
   "source": [
    "# Visualize DHard vs D_Retrieved"
   ]
  },
  {
   "cell_type": "code",
   "execution_count": 53,
   "metadata": {},
   "outputs": [],
   "source": [
    "df_uni = pd.read_pickle(\"/bigstor/zsarwar/Enola_Augmented/MT_food101_full_101_f739c19e1aeeaea18c60b1bf802b05db/Unicom/df_uecfood256_full_5380bfbd4407e03050ed26afbb98e440_74d7170cc8af0b8340d0290b43517cd1_58c5118d18fa07649b578fd9744876b2.pkl\")"
   ]
  },
  {
   "cell_type": "code",
   "execution_count": null,
   "metadata": {},
   "outputs": [],
   "source": []
  },
  {
   "cell_type": "code",
   "execution_count": 3,
   "metadata": {},
   "outputs": [],
   "source": [
    "#Augmented Labels\n",
    "df_dhard = pd.read_pickle(\"/bigstor/zsarwar/Enola_Augmented/MT_food101_full_101_f739c19e1aeeaea18c60b1bf802b05db/Datasets/df_food101_val_test_empirical_35d052c2a3ff5225c6d663d84afbb33c.pkl\")\n",
    "#df_labels = df_labels.drop_duplicates('label')\n",
    "dhard_labels = df_dhard['label'].unique().tolist()"
   ]
  },
  {
   "cell_type": "code",
   "execution_count": 4,
   "metadata": {},
   "outputs": [
    {
     "data": {
      "text/plain": [
       "'/bigstor/common_data/food_101/food-101/images/apple_pie/229142.jpg'"
      ]
     },
     "execution_count": 4,
     "metadata": {},
     "output_type": "execute_result"
    }
   ],
   "source": [
    "df_dhard[df_dhard['class'] == 'Apple pie']['img_path'][1]"
   ]
  },
  {
   "cell_type": "code",
   "execution_count": null,
   "metadata": {},
   "outputs": [],
   "source": [
    "all_images = df_dhard[df_dhard['label'] == dhard_labels[7]]['img_path'].tolist()\n",
    "# Visualize samples\n",
    "for i, im_path in enumerate(all_images[0:50]):\n",
    "    img = mpimg.imread(im_path)\n",
    "    plt.axis('off')\n",
    "    imgplot = plt.imshow(img)\n",
    "    plt.figure()\n",
    "    plt.clf()"
   ]
  },
  {
   "cell_type": "code",
   "execution_count": 10,
   "metadata": {},
   "outputs": [],
   "source": [
    "# DF_Retrieved\n",
    "#Augmented Labels\n",
    "df_augmented = pd.read_pickle(\"/bigstor/zsarwar/Enola_Augmented/MT_food101_full_101_f739c19e1aeeaea18c60b1bf802b05db/Unicom/df_uecfood256_full_5380bfbd4407e03050ed26afbb98e440_74d7170cc8af0b8340d0290b43517cd1_58c5118d18fa07649b578fd9744876b2.pkl\")\n",
    "#df_labels = df_labels.drop_duplicates('label')\n",
    "augmented_labels = df_augmented['label'].unique().tolist()"
   ]
  },
  {
   "cell_type": "code",
   "execution_count": null,
   "metadata": {},
   "outputs": [],
   "source": [
    "all_images = df_augmented[df_augmented['label'] == dhard_labels[7]]['img_path'].tolist()\n",
    "# Visualize samples\n",
    "for i, im_path in enumerate(all_images[0:50]):\n",
    "    img = mpimg.imread(im_path)\n",
    "    plt.axis('off')\n",
    "    imgplot = plt.imshow(img)\n",
    "    plt.figure()\n",
    "    plt.clf()"
   ]
  },
  {
   "cell_type": "code",
   "execution_count": null,
   "metadata": {},
   "outputs": [],
   "source": []
  }
 ],
 "metadata": {
  "kernelspec": {
   "display_name": "ffcv_2",
   "language": "python",
   "name": "python3"
  },
  "language_info": {
   "codemirror_mode": {
    "name": "ipython",
    "version": 3
   },
   "file_extension": ".py",
   "mimetype": "text/x-python",
   "name": "python",
   "nbconvert_exporter": "python",
   "pygments_lexer": "ipython3",
   "version": "3.9.16"
  }
 },
 "nbformat": 4,
 "nbformat_minor": 2
}

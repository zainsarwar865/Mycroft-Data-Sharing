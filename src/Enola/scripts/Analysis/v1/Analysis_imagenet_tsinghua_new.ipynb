{
 "cells": [
  {
   "cell_type": "code",
   "execution_count": 1,
   "metadata": {},
   "outputs": [],
   "source": [
    "import pickle\n",
    "import pandas as pd\n",
    "import numpy as np\n",
    "import os\n",
    "import matplotlib.pyplot as plt\n",
    "import matplotlib.image as mpimg\n"
   ]
  },
  {
   "cell_type": "code",
   "execution_count": 2,
   "metadata": {},
   "outputs": [],
   "source": [
    "pd.options.display.max_rows = 999"
   ]
  },
  {
   "cell_type": "markdown",
   "metadata": {},
   "source": [
    "# UNICOM"
   ]
  },
  {
   "cell_type": "markdown",
   "metadata": {},
   "source": [
    "# Baseline runs"
   ]
  },
  {
   "cell_type": "code",
   "execution_count": 3,
   "metadata": {},
   "outputs": [],
   "source": [
    "base_dir = \"/bigstor/zsarwar/Enola_Augmented/MT_Imagenet_dogs_120_44494fed02dee22a95cced5d0322a3ed\"\n",
    "\n",
    "runs = [\n",
    "    \"MT_Baseline_76377e19d043d48e2d19b5b9504f33f2/Metrics\"\n",
    "]\n",
    "\n",
    "\n",
    "stats_filename = \"agg_class_stats.pkl\"\n",
    "\n",
    "dhard_base = \"/bigstor/zsarwar/Enola_Augmented/MT_Imagenet_dogs_120_44494fed02dee22a95cced5d0322a3ed/Datasets\"\n",
    "\n",
    "dhard_runs = [\n",
    "        \"df_imagenet_dogs_val_test_empirical_76377e19d043d48e2d19b5b9504f33f2.pkl\"\n",
    "]\n",
    "\n",
    "# Load labels\n",
    "val_path = \"/bigstor/zsarwar/Imagenet/DF/df_imagenet_dogs_val.pkl\"\n",
    "df_val = pd.read_pickle(val_path)"
   ]
  },
  {
   "cell_type": "code",
   "execution_count": 4,
   "metadata": {},
   "outputs": [],
   "source": [
    "all_stats_paths = []\n",
    "for r in runs:\n",
    "    stats_path = os.path.join(base_dir, r, stats_filename)\n",
    "    all_stats_paths.append(stats_path)\n",
    "    \n",
    "\n",
    "all_stats_acc = []\n",
    "for path in all_stats_paths:\n",
    "    stats = pd.read_pickle(path)\n",
    "    all_stats_acc.append(stats['accuracy'])\n"
   ]
  },
  {
   "cell_type": "code",
   "execution_count": 5,
   "metadata": {},
   "outputs": [],
   "source": [
    "df_val = df_val.drop_duplicates('label')\n",
    "df_val_classes = df_val[['class', 'label']]\n",
    "\n",
    "label_list = list(df_val_classes['label'])\n",
    "\n",
    "all_acc_list = []\n",
    "for i in range(len(all_stats_acc)):\n",
    "    accuracy_list = [all_stats_acc[i][cl] for cl in label_list]\n",
    "    all_acc_list.append(accuracy_list)\n",
    "\n",
    "for i in range(len(all_acc_list)):\n",
    "    col_name = f\"accuracy_{i}\"\n",
    "    df_val_classes.insert(2, col_name, all_acc_list[i], True)   "
   ]
  },
  {
   "cell_type": "code",
   "execution_count": 6,
   "metadata": {},
   "outputs": [
    {
     "name": "stdout",
     "output_type": "stream",
     "text": [
      "Accruracy for each run :  [83.0]\n",
      "Mean accuracy across runs :  83.0\n"
     ]
    }
   ],
   "source": [
    "df_base = df_val_classes.copy()\n",
    "\n",
    "cols = [f\"accuracy_{i}\" for i in range(len(all_acc_list))]\n",
    "df_base['accuracy_0'].mean()\n",
    "mean_accs = []\n",
    "for c in cols:\n",
    "    t_acc = df_base[c].mean()\n",
    "    mean_accs.append(t_acc)\n",
    "print(\"Accruracy for each run : \", mean_accs)\n",
    "mean_accs = np.asarray(mean_accs)\n",
    "print(\"Mean accuracy across runs : \", np.mean(mean_accs))"
   ]
  },
  {
   "cell_type": "code",
   "execution_count": null,
   "metadata": {},
   "outputs": [],
   "source": []
  },
  {
   "cell_type": "markdown",
   "metadata": {},
   "source": [
    "# Augmented runs"
   ]
  },
  {
   "cell_type": "code",
   "execution_count": 11,
   "metadata": {},
   "outputs": [],
   "source": [
    "base_dir = \"/bigstor/zsarwar/Enola_Augmented/MT_Imagenet_dogs_120_44494fed02dee22a95cced5d0322a3ed\"\n",
    "\n",
    "runs = [\n",
    "    \"MT_Augmented_34acdb0d0be8a6a8a552dcb5f5964569/Metrics\"\n",
    " ]\n",
    "\n",
    "\n",
    "stats_filename = \"agg_class_stats.pkl\"\n",
    "\n",
    "# Load labels\n",
    "val_path = \"/bigstor/zsarwar/Imagenet/DF/df_imagenet_dogs_val.pkl\"\n",
    "#val_path = \"/bigstor/common_data/food_101/DF/df_food101_val.pkl\"\n",
    "df_val = pd.read_pickle(val_path)"
   ]
  },
  {
   "cell_type": "code",
   "execution_count": 12,
   "metadata": {},
   "outputs": [],
   "source": [
    "all_stats_paths = []\n",
    "for r in runs:\n",
    "    stats_path = os.path.join(base_dir, r, stats_filename)\n",
    "    all_stats_paths.append(stats_path)\n",
    "    \n",
    "all_stats_acc = []\n",
    "for path in all_stats_paths:\n",
    "    stats = pd.read_pickle(path)\n",
    "    all_stats_acc.append(stats['accuracy'])\n"
   ]
  },
  {
   "cell_type": "code",
   "execution_count": 13,
   "metadata": {},
   "outputs": [],
   "source": [
    "df_val = df_val.drop_duplicates('label')\n",
    "df_val_classes = df_val[['class', 'label']]\n",
    "\n",
    "label_list = list(df_val_classes['label'])\n",
    "\n",
    "all_acc_list = []\n",
    "for i in range(len(all_stats_acc)):\n",
    "    accuracy_list = [all_stats_acc[i][cl] for cl in label_list]\n",
    "    all_acc_list.append(accuracy_list)\n",
    "\n",
    "for i in range(len(all_acc_list)):\n",
    "    col_name = f\"accuracy_{i}\"\n",
    "    df_val_classes.insert(2, col_name, all_acc_list[i], True)   \n",
    "#df_val_classes.insert(2, \"accuracy\", accuracy_list, True)"
   ]
  },
  {
   "cell_type": "code",
   "execution_count": 14,
   "metadata": {},
   "outputs": [
    {
     "name": "stdout",
     "output_type": "stream",
     "text": [
      "Accruracy for each run :  [82.9]\n",
      "Mean accuracy across runs :  82.9\n"
     ]
    }
   ],
   "source": [
    "df_aug = df_val_classes.copy()\n",
    "\n",
    "cols = [f\"accuracy_{i}\" for i in range(len(all_acc_list))]\n",
    "df_aug['accuracy_0'].mean()\n",
    "mean_accs = []\n",
    "for c in cols:\n",
    "    t_acc = df_aug[c].mean()\n",
    "    mean_accs.append(t_acc)\n",
    "print(\"Accruracy for each run : \", mean_accs)\n",
    "mean_accs = np.asarray(mean_accs)\n",
    "print(\"Mean accuracy across runs : \", np.mean(mean_accs))"
   ]
  },
  {
   "cell_type": "code",
   "execution_count": 15,
   "metadata": {},
   "outputs": [
    {
     "data": {
      "text/plain": [
       "[82.96666666666667, 82.7, 83.0]"
      ]
     },
     "execution_count": 15,
     "metadata": {},
     "output_type": "execute_result"
    }
   ],
   "source": [
    "[82.96666666666667, 82.7, 83.0]"
   ]
  },
  {
   "cell_type": "markdown",
   "metadata": {},
   "source": [
    "# DF EMP"
   ]
  },
  {
   "cell_type": "code",
   "execution_count": 16,
   "metadata": {},
   "outputs": [],
   "source": [
    "all_emp_paths = []\n",
    "for r in dhard_runs:\n",
    "    emp_path = os.path.join(dhard_base, r)\n",
    "    all_emp_paths.append(emp_path)\n",
    "    \n",
    "all_df_emps = []\n",
    "\n",
    "for p in all_emp_paths:\n",
    "    df_emp = pd.read_pickle(p)\n",
    "    all_df_emps.append(df_emp)\n"
   ]
  },
  {
   "cell_type": "code",
   "execution_count": 17,
   "metadata": {},
   "outputs": [],
   "source": [
    "all_emp_classes = []\n",
    "for i in range(len(all_df_emps)):\n",
    "    emp_classes = all_df_emps[i]['class'].unique().tolist()\n",
    "    all_emp_classes.append(emp_classes)"
   ]
  },
  {
   "cell_type": "code",
   "execution_count": 18,
   "metadata": {},
   "outputs": [],
   "source": [
    "all_acc_diffs = []\n",
    "for i in range(len(all_emp_classes)):\n",
    "    col_name = f\"accuracy_{i}\"\n",
    "    col_diff = df_aug[df_aug['class'].isin(all_emp_classes[i])][col_name] - df_base[df_base['class'].isin(all_emp_classes[i])][col_name]\n",
    "    col_diff_sum = col_diff.sum()\n",
    "    all_acc_diffs.append(col_diff_sum)\n",
    "\n"
   ]
  },
  {
   "cell_type": "code",
   "execution_count": 19,
   "metadata": {},
   "outputs": [
    {
     "data": {
      "text/plain": [
       "[26.0]"
      ]
     },
     "execution_count": 19,
     "metadata": {},
     "output_type": "execute_result"
    }
   ],
   "source": [
    "all_acc_diffs"
   ]
  },
  {
   "cell_type": "code",
   "execution_count": 20,
   "metadata": {},
   "outputs": [
    {
     "data": {
      "text/plain": [
       "index\n",
       "ILSVRC2012_val_00000028.JPEG    2.0\n",
       "ILSVRC2012_val_00000079.JPEG    8.0\n",
       "ILSVRC2012_val_00000141.JPEG   -2.0\n",
       "ILSVRC2012_val_00000147.JPEG   -4.0\n",
       "ILSVRC2012_val_00000170.JPEG    8.0\n",
       "ILSVRC2012_val_00000178.JPEG    2.0\n",
       "ILSVRC2012_val_00000191.JPEG    8.0\n",
       "ILSVRC2012_val_00000269.JPEG   -2.0\n",
       "ILSVRC2012_val_00000327.JPEG   -6.0\n",
       "ILSVRC2012_val_00000507.JPEG    4.0\n",
       "ILSVRC2012_val_00000531.JPEG    4.0\n",
       "ILSVRC2012_val_00000539.JPEG   -2.0\n",
       "ILSVRC2012_val_00000594.JPEG    2.0\n",
       "ILSVRC2012_val_00000802.JPEG    0.0\n",
       "ILSVRC2012_val_00000867.JPEG   -4.0\n",
       "ILSVRC2012_val_00000997.JPEG    4.0\n",
       "ILSVRC2012_val_00001049.JPEG   -2.0\n",
       "ILSVRC2012_val_00001564.JPEG    6.0\n",
       "ILSVRC2012_val_00003480.JPEG    0.0\n",
       "ILSVRC2012_val_00004938.JPEG    0.0\n",
       "Name: accuracy_0, dtype: float64"
      ]
     },
     "execution_count": 20,
     "metadata": {},
     "output_type": "execute_result"
    }
   ],
   "source": [
    "df_aug[df_aug['class'].isin(all_emp_classes[0])]['accuracy_0'] - df_base[df_base['class'].isin(all_emp_classes[0])]['accuracy_0'] "
   ]
  },
  {
   "cell_type": "code",
   "execution_count": 21,
   "metadata": {},
   "outputs": [
    {
     "data": {
      "text/plain": [
       "1.3"
      ]
     },
     "execution_count": 21,
     "metadata": {},
     "output_type": "execute_result"
    }
   ],
   "source": [
    "sum(all_acc_diffs) / 20"
   ]
  },
  {
   "cell_type": "code",
   "execution_count": null,
   "metadata": {},
   "outputs": [],
   "source": []
  },
  {
   "cell_type": "code",
   "execution_count": null,
   "metadata": {},
   "outputs": [],
   "source": []
  },
  {
   "cell_type": "code",
   "execution_count": null,
   "metadata": {},
   "outputs": [],
   "source": []
  },
  {
   "cell_type": "code",
   "execution_count": null,
   "metadata": {},
   "outputs": [],
   "source": []
  },
  {
   "cell_type": "code",
   "execution_count": null,
   "metadata": {},
   "outputs": [],
   "source": []
  },
  {
   "cell_type": "markdown",
   "metadata": {},
   "source": [
    "# GradMatch"
   ]
  },
  {
   "cell_type": "code",
   "execution_count": 3,
   "metadata": {},
   "outputs": [],
   "source": [
    "base_dir = \"/bigstor/zsarwar/Enola_Augmented/MT_Imagenet_dogs_120_44494fed02dee22a95cced5d0322a3ed\"\n",
    "\n",
    "runs = [\n",
    "    #\"MT_Baseline_e4056f29d46b7c1ef1514938a657cc59/Metrics\",\n",
    "    #\"MT_Baseline_3ebd8718d5412a08b199a998233703e3/Metrics\",\n",
    "    \"MT_Baseline_76377e19d043d48e2d19b5b9504f33f2/Metrics\"\n",
    "]\n",
    "\n",
    "stats_filename = \"agg_class_stats.pkl\"\n",
    "\n",
    "dhard_base = \"/bigstor/zsarwar/Enola_Augmented/MT_Imagenet_dogs_120_44494fed02dee22a95cced5d0322a3ed/GradMatch\"\n",
    "\n",
    "dhard_runs = [\n",
    "        \"\"\n",
    "        \"df_Tsinghua_dogs_1707ca43a9ed0f95bee2a13e46fd0b4b_1f099d8b59f8a8e8b174ebf0d2e1d3ae_a61f65d07a710a7a3198666a1633db6d.pkl\",\n",
    "\n",
    "]\n",
    "\n",
    "# Load labels\n",
    "val_path = \"/bigstor/zsarwar/Imagenet/DF/df_imagenet_dogs_val.pkl\"\n",
    "df_val = pd.read_pickle(val_path)"
   ]
  },
  {
   "cell_type": "code",
   "execution_count": 4,
   "metadata": {},
   "outputs": [],
   "source": [
    "all_stats_paths = []\n",
    "for r in runs:\n",
    "    stats_path = os.path.join(base_dir, r, stats_filename)\n",
    "    all_stats_paths.append(stats_path)\n",
    "    \n",
    "\n",
    "all_stats_acc = []\n",
    "for path in all_stats_paths:\n",
    "    stats = pd.read_pickle(path)\n",
    "    all_stats_acc.append(stats['accuracy'])\n"
   ]
  },
  {
   "cell_type": "code",
   "execution_count": 5,
   "metadata": {},
   "outputs": [],
   "source": [
    "df_val = df_val.drop_duplicates('label')\n",
    "df_val_classes = df_val[['class', 'label']]\n",
    "\n",
    "label_list = list(df_val_classes['label'])\n",
    "\n",
    "all_acc_list = []\n",
    "for i in range(len(all_stats_acc)):\n",
    "    accuracy_list = [all_stats_acc[i][cl] for cl in label_list]\n",
    "    all_acc_list.append(accuracy_list)\n",
    "\n",
    "for i in range(len(all_acc_list)):\n",
    "    col_name = f\"accuracy_{i}\"\n",
    "    df_val_classes.insert(2, col_name, all_acc_list[i], True)   "
   ]
  },
  {
   "cell_type": "code",
   "execution_count": 6,
   "metadata": {},
   "outputs": [
    {
     "name": "stdout",
     "output_type": "stream",
     "text": [
      "Accruracy for each run :  [83.0]\n",
      "Mean accuracy across runs :  83.0\n"
     ]
    }
   ],
   "source": [
    "df_base = df_val_classes.copy()\n",
    "\n",
    "cols = [f\"accuracy_{i}\" for i in range(len(all_acc_list))]\n",
    "df_base['accuracy_0'].mean()\n",
    "mean_accs = []\n",
    "for c in cols:\n",
    "    t_acc = df_base[c].mean()\n",
    "    mean_accs.append(t_acc)\n",
    "print(\"Accruracy for each run : \", mean_accs)\n",
    "mean_accs = np.asarray(mean_accs)\n",
    "print(\"Mean accuracy across runs : \", np.mean(mean_accs))"
   ]
  },
  {
   "cell_type": "code",
   "execution_count": null,
   "metadata": {},
   "outputs": [],
   "source": []
  },
  {
   "cell_type": "markdown",
   "metadata": {},
   "source": [
    "# Augmented runs"
   ]
  },
  {
   "cell_type": "code",
   "execution_count": 7,
   "metadata": {},
   "outputs": [],
   "source": [
    "base_dir = \"/bigstor/zsarwar/Enola_Augmented/MT_Imagenet_dogs_120_44494fed02dee22a95cced5d0322a3ed\"\n",
    "\n",
    "runs = [\n",
    "    \"MT_Augmented_be6f3644c526c739061567bf01c03f63/Metrics\",\n",
    "    \n",
    "]\n",
    "\n",
    "\n",
    "stats_filename = \"agg_class_stats.pkl\"\n",
    "\n",
    "# Load labels\n",
    "val_path = \"/bigstor/zsarwar/Imagenet/DF/df_imagenet_dogs_val.pkl\"\n",
    "#val_path = \"/bigstor/common_data/food_101/DF/df_food101_val.pkl\"\n",
    "df_val = pd.read_pickle(val_path)"
   ]
  },
  {
   "cell_type": "code",
   "execution_count": 8,
   "metadata": {},
   "outputs": [],
   "source": [
    "all_stats_paths = []\n",
    "for r in runs:\n",
    "    stats_path = os.path.join(base_dir, r, stats_filename)\n",
    "    all_stats_paths.append(stats_path)\n",
    "    \n",
    "all_stats_acc = []\n",
    "for path in all_stats_paths:\n",
    "    stats = pd.read_pickle(path)\n",
    "    all_stats_acc.append(stats['accuracy'])\n"
   ]
  },
  {
   "cell_type": "code",
   "execution_count": 9,
   "metadata": {},
   "outputs": [],
   "source": [
    "df_val = df_val.drop_duplicates('label')\n",
    "df_val_classes = df_val[['class', 'label']]\n",
    "\n",
    "label_list = list(df_val_classes['label'])\n",
    "\n",
    "all_acc_list = []\n",
    "for i in range(len(all_stats_acc)):\n",
    "    accuracy_list = [all_stats_acc[i][cl] for cl in label_list]\n",
    "    all_acc_list.append(accuracy_list)\n",
    "\n",
    "for i in range(len(all_acc_list)):\n",
    "    col_name = f\"accuracy_{i}\"\n",
    "    df_val_classes.insert(2, col_name, all_acc_list[i], True)   \n",
    "#df_val_classes.insert(2, \"accuracy\", accuracy_list, True)"
   ]
  },
  {
   "cell_type": "code",
   "execution_count": 10,
   "metadata": {},
   "outputs": [
    {
     "name": "stdout",
     "output_type": "stream",
     "text": [
      "Accruracy for each run :  [83.03333333333333]\n",
      "Mean accuracy across runs :  83.03333333333333\n"
     ]
    }
   ],
   "source": [
    "df_aug = df_val_classes.copy()\n",
    "\n",
    "cols = [f\"accuracy_{i}\" for i in range(len(all_acc_list))]\n",
    "df_aug['accuracy_0'].mean()\n",
    "mean_accs = []\n",
    "for c in cols:\n",
    "    t_acc = df_aug[c].mean()\n",
    "    mean_accs.append(t_acc)\n",
    "print(\"Accruracy for each run : \", mean_accs)\n",
    "mean_accs = np.asarray(mean_accs)\n",
    "print(\"Mean accuracy across runs : \", np.mean(mean_accs))"
   ]
  },
  {
   "cell_type": "code",
   "execution_count": null,
   "metadata": {},
   "outputs": [],
   "source": []
  },
  {
   "cell_type": "markdown",
   "metadata": {},
   "source": [
    "# DF EMP"
   ]
  },
  {
   "cell_type": "code",
   "execution_count": 11,
   "metadata": {},
   "outputs": [],
   "source": [
    "all_emp_paths = []\n",
    "for r in dhard_runs:\n",
    "    emp_path = os.path.join(dhard_base, r)\n",
    "    all_emp_paths.append(emp_path)\n",
    "    \n",
    "all_df_emps = []\n",
    "\n",
    "for p in all_emp_paths:\n",
    "    df_emp = pd.read_pickle(p)\n",
    "    all_df_emps.append(df_emp)\n"
   ]
  },
  {
   "cell_type": "code",
   "execution_count": 12,
   "metadata": {},
   "outputs": [],
   "source": [
    "all_emp_classes = []\n",
    "for i in range(len(all_df_emps)):\n",
    "    emp_classes = all_df_emps[i]['class'].unique().tolist()\n",
    "    all_emp_classes.append(emp_classes)"
   ]
  },
  {
   "cell_type": "code",
   "execution_count": 13,
   "metadata": {},
   "outputs": [],
   "source": [
    "all_acc_diffs = []\n",
    "for i in range(len(all_emp_classes)):\n",
    "    col_name = f\"accuracy_{i}\"\n",
    "    col_diff = df_aug[df_aug['class'].isin(all_emp_classes[i])][col_name] - df_base[df_base['class'].isin(all_emp_classes[i])][col_name]\n",
    "    col_diff_sum = col_diff.sum()\n",
    "    all_acc_diffs.append(col_diff_sum)\n",
    "\n"
   ]
  },
  {
   "cell_type": "code",
   "execution_count": 15,
   "metadata": {},
   "outputs": [
    {
     "data": {
      "text/plain": [
       "2.4"
      ]
     },
     "execution_count": 15,
     "metadata": {},
     "output_type": "execute_result"
    }
   ],
   "source": [
    "sum(all_acc_diffs)  / 20"
   ]
  },
  {
   "cell_type": "code",
   "execution_count": 16,
   "metadata": {},
   "outputs": [
    {
     "data": {
      "text/plain": [
       "[48.0]"
      ]
     },
     "execution_count": 16,
     "metadata": {},
     "output_type": "execute_result"
    }
   ],
   "source": [
    "all_acc_diffs"
   ]
  },
  {
   "cell_type": "code",
   "execution_count": 17,
   "metadata": {},
   "outputs": [
    {
     "data": {
      "text/plain": [
       "index\n",
       "ILSVRC2012_val_00000028.JPEG     2.0\n",
       "ILSVRC2012_val_00000079.JPEG     4.0\n",
       "ILSVRC2012_val_00000141.JPEG     0.0\n",
       "ILSVRC2012_val_00000147.JPEG     4.0\n",
       "ILSVRC2012_val_00000170.JPEG    12.0\n",
       "ILSVRC2012_val_00000178.JPEG     4.0\n",
       "ILSVRC2012_val_00000191.JPEG     4.0\n",
       "ILSVRC2012_val_00000269.JPEG     2.0\n",
       "ILSVRC2012_val_00000327.JPEG    -2.0\n",
       "ILSVRC2012_val_00000507.JPEG     2.0\n",
       "ILSVRC2012_val_00000531.JPEG     4.0\n",
       "ILSVRC2012_val_00000539.JPEG     2.0\n",
       "ILSVRC2012_val_00000594.JPEG     2.0\n",
       "ILSVRC2012_val_00000802.JPEG     6.0\n",
       "ILSVRC2012_val_00000867.JPEG    -6.0\n",
       "ILSVRC2012_val_00000997.JPEG     4.0\n",
       "ILSVRC2012_val_00001049.JPEG     8.0\n",
       "ILSVRC2012_val_00001564.JPEG     8.0\n",
       "ILSVRC2012_val_00003480.JPEG    -6.0\n",
       "ILSVRC2012_val_00004938.JPEG    -6.0\n",
       "Name: accuracy_0, dtype: float64"
      ]
     },
     "execution_count": 17,
     "metadata": {},
     "output_type": "execute_result"
    }
   ],
   "source": [
    "df_aug[df_aug['class'].isin(all_emp_classes[0])]['accuracy_0'] - df_base[df_base['class'].isin(all_emp_classes[0])]['accuracy_0'] "
   ]
  },
  {
   "cell_type": "code",
   "execution_count": null,
   "metadata": {},
   "outputs": [],
   "source": []
  },
  {
   "cell_type": "code",
   "execution_count": null,
   "metadata": {},
   "outputs": [],
   "source": []
  },
  {
   "cell_type": "code",
   "execution_count": null,
   "metadata": {},
   "outputs": [],
   "source": []
  },
  {
   "cell_type": "markdown",
   "metadata": {},
   "source": [
    "# Random"
   ]
  },
  {
   "cell_type": "markdown",
   "metadata": {},
   "source": [
    "# Baseline runs"
   ]
  },
  {
   "cell_type": "code",
   "execution_count": 22,
   "metadata": {},
   "outputs": [],
   "source": [
    "base_dir = \"/bigstor/zsarwar/Enola_Augmented/MT_Imagenet_dogs_120_44494fed02dee22a95cced5d0322a3ed\"\n",
    "\n",
    "runs = [\n",
    "    \"MT_Baseline_76377e19d043d48e2d19b5b9504f33f2/Metrics\"\n",
    "]\n",
    "\n",
    "\n",
    "stats_filename = \"agg_class_stats.pkl\"\n",
    "\n",
    "dhard_base = \"/bigstor/zsarwar/Enola_Augmented/MT_Imagenet_dogs_120_44494fed02dee22a95cced5d0322a3ed/Datasets\"\n",
    "\n",
    "dhard_runs = [\n",
    "        \"df_imagenet_dogs_val_test_empirical_76377e19d043d48e2d19b5b9504f33f2.pkl\"\n",
    "]\n",
    "\n",
    "# Load labels\n",
    "val_path = \"/bigstor/zsarwar/Imagenet/DF/df_imagenet_dogs_val.pkl\"\n",
    "df_val = pd.read_pickle(val_path)"
   ]
  },
  {
   "cell_type": "code",
   "execution_count": 23,
   "metadata": {},
   "outputs": [],
   "source": [
    "all_stats_paths = []\n",
    "for r in runs:\n",
    "    stats_path = os.path.join(base_dir, r, stats_filename)\n",
    "    all_stats_paths.append(stats_path)\n",
    "    \n",
    "\n",
    "all_stats_acc = []\n",
    "for path in all_stats_paths:\n",
    "    stats = pd.read_pickle(path)\n",
    "    all_stats_acc.append(stats['accuracy'])\n"
   ]
  },
  {
   "cell_type": "code",
   "execution_count": 24,
   "metadata": {},
   "outputs": [],
   "source": [
    "df_val = df_val.drop_duplicates('label')\n",
    "df_val_classes = df_val[['class', 'label']]\n",
    "\n",
    "label_list = list(df_val_classes['label'])\n",
    "\n",
    "all_acc_list = []\n",
    "for i in range(len(all_stats_acc)):\n",
    "    accuracy_list = [all_stats_acc[i][cl] for cl in label_list]\n",
    "    all_acc_list.append(accuracy_list)\n",
    "\n",
    "for i in range(len(all_acc_list)):\n",
    "    col_name = f\"accuracy_{i}\"\n",
    "    df_val_classes.insert(2, col_name, all_acc_list[i], True)   "
   ]
  },
  {
   "cell_type": "code",
   "execution_count": 25,
   "metadata": {},
   "outputs": [
    {
     "name": "stdout",
     "output_type": "stream",
     "text": [
      "Accruracy for each run :  [83.0]\n",
      "Mean accuracy across runs :  83.0\n"
     ]
    }
   ],
   "source": [
    "df_base = df_val_classes.copy()\n",
    "\n",
    "cols = [f\"accuracy_{i}\" for i in range(len(all_acc_list))]\n",
    "df_base['accuracy_0'].mean()\n",
    "mean_accs = []\n",
    "for c in cols:\n",
    "    t_acc = df_base[c].mean()\n",
    "    mean_accs.append(t_acc)\n",
    "print(\"Accruracy for each run : \", mean_accs)\n",
    "mean_accs = np.asarray(mean_accs)\n",
    "print(\"Mean accuracy across runs : \", np.mean(mean_accs))"
   ]
  },
  {
   "cell_type": "code",
   "execution_count": null,
   "metadata": {},
   "outputs": [],
   "source": []
  },
  {
   "cell_type": "markdown",
   "metadata": {},
   "source": [
    "# Augmented runs"
   ]
  },
  {
   "cell_type": "code",
   "execution_count": 26,
   "metadata": {},
   "outputs": [],
   "source": [
    "base_dir = \"/bigstor/zsarwar/Enola_Augmented/MT_Imagenet_dogs_120_44494fed02dee22a95cced5d0322a3ed\"\n",
    "\n",
    "runs = [\n",
    "    \"MT_Augmented_ecd1a94febe4d8807e810e9e43b9ad7b/Metrics\"\n",
    " ]\n",
    "\n",
    "\n",
    "stats_filename = \"agg_class_stats.pkl\"\n",
    "\n",
    "# Load labels\n",
    "val_path = \"/bigstor/zsarwar/Imagenet/DF/df_imagenet_dogs_val.pkl\"\n",
    "#val_path = \"/bigstor/common_data/food_101/DF/df_food101_val.pkl\"\n",
    "df_val = pd.read_pickle(val_path)"
   ]
  },
  {
   "cell_type": "code",
   "execution_count": 27,
   "metadata": {},
   "outputs": [],
   "source": [
    "all_stats_paths = []\n",
    "for r in runs:\n",
    "    stats_path = os.path.join(base_dir, r, stats_filename)\n",
    "    all_stats_paths.append(stats_path)\n",
    "    \n",
    "all_stats_acc = []\n",
    "for path in all_stats_paths:\n",
    "    stats = pd.read_pickle(path)\n",
    "    all_stats_acc.append(stats['accuracy'])\n"
   ]
  },
  {
   "cell_type": "code",
   "execution_count": 28,
   "metadata": {},
   "outputs": [],
   "source": [
    "df_val = df_val.drop_duplicates('label')\n",
    "df_val_classes = df_val[['class', 'label']]\n",
    "\n",
    "label_list = list(df_val_classes['label'])\n",
    "\n",
    "all_acc_list = []\n",
    "for i in range(len(all_stats_acc)):\n",
    "    accuracy_list = [all_stats_acc[i][cl] for cl in label_list]\n",
    "    all_acc_list.append(accuracy_list)\n",
    "\n",
    "for i in range(len(all_acc_list)):\n",
    "    col_name = f\"accuracy_{i}\"\n",
    "    df_val_classes.insert(2, col_name, all_acc_list[i], True)   \n",
    "#df_val_classes.insert(2, \"accuracy\", accuracy_list, True)"
   ]
  },
  {
   "cell_type": "code",
   "execution_count": 29,
   "metadata": {},
   "outputs": [
    {
     "name": "stdout",
     "output_type": "stream",
     "text": [
      "Accruracy for each run :  [82.78333333333333]\n",
      "Mean accuracy across runs :  82.78333333333333\n"
     ]
    }
   ],
   "source": [
    "df_aug = df_val_classes.copy()\n",
    "\n",
    "cols = [f\"accuracy_{i}\" for i in range(len(all_acc_list))]\n",
    "df_aug['accuracy_0'].mean()\n",
    "mean_accs = []\n",
    "for c in cols:\n",
    "    t_acc = df_aug[c].mean()\n",
    "    mean_accs.append(t_acc)\n",
    "print(\"Accruracy for each run : \", mean_accs)\n",
    "mean_accs = np.asarray(mean_accs)\n",
    "print(\"Mean accuracy across runs : \", np.mean(mean_accs))"
   ]
  },
  {
   "cell_type": "code",
   "execution_count": 30,
   "metadata": {},
   "outputs": [
    {
     "data": {
      "text/plain": [
       "[82.96666666666667, 82.7, 83.0]"
      ]
     },
     "execution_count": 30,
     "metadata": {},
     "output_type": "execute_result"
    }
   ],
   "source": [
    "[82.96666666666667, 82.7, 83.0]"
   ]
  },
  {
   "cell_type": "markdown",
   "metadata": {},
   "source": [
    "# DF EMP"
   ]
  },
  {
   "cell_type": "code",
   "execution_count": 31,
   "metadata": {},
   "outputs": [],
   "source": [
    "all_emp_paths = []\n",
    "for r in dhard_runs:\n",
    "    emp_path = os.path.join(dhard_base, r)\n",
    "    all_emp_paths.append(emp_path)\n",
    "    \n",
    "all_df_emps = []\n",
    "\n",
    "for p in all_emp_paths:\n",
    "    df_emp = pd.read_pickle(p)\n",
    "    all_df_emps.append(df_emp)\n"
   ]
  },
  {
   "cell_type": "code",
   "execution_count": 32,
   "metadata": {},
   "outputs": [],
   "source": [
    "all_emp_classes = []\n",
    "for i in range(len(all_df_emps)):\n",
    "    emp_classes = all_df_emps[i]['class'].unique().tolist()\n",
    "    all_emp_classes.append(emp_classes)"
   ]
  },
  {
   "cell_type": "code",
   "execution_count": 33,
   "metadata": {},
   "outputs": [],
   "source": [
    "all_acc_diffs = []\n",
    "for i in range(len(all_emp_classes)):\n",
    "    col_name = f\"accuracy_{i}\"\n",
    "    col_diff = df_aug[df_aug['class'].isin(all_emp_classes[i])][col_name] - df_base[df_base['class'].isin(all_emp_classes[i])][col_name]\n",
    "    col_diff_sum = col_diff.sum()\n",
    "    all_acc_diffs.append(col_diff_sum)\n",
    "\n"
   ]
  },
  {
   "cell_type": "code",
   "execution_count": 34,
   "metadata": {},
   "outputs": [
    {
     "data": {
      "text/plain": [
       "[18.0]"
      ]
     },
     "execution_count": 34,
     "metadata": {},
     "output_type": "execute_result"
    }
   ],
   "source": [
    "all_acc_diffs"
   ]
  },
  {
   "cell_type": "code",
   "execution_count": 36,
   "metadata": {},
   "outputs": [
    {
     "data": {
      "text/plain": [
       "index\n",
       "ILSVRC2012_val_00000028.JPEG    0.0\n",
       "ILSVRC2012_val_00000079.JPEG    8.0\n",
       "ILSVRC2012_val_00000141.JPEG   -2.0\n",
       "ILSVRC2012_val_00000147.JPEG   -2.0\n",
       "ILSVRC2012_val_00000170.JPEG    8.0\n",
       "ILSVRC2012_val_00000178.JPEG   -4.0\n",
       "ILSVRC2012_val_00000191.JPEG    4.0\n",
       "ILSVRC2012_val_00000269.JPEG   -2.0\n",
       "ILSVRC2012_val_00000327.JPEG    0.0\n",
       "ILSVRC2012_val_00000507.JPEG    2.0\n",
       "ILSVRC2012_val_00000531.JPEG    0.0\n",
       "ILSVRC2012_val_00000539.JPEG    4.0\n",
       "ILSVRC2012_val_00000594.JPEG    0.0\n",
       "ILSVRC2012_val_00000802.JPEG    0.0\n",
       "ILSVRC2012_val_00000867.JPEG   -2.0\n",
       "ILSVRC2012_val_00000997.JPEG    0.0\n",
       "ILSVRC2012_val_00001049.JPEG    2.0\n",
       "ILSVRC2012_val_00001564.JPEG    4.0\n",
       "ILSVRC2012_val_00003480.JPEG    0.0\n",
       "ILSVRC2012_val_00004938.JPEG   -2.0\n",
       "Name: accuracy_0, dtype: float64"
      ]
     },
     "execution_count": 36,
     "metadata": {},
     "output_type": "execute_result"
    }
   ],
   "source": [
    "df_aug[df_aug['class'].isin(all_emp_classes[0])]['accuracy_0'] - df_base[df_base['class'].isin(all_emp_classes[0])]['accuracy_0'] "
   ]
  },
  {
   "cell_type": "code",
   "execution_count": 37,
   "metadata": {},
   "outputs": [
    {
     "data": {
      "text/plain": [
       "0.9"
      ]
     },
     "execution_count": 37,
     "metadata": {},
     "output_type": "execute_result"
    }
   ],
   "source": [
    "18 / 20"
   ]
  },
  {
   "cell_type": "code",
   "execution_count": null,
   "metadata": {},
   "outputs": [],
   "source": []
  }
 ],
 "metadata": {
  "kernelspec": {
   "display_name": "ffcv_2",
   "language": "python",
   "name": "python3"
  },
  "language_info": {
   "codemirror_mode": {
    "name": "ipython",
    "version": 3
   },
   "file_extension": ".py",
   "mimetype": "text/x-python",
   "name": "python",
   "nbconvert_exporter": "python",
   "pygments_lexer": "ipython3",
   "version": "3.9.16"
  }
 },
 "nbformat": 4,
 "nbformat_minor": 2
}

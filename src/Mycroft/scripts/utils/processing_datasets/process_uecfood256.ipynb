{
 "cells": [
  {
   "cell_type": "code",
   "execution_count": 1,
   "metadata": {},
   "outputs": [],
   "source": [
    "import numpy as np\n",
    "import pandas as pd \n",
    "import pickle\n",
    "from glob import glob\n",
    "import os"
   ]
  },
  {
   "cell_type": "code",
   "execution_count": 2,
   "metadata": {},
   "outputs": [],
   "source": [
    "# Template stuff\n",
    "imagenet_root_path = '/bigstor/zsarwar/Imagenet_2012'\n",
    "imagenet_subsets_path = '/bigstor/zsarwar/Imagenet_2012_subsets'\n",
    "template_path = os.path.join(imagenet_subsets_path, \"Dogs_vs_Wolves_metadata.pkl\")\n",
    "df_template = pd.read_pickle(template_path)\n",
    "df_template = pd.DataFrame.from_dict(df_template, orient='index')\n",
    "\n",
    "\n",
    "dataset_path = \"/bigstor/common_data/UECFOOD256/*\"\n",
    "df_path = \"/bigstor/common_data/UECFOOD256/DF/\"\n",
    "all_folders = glob(dataset_path)\n",
    "all_folders = [fold for fold in all_folders if \".txt\" not in fold]\n",
    "all_folders = [fold for fold in all_folders if \"DF\" not in fold]\n",
    "class_mapping = \"/bigstor/common_data/UECFOOD256/category.txt\""
   ]
  },
  {
   "cell_type": "code",
   "execution_count": 3,
   "metadata": {},
   "outputs": [],
   "source": [
    "# Process label to class mapping\n",
    "with open(class_mapping, 'r') as i_file:\n",
    "    labels_classes = i_file.readlines()\n",
    "labels_classes = [lc.split(\"\\t\") for lc in labels_classes]\n",
    "labels_classes = [[int(lc[0]), lc[1].replace(\"\\n\", \"\")] for lc in labels_classes[1:]]\n",
    "labels_classes = {lc[0]: lc[1] for lc in labels_classes}"
   ]
  },
  {
   "cell_type": "code",
   "execution_count": 4,
   "metadata": {},
   "outputs": [],
   "source": [
    "cols = df_template.columns\n",
    "metadata = []\n",
    "for idx, folder in enumerate(all_folders):\n",
    "    label = int(folder.split(\"/\")[-1])\n",
    "    all_images = glob(folder + \"/*\")\n",
    "    all_images = [img for img in all_images if \".txt\" not in img]\n",
    "    for j in range(len(all_images)):\n",
    "        t_dict = {}\n",
    "        t_dict[cols[0]] = None\n",
    "        t_dict[cols[1]] = labels_classes[label]\n",
    "        t_dict[cols[2]] = label\n",
    "        t_dict[cols[3]] = 'uec_food256'\n",
    "        t_dict[cols[4]] = 'uec_food256'\n",
    "        t_dict[cols[5]] = None\n",
    "        t_dict[cols[6]] = all_images[j]\n",
    "        t_dict['index'] = '/'.join(all_images[j].split(\"/\")[-2:])\n",
    "        metadata.append(t_dict)        \n",
    "\n"
   ]
  },
  {
   "cell_type": "code",
   "execution_count": 5,
   "metadata": {},
   "outputs": [],
   "source": [
    "df_uec = pd.DataFrame.from_dict(metadata)\n",
    "df_uec = df_uec.set_index('index')\n",
    "df_uec.index.name = None"
   ]
  },
  {
   "cell_type": "code",
   "execution_count": 6,
   "metadata": {},
   "outputs": [
    {
     "data": {
      "text/plain": [
       "\"\\nlabel_class_dict = {}\\n\\nuni_labels = df_uec['label'].unique().tolist()\\nfor uni in uni_labels:\\n    df_temp = df_uec[df_uec['label'] == uni]\\n    cl = df_temp.iloc[0]['class']\\n    if cl in list(label_class_dict.values()):\\n        print(cl)\\n    else:\\n        label_class_dict[uni] = cl\\n\""
      ]
     },
     "execution_count": 6,
     "metadata": {},
     "output_type": "execute_result"
    }
   ],
   "source": [
    "# Finding repeated classes\n",
    "#####\n",
    "\"\"\"\n",
    "label_class_dict = {}\n",
    "\n",
    "uni_labels = df_uec['label'].unique().tolist()\n",
    "for uni in uni_labels:\n",
    "    df_temp = df_uec[df_uec['label'] == uni]\n",
    "    cl = df_temp.iloc[0]['class']\n",
    "    if cl in list(label_class_dict.values()):\n",
    "        print(cl)\n",
    "    else:\n",
    "        label_class_dict[uni] = cl\n",
    "\"\"\"\n",
    "####\n",
    "        "
   ]
  },
  {
   "cell_type": "code",
   "execution_count": 7,
   "metadata": {},
   "outputs": [],
   "source": [
    "# Load foof101 df\n",
    "df_food101 = pd.read_pickle('/bigstor/common_data/food_101/DF/df_food101_train.pkl')"
   ]
  },
  {
   "cell_type": "code",
   "execution_count": 8,
   "metadata": {},
   "outputs": [],
   "source": [
    "food101_classes = df_food101['class'].unique().tolist()\n",
    "uec256_classes = df_uec['class'].unique().tolist()\n"
   ]
  },
  {
   "cell_type": "code",
   "execution_count": 9,
   "metadata": {},
   "outputs": [
    {
     "data": {
      "text/plain": [
       "256"
      ]
     },
     "execution_count": 9,
     "metadata": {},
     "output_type": "execute_result"
    }
   ],
   "source": [
    "len(df_uec['label'].unique().tolist())"
   ]
  },
  {
   "cell_type": "code",
   "execution_count": null,
   "metadata": {},
   "outputs": [],
   "source": []
  },
  {
   "cell_type": "code",
   "execution_count": 10,
   "metadata": {},
   "outputs": [],
   "source": [
    "# Allign labels of food_101 and UEC256\n",
    "\n",
    "food101_classes = df_food101['class'].unique().tolist()\n",
    "uec256_classes = df_uec['class'].unique().tolist()\n",
    "\n",
    "uec256_classes_clean = [cl.replace(\"_\", \" \") for cl in uec256_classes]\n",
    "uec256_uec256_classes = {uec256_classes[i] : uec256_classes_clean[i] for i in range(len(uec256_classes))}\n",
    "uec256_classes_temp = uec256_classes_clean\n",
    "\n",
    "# Full string matching\n",
    "uec256_food101 = {}\n",
    "used_uec256_classes = []\n",
    "for im_class in food101_classes:\n",
    "    im = im_class.lower()\n",
    "    uec256_classes_temp = [cl for cl in uec256_classes_temp if cl not in used_uec256_classes] \n",
    "    for ts_class in uec256_classes_clean:\n",
    "        ts = ts_class.lower()\n",
    "        if ts in im:\n",
    "            used_uec256_classes.append(ts_class)\n",
    "            uec256_food101[ts_class] = im_class\n",
    "            break\n",
    "uec256_classes_temp = [cl for cl in uec256_classes_temp if cl not in used_uec256_classes] \n",
    "food101_classes_temp = [cl for cl in food101_classes if cl not in list(uec256_food101.values())]\n",
    "# Match remaining classes manually"
   ]
  },
  {
   "cell_type": "code",
   "execution_count": 11,
   "metadata": {},
   "outputs": [],
   "source": [
    "# Get labels of matched classes in food101\n",
    "\n",
    "matched_food101 = list(uec256_food101.values())\n"
   ]
  },
  {
   "cell_type": "code",
   "execution_count": 12,
   "metadata": {},
   "outputs": [],
   "source": [
    "df_food101_matched = df_food101[df_food101['class'].isin(matched_food101)]\n",
    "\n",
    "uec_class_label = {}\n",
    "for cl in uec256_food101.keys():\n",
    "    key = uec256_food101[cl]\n",
    "    lab = df_food101[df_food101['class'] == key]['label'].unique()[0]\n",
    "    uec_class_label[cl] = lab\n"
   ]
  },
  {
   "cell_type": "code",
   "execution_count": 13,
   "metadata": {},
   "outputs": [
    {
     "data": {
      "text/plain": [
       "dict_keys(['fried rice', 'churro', 'french fries', 'spaghetti', 'sushi', 'pizza', 'sashimi', 'shortcake', 'pho', 'takoyaki', 'hot dog', 'tiramisu', 'miso soup', 'pancake', 'tacos', 'grilled salmon', 'hamburger', 'apple pie', 'paella', 'waffle', 'Caesar salad', 'steak', 'omelet', 'lasagna', 'french toast', 'bibimbap', 'nachos'])"
      ]
     },
     "execution_count": 13,
     "metadata": {},
     "output_type": "execute_result"
    }
   ],
   "source": [
    "uec256_food101.keys()"
   ]
  },
  {
   "cell_type": "code",
   "execution_count": 14,
   "metadata": {},
   "outputs": [],
   "source": [
    "# Relabel matched classes first\n",
    "for cl in list(uec256_food101.keys()):\n",
    "    df_uec.loc[df_uec['class'] == cl, 'label'] = uec_class_label[cl]\n",
    "    df_uec.loc[df_uec['class'] == cl, 'class'] = uec256_food101[cl]\n"
   ]
  },
  {
   "cell_type": "code",
   "execution_count": 15,
   "metadata": {},
   "outputs": [],
   "source": [
    "used_labels = list(uec_class_label.values())\n",
    "# Relabel remaining classes\n",
    "uec_used = list(uec256_food101.keys())\n",
    "uec_classes = df_uec['class'].unique().tolist()\n",
    "uec_classes = [cl for cl in uec256_classes if cl not in uec_used]"
   ]
  },
  {
   "cell_type": "code",
   "execution_count": 16,
   "metadata": {},
   "outputs": [],
   "source": [
    "curr_label = 0\n",
    "for cl in uec_classes:\n",
    "    while curr_label in used_labels:\n",
    "        curr_label+=1\n",
    "    df_uec.loc[df_uec['class'] == cl, 'label'] = curr_label\n",
    "    curr_label+=1"
   ]
  },
  {
   "cell_type": "code",
   "execution_count": null,
   "metadata": {},
   "outputs": [],
   "source": []
  },
  {
   "cell_type": "code",
   "execution_count": 17,
   "metadata": {},
   "outputs": [],
   "source": [
    "# Split into train val\n",
    "val_per_class = 20\n",
    "\n",
    "df_val = None\n",
    "\n",
    "uni_labels = df_uec['label'].unique().tolist()\n",
    "\n",
    "for lab in uni_labels:\n",
    "    df_temp = df_uec[df_uec['label'] == lab]\n",
    "    df_temp_val = df_temp.sample(n=val_per_class, random_state=42)\n",
    "\n",
    "    df_uec = df_uec.drop(df_temp_val.index)\n",
    "    if isinstance(df_val, pd.DataFrame):\n",
    "        frames = [df_temp_val, df_val]\n",
    "        df_val = pd.concat(frames)\n",
    "    else:\n",
    "        df_val = df_temp_val\n",
    "    "
   ]
  },
  {
   "cell_type": "code",
   "execution_count": null,
   "metadata": {},
   "outputs": [],
   "source": []
  },
  {
   "cell_type": "code",
   "execution_count": null,
   "metadata": {},
   "outputs": [],
   "source": []
  },
  {
   "cell_type": "code",
   "execution_count": null,
   "metadata": {},
   "outputs": [],
   "source": []
  },
  {
   "cell_type": "code",
   "execution_count": 18,
   "metadata": {},
   "outputs": [],
   "source": [
    "out_val_path = os.path.join(df_path, \"df_uec256_val.pkl\")\n",
    "df_val.to_pickle(out_val_path)\n",
    "out_train_path = os.path.join(df_path, \"df_uec256_train.pkl\")\n",
    "df_uec.to_pickle(out_train_path)"
   ]
  },
  {
   "cell_type": "code",
   "execution_count": 23,
   "metadata": {},
   "outputs": [],
   "source": [
    "idx = df_uec.index.tolist()"
   ]
  },
  {
   "cell_type": "code",
   "execution_count": null,
   "metadata": {},
   "outputs": [],
   "source": []
  }
 ],
 "metadata": {
  "kernelspec": {
   "display_name": "ffcv",
   "language": "python",
   "name": "python3"
  },
  "language_info": {
   "codemirror_mode": {
    "name": "ipython",
    "version": 3
   },
   "file_extension": ".py",
   "mimetype": "text/x-python",
   "name": "python",
   "nbconvert_exporter": "python",
   "pygments_lexer": "ipython3",
   "version": "3.9.16"
  }
 },
 "nbformat": 4,
 "nbformat_minor": 2
}

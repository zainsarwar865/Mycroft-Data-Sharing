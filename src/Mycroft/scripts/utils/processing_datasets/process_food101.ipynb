{
 "cells": [
  {
   "cell_type": "code",
   "execution_count": 2,
   "metadata": {},
   "outputs": [],
   "source": [
    "import numpy as np\n",
    "import pandas as pd \n",
    "import pickle\n",
    "from glob import glob\n",
    "import os"
   ]
  },
  {
   "cell_type": "code",
   "execution_count": 3,
   "metadata": {},
   "outputs": [],
   "source": [
    "# Template stuff\n",
    "imagenet_root_path = '/bigstor/zsarwar/Imagenet_2012'\n",
    "imagenet_subsets_path = '/bigstor/zsarwar/Imagenet_2012_subsets'\n",
    "template_path = os.path.join(imagenet_subsets_path, \"Dogs_vs_Wolves_metadata.pkl\")\n",
    "df_template = pd.read_pickle(template_path)\n",
    "df_template = pd.DataFrame.from_dict(df_template, orient='index')\n",
    "\n",
    "\n",
    "dataset_path = \"/bigstor/common_data/food_101/food-101/images/*\"\n",
    "df_path = \"/bigstor/common_data/food_101/DF/\"\n",
    "all_folders = glob(dataset_path)\n",
    "#all_folders = [fold for fold in all_folders if \".txt\" not in fold]\n",
    "class_mapping = \"/bigstor/common_data/food_101/food-101/meta/classes.txt\"\n",
    "label_mapping = \"/bigstor/common_data/food_101/food-101/meta/labels.txt\"\n",
    "\n",
    "train_split = \"/bigstor/common_data/food_101/food-101/meta/train.txt\"\n",
    "val_split = \"/bigstor/common_data/food_101/food-101/meta/test.txt\""
   ]
  },
  {
   "cell_type": "code",
   "execution_count": 4,
   "metadata": {},
   "outputs": [],
   "source": [
    "# Process label to class mapping\n",
    "with open(class_mapping, 'r') as i_file:\n",
    "    all_labels = i_file.readlines()\n",
    "all_labels = [cl.replace(\"\\n\", \"\") for cl in all_labels]\n",
    "\n",
    "with open(label_mapping, 'r') as i_file:\n",
    "    all_classes = i_file.readlines()\n",
    "all_classes = [cl.replace(\"\\n\", \"\") for cl in all_classes]\n",
    "\n"
   ]
  },
  {
   "cell_type": "code",
   "execution_count": 5,
   "metadata": {},
   "outputs": [],
   "source": [
    "labels_classes = {all_labels[i]: all_classes[i] for i in range(len(all_labels))}\n",
    "labels_idx = {all_labels[i]: i for i in range(len(all_labels))}"
   ]
  },
  {
   "cell_type": "code",
   "execution_count": 6,
   "metadata": {},
   "outputs": [],
   "source": [
    "cols = df_template.columns\n",
    "metadata = []\n",
    "for idx, folder in enumerate(all_folders):\n",
    "    label = folder.split(\"/\")[-1]\n",
    "    all_images = glob(folder + \"/*\")\n",
    "    for j in range(len(all_images)):\n",
    "        t_dict = {}\n",
    "        t_dict[cols[0]] = None\n",
    "        t_dict[cols[1]] = labels_classes[label]\n",
    "        t_dict[cols[2]] = labels_idx[label]\n",
    "        t_dict[cols[3]] = 'food101'\n",
    "        t_dict[cols[4]] = 'food101'\n",
    "        t_dict[cols[5]] = None\n",
    "        t_dict[cols[6]] = all_images[j]\n",
    "        t_dict['index'] = '/'.join(all_images[j].split(\"/\")[-2:])\n",
    "        metadata.append(t_dict)        \n",
    "\n"
   ]
  },
  {
   "cell_type": "code",
   "execution_count": 7,
   "metadata": {},
   "outputs": [],
   "source": [
    "df_food = pd.DataFrame.from_dict(metadata)\n",
    "df_food = df_food.set_index('index')\n",
    "df_food.index.name = None"
   ]
  },
  {
   "cell_type": "code",
   "execution_count": 25,
   "metadata": {},
   "outputs": [],
   "source": [
    "with open(train_split, \"r\") as i_file:\n",
    "    train_images = i_file.readlines()\n",
    "    train_images = [img.replace(\"\\n\", \"\") + \".jpg\" for img in train_images]\n",
    "\n",
    "with open(val_split, \"r\") as i_file:\n",
    "    val_images = i_file.readlines()\n",
    "    val_images = [img.replace(\"\\n\", \"\") + \".jpg\" for img in val_images]"
   ]
  },
  {
   "cell_type": "code",
   "execution_count": 31,
   "metadata": {},
   "outputs": [],
   "source": [
    "df_train =df_food[df_food.index.isin(train_images)]"
   ]
  },
  {
   "cell_type": "code",
   "execution_count": 32,
   "metadata": {},
   "outputs": [],
   "source": [
    "df_val = df_food[df_food.index.isin(val_images)]"
   ]
  },
  {
   "cell_type": "code",
   "execution_count": 33,
   "metadata": {},
   "outputs": [
    {
     "data": {
      "text/html": [
       "<div>\n",
       "<style scoped>\n",
       "    .dataframe tbody tr th:only-of-type {\n",
       "        vertical-align: middle;\n",
       "    }\n",
       "\n",
       "    .dataframe tbody tr th {\n",
       "        vertical-align: top;\n",
       "    }\n",
       "\n",
       "    .dataframe thead th {\n",
       "        text-align: right;\n",
       "    }\n",
       "</style>\n",
       "<table border=\"1\" class=\"dataframe\">\n",
       "  <thead>\n",
       "    <tr style=\"text-align: right;\">\n",
       "      <th></th>\n",
       "      <th>image_url</th>\n",
       "      <th>class</th>\n",
       "      <th>label</th>\n",
       "      <th>data_type</th>\n",
       "      <th>dataset</th>\n",
       "      <th>query</th>\n",
       "      <th>img_path</th>\n",
       "    </tr>\n",
       "  </thead>\n",
       "  <tbody>\n",
       "    <tr>\n",
       "      <th>french_onion_soup/2993508.jpg</th>\n",
       "      <td>None</td>\n",
       "      <td>French onion soup</td>\n",
       "      <td>41</td>\n",
       "      <td>food101</td>\n",
       "      <td>food101</td>\n",
       "      <td>None</td>\n",
       "      <td>/bigstor/common_data/food_101/food-101/images/...</td>\n",
       "    </tr>\n",
       "    <tr>\n",
       "      <th>french_onion_soup/1184744.jpg</th>\n",
       "      <td>None</td>\n",
       "      <td>French onion soup</td>\n",
       "      <td>41</td>\n",
       "      <td>food101</td>\n",
       "      <td>food101</td>\n",
       "      <td>None</td>\n",
       "      <td>/bigstor/common_data/food_101/food-101/images/...</td>\n",
       "    </tr>\n",
       "    <tr>\n",
       "      <th>french_onion_soup/798877.jpg</th>\n",
       "      <td>None</td>\n",
       "      <td>French onion soup</td>\n",
       "      <td>41</td>\n",
       "      <td>food101</td>\n",
       "      <td>food101</td>\n",
       "      <td>None</td>\n",
       "      <td>/bigstor/common_data/food_101/food-101/images/...</td>\n",
       "    </tr>\n",
       "    <tr>\n",
       "      <th>french_onion_soup/3808030.jpg</th>\n",
       "      <td>None</td>\n",
       "      <td>French onion soup</td>\n",
       "      <td>41</td>\n",
       "      <td>food101</td>\n",
       "      <td>food101</td>\n",
       "      <td>None</td>\n",
       "      <td>/bigstor/common_data/food_101/food-101/images/...</td>\n",
       "    </tr>\n",
       "    <tr>\n",
       "      <th>french_onion_soup/1959316.jpg</th>\n",
       "      <td>None</td>\n",
       "      <td>French onion soup</td>\n",
       "      <td>41</td>\n",
       "      <td>food101</td>\n",
       "      <td>food101</td>\n",
       "      <td>None</td>\n",
       "      <td>/bigstor/common_data/food_101/food-101/images/...</td>\n",
       "    </tr>\n",
       "    <tr>\n",
       "      <th>...</th>\n",
       "      <td>...</td>\n",
       "      <td>...</td>\n",
       "      <td>...</td>\n",
       "      <td>...</td>\n",
       "      <td>...</td>\n",
       "      <td>...</td>\n",
       "      <td>...</td>\n",
       "    </tr>\n",
       "    <tr>\n",
       "      <th>bread_pudding/562153.jpg</th>\n",
       "      <td>None</td>\n",
       "      <td>Bread pudding</td>\n",
       "      <td>8</td>\n",
       "      <td>food101</td>\n",
       "      <td>food101</td>\n",
       "      <td>None</td>\n",
       "      <td>/bigstor/common_data/food_101/food-101/images/...</td>\n",
       "    </tr>\n",
       "    <tr>\n",
       "      <th>bread_pudding/2443597.jpg</th>\n",
       "      <td>None</td>\n",
       "      <td>Bread pudding</td>\n",
       "      <td>8</td>\n",
       "      <td>food101</td>\n",
       "      <td>food101</td>\n",
       "      <td>None</td>\n",
       "      <td>/bigstor/common_data/food_101/food-101/images/...</td>\n",
       "    </tr>\n",
       "    <tr>\n",
       "      <th>bread_pudding/3294452.jpg</th>\n",
       "      <td>None</td>\n",
       "      <td>Bread pudding</td>\n",
       "      <td>8</td>\n",
       "      <td>food101</td>\n",
       "      <td>food101</td>\n",
       "      <td>None</td>\n",
       "      <td>/bigstor/common_data/food_101/food-101/images/...</td>\n",
       "    </tr>\n",
       "    <tr>\n",
       "      <th>bread_pudding/255220.jpg</th>\n",
       "      <td>None</td>\n",
       "      <td>Bread pudding</td>\n",
       "      <td>8</td>\n",
       "      <td>food101</td>\n",
       "      <td>food101</td>\n",
       "      <td>None</td>\n",
       "      <td>/bigstor/common_data/food_101/food-101/images/...</td>\n",
       "    </tr>\n",
       "    <tr>\n",
       "      <th>bread_pudding/3623227.jpg</th>\n",
       "      <td>None</td>\n",
       "      <td>Bread pudding</td>\n",
       "      <td>8</td>\n",
       "      <td>food101</td>\n",
       "      <td>food101</td>\n",
       "      <td>None</td>\n",
       "      <td>/bigstor/common_data/food_101/food-101/images/...</td>\n",
       "    </tr>\n",
       "  </tbody>\n",
       "</table>\n",
       "<p>25250 rows × 7 columns</p>\n",
       "</div>"
      ],
      "text/plain": [
       "                              image_url              class  label data_type  \\\n",
       "french_onion_soup/2993508.jpg      None  French onion soup     41   food101   \n",
       "french_onion_soup/1184744.jpg      None  French onion soup     41   food101   \n",
       "french_onion_soup/798877.jpg       None  French onion soup     41   food101   \n",
       "french_onion_soup/3808030.jpg      None  French onion soup     41   food101   \n",
       "french_onion_soup/1959316.jpg      None  French onion soup     41   food101   \n",
       "...                                 ...                ...    ...       ...   \n",
       "bread_pudding/562153.jpg           None      Bread pudding      8   food101   \n",
       "bread_pudding/2443597.jpg          None      Bread pudding      8   food101   \n",
       "bread_pudding/3294452.jpg          None      Bread pudding      8   food101   \n",
       "bread_pudding/255220.jpg           None      Bread pudding      8   food101   \n",
       "bread_pudding/3623227.jpg          None      Bread pudding      8   food101   \n",
       "\n",
       "                               dataset query  \\\n",
       "french_onion_soup/2993508.jpg  food101  None   \n",
       "french_onion_soup/1184744.jpg  food101  None   \n",
       "french_onion_soup/798877.jpg   food101  None   \n",
       "french_onion_soup/3808030.jpg  food101  None   \n",
       "french_onion_soup/1959316.jpg  food101  None   \n",
       "...                                ...   ...   \n",
       "bread_pudding/562153.jpg       food101  None   \n",
       "bread_pudding/2443597.jpg      food101  None   \n",
       "bread_pudding/3294452.jpg      food101  None   \n",
       "bread_pudding/255220.jpg       food101  None   \n",
       "bread_pudding/3623227.jpg      food101  None   \n",
       "\n",
       "                                                                        img_path  \n",
       "french_onion_soup/2993508.jpg  /bigstor/common_data/food_101/food-101/images/...  \n",
       "french_onion_soup/1184744.jpg  /bigstor/common_data/food_101/food-101/images/...  \n",
       "french_onion_soup/798877.jpg   /bigstor/common_data/food_101/food-101/images/...  \n",
       "french_onion_soup/3808030.jpg  /bigstor/common_data/food_101/food-101/images/...  \n",
       "french_onion_soup/1959316.jpg  /bigstor/common_data/food_101/food-101/images/...  \n",
       "...                                                                          ...  \n",
       "bread_pudding/562153.jpg       /bigstor/common_data/food_101/food-101/images/...  \n",
       "bread_pudding/2443597.jpg      /bigstor/common_data/food_101/food-101/images/...  \n",
       "bread_pudding/3294452.jpg      /bigstor/common_data/food_101/food-101/images/...  \n",
       "bread_pudding/255220.jpg       /bigstor/common_data/food_101/food-101/images/...  \n",
       "bread_pudding/3623227.jpg      /bigstor/common_data/food_101/food-101/images/...  \n",
       "\n",
       "[25250 rows x 7 columns]"
      ]
     },
     "execution_count": 33,
     "metadata": {},
     "output_type": "execute_result"
    }
   ],
   "source": [
    "df_val"
   ]
  },
  {
   "cell_type": "code",
   "execution_count": 34,
   "metadata": {},
   "outputs": [],
   "source": [
    "out_val_path = os.path.join(df_path, \"df_food101_val.pkl\")\n",
    "df_val.to_pickle(out_val_path)\n",
    "out_train_path = os.path.join(df_path, \"df_food101_train.pkl\")\n",
    "df_train.to_pickle(out_train_path)"
   ]
  },
  {
   "cell_type": "code",
   "execution_count": 35,
   "metadata": {},
   "outputs": [
    {
     "data": {
      "text/plain": [
       "'/bigstor/common_data/food_101/DF/df_food101_train.pkl'"
      ]
     },
     "execution_count": 35,
     "metadata": {},
     "output_type": "execute_result"
    }
   ],
   "source": [
    "out_train_path"
   ]
  },
  {
   "cell_type": "code",
   "execution_count": null,
   "metadata": {},
   "outputs": [],
   "source": []
  }
 ],
 "metadata": {
  "kernelspec": {
   "display_name": "ffcv",
   "language": "python",
   "name": "python3"
  },
  "language_info": {
   "codemirror_mode": {
    "name": "ipython",
    "version": 3
   },
   "file_extension": ".py",
   "mimetype": "text/x-python",
   "name": "python",
   "nbconvert_exporter": "python",
   "pygments_lexer": "ipython3",
   "version": "3.9.16"
  }
 },
 "nbformat": 4,
 "nbformat_minor": 2
}

{
 "cells": [
  {
   "cell_type": "code",
   "execution_count": 1,
   "metadata": {},
   "outputs": [],
   "source": [
    "import numpy as np\n",
    "import pandas as pd \n",
    "import pickle\n",
    "from glob import glob\n",
    "import os"
   ]
  },
  {
   "cell_type": "code",
   "execution_count": 2,
   "metadata": {},
   "outputs": [],
   "source": [
    "# Template stuff\n",
    "imagenet_root_path = '/bigstor/zsarwar/Imagenet_2012'\n",
    "imagenet_subsets_path = '/bigstor/zsarwar/Imagenet_2012_subsets'\n",
    "template_path = os.path.join(imagenet_subsets_path, \"Dogs_vs_Wolves_metadata.pkl\")\n",
    "\n",
    "df_template = pd.read_pickle(template_path)\n",
    "df_template = pd.DataFrame.from_dict(df_template, orient='index')\n",
    "\n",
    "dataset_path = \"/bigstor/common_data/UPMC-food-101/images/test/*\"\n",
    "df_path = \"/bigstor/common_data/UPMC-food-101/DF\"\n",
    "label_files = \"/bigstor/common_data/UPMC-food-101/texts/test_titles.csv\""
   ]
  },
  {
   "cell_type": "code",
   "execution_count": 3,
   "metadata": {},
   "outputs": [],
   "source": [
    "all_folders = glob(dataset_path)"
   ]
  },
  {
   "cell_type": "code",
   "execution_count": 4,
   "metadata": {},
   "outputs": [],
   "source": [
    "cols = df_template.columns\n",
    "metadata = []\n",
    "for idx, folder in enumerate(all_folders):\n",
    "    label = (folder.split(\"/\")[-1])\n",
    "    all_images = glob(folder + \"/*\")\n",
    "    all_images = [img for img in all_images]\n",
    "    for j in range(len(all_images)):\n",
    "        t_dict = {}\n",
    "        t_dict[cols[0]] = None\n",
    "        t_dict[cols[1]] = label\n",
    "        t_dict[cols[2]] = idx\n",
    "        t_dict[cols[3]] = 'UPMC-food-101'\n",
    "        t_dict[cols[4]] = 'UPMC-food-101'\n",
    "        t_dict[cols[5]] = None\n",
    "        t_dict[cols[6]] = all_images[j]\n",
    "        t_dict['index'] = '/'.join(all_images[j].split(\"/\")[-1:])\n",
    "        metadata.append(t_dict)        \n",
    "\n"
   ]
  },
  {
   "cell_type": "code",
   "execution_count": 5,
   "metadata": {},
   "outputs": [],
   "source": [
    "df_upmc = pd.DataFrame.from_dict(metadata)\n",
    "df_upmc = df_upmc.set_index('index')\n",
    "df_upmc.index.name = None"
   ]
  },
  {
   "cell_type": "code",
   "execution_count": 6,
   "metadata": {},
   "outputs": [],
   "source": [
    "# Load foof101 df\n",
    "df_food101 = pd.read_pickle('/bigstor/common_data/food_101/DF/df_food101_train.pkl')"
   ]
  },
  {
   "cell_type": "code",
   "execution_count": 7,
   "metadata": {},
   "outputs": [],
   "source": [
    "# Allign labels of food_101 and UPMC\n",
    "\n",
    "food101_classes = df_food101['class'].unique().tolist()\n",
    "upmc_classes = df_upmc['class'].unique().tolist()\n",
    "\n",
    "upmc_classes_clean = [cl.replace(\"_\", \" \") for cl in upmc_classes]\n",
    "upmc_upmc_classes = {upmc_classes[i] : upmc_classes_clean[i] for i in range(len(upmc_classes))}\n",
    "upmc_classes_unmatched = upmc_classes_clean\n",
    "\n",
    "# Full string matching\n",
    "upmc_food101 = {}\n",
    "used_upmc_classes = []\n",
    "for im_class in food101_classes:\n",
    "    im = im_class.lower()\n",
    "    upmc_classes_unmatched = [cl for cl in upmc_classes_unmatched if cl not in used_upmc_classes] \n",
    "    for ts_class in upmc_classes_clean:\n",
    "        ts = ts_class.lower()\n",
    "        if ts in im:\n",
    "            used_upmc_classes.append(ts_class)\n",
    "            upmc_food101[ts_class] = im_class\n",
    "            break\n",
    "upmc_classes_unmatched = [cl for cl in upmc_classes_unmatched if cl not in used_upmc_classes] \n",
    "food101_classes_unmatched = [cl for cl in food101_classes if cl not in list(upmc_food101.values())]\n",
    "# Match remaining classes manually"
   ]
  },
  {
   "cell_type": "code",
   "execution_count": 8,
   "metadata": {},
   "outputs": [],
   "source": [
    "# Get labels of matched classes in food101\n",
    "\n",
    "matched_food101 = list(upmc_food101.values())\n"
   ]
  },
  {
   "cell_type": "code",
   "execution_count": 9,
   "metadata": {},
   "outputs": [],
   "source": [
    "df_food101_matched = df_food101[df_food101['class'].isin(matched_food101)]\n",
    "\n",
    "upmc_class_label = {}\n",
    "for cl in upmc_food101.keys():\n",
    "    key = upmc_food101[cl]\n",
    "    lab = df_food101[df_food101['class'] == key]['label'].unique()[0]\n",
    "    upmc_class_label[cl] = lab\n",
    "\n"
   ]
  },
  {
   "cell_type": "code",
   "execution_count": 10,
   "metadata": {},
   "outputs": [],
   "source": [
    "# Relabel matched classes first\n",
    "for key, val in upmc_upmc_classes.items():\n",
    "    if val in upmc_food101.keys():\n",
    "        df_upmc.loc[df_upmc['class'] == key, 'label'] = upmc_class_label[val]\n",
    "        df_upmc.loc[df_upmc['class'] == key, 'class'] = upmc_food101[val]\n"
   ]
  },
  {
   "cell_type": "code",
   "execution_count": 11,
   "metadata": {},
   "outputs": [],
   "source": [
    "used_labels = list(upmc_class_label.values())\n",
    "# Relabel remaining classes\n",
    "upmc_used = list(upmc_food101.keys())\n",
    "upmc_classes = [cl for cl in upmc_classes if upmc_upmc_classes[cl] not in upmc_used] "
   ]
  },
  {
   "cell_type": "code",
   "execution_count": 12,
   "metadata": {},
   "outputs": [
    {
     "data": {
      "text/plain": [
       "[]"
      ]
     },
     "execution_count": 12,
     "metadata": {},
     "output_type": "execute_result"
    }
   ],
   "source": [
    "upmc_classes"
   ]
  },
  {
   "cell_type": "code",
   "execution_count": 13,
   "metadata": {},
   "outputs": [],
   "source": [
    "curr_label = 0\n",
    "for cl in upmc_classes:\n",
    "    while curr_label in used_labels:\n",
    "        curr_label+=1\n",
    "    df_upmc.loc[df_upmc['class'] == cl, 'label'] = curr_label\n",
    "    curr_label+=1"
   ]
  },
  {
   "cell_type": "code",
   "execution_count": 14,
   "metadata": {},
   "outputs": [
    {
     "data": {
      "text/html": [
       "<div>\n",
       "<style scoped>\n",
       "    .dataframe tbody tr th:only-of-type {\n",
       "        vertical-align: middle;\n",
       "    }\n",
       "\n",
       "    .dataframe tbody tr th {\n",
       "        vertical-align: top;\n",
       "    }\n",
       "\n",
       "    .dataframe thead th {\n",
       "        text-align: right;\n",
       "    }\n",
       "</style>\n",
       "<table border=\"1\" class=\"dataframe\">\n",
       "  <thead>\n",
       "    <tr style=\"text-align: right;\">\n",
       "      <th></th>\n",
       "      <th>image_url</th>\n",
       "      <th>class</th>\n",
       "      <th>label</th>\n",
       "      <th>data_type</th>\n",
       "      <th>dataset</th>\n",
       "      <th>query</th>\n",
       "      <th>img_path</th>\n",
       "    </tr>\n",
       "  </thead>\n",
       "  <tbody>\n",
       "    <tr>\n",
       "      <th>omelette_749.jpg</th>\n",
       "      <td>None</td>\n",
       "      <td>Omelette</td>\n",
       "      <td>67</td>\n",
       "      <td>UPMC-food-101</td>\n",
       "      <td>UPMC-food-101</td>\n",
       "      <td>None</td>\n",
       "      <td>/bigstor/common_data/UPMC-food-101/images/test...</td>\n",
       "    </tr>\n",
       "    <tr>\n",
       "      <th>omelette_850.jpg</th>\n",
       "      <td>None</td>\n",
       "      <td>Omelette</td>\n",
       "      <td>67</td>\n",
       "      <td>UPMC-food-101</td>\n",
       "      <td>UPMC-food-101</td>\n",
       "      <td>None</td>\n",
       "      <td>/bigstor/common_data/UPMC-food-101/images/test...</td>\n",
       "    </tr>\n",
       "    <tr>\n",
       "      <th>omelette_385.jpg</th>\n",
       "      <td>None</td>\n",
       "      <td>Omelette</td>\n",
       "      <td>67</td>\n",
       "      <td>UPMC-food-101</td>\n",
       "      <td>UPMC-food-101</td>\n",
       "      <td>None</td>\n",
       "      <td>/bigstor/common_data/UPMC-food-101/images/test...</td>\n",
       "    </tr>\n",
       "    <tr>\n",
       "      <th>omelette_886.jpg</th>\n",
       "      <td>None</td>\n",
       "      <td>Omelette</td>\n",
       "      <td>67</td>\n",
       "      <td>UPMC-food-101</td>\n",
       "      <td>UPMC-food-101</td>\n",
       "      <td>None</td>\n",
       "      <td>/bigstor/common_data/UPMC-food-101/images/test...</td>\n",
       "    </tr>\n",
       "    <tr>\n",
       "      <th>omelette_822.jpg</th>\n",
       "      <td>None</td>\n",
       "      <td>Omelette</td>\n",
       "      <td>67</td>\n",
       "      <td>UPMC-food-101</td>\n",
       "      <td>UPMC-food-101</td>\n",
       "      <td>None</td>\n",
       "      <td>/bigstor/common_data/UPMC-food-101/images/test...</td>\n",
       "    </tr>\n",
       "    <tr>\n",
       "      <th>...</th>\n",
       "      <td>...</td>\n",
       "      <td>...</td>\n",
       "      <td>...</td>\n",
       "      <td>...</td>\n",
       "      <td>...</td>\n",
       "      <td>...</td>\n",
       "      <td>...</td>\n",
       "    </tr>\n",
       "    <tr>\n",
       "      <th>beef_tartare_147.jpg</th>\n",
       "      <td>None</td>\n",
       "      <td>Beef tartare</td>\n",
       "      <td>4</td>\n",
       "      <td>UPMC-food-101</td>\n",
       "      <td>UPMC-food-101</td>\n",
       "      <td>None</td>\n",
       "      <td>/bigstor/common_data/UPMC-food-101/images/test...</td>\n",
       "    </tr>\n",
       "    <tr>\n",
       "      <th>beef_tartare_196.jpg</th>\n",
       "      <td>None</td>\n",
       "      <td>Beef tartare</td>\n",
       "      <td>4</td>\n",
       "      <td>UPMC-food-101</td>\n",
       "      <td>UPMC-food-101</td>\n",
       "      <td>None</td>\n",
       "      <td>/bigstor/common_data/UPMC-food-101/images/test...</td>\n",
       "    </tr>\n",
       "    <tr>\n",
       "      <th>beef_tartare_308.jpg</th>\n",
       "      <td>None</td>\n",
       "      <td>Beef tartare</td>\n",
       "      <td>4</td>\n",
       "      <td>UPMC-food-101</td>\n",
       "      <td>UPMC-food-101</td>\n",
       "      <td>None</td>\n",
       "      <td>/bigstor/common_data/UPMC-food-101/images/test...</td>\n",
       "    </tr>\n",
       "    <tr>\n",
       "      <th>beef_tartare_877.jpg</th>\n",
       "      <td>None</td>\n",
       "      <td>Beef tartare</td>\n",
       "      <td>4</td>\n",
       "      <td>UPMC-food-101</td>\n",
       "      <td>UPMC-food-101</td>\n",
       "      <td>None</td>\n",
       "      <td>/bigstor/common_data/UPMC-food-101/images/test...</td>\n",
       "    </tr>\n",
       "    <tr>\n",
       "      <th>beef_tartare_405.jpg</th>\n",
       "      <td>None</td>\n",
       "      <td>Beef tartare</td>\n",
       "      <td>4</td>\n",
       "      <td>UPMC-food-101</td>\n",
       "      <td>UPMC-food-101</td>\n",
       "      <td>None</td>\n",
       "      <td>/bigstor/common_data/UPMC-food-101/images/test...</td>\n",
       "    </tr>\n",
       "  </tbody>\n",
       "</table>\n",
       "<p>22716 rows × 7 columns</p>\n",
       "</div>"
      ],
      "text/plain": [
       "                     image_url         class  label      data_type  \\\n",
       "omelette_749.jpg          None      Omelette     67  UPMC-food-101   \n",
       "omelette_850.jpg          None      Omelette     67  UPMC-food-101   \n",
       "omelette_385.jpg          None      Omelette     67  UPMC-food-101   \n",
       "omelette_886.jpg          None      Omelette     67  UPMC-food-101   \n",
       "omelette_822.jpg          None      Omelette     67  UPMC-food-101   \n",
       "...                        ...           ...    ...            ...   \n",
       "beef_tartare_147.jpg      None  Beef tartare      4  UPMC-food-101   \n",
       "beef_tartare_196.jpg      None  Beef tartare      4  UPMC-food-101   \n",
       "beef_tartare_308.jpg      None  Beef tartare      4  UPMC-food-101   \n",
       "beef_tartare_877.jpg      None  Beef tartare      4  UPMC-food-101   \n",
       "beef_tartare_405.jpg      None  Beef tartare      4  UPMC-food-101   \n",
       "\n",
       "                            dataset query  \\\n",
       "omelette_749.jpg      UPMC-food-101  None   \n",
       "omelette_850.jpg      UPMC-food-101  None   \n",
       "omelette_385.jpg      UPMC-food-101  None   \n",
       "omelette_886.jpg      UPMC-food-101  None   \n",
       "omelette_822.jpg      UPMC-food-101  None   \n",
       "...                             ...   ...   \n",
       "beef_tartare_147.jpg  UPMC-food-101  None   \n",
       "beef_tartare_196.jpg  UPMC-food-101  None   \n",
       "beef_tartare_308.jpg  UPMC-food-101  None   \n",
       "beef_tartare_877.jpg  UPMC-food-101  None   \n",
       "beef_tartare_405.jpg  UPMC-food-101  None   \n",
       "\n",
       "                                                               img_path  \n",
       "omelette_749.jpg      /bigstor/common_data/UPMC-food-101/images/test...  \n",
       "omelette_850.jpg      /bigstor/common_data/UPMC-food-101/images/test...  \n",
       "omelette_385.jpg      /bigstor/common_data/UPMC-food-101/images/test...  \n",
       "omelette_886.jpg      /bigstor/common_data/UPMC-food-101/images/test...  \n",
       "omelette_822.jpg      /bigstor/common_data/UPMC-food-101/images/test...  \n",
       "...                                                                 ...  \n",
       "beef_tartare_147.jpg  /bigstor/common_data/UPMC-food-101/images/test...  \n",
       "beef_tartare_196.jpg  /bigstor/common_data/UPMC-food-101/images/test...  \n",
       "beef_tartare_308.jpg  /bigstor/common_data/UPMC-food-101/images/test...  \n",
       "beef_tartare_877.jpg  /bigstor/common_data/UPMC-food-101/images/test...  \n",
       "beef_tartare_405.jpg  /bigstor/common_data/UPMC-food-101/images/test...  \n",
       "\n",
       "[22716 rows x 7 columns]"
      ]
     },
     "execution_count": 14,
     "metadata": {},
     "output_type": "execute_result"
    }
   ],
   "source": [
    "df_upmc"
   ]
  },
  {
   "cell_type": "code",
   "execution_count": 15,
   "metadata": {},
   "outputs": [],
   "source": [
    "# Check if all labels / classes match\n",
    "\n"
   ]
  },
  {
   "cell_type": "code",
   "execution_count": 16,
   "metadata": {},
   "outputs": [],
   "source": [
    "\n",
    "\n",
    "all_classes_food = df_food101['class'].unique()\n",
    "all_classes_upmc = df_upmc['class'].unique()"
   ]
  },
  {
   "cell_type": "code",
   "execution_count": 17,
   "metadata": {},
   "outputs": [],
   "source": [
    "for m_class in upmc_food101.values():\n",
    "    og_label = df_food101[df_food101['class'] == m_class]['label'].iloc[0]\n",
    "    upmc_label = df_upmc[df_upmc['class'] == m_class]['label'].iloc[0]\n",
    "    if (og_label != upmc_label):\n",
    "        print(\"Labels do not match\")\n"
   ]
  },
  {
   "cell_type": "code",
   "execution_count": 18,
   "metadata": {},
   "outputs": [],
   "source": [
    "out_val_path = os.path.join(df_path, \"df_upmc-food-101_val.pkl\")\n",
    "df_upmc.to_pickle(out_val_path)\n",
    "#out_train_path = os.path.join(df_path, \"df_upmc-food-101_train.pkl\")\n",
    "#df_upmc.to_pickle(out_train_path)"
   ]
  },
  {
   "cell_type": "code",
   "execution_count": null,
   "metadata": {},
   "outputs": [],
   "source": []
  },
  {
   "cell_type": "code",
   "execution_count": null,
   "metadata": {},
   "outputs": [],
   "source": []
  },
  {
   "cell_type": "code",
   "execution_count": null,
   "metadata": {},
   "outputs": [],
   "source": []
  },
  {
   "cell_type": "code",
   "execution_count": null,
   "metadata": {},
   "outputs": [],
   "source": []
  }
 ],
 "metadata": {
  "kernelspec": {
   "display_name": "Python 3",
   "language": "python",
   "name": "python3"
  },
  "language_info": {
   "codemirror_mode": {
    "name": "ipython",
    "version": 3
   },
   "file_extension": ".py",
   "mimetype": "text/x-python",
   "name": "python",
   "nbconvert_exporter": "python",
   "pygments_lexer": "ipython3",
   "version": "3.9.16"
  }
 },
 "nbformat": 4,
 "nbformat_minor": 2
}

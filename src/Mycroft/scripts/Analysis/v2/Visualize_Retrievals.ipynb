{
 "cells": [
  {
   "cell_type": "code",
   "execution_count": null,
   "metadata": {},
   "outputs": [],
   "source": [
    "import pickle\n",
    "import pandas as pd\n",
    "import numpy as np\n",
    "import os\n",
    "import matplotlib.pyplot as plt\n",
    "import matplotlib.image as mpimg\n",
    "\n",
    "pd.options.display.max_rows = 999"
   ]
  },
  {
   "cell_type": "code",
   "execution_count": null,
   "metadata": {},
   "outputs": [],
   "source": [
    "# Out directory\n",
    "plots_dir = \"/bigstor/zsarwar/Enola_Augmented/MT_food101_full_101_f739c19e1aeeaea18c60b1bf802b05db/Plots\""
   ]
  },
  {
   "cell_type": "code",
   "execution_count": null,
   "metadata": {},
   "outputs": [],
   "source": []
  },
  {
   "cell_type": "code",
   "execution_count": null,
   "metadata": {},
   "outputs": [],
   "source": []
  },
  {
   "cell_type": "markdown",
   "metadata": {},
   "source": [
    "# Generic Dogs Wolves"
   ]
  },
  {
   "cell_type": "code",
   "execution_count": null,
   "metadata": {},
   "outputs": [],
   "source": [
    "# Row 1 - Dogs - Easy & Hard\n",
    "# Row 2 - Wolves - Easy & Hard\n",
    "df = pd.read_pickle(\"/bigstor/zsarwar/Imagenet_2012_subsets/MT_DO_Splits/df_train_DO_1_Imagenet_48_no-wolf-dog-animals.pkl\")\n",
    "all_images = [\n",
    "    \n",
    "    '/bigstor/zsarwar/Semantic_Gaps_Datasets/Processed/Dogs_vs_Wolves/Images/dogs_benign_Dogs_vs_Wolves_Siberianhuskyongrass_49.jpg',\n",
    "    '/bigstor/zsarwar/Semantic_Gaps_Datasets/Processed/Dogs_vs_Wolves/Images/dogs_adversarial_Dogs_vs_Wolves_Alaskanmalamuteplayingonsnow_124.jpg',\n",
    "    '/bigstor/zsarwar/Semantic_Gaps_Datasets/Processed/Dogs_vs_Wolves/Images/wolves_benign_Dogs_vs_Wolves_GrayWolfonsnow_339.jpg',\n",
    "    '/bigstor/zsarwar/Semantic_Gaps_Datasets/Processed/Dogs_vs_Wolves/Images/wolves_adversarial_Dogs_vs_Wolves_Northwesternwolfongrass_232.jpg',]\n"
   ]
  },
  {
   "cell_type": "code",
   "execution_count": null,
   "metadata": {},
   "outputs": [],
   "source": [
    "import matplotlib.pyplot as plt\n",
    "import numpy as np\n",
    "from PIL import Image\n",
    "\n",
    "    \n",
    "fig, axes = plt.subplots(2, len(all_images) // 2, figsize=(6, 6))\n",
    "axes = axes.flatten()\n",
    "\n",
    "for i, ax in enumerate(axes):\n",
    "\n",
    "    im_path = all_images[i]\n",
    "    img = Image.open(im_path)\n",
    "    img = img.resize((150,150))\n",
    "    ax.imshow(img)\n",
    "    ax.axis('off')\n",
    "    if i == 0:\n",
    "        ax.set_title('Dogs & Wolves - Easy')\n",
    "    elif i < len(axes) // 2:\n",
    "        ax.set_title(\"Dogs & Wolves - Hard\")\n",
    "\n",
    "plt.tight_layout(pad=-0.6)\n",
    "plot_path = \"DogsWolves_Explanation.jpg\"\n",
    "plot_path = os.path.join(plots_dir, plot_path)\n",
    "plt.savefig(plot_path, dpi=300, bbox_inches='tight')\n",
    "plt.margins(x=0)\n",
    "plt.margins(y=0)\n",
    "plt.show()"
   ]
  },
  {
   "cell_type": "code",
   "execution_count": null,
   "metadata": {},
   "outputs": [],
   "source": [
    "plot_path"
   ]
  },
  {
   "cell_type": "markdown",
   "metadata": {},
   "source": [
    "# Dhard | DUseful"
   ]
  },
  {
   "cell_type": "code",
   "execution_count": null,
   "metadata": {},
   "outputs": [],
   "source": [
    "df = pd.read_pickle(\"/bigstor/zsarwar/Enola_Augmented/MT_DogsVsWolves_full_10_70b9e2d769b9d991d57926323e355411/Datasets/df_val_MT_3_Imagenet_8_Non-Dog-wolf-animals_val.pkl\")\n",
    "df = df[df['data_type'] == 'adversarial']"
   ]
  },
  {
   "cell_type": "code",
   "execution_count": null,
   "metadata": {},
   "outputs": [],
   "source": [
    "indices = ['dogs_adversarial_Dogs_vs_Wolves_GermanShepherdplayingonsnow_423.jpg','wolves_adversarial_Dogs_vs_Wolves_Eurasianwolfongrass_351.jpg']\n",
    "df_main = df[df.index.isin(indices)]"
   ]
  },
  {
   "cell_type": "code",
   "execution_count": null,
   "metadata": {},
   "outputs": [],
   "source": [
    "df_retrieved = pd.read_pickle(\"/bigstor/zsarwar/Enola_Augmented/MT_DogsVsWolves_full_10_70b9e2d769b9d991d57926323e355411/Unicom/df_DogsVsWolves_DO_1_315c18583c1937f4600fd7368b97f6ea_47d11b5961e49d3ce1bf62a756578b16_ded06d482c69d5cbab6f2fcbcaecc454.pkl\")"
   ]
  },
  {
   "cell_type": "code",
   "execution_count": null,
   "metadata": {},
   "outputs": [],
   "source": [
    "import matplotlib.pyplot as plt\n",
    "import numpy as np\n",
    "from PIL import Image\n",
    "\n",
    "# Sample data\n",
    "lab = 'dogs'\n",
    "sub = [0, 4, 7, 8, 15]\n",
    "all_images_retrieved = df_retrieved[df_retrieved['class'] == lab]['img_path'].tolist()\n",
    "dhard = df_main[df_main['class'] == lab]['img_path'].tolist()\n",
    "all_images = np.asarray(dhard + all_images_retrieved)\n",
    "all_images = all_images[sub]\n",
    "# Plot all images in a row\n",
    "fig, axes = plt.subplots(1, len(all_images), figsize=(15, 5))\n",
    "for i, ax in enumerate(axes):\n",
    "    im_path = all_images[i]\n",
    "    img = Image.open(im_path)\n",
    "    img = img.resize((160,160))\n",
    "    ax.imshow(img)\n",
    "    ax.axis('off')\n",
    "    if i == 0:\n",
    "        ax.set_title('$D^{hard}$')\n",
    "    else:\n",
    "        ax.set_title(\"$D^{useful}$\")\n",
    "\n",
    "\n",
    "plt.tight_layout(pad=0.0)\n",
    "plot_path = \"DogsWolves_Retrieval.jpg\"\n",
    "plot_path = os.path.join(plots_dir, plot_path)\n",
    "plt.savefig(plot_path, dpi=300, bbox_inches='tight')\n",
    "plt.margins(x=0)\n",
    "plt.margins(y=0)\n",
    "plt.show()\n"
   ]
  },
  {
   "cell_type": "code",
   "execution_count": null,
   "metadata": {},
   "outputs": [],
   "source": []
  },
  {
   "cell_type": "code",
   "execution_count": null,
   "metadata": {},
   "outputs": [],
   "source": []
  },
  {
   "cell_type": "code",
   "execution_count": null,
   "metadata": {},
   "outputs": [],
   "source": [
    "import matplotlib.pyplot as plt\n",
    "import numpy as np\n",
    "from PIL import Image\n",
    "\n",
    "\n",
    "# Sample data\n",
    "lab = 'dogs'\n",
    "#sub = [0, 4, 7, 8, 15]\n",
    "sub = [0, 4, 7, 8]\n",
    "all_images_retrieved = df_retrieved[df_retrieved['class'] == lab]['img_path'].tolist()\n",
    "dhard = df_main[df_main['class'] == lab]['img_path'].tolist()\n",
    "all_images = np.asarray(dhard + all_images_retrieved)\n",
    "all_images_dogs = all_images[sub].copy()\n",
    "# Plot all images in a row\n",
    "\n",
    "lab = 'wolves'\n",
    "#sub = [0, 1, 4, 6, 8]\n",
    "sub = [0, 1, 4, 6]\n",
    "all_images_retrieved = df_retrieved[df_retrieved['class'] == lab]['img_path'].tolist()\n",
    "dhard = df_main[df_main['class'] == lab]['img_path'].tolist()\n",
    "all_images = np.asarray(dhard + all_images_retrieved)\n",
    "all_images_wolves = all_images[sub].copy()\n",
    "\n",
    "all_images = np.concatenate((all_images_dogs, all_images_wolves))\n",
    "    \n",
    "fig, axes = plt.subplots(2, len(all_images) // 2, figsize=(9, 5))\n",
    "axes = axes.flatten()\n",
    "\n",
    "for i, ax in enumerate(axes):\n",
    "\n",
    "    im_path = all_images[i]\n",
    "    img = Image.open(im_path)\n",
    "    img = img.resize((160,160))\n",
    "    ax.imshow(img)\n",
    "    ax.axis('off')\n",
    "    if i == 0:\n",
    "        ax.set_title('$D^{hard}$')\n",
    "    elif i < len(axes) // 2:\n",
    "        ax.set_title(\"$D^{useful}$\")\n",
    "\n",
    "plt.tight_layout(pad=0.0)\n",
    "plot_path = \"DogsWolves_Retrieval.jpg\"\n",
    "plot_path = os.path.join(plots_dir, plot_path)\n",
    "plt.savefig(plot_path, dpi=300, bbox_inches='tight')\n",
    "plt.margins(x=0)\n",
    "plt.margins(y=0)\n",
    "plt.show()"
   ]
  },
  {
   "cell_type": "code",
   "execution_count": null,
   "metadata": {},
   "outputs": [],
   "source": [
    "axes"
   ]
  },
  {
   "cell_type": "code",
   "execution_count": null,
   "metadata": {},
   "outputs": [],
   "source": []
  },
  {
   "cell_type": "code",
   "execution_count": null,
   "metadata": {},
   "outputs": [],
   "source": []
  },
  {
   "cell_type": "code",
   "execution_count": null,
   "metadata": {},
   "outputs": [],
   "source": [
    "lab = 'wolves'\n",
    "sub = [0, 1, 4, 6, 8]\n",
    "all_images_retrieved = df_retrieved[df_retrieved['class'] == lab]['img_path'].tolist()\n",
    "dhard = df_main[df_main['class'] == lab]['img_path'].tolist()\n",
    "all_images = np.asarray(dhard + all_images_retrieved)\n",
    "all_images = all_images[sub]\n",
    "# Visualize samples\n",
    "for i, im_path in enumerate(all_images[0:50]):\n",
    "    img = mpimg.imread(im_path)\n",
    "    plt.axis('off')\n",
    "    imgplot = plt.imshow(img)\n",
    "    plt.title(i)\n",
    "    plt.figure()\n",
    "    plt.clf()"
   ]
  },
  {
   "cell_type": "code",
   "execution_count": null,
   "metadata": {},
   "outputs": [],
   "source": []
  },
  {
   "cell_type": "code",
   "execution_count": null,
   "metadata": {},
   "outputs": [],
   "source": []
  },
  {
   "cell_type": "code",
   "execution_count": null,
   "metadata": {},
   "outputs": [],
   "source": []
  },
  {
   "cell_type": "code",
   "execution_count": null,
   "metadata": {},
   "outputs": [],
   "source": []
  },
  {
   "cell_type": "code",
   "execution_count": null,
   "metadata": {},
   "outputs": [],
   "source": []
  },
  {
   "cell_type": "code",
   "execution_count": null,
   "metadata": {},
   "outputs": [],
   "source": []
  },
  {
   "cell_type": "code",
   "execution_count": null,
   "metadata": {},
   "outputs": [],
   "source": []
  },
  {
   "cell_type": "code",
   "execution_count": null,
   "metadata": {},
   "outputs": [],
   "source": []
  },
  {
   "cell_type": "code",
   "execution_count": null,
   "metadata": {},
   "outputs": [],
   "source": []
  },
  {
   "cell_type": "code",
   "execution_count": null,
   "metadata": {},
   "outputs": [],
   "source": []
  },
  {
   "cell_type": "code",
   "execution_count": null,
   "metadata": {},
   "outputs": [],
   "source": []
  },
  {
   "cell_type": "markdown",
   "metadata": {},
   "source": [
    "# Visualize DHard vs D_Retrieved"
   ]
  },
  {
   "cell_type": "code",
   "execution_count": null,
   "metadata": {},
   "outputs": [],
   "source": [
    "#Augmented Labels\n",
    "df_dhard = pd.read_pickle(\"/bigstor/zsarwar/Enola_Augmented/MT_food101_full_101_f739c19e1aeeaea18c60b1bf802b05db/Datasets/df_food101_val_test_sub_empirical_8915e10296bdf7f70fb9b4bfed4f45fe.pkl\")\n",
    "#df_labels = df_labels.drop_duplicates('label')\n",
    "dhard_labels = df_dhard['class'].unique().tolist()"
   ]
  },
  {
   "cell_type": "code",
   "execution_count": null,
   "metadata": {},
   "outputs": [],
   "source": [
    "# DF_Retrieved\n",
    "#Augmented Labels\n",
    "df_augmented_random = pd.read_pickle(\"/bigstor/zsarwar/Enola_Augmented/MT_food101_full_101_f739c19e1aeeaea18c60b1bf802b05db/Random/df_ISIAFood101_full_6ad5ee6d89a766cc91fb74a72ad062c6_6ad5ee6d89a766cc91fb74a72ad062c6_fc4e79326c45bb5e832b6abb5659732b.pkl\")\n",
    "augmented_labels = df_augmented_random['class'].unique().tolist()\n",
    "\n",
    "df_augmented_gradmatch = pd.read_pickle(\"/bigstor/zsarwar/Enola_Augmented/MT_food101_full_101_f739c19e1aeeaea18c60b1bf802b05db/GradMatch/df_ISIAFood101_full_2efadae5c23906a8816f60f70ddb3532_178644fd7a597c653195eee784f96782_fc4e79326c45bb5e832b6abb5659732b.pkl\")\n",
    "#df_labels = df_labels.drop_duplicates('label')\n",
    "\n",
    "\n",
    "\n",
    "df_augmented_unicom = pd.read_pickle(\"/bigstor/zsarwar/Enola_Augmented/MT_food101_full_101_f739c19e1aeeaea18c60b1bf802b05db/Unicom/df_ISIAFood101_full_c4d736a642f0b174d0f34146042a51fa_8c0e8a23ed1d377bbf7e275d637a376c_fc4e79326c45bb5e832b6abb5659732b.pkl\")\n",
    "\n"
   ]
  },
  {
   "cell_type": "code",
   "execution_count": null,
   "metadata": {},
   "outputs": [],
   "source": []
  },
  {
   "cell_type": "code",
   "execution_count": null,
   "metadata": {},
   "outputs": [],
   "source": [
    "df_dhard[df_dhard['class'] == 'Lasagna']"
   ]
  },
  {
   "cell_type": "code",
   "execution_count": null,
   "metadata": {},
   "outputs": [],
   "source": [
    "lab = augmented_labels[7]\n",
    "lab"
   ]
  },
  {
   "cell_type": "code",
   "execution_count": null,
   "metadata": {},
   "outputs": [],
   "source": [
    "all_images = df_dhard[df_dhard['class'] == lab]['img_path'].tolist()\n",
    "# Visualize samples\n",
    "for i, im_path in enumerate(all_images[0:50]):\n",
    "    img = mpimg.imread(im_path)\n",
    "    plt.axis('off')\n",
    "    imgplot = plt.imshow(img)\n",
    "    plt.figure()\n",
    "    plt.clf()"
   ]
  },
  {
   "cell_type": "code",
   "execution_count": null,
   "metadata": {},
   "outputs": [],
   "source": [
    "all_images = df_augmented_random[df_augmented_random['class'] == lab]['img_path'].tolist()\n",
    "# Visualize samples\n",
    "for i, im_path in enumerate(all_images[0:50]):\n",
    "    img = mpimg.imread(im_path)\n",
    "    plt.axis('off')\n",
    "    imgplot = plt.imshow(img)\n",
    "    plt.figure()\n",
    "    plt.clf()"
   ]
  },
  {
   "cell_type": "code",
   "execution_count": null,
   "metadata": {},
   "outputs": [],
   "source": [
    "all_images = df_augmented_gradmatch[df_augmented_gradmatch['class'] == lab]['img_path'].tolist()\n",
    "# Visualize samples\n",
    "for i, im_path in enumerate(all_images[0:50]):\n",
    "    img = mpimg.imread(im_path)\n",
    "    plt.axis('off')\n",
    "    imgplot = plt.imshow(img)\n",
    "    plt.figure()\n",
    "    plt.clf()"
   ]
  },
  {
   "cell_type": "code",
   "execution_count": null,
   "metadata": {},
   "outputs": [],
   "source": [
    "all_images = df_augmented_unicom[df_augmented_unicom['class'] == lab]['img_path'].tolist()\n",
    "# Visualize samples\n",
    "for i, im_path in enumerate(all_images[0:50]):\n",
    "    img = mpimg.imread(im_path)\n",
    "    plt.axis('off')\n",
    "    imgplot = plt.imshow(img)\n",
    "    plt.figure()\n",
    "    plt.clf()"
   ]
  },
  {
   "cell_type": "code",
   "execution_count": null,
   "metadata": {},
   "outputs": [],
   "source": []
  },
  {
   "cell_type": "code",
   "execution_count": null,
   "metadata": {},
   "outputs": [],
   "source": []
  },
  {
   "cell_type": "code",
   "execution_count": null,
   "metadata": {},
   "outputs": [],
   "source": []
  },
  {
   "cell_type": "markdown",
   "metadata": {},
   "source": [
    "# MISC"
   ]
  },
  {
   "cell_type": "code",
   "execution_count": null,
   "metadata": {},
   "outputs": [],
   "source": [
    "df = pd.read_pickle(\"/bigstor/zsarwar/Imagenet_2012_subsets/MT_DO_Splits/df_train_DO_1_Imagenet_48_no-wolf-dog-animals.pkl\")\n",
    "\n",
    "df_dhard = df[(df['data_type'] == 'benign') & (df['class'] == 'dogs')]\n",
    "\n",
    "all_images = df_dhard['img_path'].tolist()\n",
    "# Visualize samples\n",
    "for i, im_path in enumerate(all_images[200:207]):\n",
    "    img = mpimg.imread(im_path)\n",
    "    plt.axis('off')\n",
    "    imgplot = plt.imshow(img)\n",
    "    plt.title(i)\n",
    "    plt.figure()\n",
    "    plt.clf()\n"
   ]
  },
  {
   "cell_type": "code",
   "execution_count": null,
   "metadata": {},
   "outputs": [],
   "source": []
  }
 ],
 "metadata": {
  "kernelspec": {
   "display_name": "Python 3",
   "language": "python",
   "name": "python3"
  },
  "language_info": {
   "codemirror_mode": {
    "name": "ipython",
    "version": 3
   },
   "file_extension": ".py",
   "mimetype": "text/x-python",
   "name": "python",
   "nbconvert_exporter": "python",
   "pygments_lexer": "ipython3",
   "version": "3.9.0"
  }
 },
 "nbformat": 4,
 "nbformat_minor": 2
}

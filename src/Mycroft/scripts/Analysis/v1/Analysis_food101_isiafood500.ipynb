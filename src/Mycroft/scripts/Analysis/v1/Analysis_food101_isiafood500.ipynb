{
 "cells": [
  {
   "cell_type": "code",
   "execution_count": 1,
   "metadata": {},
   "outputs": [],
   "source": [
    "import pickle\n",
    "import pandas as pd\n",
    "import numpy as np\n",
    "import os\n",
    "import matplotlib.pyplot as plt\n",
    "import matplotlib.image as mpimg\n"
   ]
  },
  {
   "cell_type": "code",
   "execution_count": 2,
   "metadata": {},
   "outputs": [],
   "source": [
    "pd.options.display.max_rows = 999"
   ]
  },
  {
   "cell_type": "markdown",
   "metadata": {},
   "source": [
    "# UNICOM"
   ]
  },
  {
   "cell_type": "markdown",
   "metadata": {},
   "source": [
    "# Baseline runs"
   ]
  },
  {
   "cell_type": "code",
   "execution_count": 3,
   "metadata": {},
   "outputs": [],
   "source": [
    "base_dir = \"/bigstor/zsarwar/Enola_Augmented/MT_food101_full_101_f739c19e1aeeaea18c60b1bf802b05db\"\n",
    "\n",
    "runs   = [\n",
    "            \"MT_Baseline_075a3dd4b758bf1dc5f8e45e79b19d95/Metrics\",\n",
    "            \"MT_Baseline_a868a1618372a781faedfcb1574f5c16/Metrics\",\n",
    "            \"MT_Baseline_8915e10296bdf7f70fb9b4bfed4f45fe/Metrics\"\n",
    "        ]\n",
    "\n",
    "stats_filename = \"agg_class_stats.pkl\"\n",
    "\n",
    "#dhard_base = \"/bigstor/zsarwar/Enola_Augmented/MT_food101_full_101_f739c19e1aeeaea18c60b1bf802b05db/Datasets\"\n",
    "dhard_base = \"/bigstor/zsarwar/Enola_Augmented/MT_food101_full_101_f739c19e1aeeaea18c60b1bf802b05db/Unicom\"\n",
    "\n",
    "dhard_runs = [\n",
    "                \"df_ISIAFood101_full_724b55bf67f1efbc408e1cef69d6e7f7_9c8fe4b91cb2afc1d25d106cd60963e9_3e0737d8b78962afa0b67ba77e951c87.pkl\",\n",
    "                \"df_ISIAFood101_full_724b55bf67f1efbc408e1cef69d6e7f7_22dfce7bb51fec8e1fd2d3a20943a82d_5ffc427e66f5390037db8fecc795100e.pkl\",\n",
    "                \"df_ISIAFood101_full_724b55bf67f1efbc408e1cef69d6e7f7_26cc028ee4570dad1731ccc3b64ed0d7_2a1c17607f8d0b7636202dfebb85cc70.pkl\"\n",
    "              ]\n",
    "\n",
    "# Load labels\n",
    "val_path = \"/bigstor/common_data/food_101/DF/df_food101_val.pkl\"\n",
    "df_val = pd.read_pickle(val_path)"
   ]
  },
  {
   "cell_type": "code",
   "execution_count": null,
   "metadata": {},
   "outputs": [],
   "source": []
  },
  {
   "cell_type": "code",
   "execution_count": 4,
   "metadata": {},
   "outputs": [],
   "source": [
    "all_stats_paths = []\n",
    "for r in runs:\n",
    "    stats_path = os.path.join(base_dir, r, stats_filename)\n",
    "    all_stats_paths.append(stats_path)\n",
    "    \n",
    "\n",
    "all_stats_acc = []\n",
    "for path in all_stats_paths:\n",
    "    stats = pd.read_pickle(path)\n",
    "    all_stats_acc.append(stats['accuracy'])\n"
   ]
  },
  {
   "cell_type": "code",
   "execution_count": 5,
   "metadata": {},
   "outputs": [],
   "source": [
    "df_val = df_val.drop_duplicates('label')\n",
    "df_val_classes = df_val[['class', 'label']]\n",
    "\n",
    "label_list = list(df_val_classes['label'])\n",
    "\n",
    "all_acc_list = []\n",
    "for i in range(len(all_stats_acc)):\n",
    "    accuracy_list = [all_stats_acc[i][cl] for cl in label_list]\n",
    "    all_acc_list.append(accuracy_list)\n",
    "\n",
    "for i in range(len(all_acc_list)):\n",
    "    col_name = f\"accuracy_{i}\"\n",
    "    df_val_classes.insert(2, col_name, all_acc_list[i], True)   "
   ]
  },
  {
   "cell_type": "code",
   "execution_count": 6,
   "metadata": {},
   "outputs": [
    {
     "name": "stdout",
     "output_type": "stream",
     "text": [
      "Accruracy for each run :  [87.67524938300105, 87.58416003992062, 87.53663514392211]\n",
      "Mean accuracy across runs :  87.59868152228125\n"
     ]
    }
   ],
   "source": [
    "df_base = df_val_classes.copy()\n",
    "\n",
    "cols = [f\"accuracy_{i}\" for i in range(len(all_acc_list))]\n",
    "df_base['accuracy_0'].mean()\n",
    "mean_accs = []\n",
    "for c in cols:\n",
    "    t_acc = df_base[c].mean()\n",
    "    mean_accs.append(t_acc)\n",
    "print(\"Accruracy for each run : \", mean_accs)\n",
    "mean_accs = np.asarray(mean_accs)\n",
    "print(\"Mean accuracy across runs : \", np.mean(mean_accs))"
   ]
  },
  {
   "cell_type": "code",
   "execution_count": null,
   "metadata": {},
   "outputs": [],
   "source": []
  },
  {
   "cell_type": "markdown",
   "metadata": {},
   "source": [
    "# Augmented runs"
   ]
  },
  {
   "cell_type": "code",
   "execution_count": 7,
   "metadata": {},
   "outputs": [],
   "source": [
    "base_dir = \"/bigstor/zsarwar/Enola_Augmented/MT_food101_full_101_f739c19e1aeeaea18c60b1bf802b05db\"\n",
    "\n",
    "runs = [\n",
    "    \"MT_Augmented_3de78d3545f996d4be9eb97a27855aee/Metrics\",\n",
    "    \"MT_Augmented_3f8ea5b80b4a0ccdf4e7ad6644b21bc0/Metrics\",\n",
    "    \"MT_Augmented_dce765a7507ca6b19a3e1fff7dd1b478/Metrics\"\n",
    "]\n",
    "\n",
    "\n",
    "stats_filename = \"agg_class_stats.pkl\"\n",
    "\n",
    "# Load labels\n",
    "#val_path = \"/bigstor/zsarwar/Imagenet/DF/df_imagenet_dogs_val.pkl\"\n",
    "val_path = \"/bigstor/common_data/food_101/DF/df_food101_val.pkl\"\n",
    "df_val = pd.read_pickle(val_path)"
   ]
  },
  {
   "cell_type": "code",
   "execution_count": 8,
   "metadata": {},
   "outputs": [],
   "source": [
    "all_stats_paths = []\n",
    "for r in runs:\n",
    "    stats_path = os.path.join(base_dir, r, stats_filename)\n",
    "    all_stats_paths.append(stats_path)\n",
    "    \n",
    "all_stats_acc = []\n",
    "for path in all_stats_paths:\n",
    "    stats = pd.read_pickle(path)\n",
    "    all_stats_acc.append(stats['accuracy'])\n"
   ]
  },
  {
   "cell_type": "code",
   "execution_count": 9,
   "metadata": {},
   "outputs": [],
   "source": [
    "df_val = df_val.drop_duplicates('label')\n",
    "df_val_classes = df_val[['class', 'label']]\n",
    "\n",
    "label_list = list(df_val_classes['label'])\n",
    "\n",
    "all_acc_list = []\n",
    "for i in range(len(all_stats_acc)):\n",
    "    accuracy_list = [all_stats_acc[i][cl] for cl in label_list]\n",
    "    all_acc_list.append(accuracy_list)\n",
    "\n",
    "for i in range(len(all_acc_list)):\n",
    "    col_name = f\"accuracy_{i}\"\n",
    "    df_val_classes.insert(2, col_name, all_acc_list[i], True)   \n",
    "#df_val_classes.insert(2, \"accuracy\", accuracy_list, True)"
   ]
  },
  {
   "cell_type": "code",
   "execution_count": 10,
   "metadata": {},
   "outputs": [
    {
     "name": "stdout",
     "output_type": "stream",
     "text": [
      "Accruracy for each run :  [87.25940738338055]\n",
      "Mean accuracy across runs :  87.25940738338055\n"
     ]
    }
   ],
   "source": [
    "df_aug = df_val_classes.copy()\n",
    "\n",
    "cols = [f\"accuracy_{i}\" for i in range(len(all_acc_list))]\n",
    "df_aug['accuracy_0'].mean()\n",
    "mean_accs = []\n",
    "for c in cols:\n",
    "    t_acc = df_aug[c].mean()\n",
    "    mean_accs.append(t_acc)\n",
    "print(\"Accruracy for each run : \", mean_accs)\n",
    "mean_accs = np.asarray(mean_accs)\n",
    "print(\"Mean accuracy across runs : \", np.mean(mean_accs))"
   ]
  },
  {
   "cell_type": "markdown",
   "metadata": {},
   "source": [
    "# DF EMP"
   ]
  },
  {
   "cell_type": "code",
   "execution_count": 14,
   "metadata": {},
   "outputs": [],
   "source": [
    "all_emp_paths = []\n",
    "for r in dhard_runs:\n",
    "    emp_path = os.path.join(dhard_base, r)\n",
    "    all_emp_paths.append(emp_path)\n",
    "    \n",
    "all_df_emps = []\n",
    "\n",
    "for p in all_emp_paths:\n",
    "    df_emp = pd.read_pickle(p)\n",
    "    all_df_emps.append(df_emp)\n"
   ]
  },
  {
   "cell_type": "code",
   "execution_count": 15,
   "metadata": {},
   "outputs": [],
   "source": [
    "all_emp_classes = []\n",
    "for i in range(len(all_df_emps)):\n",
    "    emp_classes = all_df_emps[i]['class'].unique().tolist()\n",
    "    all_emp_classes.append(emp_classes)"
   ]
  },
  {
   "cell_type": "code",
   "execution_count": null,
   "metadata": {},
   "outputs": [],
   "source": [
    "all_acc_diffs = []\n",
    "for i in range(len(all_emp_classes)):\n",
    "    col_name = f\"accuracy_{i}\"\n",
    "    col_diff = df_aug[df_aug['class'].isin(all_emp_classes[i])][col_name] - df_base[df_base['class'].isin(all_emp_classes[i])][col_name]\n",
    "    col_diff_sum = col_diff.sum()\n",
    "    all_acc_diffs.append(col_diff_sum)\n",
    "\n"
   ]
  },
  {
   "cell_type": "code",
   "execution_count": null,
   "metadata": {},
   "outputs": [
    {
     "data": {
      "text/plain": [
       "44.26666514078776"
      ]
     },
     "execution_count": 20,
     "metadata": {},
     "output_type": "execute_result"
    }
   ],
   "source": [
    "sum(all_acc_diffs) / 3"
   ]
  },
  {
   "cell_type": "code",
   "execution_count": 15,
   "metadata": {},
   "outputs": [
    {
     "data": {
      "text/html": [
       "<div>\n",
       "<style scoped>\n",
       "    .dataframe tbody tr th:only-of-type {\n",
       "        vertical-align: middle;\n",
       "    }\n",
       "\n",
       "    .dataframe tbody tr th {\n",
       "        vertical-align: top;\n",
       "    }\n",
       "\n",
       "    .dataframe thead th {\n",
       "        text-align: right;\n",
       "    }\n",
       "</style>\n",
       "<table border=\"1\" class=\"dataframe\">\n",
       "  <thead>\n",
       "    <tr style=\"text-align: right;\">\n",
       "      <th></th>\n",
       "      <th>class</th>\n",
       "      <th>label</th>\n",
       "      <th>accuracy_2</th>\n",
       "      <th>accuracy_1</th>\n",
       "      <th>accuracy_0</th>\n",
       "    </tr>\n",
       "  </thead>\n",
       "  <tbody>\n",
       "    <tr>\n",
       "      <th>ceviche/42489.jpg</th>\n",
       "      <td>Ceviche</td>\n",
       "      <td>15</td>\n",
       "      <td>77.599998</td>\n",
       "      <td>77.599998</td>\n",
       "      <td>79.599998</td>\n",
       "    </tr>\n",
       "    <tr>\n",
       "      <th>huevos_rancheros/883821.jpg</th>\n",
       "      <td>Huevos rancheros</td>\n",
       "      <td>56</td>\n",
       "      <td>82.400002</td>\n",
       "      <td>81.599998</td>\n",
       "      <td>77.599998</td>\n",
       "    </tr>\n",
       "    <tr>\n",
       "      <th>tiramisu/3041535.jpg</th>\n",
       "      <td>Tiramisu</td>\n",
       "      <td>98</td>\n",
       "      <td>82.800003</td>\n",
       "      <td>82.800003</td>\n",
       "      <td>85.200005</td>\n",
       "    </tr>\n",
       "    <tr>\n",
       "      <th>garlic_bread/2981508.jpg</th>\n",
       "      <td>Garlic bread</td>\n",
       "      <td>46</td>\n",
       "      <td>83.599998</td>\n",
       "      <td>82.800003</td>\n",
       "      <td>83.599998</td>\n",
       "    </tr>\n",
       "    <tr>\n",
       "      <th>apple_pie/1272958.jpg</th>\n",
       "      <td>Apple pie</td>\n",
       "      <td>0</td>\n",
       "      <td>76.000000</td>\n",
       "      <td>72.800003</td>\n",
       "      <td>71.200005</td>\n",
       "    </tr>\n",
       "    <tr>\n",
       "      <th>filet_mignon/2325804.jpg</th>\n",
       "      <td>Filet mignon</td>\n",
       "      <td>37</td>\n",
       "      <td>83.200005</td>\n",
       "      <td>76.400002</td>\n",
       "      <td>80.000000</td>\n",
       "    </tr>\n",
       "    <tr>\n",
       "      <th>crab_cakes/943630.jpg</th>\n",
       "      <td>Crab cakes</td>\n",
       "      <td>26</td>\n",
       "      <td>84.400002</td>\n",
       "      <td>82.000000</td>\n",
       "      <td>84.400002</td>\n",
       "    </tr>\n",
       "    <tr>\n",
       "      <th>lasagna/207825.jpg</th>\n",
       "      <td>Lasagna</td>\n",
       "      <td>59</td>\n",
       "      <td>80.800003</td>\n",
       "      <td>83.200005</td>\n",
       "      <td>84.800003</td>\n",
       "    </tr>\n",
       "    <tr>\n",
       "      <th>cheesecake/2574796.jpg</th>\n",
       "      <td>Cheesecake</td>\n",
       "      <td>16</td>\n",
       "      <td>80.400002</td>\n",
       "      <td>81.599998</td>\n",
       "      <td>81.200005</td>\n",
       "    </tr>\n",
       "    <tr>\n",
       "      <th>french_toast/3493695.jpg</th>\n",
       "      <td>French toast</td>\n",
       "      <td>42</td>\n",
       "      <td>80.000000</td>\n",
       "      <td>82.400002</td>\n",
       "      <td>84.800003</td>\n",
       "    </tr>\n",
       "  </tbody>\n",
       "</table>\n",
       "</div>"
      ],
      "text/plain": [
       "                                        class  label  accuracy_2  accuracy_1  \\\n",
       "ceviche/42489.jpg                     Ceviche     15   77.599998   77.599998   \n",
       "huevos_rancheros/883821.jpg  Huevos rancheros     56   82.400002   81.599998   \n",
       "tiramisu/3041535.jpg                 Tiramisu     98   82.800003   82.800003   \n",
       "garlic_bread/2981508.jpg         Garlic bread     46   83.599998   82.800003   \n",
       "apple_pie/1272958.jpg               Apple pie      0   76.000000   72.800003   \n",
       "filet_mignon/2325804.jpg         Filet mignon     37   83.200005   76.400002   \n",
       "crab_cakes/943630.jpg              Crab cakes     26   84.400002   82.000000   \n",
       "lasagna/207825.jpg                    Lasagna     59   80.800003   83.200005   \n",
       "cheesecake/2574796.jpg             Cheesecake     16   80.400002   81.599998   \n",
       "french_toast/3493695.jpg         French toast     42   80.000000   82.400002   \n",
       "\n",
       "                             accuracy_0  \n",
       "ceviche/42489.jpg             79.599998  \n",
       "huevos_rancheros/883821.jpg   77.599998  \n",
       "tiramisu/3041535.jpg          85.200005  \n",
       "garlic_bread/2981508.jpg      83.599998  \n",
       "apple_pie/1272958.jpg         71.200005  \n",
       "filet_mignon/2325804.jpg      80.000000  \n",
       "crab_cakes/943630.jpg         84.400002  \n",
       "lasagna/207825.jpg            84.800003  \n",
       "cheesecake/2574796.jpg        81.200005  \n",
       "french_toast/3493695.jpg      84.800003  "
      ]
     },
     "execution_count": 15,
     "metadata": {},
     "output_type": "execute_result"
    }
   ],
   "source": [
    "df_aug[df_aug['class'].isin(all_emp_classes[0])]"
   ]
  },
  {
   "cell_type": "code",
   "execution_count": 24,
   "metadata": {},
   "outputs": [
    {
     "data": {
      "text/plain": [
       "ceviche/42489.jpg              4.799995\n",
       "huevos_rancheros/883821.jpg    3.599998\n",
       "tiramisu/3041535.jpg           5.600006\n",
       "garlic_bread/2981508.jpg       2.399994\n",
       "apple_pie/1272958.jpg          6.400002\n",
       "filet_mignon/2325804.jpg       8.799995\n",
       "crab_cakes/943630.jpg          3.199997\n",
       "lasagna/207825.jpg             4.000000\n",
       "cheesecake/2574796.jpg         1.600006\n",
       "french_toast/3493695.jpg       3.599998\n",
       "Name: accuracy_0, dtype: float64"
      ]
     },
     "execution_count": 24,
     "metadata": {},
     "output_type": "execute_result"
    }
   ],
   "source": [
    "df_aug[df_aug['class'].isin(all_emp_classes[0])]['accuracy_0'] - df_base[df_base['class'].isin(all_emp_classes[0])]['accuracy_0']"
   ]
  },
  {
   "cell_type": "code",
   "execution_count": 17,
   "metadata": {},
   "outputs": [
    {
     "data": {
      "text/plain": [
       "4.426666514078776"
      ]
     },
     "execution_count": 17,
     "metadata": {},
     "output_type": "execute_result"
    }
   ],
   "source": [
    "(sum(all_acc_diffs) / 3) / 10"
   ]
  },
  {
   "cell_type": "code",
   "execution_count": 16,
   "metadata": {},
   "outputs": [
    {
     "data": {
      "text/plain": [
       "4.3999992370605465"
      ]
     },
     "execution_count": 16,
     "metadata": {},
     "output_type": "execute_result"
    }
   ],
   "source": [
    "(sum(all_acc_diffs) / 10)"
   ]
  },
  {
   "cell_type": "code",
   "execution_count": null,
   "metadata": {},
   "outputs": [],
   "source": []
  },
  {
   "cell_type": "code",
   "execution_count": null,
   "metadata": {},
   "outputs": [],
   "source": []
  },
  {
   "cell_type": "markdown",
   "metadata": {},
   "source": [
    "# GradMatch"
   ]
  },
  {
   "cell_type": "markdown",
   "metadata": {},
   "source": [
    "# Baseline runs"
   ]
  },
  {
   "cell_type": "code",
   "execution_count": 12,
   "metadata": {},
   "outputs": [],
   "source": [
    "base_dir = \"/bigstor/zsarwar/Enola_Augmented/MT_food101_full_101_f739c19e1aeeaea18c60b1bf802b05db\"\n",
    "\n",
    "runs   = [\n",
    "            \"MT_Baseline_075a3dd4b758bf1dc5f8e45e79b19d95/Metrics\", # 40\n",
    "            \"MT_Baseline_7e0b9b0a19780ab4210dd40fe629df3f/Metrics\", # 80\n",
    "            \"MT_Baseline_8915e10296bdf7f70fb9b4bfed4f45fe/Metrics\"  # 60\n",
    "        ]\n",
    "\n",
    "stats_filename = \"agg_class_stats.pkl\"\n",
    "\n",
    "dhard_base = \"/bigstor/zsarwar/Enola_Augmented/MT_food101_full_101_f739c19e1aeeaea18c60b1bf802b05db/GradMatch\"\n",
    "\n",
    "dhard_runs = [\n",
    "                \"df_ISIAFood101_full_1707ca43a9ed0f95bee2a13e46fd0b4b_b47fc2912dae82dde5b4352e10c644a1_fc4e79326c45bb5e832b6abb5659732b.pkl\", # 40\n",
    "                \"df_ISIAFood101_full_1707ca43a9ed0f95bee2a13e46fd0b4b_7b0879e9613a7a3647926965589fd62a_fc4e79326c45bb5e832b6abb5659732b.pkl\",\n",
    "                \"df_ISIAFood101_full_1707ca43a9ed0f95bee2a13e46fd0b4b_5289451ec2850323a0b61a77657b4cbe_fc4e79326c45bb5e832b6abb5659732b.pkl\" # 60\n",
    "              ]\n",
    "\n",
    "# Load labels\n",
    "val_path = \"/bigstor/common_data/food_101/DF/df_food101_val.pkl\"\n",
    "df_val = pd.read_pickle(val_path)"
   ]
  },
  {
   "cell_type": "code",
   "execution_count": null,
   "metadata": {},
   "outputs": [],
   "source": []
  },
  {
   "cell_type": "code",
   "execution_count": 8,
   "metadata": {},
   "outputs": [],
   "source": [
    "all_stats_paths = []\n",
    "for r in runs:\n",
    "    stats_path = os.path.join(base_dir, r, stats_filename)\n",
    "    all_stats_paths.append(stats_path)\n",
    "    \n",
    "\n",
    "all_stats_acc = []\n",
    "for path in all_stats_paths:\n",
    "    stats = pd.read_pickle(path)\n",
    "    all_stats_acc.append(stats['accuracy'])\n"
   ]
  },
  {
   "cell_type": "code",
   "execution_count": 9,
   "metadata": {},
   "outputs": [],
   "source": [
    "df_val = df_val.drop_duplicates('label')\n",
    "df_val_classes = df_val[['class', 'label']]\n",
    "\n",
    "label_list = list(df_val_classes['label'])\n",
    "\n",
    "all_acc_list = []\n",
    "for i in range(len(all_stats_acc)):\n",
    "    accuracy_list = [all_stats_acc[i][cl] for cl in label_list]\n",
    "    all_acc_list.append(accuracy_list)\n",
    "\n",
    "for i in range(len(all_acc_list)):\n",
    "    col_name = f\"accuracy_{i}\"\n",
    "    df_val_classes.insert(2, col_name, all_acc_list[i], True)   "
   ]
  },
  {
   "cell_type": "code",
   "execution_count": 11,
   "metadata": {},
   "outputs": [
    {
     "name": "stdout",
     "output_type": "stream",
     "text": [
      "Accruracy for each run :  [87.67524938300105, 87.8534670537061, 87.53663514392211]\n",
      "Mean accuracy across runs :  87.68845052687642\n"
     ]
    }
   ],
   "source": [
    "df_base = df_val_classes.copy()\n",
    "\n",
    "cols = [f\"accuracy_{i}\" for i in range(len(all_acc_list))]\n",
    "mean_accs = []\n",
    "for c in cols:\n",
    "    t_acc = df_base[c].mean()\n",
    "    mean_accs.append(t_acc)\n",
    "print(\"Accruracy for each run : \", mean_accs)\n",
    "mean_accs = np.asarray(mean_accs)\n",
    "print(\"Mean accuracy across runs : \", np.mean(mean_accs))"
   ]
  },
  {
   "cell_type": "code",
   "execution_count": null,
   "metadata": {},
   "outputs": [],
   "source": []
  },
  {
   "cell_type": "markdown",
   "metadata": {},
   "source": [
    "# Augmented runs"
   ]
  },
  {
   "cell_type": "code",
   "execution_count": 13,
   "metadata": {},
   "outputs": [],
   "source": [
    "base_dir = \"/bigstor/zsarwar/Enola_Augmented/MT_food101_full_101_f739c19e1aeeaea18c60b1bf802b05db\"\n",
    "\n",
    "runs = [\n",
    "    \"MT_Augmented_91a164d071c3dc8f5b02b791dae46f2e/Metrics\", # 40\n",
    "    \"MT_Augmented_ff2c3d0212272170be19b351145f4317/Metrics\", # 80\n",
    "    \"MT_Augmented_493f646c718adf1273403af48eea6b05/Metrics\" # 60\n",
    "]\n",
    "\n",
    "\n",
    "stats_filename = \"agg_class_stats.pkl\"\n",
    "\n",
    "# Load labels\n",
    "#val_path = \"/bigstor/zsarwar/Imagenet/DF/df_imagenet_dogs_val.pkl\"\n",
    "val_path = \"/bigstor/common_data/food_101/DF/df_food101_val.pkl\"\n",
    "df_val = pd.read_pickle(val_path)"
   ]
  },
  {
   "cell_type": "code",
   "execution_count": 14,
   "metadata": {},
   "outputs": [],
   "source": [
    "all_stats_paths = []\n",
    "for r in runs:\n",
    "    stats_path = os.path.join(base_dir, r, stats_filename)\n",
    "    all_stats_paths.append(stats_path)\n",
    "    \n",
    "all_stats_acc = []\n",
    "for path in all_stats_paths:\n",
    "    stats = pd.read_pickle(path)\n",
    "    all_stats_acc.append(stats['accuracy'])\n"
   ]
  },
  {
   "cell_type": "code",
   "execution_count": 15,
   "metadata": {},
   "outputs": [],
   "source": [
    "df_val = df_val.drop_duplicates('label')\n",
    "df_val_classes = df_val[['class', 'label']]\n",
    "\n",
    "label_list = list(df_val_classes['label'])\n",
    "\n",
    "all_acc_list = []\n",
    "for i in range(len(all_stats_acc)):\n",
    "    accuracy_list = [all_stats_acc[i][cl] for cl in label_list]\n",
    "    all_acc_list.append(accuracy_list)\n",
    "\n",
    "for i in range(len(all_acc_list)):\n",
    "    col_name = f\"accuracy_{i}\"\n",
    "    df_val_classes.insert(2, col_name, all_acc_list[i], True)   \n",
    "#df_val_classes.insert(2, \"accuracy\", accuracy_list, True)"
   ]
  },
  {
   "cell_type": "code",
   "execution_count": 16,
   "metadata": {},
   "outputs": [
    {
     "name": "stdout",
     "output_type": "stream",
     "text": [
      "Accruracy for each run :  [87.73069457252427, 87.69505075889059, 86.94653637574451]\n",
      "Mean accuracy across runs :  87.4574272357198\n"
     ]
    }
   ],
   "source": [
    "df_aug = df_val_classes.copy()\n",
    "\n",
    "cols = [f\"accuracy_{i}\" for i in range(len(all_acc_list))]\n",
    "df_aug['accuracy_0'].mean()\n",
    "mean_accs = []\n",
    "for c in cols:\n",
    "    t_acc = df_aug[c].mean()\n",
    "    mean_accs.append(t_acc)\n",
    "print(\"Accruracy for each run : \", mean_accs)\n",
    "mean_accs = np.asarray(mean_accs)\n",
    "print(\"Mean accuracy across runs : \", np.mean(mean_accs))"
   ]
  },
  {
   "cell_type": "markdown",
   "metadata": {},
   "source": [
    "# DF EMP"
   ]
  },
  {
   "cell_type": "code",
   "execution_count": 17,
   "metadata": {},
   "outputs": [],
   "source": [
    "all_emp_paths = []\n",
    "for r in dhard_runs:\n",
    "    emp_path = os.path.join(dhard_base, r)\n",
    "    all_emp_paths.append(emp_path)\n",
    "    \n",
    "all_df_emps = []\n",
    "\n",
    "for p in all_emp_paths:\n",
    "    df_emp = pd.read_pickle(p)\n",
    "    all_df_emps.append(df_emp)\n"
   ]
  },
  {
   "cell_type": "code",
   "execution_count": 18,
   "metadata": {},
   "outputs": [],
   "source": [
    "all_emp_classes = []\n",
    "for i in range(len(all_df_emps)):\n",
    "    emp_classes = all_df_emps[i]['class'].unique().tolist()\n",
    "    all_emp_classes.append(emp_classes)"
   ]
  },
  {
   "cell_type": "code",
   "execution_count": 19,
   "metadata": {},
   "outputs": [],
   "source": [
    "all_acc_diffs = []\n",
    "for i in range(len(all_emp_classes)):\n",
    "    col_name = f\"accuracy_{i}\"\n",
    "    col_diff = df_aug[df_aug['class'].isin(all_emp_classes[i])][col_name] - df_base[df_base['class'].isin(all_emp_classes[i])][col_name]\n",
    "    col_diff_sum = col_diff.sum()\n",
    "    all_acc_diffs.append(col_diff_sum)\n",
    "\n"
   ]
  },
  {
   "cell_type": "code",
   "execution_count": 20,
   "metadata": {},
   "outputs": [
    {
     "data": {
      "text/html": [
       "<div>\n",
       "<style scoped>\n",
       "    .dataframe tbody tr th:only-of-type {\n",
       "        vertical-align: middle;\n",
       "    }\n",
       "\n",
       "    .dataframe tbody tr th {\n",
       "        vertical-align: top;\n",
       "    }\n",
       "\n",
       "    .dataframe thead th {\n",
       "        text-align: right;\n",
       "    }\n",
       "</style>\n",
       "<table border=\"1\" class=\"dataframe\">\n",
       "  <thead>\n",
       "    <tr style=\"text-align: right;\">\n",
       "      <th></th>\n",
       "      <th>class</th>\n",
       "      <th>label</th>\n",
       "      <th>accuracy_2</th>\n",
       "      <th>accuracy_1</th>\n",
       "      <th>accuracy_0</th>\n",
       "    </tr>\n",
       "  </thead>\n",
       "  <tbody>\n",
       "    <tr>\n",
       "      <th>ceviche/42489.jpg</th>\n",
       "      <td>Ceviche</td>\n",
       "      <td>15</td>\n",
       "      <td>86.800003</td>\n",
       "      <td>82.400002</td>\n",
       "      <td>80.000000</td>\n",
       "    </tr>\n",
       "    <tr>\n",
       "      <th>huevos_rancheros/883821.jpg</th>\n",
       "      <td>Huevos rancheros</td>\n",
       "      <td>56</td>\n",
       "      <td>82.400002</td>\n",
       "      <td>80.000000</td>\n",
       "      <td>80.800003</td>\n",
       "    </tr>\n",
       "    <tr>\n",
       "      <th>tiramisu/3041535.jpg</th>\n",
       "      <td>Tiramisu</td>\n",
       "      <td>98</td>\n",
       "      <td>82.400002</td>\n",
       "      <td>82.800003</td>\n",
       "      <td>85.200005</td>\n",
       "    </tr>\n",
       "    <tr>\n",
       "      <th>garlic_bread/2981508.jpg</th>\n",
       "      <td>Garlic bread</td>\n",
       "      <td>46</td>\n",
       "      <td>85.599998</td>\n",
       "      <td>84.800003</td>\n",
       "      <td>84.000000</td>\n",
       "    </tr>\n",
       "    <tr>\n",
       "      <th>apple_pie/1272958.jpg</th>\n",
       "      <td>Apple pie</td>\n",
       "      <td>0</td>\n",
       "      <td>76.000000</td>\n",
       "      <td>78.000000</td>\n",
       "      <td>72.000000</td>\n",
       "    </tr>\n",
       "    <tr>\n",
       "      <th>filet_mignon/2325804.jpg</th>\n",
       "      <td>Filet mignon</td>\n",
       "      <td>37</td>\n",
       "      <td>81.200005</td>\n",
       "      <td>83.200005</td>\n",
       "      <td>83.200005</td>\n",
       "    </tr>\n",
       "    <tr>\n",
       "      <th>crab_cakes/943630.jpg</th>\n",
       "      <td>Crab cakes</td>\n",
       "      <td>26</td>\n",
       "      <td>85.599998</td>\n",
       "      <td>82.000000</td>\n",
       "      <td>85.599998</td>\n",
       "    </tr>\n",
       "    <tr>\n",
       "      <th>lasagna/207825.jpg</th>\n",
       "      <td>Lasagna</td>\n",
       "      <td>59</td>\n",
       "      <td>84.800003</td>\n",
       "      <td>83.200005</td>\n",
       "      <td>86.400002</td>\n",
       "    </tr>\n",
       "    <tr>\n",
       "      <th>cheesecake/2574796.jpg</th>\n",
       "      <td>Cheesecake</td>\n",
       "      <td>16</td>\n",
       "      <td>79.200005</td>\n",
       "      <td>84.800003</td>\n",
       "      <td>81.599998</td>\n",
       "    </tr>\n",
       "    <tr>\n",
       "      <th>french_toast/3493695.jpg</th>\n",
       "      <td>French toast</td>\n",
       "      <td>42</td>\n",
       "      <td>80.800003</td>\n",
       "      <td>86.800003</td>\n",
       "      <td>86.800003</td>\n",
       "    </tr>\n",
       "  </tbody>\n",
       "</table>\n",
       "</div>"
      ],
      "text/plain": [
       "                                        class  label  accuracy_2  accuracy_1  \\\n",
       "ceviche/42489.jpg                     Ceviche     15   86.800003   82.400002   \n",
       "huevos_rancheros/883821.jpg  Huevos rancheros     56   82.400002   80.000000   \n",
       "tiramisu/3041535.jpg                 Tiramisu     98   82.400002   82.800003   \n",
       "garlic_bread/2981508.jpg         Garlic bread     46   85.599998   84.800003   \n",
       "apple_pie/1272958.jpg               Apple pie      0   76.000000   78.000000   \n",
       "filet_mignon/2325804.jpg         Filet mignon     37   81.200005   83.200005   \n",
       "crab_cakes/943630.jpg              Crab cakes     26   85.599998   82.000000   \n",
       "lasagna/207825.jpg                    Lasagna     59   84.800003   83.200005   \n",
       "cheesecake/2574796.jpg             Cheesecake     16   79.200005   84.800003   \n",
       "french_toast/3493695.jpg         French toast     42   80.800003   86.800003   \n",
       "\n",
       "                             accuracy_0  \n",
       "ceviche/42489.jpg             80.000000  \n",
       "huevos_rancheros/883821.jpg   80.800003  \n",
       "tiramisu/3041535.jpg          85.200005  \n",
       "garlic_bread/2981508.jpg      84.000000  \n",
       "apple_pie/1272958.jpg         72.000000  \n",
       "filet_mignon/2325804.jpg      83.200005  \n",
       "crab_cakes/943630.jpg         85.599998  \n",
       "lasagna/207825.jpg            86.400002  \n",
       "cheesecake/2574796.jpg        81.599998  \n",
       "french_toast/3493695.jpg      86.800003  "
      ]
     },
     "execution_count": 20,
     "metadata": {},
     "output_type": "execute_result"
    }
   ],
   "source": [
    "df_aug[df_aug['class'].isin(all_emp_classes[0])]"
   ]
  },
  {
   "cell_type": "code",
   "execution_count": 21,
   "metadata": {},
   "outputs": [
    {
     "data": {
      "text/plain": [
       "57.199989318847656"
      ]
     },
     "execution_count": 21,
     "metadata": {},
     "output_type": "execute_result"
    }
   ],
   "source": [
    "(df_aug[df_aug['class'].isin(all_emp_classes[0])]['accuracy_0'] - df_base[df_base['class'].isin(all_emp_classes[0])]['accuracy_0']).sum()"
   ]
  },
  {
   "cell_type": "code",
   "execution_count": 23,
   "metadata": {},
   "outputs": [
    {
     "data": {
      "text/plain": [
       "6.5037036471896705"
      ]
     },
     "execution_count": 23,
     "metadata": {},
     "output_type": "execute_result"
    }
   ],
   "source": [
    "sum(all_acc_diffs)  / 3 /  9"
   ]
  },
  {
   "cell_type": "code",
   "execution_count": 24,
   "metadata": {},
   "outputs": [
    {
     "data": {
      "text/plain": [
       "[57.199989318847656, 57.600006103515625, 60.80000305175781]"
      ]
     },
     "execution_count": 24,
     "metadata": {},
     "output_type": "execute_result"
    }
   ],
   "source": [
    "all_acc_diffs"
   ]
  },
  {
   "cell_type": "code",
   "execution_count": 26,
   "metadata": {},
   "outputs": [
    {
     "data": {
      "text/plain": [
       "58.53333282470703"
      ]
     },
     "execution_count": 26,
     "metadata": {},
     "output_type": "execute_result"
    }
   ],
   "source": [
    "sum(all_acc_diffs) / 3\n"
   ]
  },
  {
   "cell_type": "code",
   "execution_count": null,
   "metadata": {},
   "outputs": [],
   "source": []
  },
  {
   "cell_type": "code",
   "execution_count": null,
   "metadata": {},
   "outputs": [],
   "source": []
  },
  {
   "cell_type": "code",
   "execution_count": null,
   "metadata": {},
   "outputs": [],
   "source": []
  },
  {
   "cell_type": "code",
   "execution_count": null,
   "metadata": {},
   "outputs": [],
   "source": []
  },
  {
   "cell_type": "code",
   "execution_count": null,
   "metadata": {},
   "outputs": [],
   "source": []
  },
  {
   "cell_type": "code",
   "execution_count": null,
   "metadata": {},
   "outputs": [],
   "source": []
  },
  {
   "cell_type": "code",
   "execution_count": null,
   "metadata": {},
   "outputs": [],
   "source": []
  },
  {
   "cell_type": "code",
   "execution_count": null,
   "metadata": {},
   "outputs": [],
   "source": []
  },
  {
   "cell_type": "code",
   "execution_count": null,
   "metadata": {},
   "outputs": [],
   "source": []
  },
  {
   "cell_type": "code",
   "execution_count": null,
   "metadata": {},
   "outputs": [],
   "source": []
  },
  {
   "cell_type": "code",
   "execution_count": null,
   "metadata": {},
   "outputs": [],
   "source": []
  },
  {
   "cell_type": "code",
   "execution_count": null,
   "metadata": {},
   "outputs": [],
   "source": []
  },
  {
   "cell_type": "code",
   "execution_count": null,
   "metadata": {},
   "outputs": [],
   "source": []
  },
  {
   "cell_type": "markdown",
   "metadata": {},
   "source": [
    "# Unicom retrievals"
   ]
  },
  {
   "cell_type": "code",
   "execution_count": 24,
   "metadata": {},
   "outputs": [],
   "source": [
    "df_uni = pd.read_pickle(\"/bigstor/zsarwar/Enola_Augmented/MT_food101_full_101_f739c19e1aeeaea18c60b1bf802b05db/Unicom/df_uecfood256_full_5380bfbd4407e03050ed26afbb98e440_74d7170cc8af0b8340d0290b43517cd1_58c5118d18fa07649b578fd9744876b2.pkl\")"
   ]
  },
  {
   "cell_type": "markdown",
   "metadata": {},
   "source": [
    "# Visualize DHard vs D_Retrieved"
   ]
  },
  {
   "cell_type": "code",
   "execution_count": 53,
   "metadata": {},
   "outputs": [],
   "source": [
    "df_uni = pd.read_pickle(\"/bigstor/zsarwar/Enola_Augmented/MT_food101_full_101_f739c19e1aeeaea18c60b1bf802b05db/Unicom/df_uecfood256_full_5380bfbd4407e03050ed26afbb98e440_74d7170cc8af0b8340d0290b43517cd1_58c5118d18fa07649b578fd9744876b2.pkl\")"
   ]
  },
  {
   "cell_type": "code",
   "execution_count": null,
   "metadata": {},
   "outputs": [],
   "source": []
  },
  {
   "cell_type": "code",
   "execution_count": 3,
   "metadata": {},
   "outputs": [],
   "source": [
    "#Augmented Labels\n",
    "df_dhard = pd.read_pickle(\"/bigstor/zsarwar/Enola_Augmented/MT_food101_full_101_f739c19e1aeeaea18c60b1bf802b05db/Datasets/df_food101_val_test_empirical_35d052c2a3ff5225c6d663d84afbb33c.pkl\")\n",
    "#df_labels = df_labels.drop_duplicates('label')\n",
    "dhard_labels = df_dhard['label'].unique().tolist()"
   ]
  },
  {
   "cell_type": "code",
   "execution_count": 4,
   "metadata": {},
   "outputs": [
    {
     "data": {
      "text/plain": [
       "'/bigstor/common_data/food_101/food-101/images/apple_pie/229142.jpg'"
      ]
     },
     "execution_count": 4,
     "metadata": {},
     "output_type": "execute_result"
    }
   ],
   "source": [
    "df_dhard[df_dhard['class'] == 'Apple pie']['img_path'][1]"
   ]
  },
  {
   "cell_type": "code",
   "execution_count": null,
   "metadata": {},
   "outputs": [],
   "source": [
    "all_images = df_dhard[df_dhard['label'] == dhard_labels[7]]['img_path'].tolist()\n",
    "# Visualize samples\n",
    "for i, im_path in enumerate(all_images[0:50]):\n",
    "    img = mpimg.imread(im_path)\n",
    "    plt.axis('off')\n",
    "    imgplot = plt.imshow(img)\n",
    "    plt.figure()\n",
    "    plt.clf()"
   ]
  },
  {
   "cell_type": "code",
   "execution_count": 10,
   "metadata": {},
   "outputs": [],
   "source": [
    "# DF_Retrieved\n",
    "#Augmented Labels\n",
    "df_augmented = pd.read_pickle(\"/bigstor/zsarwar/Enola_Augmented/MT_food101_full_101_f739c19e1aeeaea18c60b1bf802b05db/Unicom/df_uecfood256_full_5380bfbd4407e03050ed26afbb98e440_74d7170cc8af0b8340d0290b43517cd1_58c5118d18fa07649b578fd9744876b2.pkl\")\n",
    "#df_labels = df_labels.drop_duplicates('label')\n",
    "augmented_labels = df_augmented['label'].unique().tolist()"
   ]
  },
  {
   "cell_type": "code",
   "execution_count": null,
   "metadata": {},
   "outputs": [],
   "source": [
    "all_images = df_augmented[df_augmented['label'] == dhard_labels[7]]['img_path'].tolist()\n",
    "# Visualize samples\n",
    "for i, im_path in enumerate(all_images[0:50]):\n",
    "    img = mpimg.imread(im_path)\n",
    "    plt.axis('off')\n",
    "    imgplot = plt.imshow(img)\n",
    "    plt.figure()\n",
    "    plt.clf()"
   ]
  },
  {
   "cell_type": "code",
   "execution_count": null,
   "metadata": {},
   "outputs": [],
   "source": []
  }
 ],
 "metadata": {
  "kernelspec": {
   "display_name": "ffcv_2",
   "language": "python",
   "name": "python3"
  },
  "language_info": {
   "codemirror_mode": {
    "name": "ipython",
    "version": 3
   },
   "file_extension": ".py",
   "mimetype": "text/x-python",
   "name": "python",
   "nbconvert_exporter": "python",
   "pygments_lexer": "ipython3",
   "version": "3.9.16"
  }
 },
 "nbformat": 4,
 "nbformat_minor": 2
}

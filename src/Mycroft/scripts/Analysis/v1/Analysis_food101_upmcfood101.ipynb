{
 "cells": [
  {
   "cell_type": "code",
   "execution_count": 1,
   "metadata": {},
   "outputs": [],
   "source": [
    "import pickle\n",
    "import pandas as pd\n",
    "import numpy as np\n",
    "import os\n",
    "import matplotlib.pyplot as plt\n",
    "import matplotlib.image as mpimg\n"
   ]
  },
  {
   "cell_type": "code",
   "execution_count": 2,
   "metadata": {},
   "outputs": [],
   "source": [
    "pd.options.display.max_rows = 999"
   ]
  },
  {
   "cell_type": "markdown",
   "metadata": {},
   "source": [
    "# UNICOM\n"
   ]
  },
  {
   "cell_type": "markdown",
   "metadata": {},
   "source": [
    "# Baseline runs"
   ]
  },
  {
   "cell_type": "code",
   "execution_count": 42,
   "metadata": {},
   "outputs": [],
   "source": [
    "base_dir = \"/bigstor/zsarwar/Enola_Augmented/MT_food101_full_101_f739c19e1aeeaea18c60b1bf802b05db\"\n",
    "\n",
    "runs   = [\"MT_Baseline_075a3dd4b758bf1dc5f8e45e79b19d95/Metrics\",\n",
    "            #\"MT_Baseline_a868a1618372a781faedfcb1574f5c16/Metrics\",\n",
    "            #\"MT_Baseline_d3317989a1c88c7af2f103c891d82303/Metrics\",\n",
    "            \"MT_Baseline_8915e10296bdf7f70fb9b4bfed4f45fe/Metrics\",\n",
    "            \"MT_Baseline_7e0b9b0a19780ab4210dd40fe629df3f/Metrics\",\n",
    "            #\"MT_Baseline_502f2caf9f8344e812c646aeb377bea4/Metrics\",\n",
    "            #\"MT_Baseline_9c0f9242df2e4fadbb9ea6c525458a04/Metrics\"]\n",
    "        ]\n",
    "\n",
    "stats_filename = \"agg_class_stats.pkl\"\n",
    "\n",
    "dhard_base = \"/bigstor/zsarwar/Enola_Augmented/MT_food101_full_101_f739c19e1aeeaea18c60b1bf802b05db/Datasets\"\n",
    "\n",
    "dhard_runs = [\"df_food101_val_test_empirical_075a3dd4b758bf1dc5f8e45e79b19d95.pkl\",\n",
    "              #\"df_food101_val_test_empirical_a868a1618372a781faedfcb1574f5c16.pkl\",\n",
    "              #\"df_food101_val_test_empirical_d3317989a1c88c7af2f103c891d82303.pkl\",\n",
    "              \"df_food101_val_test_empirical_8915e10296bdf7f70fb9b4bfed4f45fe.pkl\",\n",
    "              \"df_food101_val_test_empirical_7e0b9b0a19780ab4210dd40fe629df3f.pkl\",\n",
    "              #\"df_food101_val_test_empirical_502f2caf9f8344e812c646aeb377bea4.pkl\",\n",
    "              #\"df_food101_val_test_empirical_9c0f9242df2e4fadbb9ea6c525458a04.pkl\"\n",
    "              ]\n",
    "\n",
    "# Load labels\n",
    "val_path = \"/bigstor/common_data/food_101/DF/df_food101_val.pkl\"\n",
    "df_val = pd.read_pickle(val_path)"
   ]
  },
  {
   "cell_type": "code",
   "execution_count": null,
   "metadata": {},
   "outputs": [],
   "source": []
  },
  {
   "cell_type": "code",
   "execution_count": 43,
   "metadata": {},
   "outputs": [],
   "source": [
    "all_stats_paths = []\n",
    "for r in runs:\n",
    "    stats_path = os.path.join(base_dir, r, stats_filename)\n",
    "    all_stats_paths.append(stats_path)\n",
    "    \n",
    "\n",
    "all_stats_acc = []\n",
    "for path in all_stats_paths:\n",
    "    stats = pd.read_pickle(path)\n",
    "    all_stats_acc.append(stats['accuracy'])\n"
   ]
  },
  {
   "cell_type": "code",
   "execution_count": 44,
   "metadata": {},
   "outputs": [],
   "source": [
    "df_val = df_val.drop_duplicates('label')\n",
    "df_val_classes = df_val[['class', 'label']]\n",
    "\n",
    "label_list = list(df_val_classes['label'])\n",
    "\n",
    "all_acc_list = []\n",
    "for i in range(len(all_stats_acc)):\n",
    "    accuracy_list = [all_stats_acc[i][cl] for cl in label_list]\n",
    "    all_acc_list.append(accuracy_list)\n",
    "\n",
    "for i in range(len(all_acc_list)):\n",
    "    col_name = f\"accuracy_{i}\"\n",
    "    df_val_classes.insert(2, col_name, all_acc_list[i], True)   "
   ]
  },
  {
   "cell_type": "code",
   "execution_count": 45,
   "metadata": {},
   "outputs": [
    {
     "name": "stdout",
     "output_type": "stream",
     "text": [
      "Accruracy for each run :  [87.67524938300105, 87.53663514392211, 87.8534670537061]\n",
      "Mean accuracy across runs :  87.68845052687641\n"
     ]
    }
   ],
   "source": [
    "df_base = df_val_classes.copy()\n",
    "\n",
    "cols = [f\"accuracy_{i}\" for i in range(len(all_acc_list))]\n",
    "df_base['accuracy_0'].mean()\n",
    "mean_accs = []\n",
    "for c in cols:\n",
    "    t_acc = df_base[c].mean()\n",
    "    mean_accs.append(t_acc)\n",
    "print(\"Accruracy for each run : \", mean_accs)\n",
    "mean_accs = np.asarray(mean_accs)\n",
    "print(\"Mean accuracy across runs : \", np.mean(mean_accs))"
   ]
  },
  {
   "cell_type": "code",
   "execution_count": null,
   "metadata": {},
   "outputs": [],
   "source": []
  },
  {
   "cell_type": "markdown",
   "metadata": {},
   "source": [
    "# Augmented runs"
   ]
  },
  {
   "cell_type": "code",
   "execution_count": 46,
   "metadata": {},
   "outputs": [],
   "source": [
    "base_dir = \"/bigstor/zsarwar/Enola_Augmented/MT_food101_full_101_f739c19e1aeeaea18c60b1bf802b05db\"\n",
    "\n",
    "runs = [\n",
    "    \"MT_Augmented_d535b5cf7415268ffc6fe22ab5ee6551/Metrics\",\n",
    "    #\"MT_Augmented_643b7a20d32e7e013648822566befa49/Metrics\",\n",
    "    #\"MT_Augmented_fff47d2fe0c9ffd2a8ed8135e415e6ee/Metrics\",\n",
    "    \"MT_Augmented_ad8822c089a08cb8ef6de09732ca91a8/Metrics\",\n",
    "    \"MT_Augmented_01fd0865dfffcbc0c11bc6218e067299/Metrics\",\n",
    "    #\"MT_Augmented_fd9ca0c16420b86f762748b8d6f30362/Metrics\",\n",
    "    #\"MT_Augmented_9f9759dfcc654370b5a784fad25f6863/Metrics\"\n",
    "]\n",
    "\n",
    "\n",
    "stats_filename = \"agg_class_stats.pkl\"\n",
    "\n",
    "# Load labels\n",
    "#val_path = \"/bigstor/zsarwar/Imagenet/DF/df_imagenet_dogs_val.pkl\"\n",
    "val_path = \"/bigstor/common_data/food_101/DF/df_food101_val.pkl\"\n",
    "df_val = pd.read_pickle(val_path)"
   ]
  },
  {
   "cell_type": "code",
   "execution_count": 47,
   "metadata": {},
   "outputs": [],
   "source": [
    "all_stats_paths = []\n",
    "for r in runs:\n",
    "    stats_path = os.path.join(base_dir, r, stats_filename)\n",
    "    all_stats_paths.append(stats_path)\n",
    "    \n",
    "all_stats_acc = []\n",
    "for path in all_stats_paths:\n",
    "    stats = pd.read_pickle(path)\n",
    "    all_stats_acc.append(stats['accuracy'])\n"
   ]
  },
  {
   "cell_type": "code",
   "execution_count": 48,
   "metadata": {},
   "outputs": [],
   "source": [
    "df_val = df_val.drop_duplicates('label')\n",
    "df_val_classes = df_val[['class', 'label']]\n",
    "\n",
    "label_list = list(df_val_classes['label'])\n",
    "\n",
    "all_acc_list = []\n",
    "for i in range(len(all_stats_acc)):\n",
    "    accuracy_list = [all_stats_acc[i][cl] for cl in label_list]\n",
    "    all_acc_list.append(accuracy_list)\n",
    "\n",
    "for i in range(len(all_acc_list)):\n",
    "    col_name = f\"accuracy_{i}\"\n",
    "    df_val_classes.insert(2, col_name, all_acc_list[i], True)   \n",
    "#df_val_classes.insert(2, \"accuracy\", accuracy_list, True)"
   ]
  },
  {
   "cell_type": "code",
   "execution_count": 49,
   "metadata": {},
   "outputs": [
    {
     "name": "stdout",
     "output_type": "stream",
     "text": [
      "Accruracy for each run :  [87.80198182209884, 87.52079361264069, 87.86138753607722]\n",
      "Mean accuracy across runs :  87.72805432360558\n"
     ]
    }
   ],
   "source": [
    "df_aug = df_val_classes.copy()\n",
    "\n",
    "cols = [f\"accuracy_{i}\" for i in range(len(all_acc_list))]\n",
    "df_aug['accuracy_0'].mean()\n",
    "mean_accs = []\n",
    "for c in cols:\n",
    "    t_acc = df_aug[c].mean()\n",
    "    mean_accs.append(t_acc)\n",
    "print(\"Accruracy for each run : \", mean_accs)\n",
    "mean_accs = np.asarray(mean_accs)\n",
    "print(\"Mean accuracy across runs : \", np.mean(mean_accs))"
   ]
  },
  {
   "cell_type": "markdown",
   "metadata": {},
   "source": [
    "# DF EMP"
   ]
  },
  {
   "cell_type": "code",
   "execution_count": 50,
   "metadata": {},
   "outputs": [],
   "source": [
    "all_emp_paths = []\n",
    "for r in dhard_runs:\n",
    "    emp_path = os.path.join(dhard_base, r)\n",
    "    all_emp_paths.append(emp_path)\n",
    "    \n",
    "all_df_emps = []\n",
    "\n",
    "for p in all_emp_paths:\n",
    "    df_emp = pd.read_pickle(p)\n",
    "    all_df_emps.append(df_emp)\n"
   ]
  },
  {
   "cell_type": "code",
   "execution_count": 51,
   "metadata": {},
   "outputs": [],
   "source": [
    "all_emp_classes = []\n",
    "for i in range(len(all_df_emps)):\n",
    "    emp_classes = all_df_emps[i]['class'].unique().tolist()\n",
    "    all_emp_classes.append(emp_classes)"
   ]
  },
  {
   "cell_type": "code",
   "execution_count": 52,
   "metadata": {},
   "outputs": [],
   "source": [
    "all_acc_diffs = []\n",
    "for i in range(len(all_emp_classes)):\n",
    "    col_name = f\"accuracy_{i}\"\n",
    "    col_diff = df_aug[df_aug['class'].isin(all_emp_classes[i])][col_name] - df_base[df_base['class'].isin(all_emp_classes[i])][col_name]\n",
    "    col_diff_sum = col_diff.sum()\n",
    "    all_acc_diffs.append(col_diff_sum)\n",
    "\n"
   ]
  },
  {
   "cell_type": "code",
   "execution_count": 53,
   "metadata": {},
   "outputs": [
    {
     "data": {
      "text/plain": [
       "[101.9999885559082, 99.60000991821289, 78.39998245239258]"
      ]
     },
     "execution_count": 53,
     "metadata": {},
     "output_type": "execute_result"
    }
   ],
   "source": [
    "all_acc_diffs"
   ]
  },
  {
   "cell_type": "code",
   "execution_count": 54,
   "metadata": {},
   "outputs": [
    {
     "data": {
      "text/plain": [
       "ice_cream/3315881.jpg          4.400002\n",
       "ceviche/42489.jpg              1.599998\n",
       "huevos_rancheros/883821.jpg    7.200005\n",
       "pork_chop/245214.jpg           6.000000\n",
       "chicken_curry/1346888.jpg      5.199997\n",
       "tuna_tartare/1959450.jpg       7.600006\n",
       "ravioli/1103898.jpg            4.000000\n",
       "garlic_bread/2981508.jpg       6.000000\n",
       "apple_pie/1272958.jpg          7.199997\n",
       "filet_mignon/2325804.jpg       2.000000\n",
       "chocolate_mousse/612385.jpg    7.199997\n",
       "steak/27415.jpg                5.200001\n",
       "crab_cakes/943630.jpg          2.000000\n",
       "omelette/2898508.jpg           6.400002\n",
       "lasagna/207825.jpg             0.800003\n",
       "cheesecake/2574796.jpg         7.599998\n",
       "foie_gras/1007306.jpg          6.000000\n",
       "gnocchi/119920.jpg             6.000000\n",
       "risotto/2765043.jpg            6.400002\n",
       "bread_pudding/1436760.jpg      0.800003\n",
       "Name: accuracy_1, dtype: float64"
      ]
     },
     "execution_count": 54,
     "metadata": {},
     "output_type": "execute_result"
    }
   ],
   "source": [
    "df_aug[df_aug['class'].isin(all_emp_classes[1])]['accuracy_1'] - df_base[df_base['class'].isin(all_emp_classes[1])]['accuracy_1']"
   ]
  },
  {
   "cell_type": "code",
   "execution_count": 18,
   "metadata": {},
   "outputs": [
    {
     "data": {
      "text/plain": [
       "4.6666663487752285"
      ]
     },
     "execution_count": 18,
     "metadata": {},
     "output_type": "execute_result"
    }
   ],
   "source": [
    "(sum(all_acc_diffs) / 3) / 20"
   ]
  },
  {
   "cell_type": "code",
   "execution_count": 55,
   "metadata": {},
   "outputs": [
    {
     "data": {
      "text/plain": [
       "french_onion_soup/2993508.jpg         -1.599998\n",
       "beignets/847393.jpg                   -0.400002\n",
       "falafel/1286955.jpg                   -2.400002\n",
       "escargots/1376753.jpg                 -0.800003\n",
       "fried_rice/2407861.jpg                -3.599998\n",
       "churros/274692.jpg                     0.000000\n",
       "ice_cream/3315881.jpg                 10.000000\n",
       "ceviche/42489.jpg                      4.000000\n",
       "french_fries/2913911.jpg               0.000000\n",
       "shrimp_and_grits/176613.jpg           -1.199997\n",
       "caprese_salad/3888592.jpg             -0.400002\n",
       "chicken_wings/2509984.jpg              1.199997\n",
       "fried_calamari/3674776.jpg            -0.800003\n",
       "spaghetti_carbonara/884965.jpg         0.399994\n",
       "spring_rolls/2078556.jpg               0.799995\n",
       "huevos_rancheros/883821.jpg            8.400002\n",
       "bruschetta/912428.jpg                 -1.599998\n",
       "sushi/1457312.jpg                     -0.799995\n",
       "pork_chop/245214.jpg                   7.200005\n",
       "donuts/2887204.jpg                     0.000000\n",
       "club_sandwich/970294.jpg              -1.599998\n",
       "pizza/3827990.jpg                     -2.000000\n",
       "sashimi/3686273.jpg                   -0.400002\n",
       "grilled_cheese_sandwich/473381.jpg    -1.599998\n",
       "strawberry_shortcake/2576734.jpg      -3.199997\n",
       "pho/163128.jpg                        -0.799995\n",
       "hot_and_sour_soup/1864685.jpg          0.399994\n",
       "takoyaki/3609028.jpg                   0.000000\n",
       "hot_dog/2553535.jpg                   -2.000000\n",
       "frozen_yogurt/185773.jpg              -0.400002\n",
       "tiramisu/3041535.jpg                   4.800003\n",
       "macarons/1005656.jpg                   0.000000\n",
       "beef_carpaccio/3057236.jpg             0.399994\n",
       "chicken_curry/1346888.jpg              3.599998\n",
       "tuna_tartare/1959450.jpg               5.599998\n",
       "poutine/184084.jpg                    -0.400002\n",
       "baklava/2662831.jpg                   -1.199997\n",
       "ravioli/1103898.jpg                    8.800003\n",
       "panna_cotta/3746420.jpg               -4.000000\n",
       "garlic_bread/2981508.jpg               2.799995\n",
       "cup_cakes/492343.jpg                  -0.800003\n",
       "guacamole/494617.jpg                   0.400002\n",
       "cannoli/2809497.jpg                   -0.400002\n",
       "miso_soup/1074122.jpg                  0.400002\n",
       "pancakes/261532.jpg                   -0.800003\n",
       "cheese_plate/543593.jpg               -0.400002\n",
       "tacos/467930.jpg                      -1.199997\n",
       "grilled_salmon/3058966.jpg            -6.000000\n",
       "hamburger/3577939.jpg                  0.000000\n",
       "beef_tartare/2731908.jpg              -2.800003\n",
       "edamame/2263853.jpg                    0.000000\n",
       "pulled_pork_sandwich/3825873.jpg      -1.199997\n",
       "apple_pie/1272958.jpg                  0.799995\n",
       "paella/3772674.jpg                    -1.599998\n",
       "samosa/1061284.jpg                    -0.400002\n",
       "pad_thai/517387.jpg                    0.000000\n",
       "mussels/362356.jpg                     0.000000\n",
       "clam_chowder/770062.jpg               -0.400002\n",
       "dumplings/188495.jpg                   0.000000\n",
       "hummus/2884441.jpg                     0.000000\n",
       "red_velvet_cake/66489.jpg             -1.599998\n",
       "waffles/59277.jpg                     -1.199997\n",
       "greek_salad/2083010.jpg               -3.200005\n",
       "seaweed_salad/2014238.jpg              0.000000\n",
       "beet_salad/1912120.jpg                -2.000000\n",
       "lobster_roll_sandwich/548558.jpg      -0.400002\n",
       "macaroni_and_cheese/625676.jpg         0.000000\n",
       "fish_and_chips/2879070.jpg            -0.400002\n",
       "deviled_eggs/217992.jpg                0.000000\n",
       "onion_rings/3494133.jpg                0.800003\n",
       "breakfast_burrito/1590373.jpg         -1.199997\n",
       "spaghetti_bolognese/1598961.jpg       -0.400002\n",
       "chocolate_cake/1370651.jpg             5.599998\n",
       "lobster_bisque/378185.jpg             -0.400002\n",
       "gyoza/3294004.jpg                     -1.199997\n",
       "prime_rib/3922072.jpg                 -3.200005\n",
       "ramen/2981910.jpg                      1.200005\n",
       "caesar_salad/2656764.jpg              -0.400002\n",
       "filet_mignon/2325804.jpg               4.000000\n",
       "scallops/3874540.jpg                  -3.599998\n",
       "chocolate_mousse/612385.jpg           -8.799995\n",
       "chicken_quesadilla/2657851.jpg        -1.199997\n",
       "steak/27415.jpg                        5.200001\n",
       "crab_cakes/943630.jpg                  4.799995\n",
       "omelette/2898508.jpg                  -2.000000\n",
       "lasagna/207825.jpg                     2.799995\n",
       "cheesecake/2574796.jpg                 1.600006\n",
       "french_toast/3493695.jpg               4.000000\n",
       "carrot_cake/477397.jpg                -0.800003\n",
       "peking_duck/2951717.jpg               -1.199997\n",
       "bibimbap/2436230.jpg                   0.000000\n",
       "foie_gras/1007306.jpg                  3.199997\n",
       "gnocchi/119920.jpg                    -5.199997\n",
       "oysters/1785675.jpg                   -0.800003\n",
       "croque_madame/1554222.jpg             -0.400002\n",
       "baby_back_ribs/1022479.jpg            -5.599998\n",
       "creme_brulee/2152670.jpg               0.000000\n",
       "eggs_benedict/470093.jpg              -0.400002\n",
       "risotto/2765043.jpg                   10.799995\n",
       "nachos/3753454.jpg                    -2.400002\n",
       "bread_pudding/1436760.jpg              4.000000\n",
       "Name: accuracy_0, dtype: float64"
      ]
     },
     "execution_count": 55,
     "metadata": {},
     "output_type": "execute_result"
    }
   ],
   "source": [
    "df_aug['accuracy_0'] - df_base['accuracy_0']"
   ]
  },
  {
   "cell_type": "code",
   "execution_count": null,
   "metadata": {},
   "outputs": [],
   "source": []
  },
  {
   "cell_type": "code",
   "execution_count": null,
   "metadata": {},
   "outputs": [],
   "source": []
  },
  {
   "cell_type": "code",
   "execution_count": null,
   "metadata": {},
   "outputs": [],
   "source": []
  },
  {
   "cell_type": "code",
   "execution_count": null,
   "metadata": {},
   "outputs": [],
   "source": []
  },
  {
   "cell_type": "code",
   "execution_count": null,
   "metadata": {},
   "outputs": [],
   "source": []
  },
  {
   "cell_type": "markdown",
   "metadata": {},
   "source": [
    "# GRADMATCH"
   ]
  },
  {
   "cell_type": "markdown",
   "metadata": {},
   "source": [
    "# Baseline runs"
   ]
  },
  {
   "cell_type": "code",
   "execution_count": 20,
   "metadata": {},
   "outputs": [],
   "source": [
    "base_dir = \"/bigstor/zsarwar/Enola_Augmented/MT_food101_full_101_f739c19e1aeeaea18c60b1bf802b05db\"\n",
    "\n",
    "runs   = [\"MT_Baseline_075a3dd4b758bf1dc5f8e45e79b19d95/Metrics\",\n",
    "            \"MT_Baseline_8915e10296bdf7f70fb9b4bfed4f45fe/Metrics\",\n",
    "        ]\n",
    "\n",
    "stats_filename = \"agg_class_stats.pkl\"\n",
    "\n",
    "#dhard_base = \"/bigstor/zsarwar/Enola_Augmented/MT_food101_full_101_f739c19e1aeeaea18c60b1bf802b05db/Datasets\"\n",
    "dhard_base = \"/bigstor/zsarwar/Enola_Augmented/MT_food101_full_101_f739c19e1aeeaea18c60b1bf802b05db/GradMatch\"\n",
    "dhard_runs = [\n",
    "            \"df_upmcfood101_full_1707ca43a9ed0f95bee2a13e46fd0b4b_646655b271828b956d328c1ddc83ea36_b36e5a37e79e85ddf0540da91cbdc86c.pkl\",\n",
    "            \"df_upmcfood101_full_1707ca43a9ed0f95bee2a13e46fd0b4b_049df0b0d105bc430d71959349d49415_b36e5a37e79e85ddf0540da91cbdc86c.pkl\",\n",
    "\n",
    "            ]\n",
    "\n",
    "\n",
    "\n",
    "# Load labels\n",
    "val_path = \"/bigstor/common_data/food_101/DF/df_food101_val.pkl\"\n",
    "df_val = pd.read_pickle(val_path)"
   ]
  },
  {
   "cell_type": "code",
   "execution_count": 21,
   "metadata": {},
   "outputs": [],
   "source": [
    "all_stats_paths = []\n",
    "for r in runs:\n",
    "    stats_path = os.path.join(base_dir, r, stats_filename)\n",
    "    all_stats_paths.append(stats_path)\n",
    "    \n",
    "\n",
    "all_stats_acc = []\n",
    "for path in all_stats_paths:\n",
    "    stats = pd.read_pickle(path)\n",
    "    all_stats_acc.append(stats['accuracy'])\n"
   ]
  },
  {
   "cell_type": "code",
   "execution_count": 22,
   "metadata": {},
   "outputs": [],
   "source": [
    "df_val = df_val.drop_duplicates('label')\n",
    "df_val_classes = df_val[['class', 'label']]\n",
    "\n",
    "label_list = list(df_val_classes['label'])\n",
    "\n",
    "all_acc_list = []\n",
    "for i in range(len(all_stats_acc)):\n",
    "    accuracy_list = [all_stats_acc[i][cl] for cl in label_list]\n",
    "    all_acc_list.append(accuracy_list)\n",
    "\n",
    "for i in range(len(all_acc_list)):\n",
    "    col_name = f\"accuracy_{i}\"\n",
    "    df_val_classes.insert(2, col_name, all_acc_list[i], True)   "
   ]
  },
  {
   "cell_type": "code",
   "execution_count": 23,
   "metadata": {},
   "outputs": [
    {
     "name": "stdout",
     "output_type": "stream",
     "text": [
      "Accruracy for each run :  [87.67524938300105, 87.53663514392211]\n",
      "Mean accuracy across runs :  87.60594226346157\n"
     ]
    }
   ],
   "source": [
    "df_base = df_val_classes.copy()\n",
    "\n",
    "cols = [f\"accuracy_{i}\" for i in range(len(all_acc_list))]\n",
    "df_base['accuracy_0'].mean()\n",
    "mean_accs = []\n",
    "for c in cols:\n",
    "    t_acc = df_base[c].mean()\n",
    "    mean_accs.append(t_acc)\n",
    "print(\"Accruracy for each run : \", mean_accs)\n",
    "mean_accs = np.asarray(mean_accs)\n",
    "print(\"Mean accuracy across runs : \", np.mean(mean_accs))"
   ]
  },
  {
   "cell_type": "markdown",
   "metadata": {},
   "source": [
    "# Augmented runs"
   ]
  },
  {
   "cell_type": "code",
   "execution_count": 24,
   "metadata": {},
   "outputs": [],
   "source": [
    "base_dir = \"/bigstor/zsarwar/Enola_Augmented/MT_food101_full_101_f739c19e1aeeaea18c60b1bf802b05db\"\n",
    "\n",
    "runs = [\n",
    "    \"MT_Augmented_5380e6d952264296d4f49cdfe48bba7f/Metrics\",\n",
    "    \"MT_Augmented_794faec3b6195803596c671eb3244295/Metrics\",\n",
    "]\n",
    "\n",
    "\n",
    "stats_filename = \"agg_class_stats.pkl\"\n",
    "\n",
    "# Load labels\n",
    "val_path = \"/bigstor/common_data/food_101/DF/df_food101_val.pkl\"\n",
    "df_val = pd.read_pickle(val_path)"
   ]
  },
  {
   "cell_type": "code",
   "execution_count": 25,
   "metadata": {},
   "outputs": [],
   "source": [
    "all_stats_paths = []\n",
    "for r in runs:\n",
    "    stats_path = os.path.join(base_dir, r, stats_filename)\n",
    "    all_stats_paths.append(stats_path)\n",
    "    \n",
    "all_stats_acc = []\n",
    "for path in all_stats_paths:\n",
    "    stats = pd.read_pickle(path)\n",
    "    all_stats_acc.append(stats['accuracy'])\n"
   ]
  },
  {
   "cell_type": "code",
   "execution_count": 26,
   "metadata": {},
   "outputs": [],
   "source": [
    "df_val = df_val.drop_duplicates('label')\n",
    "df_val_classes = df_val[['class', 'label']]\n",
    "\n",
    "label_list = list(df_val_classes['label'])\n",
    "\n",
    "all_acc_list = []\n",
    "for i in range(len(all_stats_acc)):\n",
    "    accuracy_list = [all_stats_acc[i][cl] for cl in label_list]\n",
    "    all_acc_list.append(accuracy_list)\n",
    "\n",
    "for i in range(len(all_acc_list)):\n",
    "    col_name = f\"accuracy_{i}\"\n",
    "    df_val_classes.insert(2, col_name, all_acc_list[i], True)   \n",
    "#df_val_classes.insert(2, \"accuracy\", accuracy_list, True)"
   ]
  },
  {
   "cell_type": "code",
   "execution_count": 27,
   "metadata": {},
   "outputs": [
    {
     "name": "stdout",
     "output_type": "stream",
     "text": [
      "Accruracy for each run :  [87.78217980413153, 87.18019999135839]\n",
      "Mean accuracy across runs :  87.48118989774497\n"
     ]
    }
   ],
   "source": [
    "df_aug = df_val_classes.copy()\n",
    "\n",
    "cols = [f\"accuracy_{i}\" for i in range(len(all_acc_list))]\n",
    "df_aug['accuracy_0'].mean()\n",
    "mean_accs = []\n",
    "for c in cols:\n",
    "    t_acc = df_aug[c].mean()\n",
    "    mean_accs.append(t_acc)\n",
    "print(\"Accruracy for each run : \", mean_accs)\n",
    "mean_accs = np.asarray(mean_accs)\n",
    "print(\"Mean accuracy across runs : \", np.mean(mean_accs))"
   ]
  },
  {
   "cell_type": "markdown",
   "metadata": {},
   "source": [
    "# DF EMP"
   ]
  },
  {
   "cell_type": "code",
   "execution_count": 28,
   "metadata": {},
   "outputs": [],
   "source": [
    "all_emp_paths = []\n",
    "for r in dhard_runs:\n",
    "    emp_path = os.path.join(dhard_base, r)\n",
    "    all_emp_paths.append(emp_path)\n",
    "    \n",
    "all_df_emps = []\n",
    "\n",
    "for p in all_emp_paths:\n",
    "    df_emp = pd.read_pickle(p)\n",
    "    all_df_emps.append(df_emp)\n"
   ]
  },
  {
   "cell_type": "code",
   "execution_count": 29,
   "metadata": {},
   "outputs": [],
   "source": [
    "all_emp_classes = []\n",
    "for i in range(len(all_df_emps)):\n",
    "    emp_classes = all_df_emps[i]['class'].unique().tolist()\n",
    "    all_emp_classes.append(emp_classes)"
   ]
  },
  {
   "cell_type": "code",
   "execution_count": 30,
   "metadata": {},
   "outputs": [],
   "source": [
    "all_acc_diffs = []\n",
    "for i in range(len(all_emp_classes)):\n",
    "    col_name = f\"accuracy_{i}\"\n",
    "    col_diff = df_aug[df_aug['class'].isin(all_emp_classes[i])][col_name] - df_base[df_base['class'].isin(all_emp_classes[i])][col_name]\n",
    "    col_diff_sum = col_diff.sum()\n",
    "    all_acc_diffs.append(col_diff_sum)\n",
    "\n"
   ]
  },
  {
   "cell_type": "code",
   "execution_count": 31,
   "metadata": {},
   "outputs": [
    {
     "data": {
      "text/plain": [
       "4.26999979019165"
      ]
     },
     "execution_count": 31,
     "metadata": {},
     "output_type": "execute_result"
    }
   ],
   "source": [
    "sum(all_acc_diffs) / 2 / 20"
   ]
  },
  {
   "cell_type": "code",
   "execution_count": 17,
   "metadata": {},
   "outputs": [
    {
     "data": {
      "text/plain": [
       "ice_cream/3315881.jpg          7.199997\n",
       "ceviche/42489.jpg              6.400002\n",
       "huevos_rancheros/883821.jpg    5.599998\n",
       "pork_chop/245214.jpg           3.600006\n",
       "tiramisu/3041535.jpg           4.800003\n",
       "chicken_curry/1346888.jpg      1.599998\n",
       "tuna_tartare/1959450.jpg       3.200005\n",
       "ravioli/1103898.jpg            2.000000\n",
       "garlic_bread/2981508.jpg       2.399994\n",
       "apple_pie/1272958.jpg          1.199997\n",
       "chocolate_cake/1370651.jpg     2.400002\n",
       "filet_mignon/2325804.jpg       7.599998\n",
       "steak/27415.jpg                0.000000\n",
       "crab_cakes/943630.jpg          3.599998\n",
       "lasagna/207825.jpg             4.000000\n",
       "cheesecake/2574796.jpg         1.600006\n",
       "french_toast/3493695.jpg       2.399994\n",
       "foie_gras/1007306.jpg          2.399994\n",
       "risotto/2765043.jpg            6.399994\n",
       "bread_pudding/1436760.jpg      2.399994\n",
       "Name: accuracy_0, dtype: float64"
      ]
     },
     "execution_count": 17,
     "metadata": {},
     "output_type": "execute_result"
    }
   ],
   "source": [
    "df_aug[df_aug['class'].isin(all_emp_classes[0])]['accuracy_0'] - df_base[df_base['class'].isin(all_emp_classes[0])]['accuracy_0']"
   ]
  },
  {
   "cell_type": "code",
   "execution_count": 18,
   "metadata": {},
   "outputs": [],
   "source": [
    "# Analysis of classes which are going down in performance after augmentation"
   ]
  },
  {
   "cell_type": "code",
   "execution_count": 19,
   "metadata": {},
   "outputs": [
    {
     "data": {
      "text/plain": [
       "french_onion_soup/2993508.jpg        -1.599998\n",
       "beignets/847393.jpg                  -0.400002\n",
       "falafel/1286955.jpg                  -2.000000\n",
       "escargots/1376753.jpg                -0.800003\n",
       "fried_rice/2407861.jpg               -2.000000\n",
       "churros/274692.jpg                    0.000000\n",
       "ice_cream/3315881.jpg                 7.199997\n",
       "ceviche/42489.jpg                     6.400002\n",
       "french_fries/2913911.jpg              0.000000\n",
       "shrimp_and_grits/176613.jpg           0.000000\n",
       "caprese_salad/3888592.jpg             0.400002\n",
       "chicken_wings/2509984.jpg             0.000000\n",
       "fried_calamari/3674776.jpg            0.000000\n",
       "spaghetti_carbonara/884965.jpg        0.399994\n",
       "spring_rolls/2078556.jpg             -0.400002\n",
       "huevos_rancheros/883821.jpg           5.599998\n",
       "bruschetta/912428.jpg                -1.200005\n",
       "sushi/1457312.jpg                    -0.799995\n",
       "pork_chop/245214.jpg                  3.600006\n",
       "donuts/2887204.jpg                    0.000000\n",
       "club_sandwich/970294.jpg             -0.400002\n",
       "pizza/3827990.jpg                    -3.199997\n",
       "sashimi/3686273.jpg                  -1.200005\n",
       "grilled_cheese_sandwich/473381.jpg   -0.400002\n",
       "strawberry_shortcake/2576734.jpg     -1.199997\n",
       "pho/163128.jpg                       -0.799995\n",
       "hot_and_sour_soup/1864685.jpg         0.399994\n",
       "takoyaki/3609028.jpg                 -0.400002\n",
       "hot_dog/2553535.jpg                  -2.000000\n",
       "frozen_yogurt/185773.jpg              0.000000\n",
       "tiramisu/3041535.jpg                  4.800003\n",
       "macarons/1005656.jpg                  0.000000\n",
       "beef_carpaccio/3057236.jpg            0.000000\n",
       "chicken_curry/1346888.jpg             1.599998\n",
       "tuna_tartare/1959450.jpg              3.200005\n",
       "poutine/184084.jpg                    0.400002\n",
       "baklava/2662831.jpg                  -1.199997\n",
       "ravioli/1103898.jpg                   2.000000\n",
       "panna_cotta/3746420.jpg              -2.400002\n",
       "garlic_bread/2981508.jpg              2.399994\n",
       "cup_cakes/492343.jpg                 -1.199997\n",
       "guacamole/494617.jpg                  0.000000\n",
       "cannoli/2809497.jpg                   0.000000\n",
       "miso_soup/1074122.jpg                 0.400002\n",
       "pancakes/261532.jpg                   0.000000\n",
       "cheese_plate/543593.jpg              -1.199997\n",
       "tacos/467930.jpg                     -1.599998\n",
       "grilled_salmon/3058966.jpg           -4.000000\n",
       "hamburger/3577939.jpg                 1.199997\n",
       "beef_tartare/2731908.jpg             -1.600006\n",
       "edamame/2263853.jpg                   0.000000\n",
       "pulled_pork_sandwich/3825873.jpg     -1.199997\n",
       "apple_pie/1272958.jpg                 1.199997\n",
       "paella/3772674.jpg                   -0.799995\n",
       "samosa/1061284.jpg                   -0.400002\n",
       "pad_thai/517387.jpg                  -0.400002\n",
       "mussels/362356.jpg                    0.000000\n",
       "clam_chowder/770062.jpg              -1.200005\n",
       "dumplings/188495.jpg                  0.000000\n",
       "hummus/2884441.jpg                   -1.599998\n",
       "red_velvet_cake/66489.jpg            -2.000000\n",
       "waffles/59277.jpg                    -1.199997\n",
       "greek_salad/2083010.jpg              -1.200005\n",
       "seaweed_salad/2014238.jpg             0.000000\n",
       "beet_salad/1912120.jpg               -1.199997\n",
       "lobster_roll_sandwich/548558.jpg     -1.200005\n",
       "macaroni_and_cheese/625676.jpg        1.200005\n",
       "fish_and_chips/2879070.jpg            0.399994\n",
       "deviled_eggs/217992.jpg               0.000000\n",
       "onion_rings/3494133.jpg               1.200005\n",
       "breakfast_burrito/1590373.jpg        -0.400002\n",
       "spaghetti_bolognese/1598961.jpg      -0.400002\n",
       "chocolate_cake/1370651.jpg            2.400002\n",
       "lobster_bisque/378185.jpg             0.000000\n",
       "gyoza/3294004.jpg                    -1.199997\n",
       "prime_rib/3922072.jpg                -2.800003\n",
       "ramen/2981910.jpg                     2.000000\n",
       "caesar_salad/2656764.jpg              0.400002\n",
       "filet_mignon/2325804.jpg              7.599998\n",
       "scallops/3874540.jpg                 -1.599998\n",
       "chocolate_mousse/612385.jpg          -5.199997\n",
       "chicken_quesadilla/2657851.jpg       -0.400002\n",
       "steak/27415.jpg                       0.000000\n",
       "crab_cakes/943630.jpg                 3.599998\n",
       "omelette/2898508.jpg                 -2.399994\n",
       "lasagna/207825.jpg                    4.000000\n",
       "cheesecake/2574796.jpg                1.600006\n",
       "french_toast/3493695.jpg              2.399994\n",
       "carrot_cake/477397.jpg                0.399994\n",
       "peking_duck/2951717.jpg              -0.400002\n",
       "bibimbap/2436230.jpg                  0.800003\n",
       "foie_gras/1007306.jpg                 2.399994\n",
       "gnocchi/119920.jpg                   -3.199997\n",
       "oysters/1785675.jpg                  -0.400002\n",
       "croque_madame/1554222.jpg            -0.799995\n",
       "baby_back_ribs/1022479.jpg           -4.000000\n",
       "creme_brulee/2152670.jpg              0.000000\n",
       "eggs_benedict/470093.jpg             -0.400002\n",
       "risotto/2765043.jpg                   6.399994\n",
       "nachos/3753454.jpg                   -1.600006\n",
       "bread_pudding/1436760.jpg             2.399994\n",
       "Name: accuracy_0, dtype: float64"
      ]
     },
     "execution_count": 19,
     "metadata": {},
     "output_type": "execute_result"
    }
   ],
   "source": [
    "(df_aug['accuracy_0'] - df_base['accuracy_0'])"
   ]
  },
  {
   "cell_type": "code",
   "execution_count": null,
   "metadata": {},
   "outputs": [],
   "source": []
  },
  {
   "cell_type": "code",
   "execution_count": null,
   "metadata": {},
   "outputs": [],
   "source": []
  },
  {
   "cell_type": "code",
   "execution_count": null,
   "metadata": {},
   "outputs": [],
   "source": []
  },
  {
   "cell_type": "code",
   "execution_count": null,
   "metadata": {},
   "outputs": [],
   "source": []
  },
  {
   "cell_type": "code",
   "execution_count": null,
   "metadata": {},
   "outputs": [],
   "source": []
  },
  {
   "cell_type": "code",
   "execution_count": null,
   "metadata": {},
   "outputs": [],
   "source": []
  },
  {
   "cell_type": "markdown",
   "metadata": {},
   "source": [
    "# JointOptimization"
   ]
  },
  {
   "cell_type": "markdown",
   "metadata": {},
   "source": [
    "# Baseline runs"
   ]
  },
  {
   "cell_type": "code",
   "execution_count": 3,
   "metadata": {},
   "outputs": [],
   "source": [
    "base_dir = \"/bigstor/zsarwar/Enola_Augmented/MT_food101_full_101_f739c19e1aeeaea18c60b1bf802b05db\"\n",
    "\n",
    "runs   = [#\"MT_Baseline_075a3dd4b758bf1dc5f8e45e79b19d95/Metrics\",\n",
    "            #\"MT_Baseline_a868a1618372a781faedfcb1574f5c16/Metrics\",\n",
    "            #\"MT_Baseline_d3317989a1c88c7af2f103c891d82303/Metrics\",\n",
    "            \"MT_Baseline_8915e10296bdf7f70fb9b4bfed4f45fe/Metrics\",\n",
    "            #\"MT_Baseline_7e0b9b0a19780ab4210dd40fe629df3f/Metrics\",\n",
    "            #\"MT_Baseline_502f2caf9f8344e812c646aeb377bea4/Metrics\",\n",
    "            #\"MT_Baseline_9c0f9242df2e4fadbb9ea6c525458a04/Metrics\"]\n",
    "        ]\n",
    "\n",
    "stats_filename = \"agg_class_stats.pkl\"\n",
    "\n",
    "dhard_base = \"/bigstor/zsarwar/Enola_Augmented/MT_food101_full_101_f739c19e1aeeaea18c60b1bf802b05db/Datasets\"\n",
    "\n",
    "dhard_runs = [#\"df_food101_val_test_empirical_075a3dd4b758bf1dc5f8e45e79b19d95.pkl\",\n",
    "              #\"df_food101_val_test_empirical_a868a1618372a781faedfcb1574f5c16.pkl\",\n",
    "              #\"df_food101_val_test_empirical_d3317989a1c88c7af2f103c891d82303.pkl\",\n",
    "              \"df_food101_val_test_empirical_8915e10296bdf7f70fb9b4bfed4f45fe.pkl\",\n",
    "              #\"df_food101_val_test_empirical_7e0b9b0a19780ab4210dd40fe629df3f.pkl\",\n",
    "              #\"df_food101_val_test_empirical_502f2caf9f8344e812c646aeb377bea4.pkl\",\n",
    "              #\"df_food101_val_test_empirical_9c0f9242df2e4fadbb9ea6c525458a04.pkl\"\n",
    "              ]\n",
    "\n",
    "# Load labels\n",
    "val_path = \"/bigstor/common_data/food_101/DF/df_food101_val.pkl\"\n",
    "df_val = pd.read_pickle(val_path)"
   ]
  },
  {
   "cell_type": "code",
   "execution_count": 4,
   "metadata": {},
   "outputs": [],
   "source": [
    "all_stats_paths = []\n",
    "for r in runs:\n",
    "    stats_path = os.path.join(base_dir, r, stats_filename)\n",
    "    all_stats_paths.append(stats_path)\n",
    "    \n",
    "\n",
    "all_stats_acc = []\n",
    "for path in all_stats_paths:\n",
    "    stats = pd.read_pickle(path)\n",
    "    all_stats_acc.append(stats['accuracy'])\n"
   ]
  },
  {
   "cell_type": "code",
   "execution_count": 5,
   "metadata": {},
   "outputs": [],
   "source": [
    "df_val = df_val.drop_duplicates('label')\n",
    "df_val_classes = df_val[['class', 'label']]\n",
    "\n",
    "label_list = list(df_val_classes['label'])\n",
    "\n",
    "all_acc_list = []\n",
    "for i in range(len(all_stats_acc)):\n",
    "    accuracy_list = [all_stats_acc[i][cl] for cl in label_list]\n",
    "    all_acc_list.append(accuracy_list)\n",
    "\n",
    "for i in range(len(all_acc_list)):\n",
    "    col_name = f\"accuracy_{i}\"\n",
    "    df_val_classes.insert(2, col_name, all_acc_list[i], True)   "
   ]
  },
  {
   "cell_type": "code",
   "execution_count": 6,
   "metadata": {},
   "outputs": [
    {
     "name": "stdout",
     "output_type": "stream",
     "text": [
      "Accruracy for each run :  [87.53663514392211]\n",
      "Mean accuracy across runs :  87.53663514392211\n"
     ]
    }
   ],
   "source": [
    "df_base = df_val_classes.copy()\n",
    "\n",
    "cols = [f\"accuracy_{i}\" for i in range(len(all_acc_list))]\n",
    "df_base['accuracy_0'].mean()\n",
    "mean_accs = []\n",
    "for c in cols:\n",
    "    t_acc = df_base[c].mean()\n",
    "    mean_accs.append(t_acc)\n",
    "print(\"Accruracy for each run : \", mean_accs)\n",
    "mean_accs = np.asarray(mean_accs)\n",
    "print(\"Mean accuracy across runs : \", np.mean(mean_accs))"
   ]
  },
  {
   "cell_type": "markdown",
   "metadata": {},
   "source": [
    "# Augmented runs"
   ]
  },
  {
   "cell_type": "code",
   "execution_count": 8,
   "metadata": {},
   "outputs": [],
   "source": [
    "base_dir = \"/bigstor/zsarwar/Enola_Augmented/MT_food101_full_101_f739c19e1aeeaea18c60b1bf802b05db\"\n",
    "\n",
    "runs = [\n",
    "    #\"MT_Augmented_017c4c3eff5d2ea96fdccbfb8062a3e7/Metrics/\"\n",
    "    #\"MT_Augmented_2d41ce2148ff04ec89df53391aa07103/Metrics\"\n",
    "    \"MT_Augmented_c28c6598ad23b0a379fb8c2f45b0ab89/Metrics\"\n",
    "]\n",
    "\n",
    "\n",
    "stats_filename = \"agg_class_stats.pkl\"\n",
    "\n",
    "# Load labels\n",
    "val_path = \"/bigstor/common_data/food_101/DF/df_food101_val.pkl\"\n",
    "df_val = pd.read_pickle(val_path)"
   ]
  },
  {
   "cell_type": "code",
   "execution_count": 9,
   "metadata": {},
   "outputs": [],
   "source": [
    "all_stats_paths = []\n",
    "for r in runs:\n",
    "    stats_path = os.path.join(base_dir, r, stats_filename)\n",
    "    all_stats_paths.append(stats_path)\n",
    "    \n",
    "all_stats_acc = []\n",
    "for path in all_stats_paths:\n",
    "    stats = pd.read_pickle(path)\n",
    "    all_stats_acc.append(stats['accuracy'])\n"
   ]
  },
  {
   "cell_type": "code",
   "execution_count": 10,
   "metadata": {},
   "outputs": [],
   "source": [
    "df_val = df_val.drop_duplicates('label')\n",
    "df_val_classes = df_val[['class', 'label']]\n",
    "\n",
    "label_list = list(df_val_classes['label'])\n",
    "\n",
    "all_acc_list = []\n",
    "for i in range(len(all_stats_acc)):\n",
    "    accuracy_list = [all_stats_acc[i][cl] for cl in label_list]\n",
    "    all_acc_list.append(accuracy_list)\n",
    "\n",
    "for i in range(len(all_acc_list)):\n",
    "    col_name = f\"accuracy_{i}\"\n",
    "    df_val_classes.insert(2, col_name, all_acc_list[i], True)   \n",
    "#df_val_classes.insert(2, \"accuracy\", accuracy_list, True)"
   ]
  },
  {
   "cell_type": "code",
   "execution_count": 11,
   "metadata": {},
   "outputs": [
    {
     "name": "stdout",
     "output_type": "stream",
     "text": [
      "Accruracy for each run :  [86.57821896996829]\n",
      "Mean accuracy across runs :  86.57821896996829\n"
     ]
    }
   ],
   "source": [
    "df_aug = df_val_classes.copy()\n",
    "\n",
    "cols = [f\"accuracy_{i}\" for i in range(len(all_acc_list))]\n",
    "df_aug['accuracy_0'].mean()\n",
    "mean_accs = []\n",
    "for c in cols:\n",
    "    t_acc = df_aug[c].mean()\n",
    "    mean_accs.append(t_acc)\n",
    "print(\"Accruracy for each run : \", mean_accs)\n",
    "mean_accs = np.asarray(mean_accs)\n",
    "print(\"Mean accuracy across runs : \", np.mean(mean_accs))"
   ]
  },
  {
   "cell_type": "markdown",
   "metadata": {},
   "source": [
    "# DF EMP"
   ]
  },
  {
   "cell_type": "code",
   "execution_count": 12,
   "metadata": {},
   "outputs": [],
   "source": [
    "all_emp_paths = []\n",
    "for r in dhard_runs:\n",
    "    emp_path = os.path.join(dhard_base, r)\n",
    "    all_emp_paths.append(emp_path)\n",
    "    \n",
    "all_df_emps = []\n",
    "\n",
    "for p in all_emp_paths:\n",
    "    df_emp = pd.read_pickle(p)\n",
    "    all_df_emps.append(df_emp)\n"
   ]
  },
  {
   "cell_type": "code",
   "execution_count": 13,
   "metadata": {},
   "outputs": [],
   "source": [
    "all_emp_classes = []\n",
    "for i in range(len(all_df_emps)):\n",
    "    emp_classes = all_df_emps[i]['class'].unique().tolist()\n",
    "    all_emp_classes.append(emp_classes)"
   ]
  },
  {
   "cell_type": "code",
   "execution_count": 14,
   "metadata": {},
   "outputs": [],
   "source": [
    "all_acc_diffs = []\n",
    "for i in range(len(all_emp_classes)):\n",
    "    col_name = f\"accuracy_{i}\"\n",
    "    col_diff = df_aug[df_aug['class'].isin(all_emp_classes[i])][col_name] - df_base[df_base['class'].isin(all_emp_classes[i])][col_name]\n",
    "    col_diff_sum = col_diff.sum()\n",
    "    all_acc_diffs.append(col_diff_sum)\n",
    "\n"
   ]
  },
  {
   "cell_type": "code",
   "execution_count": 15,
   "metadata": {},
   "outputs": [
    {
     "data": {
      "text/plain": [
       "[116.0]"
      ]
     },
     "execution_count": 15,
     "metadata": {},
     "output_type": "execute_result"
    }
   ],
   "source": [
    "all_acc_diffs"
   ]
  },
  {
   "cell_type": "code",
   "execution_count": 16,
   "metadata": {},
   "outputs": [
    {
     "data": {
      "text/plain": [
       "ice_cream/3315881.jpg           5.599998\n",
       "ceviche/42489.jpg               0.400002\n",
       "huevos_rancheros/883821.jpg     8.000000\n",
       "pork_chop/245214.jpg           11.199997\n",
       "chicken_curry/1346888.jpg       3.199997\n",
       "tuna_tartare/1959450.jpg       12.000000\n",
       "ravioli/1103898.jpg             4.000000\n",
       "garlic_bread/2981508.jpg        4.400002\n",
       "apple_pie/1272958.jpg           6.800003\n",
       "filet_mignon/2325804.jpg        2.000000\n",
       "chocolate_mousse/612385.jpg     9.199997\n",
       "steak/27415.jpg                 1.599998\n",
       "crab_cakes/943630.jpg           4.400002\n",
       "omelette/2898508.jpg            4.400002\n",
       "lasagna/207825.jpg              2.800003\n",
       "cheesecake/2574796.jpg         10.400002\n",
       "foie_gras/1007306.jpg           8.400002\n",
       "gnocchi/119920.jpg              5.599998\n",
       "risotto/2765043.jpg            10.000000\n",
       "bread_pudding/1436760.jpg       1.599998\n",
       "Name: accuracy_0, dtype: float64"
      ]
     },
     "execution_count": 16,
     "metadata": {},
     "output_type": "execute_result"
    }
   ],
   "source": [
    "df_aug[df_aug['class'].isin(all_emp_classes[0])]['accuracy_0'] - df_base[df_base['class'].isin(all_emp_classes[0])]['accuracy_0']"
   ]
  },
  {
   "cell_type": "code",
   "execution_count": null,
   "metadata": {},
   "outputs": [],
   "source": [
    "# Analysis of classes which are going down in performance after augmentation"
   ]
  },
  {
   "cell_type": "code",
   "execution_count": null,
   "metadata": {},
   "outputs": [
    {
     "data": {
      "text/plain": [
       "french_onion_soup/2993508.jpg          0.000000\n",
       "beignets/847393.jpg                    0.400002\n",
       "falafel/1286955.jpg                   -3.599998\n",
       "escargots/1376753.jpg                 -2.800003\n",
       "fried_rice/2407861.jpg               -11.199997\n",
       "churros/274692.jpg                    -2.000000\n",
       "ice_cream/3315881.jpg                  5.199997\n",
       "ceviche/42489.jpg                      3.200005\n",
       "french_fries/2913911.jpg               1.199997\n",
       "shrimp_and_grits/176613.jpg           -3.200005\n",
       "caprese_salad/3888592.jpg             -0.400002\n",
       "chicken_wings/2509984.jpg             -3.199997\n",
       "fried_calamari/3674776.jpg            -1.200005\n",
       "spaghetti_carbonara/884965.jpg        -0.800003\n",
       "spring_rolls/2078556.jpg              -1.199997\n",
       "huevos_rancheros/883821.jpg            9.200005\n",
       "bruschetta/912428.jpg                 -5.599998\n",
       "sushi/1457312.jpg                     -2.000000\n",
       "pork_chop/245214.jpg                  12.400002\n",
       "donuts/2887204.jpg                    -2.399994\n",
       "club_sandwich/970294.jpg              -2.400002\n",
       "pizza/3827990.jpg                     -4.400002\n",
       "sashimi/3686273.jpg                   -1.199997\n",
       "grilled_cheese_sandwich/473381.jpg    -3.199997\n",
       "strawberry_shortcake/2576734.jpg      -6.000000\n",
       "pho/163128.jpg                        -1.199997\n",
       "hot_and_sour_soup/1864685.jpg          0.000000\n",
       "takoyaki/3609028.jpg                  -2.000000\n",
       "hot_dog/2553535.jpg                   -0.799995\n",
       "frozen_yogurt/185773.jpg              -1.199997\n",
       "tiramisu/3041535.jpg                  -3.600006\n",
       "macarons/1005656.jpg                   0.400002\n",
       "beef_carpaccio/3057236.jpg            -0.400002\n",
       "chicken_curry/1346888.jpg              3.599998\n",
       "tuna_tartare/1959450.jpg               8.400002\n",
       "poutine/184084.jpg                    -3.200005\n",
       "baklava/2662831.jpg                   -1.200005\n",
       "ravioli/1103898.jpg                    6.000000\n",
       "panna_cotta/3746420.jpg               -4.000000\n",
       "garlic_bread/2981508.jpg               6.800003\n",
       "cup_cakes/492343.jpg                  -4.000000\n",
       "guacamole/494617.jpg                  -0.800003\n",
       "cannoli/2809497.jpg                    0.399994\n",
       "miso_soup/1074122.jpg                 -0.400002\n",
       "pancakes/261532.jpg                   -2.000000\n",
       "cheese_plate/543593.jpg               -2.800003\n",
       "tacos/467930.jpg                     -10.400002\n",
       "grilled_salmon/3058966.jpg            -9.599998\n",
       "hamburger/3577939.jpg                  0.000000\n",
       "beef_tartare/2731908.jpg              -4.799995\n",
       "edamame/2263853.jpg                    0.000000\n",
       "pulled_pork_sandwich/3825873.jpg      -2.000000\n",
       "apple_pie/1272958.jpg                  8.400002\n",
       "paella/3772674.jpg                    -2.800003\n",
       "samosa/1061284.jpg                    -1.599998\n",
       "pad_thai/517387.jpg                   -1.199997\n",
       "mussels/362356.jpg                    -2.000000\n",
       "clam_chowder/770062.jpg               -0.800003\n",
       "dumplings/188495.jpg                  -0.400002\n",
       "hummus/2884441.jpg                    -3.200005\n",
       "red_velvet_cake/66489.jpg             -1.199997\n",
       "waffles/59277.jpg                      0.400002\n",
       "greek_salad/2083010.jpg               -0.399994\n",
       "seaweed_salad/2014238.jpg             -0.399994\n",
       "beet_salad/1912120.jpg                -6.000000\n",
       "lobster_roll_sandwich/548558.jpg       0.000000\n",
       "macaroni_and_cheese/625676.jpg        -4.400002\n",
       "fish_and_chips/2879070.jpg            -1.200005\n",
       "deviled_eggs/217992.jpg                0.399994\n",
       "onion_rings/3494133.jpg                0.000000\n",
       "breakfast_burrito/1590373.jpg         -6.799995\n",
       "spaghetti_bolognese/1598961.jpg        0.400002\n",
       "chocolate_cake/1370651.jpg           -20.799999\n",
       "lobster_bisque/378185.jpg              1.199997\n",
       "gyoza/3294004.jpg                     -0.400002\n",
       "prime_rib/3922072.jpg                 -4.000000\n",
       "ramen/2981910.jpg                     -1.199997\n",
       "caesar_salad/2656764.jpg              -0.799995\n",
       "filet_mignon/2325804.jpg               2.400002\n",
       "scallops/3874540.jpg                  -5.199997\n",
       "chocolate_mousse/612385.jpg            8.800003\n",
       "chicken_quesadilla/2657851.jpg         0.000000\n",
       "steak/27415.jpg                       -1.200001\n",
       "crab_cakes/943630.jpg                  2.400002\n",
       "omelette/2898508.jpg                   4.400002\n",
       "lasagna/207825.jpg                     0.800003\n",
       "cheesecake/2574796.jpg                 9.199997\n",
       "french_toast/3493695.jpg              -7.200005\n",
       "carrot_cake/477397.jpg                -4.000000\n",
       "peking_duck/2951717.jpg               -1.200005\n",
       "bibimbap/2436230.jpg                  -3.199997\n",
       "foie_gras/1007306.jpg                  8.000000\n",
       "gnocchi/119920.jpg                     2.799995\n",
       "oysters/1785675.jpg                   -1.200005\n",
       "croque_madame/1554222.jpg              0.000000\n",
       "baby_back_ribs/1022479.jpg            -8.400002\n",
       "creme_brulee/2152670.jpg               0.000000\n",
       "eggs_benedict/470093.jpg              -1.199997\n",
       "risotto/2765043.jpg                   12.000000\n",
       "nachos/3753454.jpg                    -5.200005\n",
       "bread_pudding/1436760.jpg              1.200005\n",
       "Name: accuracy_0, dtype: float64"
      ]
     },
     "metadata": {},
     "output_type": "display_data"
    }
   ],
   "source": [
    "(df_aug['accuracy_0'] - df_base['accuracy_0'])"
   ]
  },
  {
   "cell_type": "code",
   "execution_count": 17,
   "metadata": {},
   "outputs": [
    {
     "data": {
      "text/plain": [
       "5.8"
      ]
     },
     "execution_count": 17,
     "metadata": {},
     "output_type": "execute_result"
    }
   ],
   "source": [
    "116 / 20"
   ]
  },
  {
   "cell_type": "code",
   "execution_count": null,
   "metadata": {},
   "outputs": [],
   "source": []
  },
  {
   "cell_type": "markdown",
   "metadata": {},
   "source": [
    "# RANDOM"
   ]
  },
  {
   "cell_type": "markdown",
   "metadata": {},
   "source": [
    "# Baseline runs"
   ]
  },
  {
   "cell_type": "code",
   "execution_count": 33,
   "metadata": {},
   "outputs": [],
   "source": [
    "base_dir = \"/bigstor/zsarwar/Enola_Augmented/MT_food101_full_101_f739c19e1aeeaea18c60b1bf802b05db\"\n",
    "\n",
    "runs   = [#\"MT_Baseline_075a3dd4b758bf1dc5f8e45e79b19d95/Metrics\",\n",
    "            \"MT_Baseline_8915e10296bdf7f70fb9b4bfed4f45fe/Metrics\",\n",
    "            #\"MT_Baseline_7e0b9b0a19780ab4210dd40fe629df3f/Metrics\",\n",
    "            #\"MT_Baseline_502f2caf9f8344e812c646aeb377bea4/Metrics\",\n",
    "            #\"MT_Baseline_9c0f9242df2e4fadbb9ea6c525458a04/Metrics\"]\n",
    "        ]\n",
    "\n",
    "stats_filename = \"agg_class_stats.pkl\"\n",
    "\n",
    "dhard_base = \"/bigstor/zsarwar/Enola_Augmented/MT_food101_full_101_f739c19e1aeeaea18c60b1bf802b05db/Datasets\"\n",
    "\n",
    "dhard_runs = [#\"df_food101_val_test_empirical_075a3dd4b758bf1dc5f8e45e79b19d95.pkl\",\n",
    "              #\"df_food101_val_test_empirical_a868a1618372a781faedfcb1574f5c16.pkl\",\n",
    "              #\"df_food101_val_test_empirical_d3317989a1c88c7af2f103c891d82303.pkl\",\n",
    "              \"df_food101_val_test_empirical_8915e10296bdf7f70fb9b4bfed4f45fe.pkl\",\n",
    "              #\"df_food101_val_test_empirical_7e0b9b0a19780ab4210dd40fe629df3f.pkl\",\n",
    "              #\"df_food101_val_test_empirical_502f2caf9f8344e812c646aeb377bea4.pkl\",\n",
    "              #\"df_food101_val_test_empirical_9c0f9242df2e4fadbb9ea6c525458a04.pkl\"\n",
    "              ]\n",
    "\n",
    "# Load labels\n",
    "val_path = \"/bigstor/common_data/food_101/DF/df_food101_val.pkl\"\n",
    "df_val = pd.read_pickle(val_path)"
   ]
  },
  {
   "cell_type": "code",
   "execution_count": null,
   "metadata": {},
   "outputs": [],
   "source": []
  },
  {
   "cell_type": "code",
   "execution_count": 34,
   "metadata": {},
   "outputs": [],
   "source": [
    "all_stats_paths = []\n",
    "for r in runs:\n",
    "    stats_path = os.path.join(base_dir, r, stats_filename)\n",
    "    all_stats_paths.append(stats_path)\n",
    "    \n",
    "\n",
    "all_stats_acc = []\n",
    "for path in all_stats_paths:\n",
    "    stats = pd.read_pickle(path)\n",
    "    all_stats_acc.append(stats['accuracy'])\n"
   ]
  },
  {
   "cell_type": "code",
   "execution_count": 35,
   "metadata": {},
   "outputs": [],
   "source": [
    "df_val = df_val.drop_duplicates('label')\n",
    "df_val_classes = df_val[['class', 'label']]\n",
    "\n",
    "label_list = list(df_val_classes['label'])\n",
    "\n",
    "all_acc_list = []\n",
    "for i in range(len(all_stats_acc)):\n",
    "    accuracy_list = [all_stats_acc[i][cl] for cl in label_list]\n",
    "    all_acc_list.append(accuracy_list)\n",
    "\n",
    "for i in range(len(all_acc_list)):\n",
    "    col_name = f\"accuracy_{i}\"\n",
    "    df_val_classes.insert(2, col_name, all_acc_list[i], True)   "
   ]
  },
  {
   "cell_type": "code",
   "execution_count": 36,
   "metadata": {},
   "outputs": [
    {
     "name": "stdout",
     "output_type": "stream",
     "text": [
      "Accruracy for each run :  [87.53663514392211]\n",
      "Mean accuracy across runs :  87.53663514392211\n"
     ]
    }
   ],
   "source": [
    "df_base = df_val_classes.copy()\n",
    "\n",
    "cols = [f\"accuracy_{i}\" for i in range(len(all_acc_list))]\n",
    "df_base['accuracy_0'].mean()\n",
    "mean_accs = []\n",
    "for c in cols:\n",
    "    t_acc = df_base[c].mean()\n",
    "    mean_accs.append(t_acc)\n",
    "print(\"Accruracy for each run : \", mean_accs)\n",
    "mean_accs = np.asarray(mean_accs)\n",
    "print(\"Mean accuracy across runs : \", np.mean(mean_accs))"
   ]
  },
  {
   "cell_type": "code",
   "execution_count": null,
   "metadata": {},
   "outputs": [],
   "source": []
  },
  {
   "cell_type": "markdown",
   "metadata": {},
   "source": [
    "# Augmented runs"
   ]
  },
  {
   "cell_type": "code",
   "execution_count": 37,
   "metadata": {},
   "outputs": [],
   "source": [
    "base_dir = \"/bigstor/zsarwar/Enola_Augmented/MT_food101_full_101_f739c19e1aeeaea18c60b1bf802b05db\"\n",
    "\n",
    "runs = [\n",
    "    \"MT_Augmented_81e7112fb853d3cb026950f81bcab6fd/Metrics\"\n",
    "]\n",
    "\n",
    "\n",
    "stats_filename = \"agg_class_stats.pkl\"\n",
    "\n",
    "# Load labels\n",
    "#val_path = \"/bigstor/zsarwar/Imagenet/DF/df_imagenet_dogs_val.pkl\"\n",
    "val_path = \"/bigstor/common_data/food_101/DF/df_food101_val.pkl\"\n",
    "df_val = pd.read_pickle(val_path)"
   ]
  },
  {
   "cell_type": "code",
   "execution_count": 38,
   "metadata": {},
   "outputs": [],
   "source": [
    "all_stats_paths = []\n",
    "for r in runs:\n",
    "    stats_path = os.path.join(base_dir, r, stats_filename)\n",
    "    all_stats_paths.append(stats_path)\n",
    "    \n",
    "all_stats_acc = []\n",
    "for path in all_stats_paths:\n",
    "    stats = pd.read_pickle(path)\n",
    "    all_stats_acc.append(stats['accuracy'])\n"
   ]
  },
  {
   "cell_type": "code",
   "execution_count": 39,
   "metadata": {},
   "outputs": [],
   "source": [
    "df_val = df_val.drop_duplicates('label')\n",
    "df_val_classes = df_val[['class', 'label']]\n",
    "\n",
    "label_list = list(df_val_classes['label'])\n",
    "\n",
    "all_acc_list = []\n",
    "for i in range(len(all_stats_acc)):\n",
    "    accuracy_list = [all_stats_acc[i][cl] for cl in label_list]\n",
    "    all_acc_list.append(accuracy_list)\n",
    "\n",
    "for i in range(len(all_acc_list)):\n",
    "    col_name = f\"accuracy_{i}\"\n",
    "    df_val_classes.insert(2, col_name, all_acc_list[i], True)   \n",
    "#df_val_classes.insert(2, \"accuracy\", accuracy_list, True)"
   ]
  },
  {
   "cell_type": "code",
   "execution_count": 40,
   "metadata": {},
   "outputs": [
    {
     "name": "stdout",
     "output_type": "stream",
     "text": [
      "Accruracy for each run :  [87.16831860683932]\n",
      "Mean accuracy across runs :  87.16831860683932\n"
     ]
    }
   ],
   "source": [
    "df_aug = df_val_classes.copy()\n",
    "\n",
    "cols = [f\"accuracy_{i}\" for i in range(len(all_acc_list))]\n",
    "df_aug['accuracy_0'].mean()\n",
    "mean_accs = []\n",
    "for c in cols:\n",
    "    t_acc = df_aug[c].mean()\n",
    "    mean_accs.append(t_acc)\n",
    "print(\"Accruracy for each run : \", mean_accs)\n",
    "mean_accs = np.asarray(mean_accs)\n",
    "print(\"Mean accuracy across runs : \", np.mean(mean_accs))"
   ]
  },
  {
   "cell_type": "markdown",
   "metadata": {},
   "source": [
    "# DF EMP"
   ]
  },
  {
   "cell_type": "code",
   "execution_count": 41,
   "metadata": {},
   "outputs": [],
   "source": [
    "all_emp_paths = []\n",
    "for r in dhard_runs:\n",
    "    emp_path = os.path.join(dhard_base, r)\n",
    "    all_emp_paths.append(emp_path)\n",
    "    \n",
    "all_df_emps = []\n",
    "\n",
    "for p in all_emp_paths:\n",
    "    df_emp = pd.read_pickle(p)\n",
    "    all_df_emps.append(df_emp)\n"
   ]
  },
  {
   "cell_type": "code",
   "execution_count": 42,
   "metadata": {},
   "outputs": [],
   "source": [
    "all_emp_classes = []\n",
    "for i in range(len(all_df_emps)):\n",
    "    emp_classes = all_df_emps[i]['class'].unique().tolist()\n",
    "    all_emp_classes.append(emp_classes)"
   ]
  },
  {
   "cell_type": "code",
   "execution_count": 43,
   "metadata": {},
   "outputs": [],
   "source": [
    "all_acc_diffs = []\n",
    "for i in range(len(all_emp_classes)):\n",
    "    col_name = f\"accuracy_{i}\"\n",
    "    col_diff = df_aug[df_aug['class'].isin(all_emp_classes[i])][col_name] - df_base[df_base['class'].isin(all_emp_classes[i])][col_name]\n",
    "    col_diff_sum = col_diff.sum()\n",
    "    all_acc_diffs.append(col_diff_sum)\n",
    "\n"
   ]
  },
  {
   "cell_type": "code",
   "execution_count": 44,
   "metadata": {},
   "outputs": [
    {
     "data": {
      "text/plain": [
       "[86.80002975463867]"
      ]
     },
     "execution_count": 44,
     "metadata": {},
     "output_type": "execute_result"
    }
   ],
   "source": [
    "all_acc_diffs"
   ]
  },
  {
   "cell_type": "code",
   "execution_count": 45,
   "metadata": {},
   "outputs": [
    {
     "ename": "IndexError",
     "evalue": "list index out of range",
     "output_type": "error",
     "traceback": [
      "\u001b[0;31m---------------------------------------------------------------------------\u001b[0m",
      "\u001b[0;31mIndexError\u001b[0m                                Traceback (most recent call last)",
      "Cell \u001b[0;32mIn[45], line 1\u001b[0m\n\u001b[0;32m----> 1\u001b[0m df_aug[df_aug[\u001b[38;5;124m'\u001b[39m\u001b[38;5;124mclass\u001b[39m\u001b[38;5;124m'\u001b[39m]\u001b[38;5;241m.\u001b[39misin(\u001b[43mall_emp_classes\u001b[49m\u001b[43m[\u001b[49m\u001b[38;5;241;43m1\u001b[39;49m\u001b[43m]\u001b[49m)][\u001b[38;5;124m'\u001b[39m\u001b[38;5;124maccuracy_1\u001b[39m\u001b[38;5;124m'\u001b[39m] \u001b[38;5;241m-\u001b[39m df_base[df_base[\u001b[38;5;124m'\u001b[39m\u001b[38;5;124mclass\u001b[39m\u001b[38;5;124m'\u001b[39m]\u001b[38;5;241m.\u001b[39misin(all_emp_classes[\u001b[38;5;241m1\u001b[39m])][\u001b[38;5;124m'\u001b[39m\u001b[38;5;124maccuracy_1\u001b[39m\u001b[38;5;124m'\u001b[39m]\n",
      "\u001b[0;31mIndexError\u001b[0m: list index out of range"
     ]
    }
   ],
   "source": [
    "df_aug[df_aug['class'].isin(all_emp_classes[1])]['accuracy_1'] - df_base[df_base['class'].isin(all_emp_classes[1])]['accuracy_1']"
   ]
  },
  {
   "cell_type": "code",
   "execution_count": 47,
   "metadata": {},
   "outputs": [
    {
     "data": {
      "text/plain": [
       "4.340001487731934"
      ]
     },
     "execution_count": 47,
     "metadata": {},
     "output_type": "execute_result"
    }
   ],
   "source": [
    "sum(all_acc_diffs)  / 20"
   ]
  },
  {
   "cell_type": "code",
   "execution_count": null,
   "metadata": {},
   "outputs": [
    {
     "data": {
      "text/plain": [
       "french_onion_soup/2993508.jpg         -1.599998\n",
       "beignets/847393.jpg                   -0.400002\n",
       "falafel/1286955.jpg                   -2.400002\n",
       "escargots/1376753.jpg                 -0.800003\n",
       "fried_rice/2407861.jpg                -3.599998\n",
       "churros/274692.jpg                     0.000000\n",
       "ice_cream/3315881.jpg                 10.000000\n",
       "ceviche/42489.jpg                      4.000000\n",
       "french_fries/2913911.jpg               0.000000\n",
       "shrimp_and_grits/176613.jpg           -1.199997\n",
       "caprese_salad/3888592.jpg             -0.400002\n",
       "chicken_wings/2509984.jpg              1.199997\n",
       "fried_calamari/3674776.jpg            -0.800003\n",
       "spaghetti_carbonara/884965.jpg         0.399994\n",
       "spring_rolls/2078556.jpg               0.799995\n",
       "huevos_rancheros/883821.jpg            8.400002\n",
       "bruschetta/912428.jpg                 -1.599998\n",
       "sushi/1457312.jpg                     -0.799995\n",
       "pork_chop/245214.jpg                   7.200005\n",
       "donuts/2887204.jpg                     0.000000\n",
       "club_sandwich/970294.jpg              -1.599998\n",
       "pizza/3827990.jpg                     -2.000000\n",
       "sashimi/3686273.jpg                   -0.400002\n",
       "grilled_cheese_sandwich/473381.jpg    -1.599998\n",
       "strawberry_shortcake/2576734.jpg      -3.199997\n",
       "pho/163128.jpg                        -0.799995\n",
       "hot_and_sour_soup/1864685.jpg          0.399994\n",
       "takoyaki/3609028.jpg                   0.000000\n",
       "hot_dog/2553535.jpg                   -2.000000\n",
       "frozen_yogurt/185773.jpg              -0.400002\n",
       "tiramisu/3041535.jpg                   4.800003\n",
       "macarons/1005656.jpg                   0.000000\n",
       "beef_carpaccio/3057236.jpg             0.399994\n",
       "chicken_curry/1346888.jpg              3.599998\n",
       "tuna_tartare/1959450.jpg               5.599998\n",
       "poutine/184084.jpg                    -0.400002\n",
       "baklava/2662831.jpg                   -1.199997\n",
       "ravioli/1103898.jpg                    8.800003\n",
       "panna_cotta/3746420.jpg               -4.000000\n",
       "garlic_bread/2981508.jpg               2.799995\n",
       "cup_cakes/492343.jpg                  -0.800003\n",
       "guacamole/494617.jpg                   0.400002\n",
       "cannoli/2809497.jpg                   -0.400002\n",
       "miso_soup/1074122.jpg                  0.400002\n",
       "pancakes/261532.jpg                   -0.800003\n",
       "cheese_plate/543593.jpg               -0.400002\n",
       "tacos/467930.jpg                      -1.199997\n",
       "grilled_salmon/3058966.jpg            -6.000000\n",
       "hamburger/3577939.jpg                  0.000000\n",
       "beef_tartare/2731908.jpg              -2.800003\n",
       "edamame/2263853.jpg                    0.000000\n",
       "pulled_pork_sandwich/3825873.jpg      -1.199997\n",
       "apple_pie/1272958.jpg                  0.799995\n",
       "paella/3772674.jpg                    -1.599998\n",
       "samosa/1061284.jpg                    -0.400002\n",
       "pad_thai/517387.jpg                    0.000000\n",
       "mussels/362356.jpg                     0.000000\n",
       "clam_chowder/770062.jpg               -0.400002\n",
       "dumplings/188495.jpg                   0.000000\n",
       "hummus/2884441.jpg                     0.000000\n",
       "red_velvet_cake/66489.jpg             -1.599998\n",
       "waffles/59277.jpg                     -1.199997\n",
       "greek_salad/2083010.jpg               -3.200005\n",
       "seaweed_salad/2014238.jpg              0.000000\n",
       "beet_salad/1912120.jpg                -2.000000\n",
       "lobster_roll_sandwich/548558.jpg      -0.400002\n",
       "macaroni_and_cheese/625676.jpg         0.000000\n",
       "fish_and_chips/2879070.jpg            -0.400002\n",
       "deviled_eggs/217992.jpg                0.000000\n",
       "onion_rings/3494133.jpg                0.800003\n",
       "breakfast_burrito/1590373.jpg         -1.199997\n",
       "spaghetti_bolognese/1598961.jpg       -0.400002\n",
       "chocolate_cake/1370651.jpg             5.599998\n",
       "lobster_bisque/378185.jpg             -0.400002\n",
       "gyoza/3294004.jpg                     -1.199997\n",
       "prime_rib/3922072.jpg                 -3.200005\n",
       "ramen/2981910.jpg                      1.200005\n",
       "caesar_salad/2656764.jpg              -0.400002\n",
       "filet_mignon/2325804.jpg               4.000000\n",
       "scallops/3874540.jpg                  -3.599998\n",
       "chocolate_mousse/612385.jpg           -8.799995\n",
       "chicken_quesadilla/2657851.jpg        -1.199997\n",
       "steak/27415.jpg                        5.200001\n",
       "crab_cakes/943630.jpg                  4.799995\n",
       "omelette/2898508.jpg                  -2.000000\n",
       "lasagna/207825.jpg                     2.799995\n",
       "cheesecake/2574796.jpg                 1.600006\n",
       "french_toast/3493695.jpg               4.000000\n",
       "carrot_cake/477397.jpg                -0.800003\n",
       "peking_duck/2951717.jpg               -1.199997\n",
       "bibimbap/2436230.jpg                   0.000000\n",
       "foie_gras/1007306.jpg                  3.199997\n",
       "gnocchi/119920.jpg                    -5.199997\n",
       "oysters/1785675.jpg                   -0.800003\n",
       "croque_madame/1554222.jpg             -0.400002\n",
       "baby_back_ribs/1022479.jpg            -5.599998\n",
       "creme_brulee/2152670.jpg               0.000000\n",
       "eggs_benedict/470093.jpg              -0.400002\n",
       "risotto/2765043.jpg                   10.799995\n",
       "nachos/3753454.jpg                    -2.400002\n",
       "bread_pudding/1436760.jpg              4.000000\n",
       "Name: accuracy_0, dtype: float64"
      ]
     },
     "metadata": {},
     "output_type": "display_data"
    }
   ],
   "source": [
    "df_aug['accuracy_0'] - df_base['accuracy_0']"
   ]
  },
  {
   "cell_type": "code",
   "execution_count": null,
   "metadata": {},
   "outputs": [],
   "source": []
  },
  {
   "cell_type": "code",
   "execution_count": null,
   "metadata": {},
   "outputs": [],
   "source": []
  },
  {
   "cell_type": "code",
   "execution_count": null,
   "metadata": {},
   "outputs": [],
   "source": []
  },
  {
   "cell_type": "code",
   "execution_count": null,
   "metadata": {},
   "outputs": [],
   "source": []
  },
  {
   "cell_type": "code",
   "execution_count": null,
   "metadata": {},
   "outputs": [],
   "source": []
  },
  {
   "cell_type": "code",
   "execution_count": null,
   "metadata": {},
   "outputs": [],
   "source": []
  },
  {
   "cell_type": "code",
   "execution_count": null,
   "metadata": {},
   "outputs": [],
   "source": []
  },
  {
   "cell_type": "code",
   "execution_count": null,
   "metadata": {},
   "outputs": [],
   "source": []
  },
  {
   "cell_type": "code",
   "execution_count": null,
   "metadata": {},
   "outputs": [],
   "source": []
  },
  {
   "cell_type": "code",
   "execution_count": null,
   "metadata": {},
   "outputs": [],
   "source": []
  },
  {
   "cell_type": "code",
   "execution_count": null,
   "metadata": {},
   "outputs": [],
   "source": []
  },
  {
   "cell_type": "code",
   "execution_count": null,
   "metadata": {},
   "outputs": [],
   "source": []
  },
  {
   "cell_type": "code",
   "execution_count": null,
   "metadata": {},
   "outputs": [],
   "source": []
  },
  {
   "cell_type": "code",
   "execution_count": null,
   "metadata": {},
   "outputs": [],
   "source": []
  },
  {
   "cell_type": "markdown",
   "metadata": {},
   "source": [
    "# Unicom retrievals"
   ]
  },
  {
   "cell_type": "code",
   "execution_count": 24,
   "metadata": {},
   "outputs": [],
   "source": [
    "df_uni = pd.read_pickle(\"/bigstor/zsarwar/Enola_Augmented/MT_food101_full_101_f739c19e1aeeaea18c60b1bf802b05db/Unicom/df_uecfood256_full_5380bfbd4407e03050ed26afbb98e440_74d7170cc8af0b8340d0290b43517cd1_58c5118d18fa07649b578fd9744876b2.pkl\")"
   ]
  },
  {
   "cell_type": "markdown",
   "metadata": {},
   "source": [
    "# Visualize DHard vs D_Retrieved"
   ]
  },
  {
   "cell_type": "code",
   "execution_count": 53,
   "metadata": {},
   "outputs": [],
   "source": [
    "df_uni = pd.read_pickle(\"/bigstor/zsarwar/Enola_Augmented/MT_food101_full_101_f739c19e1aeeaea18c60b1bf802b05db/Unicom/df_uecfood256_full_5380bfbd4407e03050ed26afbb98e440_74d7170cc8af0b8340d0290b43517cd1_58c5118d18fa07649b578fd9744876b2.pkl\")"
   ]
  },
  {
   "cell_type": "code",
   "execution_count": null,
   "metadata": {},
   "outputs": [],
   "source": []
  },
  {
   "cell_type": "code",
   "execution_count": 3,
   "metadata": {},
   "outputs": [],
   "source": [
    "#Augmented Labels\n",
    "df_dhard = pd.read_pickle(\"/bigstor/zsarwar/Enola_Augmented/MT_food101_full_101_f739c19e1aeeaea18c60b1bf802b05db/Datasets/df_food101_val_test_empirical_35d052c2a3ff5225c6d663d84afbb33c.pkl\")\n",
    "#df_labels = df_labels.drop_duplicates('label')\n",
    "dhard_labels = df_dhard['label'].unique().tolist()"
   ]
  },
  {
   "cell_type": "code",
   "execution_count": 4,
   "metadata": {},
   "outputs": [
    {
     "data": {
      "text/plain": [
       "'/bigstor/common_data/food_101/food-101/images/apple_pie/229142.jpg'"
      ]
     },
     "execution_count": 4,
     "metadata": {},
     "output_type": "execute_result"
    }
   ],
   "source": [
    "df_dhard[df_dhard['class'] == 'Apple pie']['img_path'][1]"
   ]
  },
  {
   "cell_type": "code",
   "execution_count": null,
   "metadata": {},
   "outputs": [],
   "source": [
    "all_images = df_dhard[df_dhard['label'] == dhard_labels[7]]['img_path'].tolist()\n",
    "# Visualize samples\n",
    "for i, im_path in enumerate(all_images[0:50]):\n",
    "    img = mpimg.imread(im_path)\n",
    "    plt.axis('off')\n",
    "    imgplot = plt.imshow(img)\n",
    "    plt.figure()\n",
    "    plt.clf()"
   ]
  },
  {
   "cell_type": "code",
   "execution_count": 10,
   "metadata": {},
   "outputs": [],
   "source": [
    "# DF_Retrieved\n",
    "#Augmented Labels\n",
    "df_augmented = pd.read_pickle(\"/bigstor/zsarwar/Enola_Augmented/MT_food101_full_101_f739c19e1aeeaea18c60b1bf802b05db/Unicom/df_uecfood256_full_5380bfbd4407e03050ed26afbb98e440_74d7170cc8af0b8340d0290b43517cd1_58c5118d18fa07649b578fd9744876b2.pkl\")\n",
    "#df_labels = df_labels.drop_duplicates('label')\n",
    "augmented_labels = df_augmented['label'].unique().tolist()"
   ]
  },
  {
   "cell_type": "code",
   "execution_count": null,
   "metadata": {},
   "outputs": [],
   "source": [
    "all_images = df_augmented[df_augmented['label'] == dhard_labels[7]]['img_path'].tolist()\n",
    "# Visualize samples\n",
    "for i, im_path in enumerate(all_images[0:50]):\n",
    "    img = mpimg.imread(im_path)\n",
    "    plt.axis('off')\n",
    "    imgplot = plt.imshow(img)\n",
    "    plt.figure()\n",
    "    plt.clf()"
   ]
  },
  {
   "cell_type": "code",
   "execution_count": null,
   "metadata": {},
   "outputs": [],
   "source": []
  }
 ],
 "metadata": {
  "kernelspec": {
   "display_name": "ffcv_2",
   "language": "python",
   "name": "python3"
  },
  "language_info": {
   "codemirror_mode": {
    "name": "ipython",
    "version": 3
   },
   "file_extension": ".py",
   "mimetype": "text/x-python",
   "name": "python",
   "nbconvert_exporter": "python",
   "pygments_lexer": "ipython3",
   "version": "3.9.16"
  }
 },
 "nbformat": 4,
 "nbformat_minor": 2
}

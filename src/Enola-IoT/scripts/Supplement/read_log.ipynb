{
 "cells": [
  {
   "cell_type": "code",
   "execution_count": 1,
   "id": "raising-mixer",
   "metadata": {},
   "outputs": [],
   "source": [
    "import pandas as pd\n",
    "import numpy as np\n",
    "import os\n",
    "\n",
    "\n",
    "\n",
    "filename = \"/data/vantran/Arjun/nds/IoT-data/IoT-23-Dataset/\"\n",
    "folder_ = \"CTU-IoT-Malware-Capture-34-1/\"\n",
    "f_ = \"bro/conn.log.labeled\"\n",
    "file_ = open(filename+folder_+f_, 'r')\n",
    "lines = file_.read().splitlines()"
   ]
  },
  {
   "cell_type": "code",
   "execution_count": 4,
   "id": "potential-duncan",
   "metadata": {},
   "outputs": [
    {
     "name": "stdout",
     "output_type": "stream",
     "text": [
      "['ts', 'uid', 'id.orig_h', 'id.orig_p', 'id.resp_h', 'id.resp_p', 'proto', 'service', 'duration', 'orig_bytes', 'resp_bytes', 'conn_state', 'local_orig', 'local_resp', 'missed_bytes', 'history', 'orig_pkts', 'orig_ip_bytes', 'resp_pkts', 'resp_ip_bytes', 'tunnel_parents', 'label', 'detailed-label']\n",
      "[['1545403816.962094', 'CrDn63WjJEmrWGjqf', '192.168.1.195', '41040', '185.244.25.235', '80', 'tcp', '-', '3.139211', '0', '0', 'S0', '-', '-', '0', 'S', '3', '180', '0', '0', '-', 'Benign', '-'], ['1545403824.181240', 'CY9lJW3gh1Eje4usP6', '192.168.1.195', '41040', '185.244.25.235', '80', 'tcp', '-', '-', '-', '-', 'S0', '-', '-', '0', 'S', '1', '60', '0', '0', '-', 'Benign', '-'], ['1545403832.341331', 'CcFXLynukEDnUlvgl', '192.168.1.195', '41040', '185.244.25.235', '80', 'tcp', '-', '-', '-', '-', 'S0', '-', '-', '0', 'S', '1', '60', '0', '0', '-', 'Benign', '-'], ['1545403848.981338', 'CDrkrSobGYxHhYfth', '192.168.1.195', '41040', '185.244.25.235', '80', 'tcp', 'http', '1.477656', '149', '128252', 'SF', '-', '-', '2896', 'ShADadttcfF', '94', '5525', '96', '139044', '-', 'Benign', '-'], ['1545403850.554283', 'CTWZQf2oJSvq6zmPAc', '192.168.1.195', '41042', '185.244.25.235', '80', 'tcp', '-', '3.147116', '0', '0', 'S0', '-', '-', '0', 'S', '3', '180', '0', '0', '-', 'Benign', '-']]\n"
     ]
    }
   ],
   "source": [
    "fields = lines[6]\n",
    "types = lines[7]\n",
    "columns_name = fields.split()[1:]\n",
    "print(columns_name)\n",
    "dat = []\n",
    "\n",
    "for i in range(8, len(lines)):\n",
    "    line = lines[i].split()\n",
    "    dat.append(line)\n",
    "print(dat[:5])"
   ]
  },
  {
   "cell_type": "code",
   "execution_count": 35,
   "id": "attempted-brick",
   "metadata": {},
   "outputs": [
    {
     "name": "stdout",
     "output_type": "stream",
     "text": [
      "/data/vantran/Arjun/nds/IoT-data/IoT-CVS/CTU-IoT-Malware-Capture-34-1/\n"
     ]
    }
   ],
   "source": [
    "df = pd.DataFrame(dat, columns = columns_name)\n",
    "\n",
    "\n",
    "folder = \"/data/vantran/Arjun/nds/IoT-data/IoT-CVS/\" \n",
    "if os.path.isdir(folder + folder_) == False:\n",
    "    os.mkdir(folder + folder_)\n",
    "    print(folder + folder_)\n",
    "    \n",
    "\n",
    "\n"
   ]
  },
  {
   "cell_type": "code",
   "execution_count": 36,
   "id": "adjustable-stream",
   "metadata": {},
   "outputs": [
    {
     "name": "stdout",
     "output_type": "stream",
     "text": [
      "                      ts                  uid      id.orig_h id.orig_p  \\\n",
      "0      1545403816.962094    CrDn63WjJEmrWGjqf  192.168.1.195     41040   \n",
      "1      1545403824.181240   CY9lJW3gh1Eje4usP6  192.168.1.195     41040   \n",
      "2      1545403832.341331    CcFXLynukEDnUlvgl  192.168.1.195     41040   \n",
      "3      1545403848.981338    CDrkrSobGYxHhYfth  192.168.1.195     41040   \n",
      "4      1545403850.554283   CTWZQf2oJSvq6zmPAc  192.168.1.195     41042   \n",
      "...                  ...                  ...            ...       ...   \n",
      "23141  1545489934.221598   C93P4z4k5IRJD1rXJg  192.168.1.195     57092   \n",
      "23142  1545490198.463564   CXLZ3A2QY5E8weqpDk  192.168.1.195       123   \n",
      "23143  1545490181.542213   CuXpFN3fWesWBXUhq1  192.168.1.195       123   \n",
      "23144  1545490198.459568   Ct2Yhy4d33oL3yyZY9  192.168.1.195       123   \n",
      "23145             #close  2019-03-15-14-50-54           None      None   \n",
      "\n",
      "            id.resp_h id.resp_p proto service   duration orig_bytes  ...  \\\n",
      "0      185.244.25.235        80   tcp       -   3.139211          0  ...   \n",
      "1      185.244.25.235        80   tcp       -          -          -  ...   \n",
      "2      185.244.25.235        80   tcp       -          -          -  ...   \n",
      "3      185.244.25.235        80   tcp    http   1.477656        149  ...   \n",
      "4      185.244.25.235        80   tcp       -   3.147116          0  ...   \n",
      "...               ...       ...   ...     ...        ...        ...  ...   \n",
      "23141  185.244.25.235      6667   tcp     irc  36.290833         62  ...   \n",
      "23142  147.251.48.140       123   udp       -          -          -  ...   \n",
      "23143    82.113.53.40       123   udp       -          -          -  ...   \n",
      "23144  89.221.210.188       123   udp       -          -          -  ...   \n",
      "23145            None      None  None    None       None       None  ...   \n",
      "\n",
      "      local_resp missed_bytes      history orig_pkts orig_ip_bytes resp_pkts  \\\n",
      "0              -            0            S         3           180         0   \n",
      "1              -            0            S         1            60         0   \n",
      "2              -            0            S         1            60         0   \n",
      "3              -         2896  ShADadttcfF        94          5525        96   \n",
      "4              -            0            S         3           180         0   \n",
      "...          ...          ...          ...       ...           ...       ...   \n",
      "23141          -            0      ShAdDaf        10           606         7   \n",
      "23142          -            0            D         1            76         0   \n",
      "23143          -            0            D         1            76         0   \n",
      "23144          -            0            D         1            76         0   \n",
      "23145       None         None         None      None          None      None   \n",
      "\n",
      "      resp_ip_bytes tunnel_parents      label detailed-label  \n",
      "0                 0              -     Benign              -  \n",
      "1                 0              -     Benign              -  \n",
      "2                 0              -     Benign              -  \n",
      "3            139044              -     Benign              -  \n",
      "4                 0              -     Benign              -  \n",
      "...             ...            ...        ...            ...  \n",
      "23141           632              -  Malicious            C&C  \n",
      "23142             0              -     Benign              -  \n",
      "23143             0              -     Benign              -  \n",
      "23144             0              -     Benign              -  \n",
      "23145          None           None       None           None  \n",
      "\n",
      "[23146 rows x 23 columns]\n"
     ]
    }
   ],
   "source": [
    "fname = \"label.csv\"\n",
    "new_name = folder+folder_+fname\n",
    "print(df)\n",
    "df.to_csv(new_name, encoding='utf-8')"
   ]
  },
  {
   "cell_type": "code",
   "execution_count": null,
   "id": "oriented-storm",
   "metadata": {},
   "outputs": [],
   "source": []
  }
 ],
 "metadata": {
  "kernelspec": {
   "display_name": "Python 3.7.10 64-bit ('3.7.10')",
   "language": "python",
   "name": "python3"
  },
  "language_info": {
   "codemirror_mode": {
    "name": "ipython",
    "version": 3
   },
   "file_extension": ".py",
   "mimetype": "text/x-python",
   "name": "python",
   "nbconvert_exporter": "python",
   "pygments_lexer": "ipython3",
   "version": "3.7.10"
  },
  "vscode": {
   "interpreter": {
    "hash": "6c5a569b221b66662e7cc72f9fe55494b786aeb83a58e649eea442305c94d5ab"
   }
  }
 },
 "nbformat": 4,
 "nbformat_minor": 5
}

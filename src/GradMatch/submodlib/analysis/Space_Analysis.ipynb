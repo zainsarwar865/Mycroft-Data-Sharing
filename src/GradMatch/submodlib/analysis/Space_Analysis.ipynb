{
 "cells": [
  {
   "cell_type": "code",
   "execution_count": 1,
   "metadata": {},
   "outputs": [],
   "source": [
    "import numpy as np\n",
    "import matplotlib.pyplot as plt\n",
    "import random\n",
    "from scipy import sparse\n",
    "import scipy\n",
    "import resSpaceAnalysis as res"
   ]
  },
  {
   "cell_type": "code",
   "execution_count": 2,
   "metadata": {},
   "outputs": [],
   "source": [
    "#Loading Handcrafted Data\n",
    "data1 =np.array( [(4.5,13.5), (5,13.5), (5.5,13.5), (14.5,13.5), (15,13.5), (15.5,13.5),\n",
    "(4.5,13), (5,13), (5.5,13), (14.5,13), (15,13), (15.5,13),\n",
    "(4.5,12.5), (5,12.5), (5.5,12.5), (14.5,12.5), (15,12.5), (15.5,12.5),\n",
    "(4.5,7.5), (5,7.5), (5.5,7.5), (14.5,7.5), (15,7.5), (15.5,7.5),\n",
    "(4.5,7), (5,7), (5.5,7), (14.5,7), (15,7), (15.5,7),\n",
    "(4.5,6.5), (5,6.5), (5.5,6.5), (14.5,6.5), (15,6.5), (15.5,6.5),\n",
    "(7.5,10), (12.5,10), (10,12.5), (10,7.5), (4.5, 15.5), (5,9.5), (5,10.5)] )"
   ]
  },
  {
   "cell_type": "code",
   "execution_count": null,
   "metadata": {},
   "outputs": [],
   "source": [
    "#Uncomment this if you want to use very large randomly created data (Causes memory overflow)\n",
    "''' \n",
    "#Loading Random Large Data () \n",
    "#Instead of building this very large data matrix, preferably download it from\n",
    "# https://drive.google.com/file/d/13LP6DCUZCAjE2iVaEtNtOkSLk-D-PUBP/view?usp=sharing\n",
    "# and store in current directory\n",
    "data2 = None\n",
    "\n",
    "try: #Simply load data if already created\n",
    "    with open('large_data.npy', 'rb') as f:\n",
    "        data = np.load(f, allow_pickle=True)\n",
    "except: #Create data\n",
    "    random.seed(0)\n",
    "    def generate_datapoint(arg):\n",
    "        #random.seed(arg)\n",
    "        #x=random.randrange(1000)-random.randrange(1000)\n",
    "        #y=random.randrange(10)-random.randrange(10)\n",
    "        #z=(random.randrange(100)/100)-(random.randrange(100)/100)\n",
    "        l_feat = []\n",
    "        for i in range(2000):\n",
    "            toss = random.randrange(0, 2)\n",
    "            if toss==0:\n",
    "                bound_val=random.randrange(10, 10000)\n",
    "                #val=random.randrange(bound_val)-random.randrange(bound_val)\n",
    "                val=random.randrange(-1*bound_val, bound_val)\n",
    "            else:\n",
    "                val = random.randrange(-100, 100)/100\n",
    "\n",
    "            l_feat.append(val)\n",
    "        if arg%10000==0:\n",
    "            print(arg)\n",
    "        #return (x,y,z)\n",
    "        return l_feat\n",
    "\n",
    "    l = list(map(generate_datapoint, range(100000)))#Generating 100K datapoints\n",
    "    data = np.array(l)\n",
    "    \n",
    "    with open('large_data.npy', 'wb') as f:\n",
    "        np.save(f,data, allow_pickle=True)\n",
    "'''"
   ]
  },
  {
   "cell_type": "code",
   "execution_count": 3,
   "metadata": {},
   "outputs": [],
   "source": [
    "data=data1\n",
    "#data=data2"
   ]
  },
  {
   "cell_type": "code",
   "execution_count": 4,
   "metadata": {},
   "outputs": [
    {
     "name": "stdout",
     "output_type": "stream",
     "text": [
      "Filename: /home/vinayak/temp_repo4/submodlib_5/Notebooks/resSpaceAnalysis.py\n",
      "\n",
      "Line #    Mem usage    Increment  Occurences   Line Contents\n",
      "============================================================\n",
      "    10    139.7 MiB    139.7 MiB           1   @profile\n",
      "    11                                         def FL_dense(data): #Case1 user only provides data and specifies\n",
      "    12    139.8 MiB      0.1 MiB           1       obj = FacilityLocationFunction(n=43, data=data, mode=\"dense\", metric=\"euclidean\", num_neigh=10)\n",
      "    13    139.8 MiB      0.0 MiB           1       obj.maximize(10,'NaiveGreedy', False, False, False)\n",
      "\n",
      "\n"
     ]
    }
   ],
   "source": [
    "#Case 1 with dense\n",
    "res.FL_dense(data)"
   ]
  },
  {
   "cell_type": "code",
   "execution_count": 5,
   "metadata": {},
   "outputs": [
    {
     "name": "stdout",
     "output_type": "stream",
     "text": [
      "Filename: /home/vinayak/temp_repo4/submodlib_5/Notebooks/resSpaceAnalysis.py\n",
      "\n",
      "Line #    Mem usage    Increment  Occurences   Line Contents\n",
      "============================================================\n",
      "     5    139.8 MiB    139.8 MiB           1   @profile\n",
      "     6                                         def FL_sparse(data): #Case1 user only provides data and specifies\n",
      "     7    139.8 MiB      0.0 MiB           1       obj = FacilityLocationFunction(n=43, data=data, mode=\"sparse\", metric=\"euclidean\", num_neigh=10)\n",
      "     8    139.8 MiB      0.0 MiB           1       obj.maximize(10,'NaiveGreedy', False, False, False)\n",
      "\n",
      "\n"
     ]
    }
   ],
   "source": [
    "#Case 1 with sparse\n",
    "res.FL_sparse(data)"
   ]
  },
  {
   "cell_type": "code",
   "execution_count": 6,
   "metadata": {},
   "outputs": [
    {
     "name": "stdout",
     "output_type": "stream",
     "text": [
      "Filename: /home/vinayak/temp_repo4/submodlib_5/Notebooks/resSpaceAnalysis.py\n",
      "\n",
      "Line #    Mem usage    Increment  Occurences   Line Contents\n",
      "============================================================\n",
      "    15    143.5 MiB    143.5 MiB           1   @profile\n",
      "    16                                         def FL_case2(M): #Case2 user directly provides kernel\n",
      "    17    143.5 MiB      0.0 MiB           1       obj = FacilityLocationFunction(n=43, sijs = M, num_neigh=10)\n",
      "    18    143.5 MiB      0.0 MiB           1       obj.maximize(10,'NaiveGreedy', False, False, False)\n",
      "\n",
      "\n"
     ]
    }
   ],
   "source": [
    "#Case 2 with dense\n",
    "from submodlib.helper import create_kernel\n",
    "_, M = create_kernel(data, 'dense','euclidean', num_neigh=10)\n",
    "\n",
    "res.FL_case2(M)"
   ]
  },
  {
   "cell_type": "code",
   "execution_count": 7,
   "metadata": {},
   "outputs": [
    {
     "name": "stdout",
     "output_type": "stream",
     "text": [
      "Filename: /home/vinayak/temp_repo4/submodlib_5/Notebooks/resSpaceAnalysis.py\n",
      "\n",
      "Line #    Mem usage    Increment  Occurences   Line Contents\n",
      "============================================================\n",
      "    15    143.5 MiB    143.5 MiB           1   @profile\n",
      "    16                                         def FL_case2(M): #Case2 user directly provides kernel\n",
      "    17    143.5 MiB      0.0 MiB           1       obj = FacilityLocationFunction(n=43, sijs = M, num_neigh=10)\n",
      "    18    143.5 MiB      0.0 MiB           1       obj.maximize(10,'NaiveGreedy', False, False, False)\n",
      "\n",
      "\n"
     ]
    }
   ],
   "source": [
    "#Case 2 with sparse\n",
    "from submodlib.helper import create_kernel\n",
    "_, M = create_kernel(data, 'sparse','euclidean', num_neigh=10)\n",
    "\n",
    "res.FL_case2(M)"
   ]
  },
  {
   "cell_type": "code",
   "execution_count": 8,
   "metadata": {},
   "outputs": [
    {
     "name": "stdout",
     "output_type": "stream",
     "text": [
      "Filename: /home/vinayak/temp_repo4/submodlib_5/Notebooks/resSpaceAnalysis.py\n",
      "\n",
      "Line #    Mem usage    Increment  Occurences   Line Contents\n",
      "============================================================\n",
      "    21    143.5 MiB    143.5 MiB           1   @profile\n",
      "    22                                         def FL_clustered_case1(data):#Case1 user only provides data\n",
      "    23    144.5 MiB      1.0 MiB           1       obj = FacilityLocationFunction(n=43, data=data, mode=\"clustered\", metric=\"euclidean\", num_cluster=10)\n",
      "    24    144.5 MiB      0.0 MiB           1       obj.maximize(10,'NaiveGreedy', False, False, False)\n",
      "\n",
      "\n"
     ]
    }
   ],
   "source": [
    "#Case 1 with clustered\n",
    "res.FL_clustered_case1(data)"
   ]
  },
  {
   "cell_type": "code",
   "execution_count": 9,
   "metadata": {},
   "outputs": [
    {
     "name": "stdout",
     "output_type": "stream",
     "text": [
      "Filename: /home/vinayak/temp_repo4/submodlib_5/Notebooks/resSpaceAnalysis.py\n",
      "\n",
      "Line #    Mem usage    Increment  Occurences   Line Contents\n",
      "============================================================\n",
      "    27    144.5 MiB    144.5 MiB           1   @profile\n",
      "    28                                         def FL_clustered_case2(data, lab):#Case2 user also provides cluster info along with data\n",
      "    29    144.5 MiB      0.0 MiB           1       obj = FacilityLocationFunction(n=43, data=data, cluster_lab=lab, mode=\"clustered\", metric=\"euclidean\",num_cluster=10)\n",
      "    30    144.5 MiB      0.0 MiB           1       obj.maximize(10,'NaiveGreedy', False, False, False)\n",
      "\n",
      "\n"
     ]
    }
   ],
   "source": [
    "#Case 2 with clustered\n",
    "from sklearn.cluster import Birch\n",
    "num_cluster=10\n",
    "obj = Birch(n_clusters=num_cluster)\n",
    "obj = obj.fit(data)\n",
    "lab = obj.predict(data).tolist()\n",
    "\n",
    "res.FL_clustered_case2(data, lab)"
   ]
  }
 ],
 "metadata": {
  "kernelspec": {
   "display_name": "Python 3",
   "language": "python",
   "name": "python3"
  },
  "language_info": {
   "codemirror_mode": {
    "name": "ipython",
    "version": 3
   },
   "file_extension": ".py",
   "mimetype": "text/x-python",
   "name": "python",
   "nbconvert_exporter": "python",
   "pygments_lexer": "ipython3",
   "version": "3.7.3"
  }
 },
 "nbformat": 4,
 "nbformat_minor": 2
}

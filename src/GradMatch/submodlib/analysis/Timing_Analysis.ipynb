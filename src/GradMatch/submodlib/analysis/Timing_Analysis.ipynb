{
 "cells": [
  {
   "cell_type": "markdown",
   "metadata": {
    "toc": true
   },
   "source": [
    "<h1>Table of Contents<span class=\"tocSkip\"></span></h1>\n",
    "<div class=\"toc\"><ul class=\"toc-item\"><li><span><a href=\"#Timing-Analysis\" data-toc-modified-id=\"Timing-Analysis-1\"><span class=\"toc-item-num\">1&nbsp;&nbsp;</span>Timing Analysis</a></span><ul class=\"toc-item\"><li><span><a href=\"#Getting-Large-randomly-generated-data\" data-toc-modified-id=\"Getting-Large-randomly-generated-data-1.1\"><span class=\"toc-item-num\">1.1&nbsp;&nbsp;</span>Getting Large randomly generated data</a></span></li><li><span><a href=\"#1)-CPP-Helper-V/S-Python-Helper\" data-toc-modified-id=\"1)-CPP-Helper-V/S-Python-Helper-1.2\"><span class=\"toc-item-num\">1.2&nbsp;&nbsp;</span>1) CPP Helper V/S Python Helper</a></span></li><li><span><a href=\"#2)-FacilityLocation:-evaluate()-maximize()-and-marginalGain()-against-various-modes\" data-toc-modified-id=\"2)-FacilityLocation:-evaluate()-maximize()-and-marginalGain()-against-various-modes-1.3\"><span class=\"toc-item-num\">1.3&nbsp;&nbsp;</span>2) FacilityLocation: evaluate() maximize() and marginalGain() against various modes</a></span></li></ul></li></ul></div>"
   ]
  },
  {
   "cell_type": "markdown",
   "metadata": {
    "id": "bYTj7JWt2edY"
   },
   "source": [
    "# Timing Analysis "
   ]
  },
  {
   "cell_type": "code",
   "execution_count": 8,
   "metadata": {
    "id": "YSmtr_35yGND"
   },
   "outputs": [],
   "source": [
    "from timeit import timeit \n",
    "import numpy as np\n",
    "import pandas as pd\n",
    "from sklearn.metrics.pairwise import euclidean_distances\n",
    "from sklearn.metrics.pairwise import cosine_similarity\n",
    "from sklearn.metrics.pairwise import cosine_distances\n",
    "from sklearn.neighbors import NearestNeighbors\n",
    "from scipy import sparse\n",
    "import scipy\n",
    "import submodlib_cpp as subcp\n",
    "from submodlib.helper import create_kernel\n",
    "import random\n",
    "from time import time"
   ]
  },
  {
   "cell_type": "markdown",
   "metadata": {
    "id": "PUHSWxcdOl18"
   },
   "source": [
    "## Getting Large randomly generated data"
   ]
  },
  {
   "cell_type": "code",
   "execution_count": 9,
   "metadata": {
    "id": "w3TKEdLLn8sm"
   },
   "outputs": [],
   "source": [
    "data = None\n",
    "try: #Simply load data if already created\n",
    "    with open('/content/drive/MyDrive/submodlib_data/large_data.npy', 'rb') as f:\n",
    "        data = np.load(f, allow_pickle=True)\n",
    "except: #Create data\n",
    "    random.seed(0)\n",
    "    def generate_datapoint(arg):\n",
    "        #random.seed(arg)\n",
    "        #x=random.randrange(1000)-random.randrange(1000)\n",
    "        #y=random.randrange(10)-random.randrange(10)\n",
    "        #z=(random.randrange(100)/100)-(random.randrange(100)/100)\n",
    "        l_feat = []\n",
    "        for i in range(2000):\n",
    "            toss = random.randrange(0, 2)\n",
    "            if toss==0:\n",
    "                bound_val=random.randrange(10, 10000)\n",
    "                #val=random.randrange(bound_val)-random.randrange(bound_val)\n",
    "                val=random.randrange(-1*bound_val, bound_val)\n",
    "            else:\n",
    "                val = random.randrange(-100, 100)/100\n",
    "\n",
    "            l_feat.append(val)\n",
    "        if arg%10000==0:\n",
    "            print(arg)\n",
    "        #return (x,y,z)\n",
    "        return l_feat\n",
    "\n",
    "    l = list(map(generate_datapoint, range(100000)))#Generating 100K datapoints\n",
    "    data = np.array(l)\n",
    "    \n",
    "    with open('/content/drive/MyDrive/submodlib_data/large_data.npy', 'wb') as f:\n",
    "        np.save(f,data, allow_pickle=True)\n",
    "\n",
    "l_record=[]"
   ]
  },
  {
   "cell_type": "code",
   "execution_count": 19,
   "metadata": {
    "id": "gyvQKmILs3ad"
   },
   "outputs": [],
   "source": [
    "np.shape(data)\n",
    "n = 100000"
   ]
  },
  {
   "cell_type": "markdown",
   "metadata": {
    "id": "jDUEXDrAOjky"
   },
   "source": [
    "## 1) CPP Helper V/S Python Helper"
   ]
  },
  {
   "cell_type": "code",
   "execution_count": 11,
   "metadata": {
    "colab": {
     "base_uri": "https://localhost:8080/"
    },
    "id": "kmVL-dEAtC3J",
    "outputId": "8abb0d5e-212d-42bb-c2ac-47a9851cf15e"
   },
   "outputs": [
    {
     "name": "stdout",
     "output_type": "stream",
     "text": [
      "cpp_helper_euclidean: 0.009766310000031808 \n",
      "\n"
     ]
    }
   ],
   "source": [
    "def fun1():# cpp_helper_euclidean (Non-vectorized, min-heap based approach)\n",
    "    subcp.create_kernel(data.tolist(), \"euclidean\" ,num_neigh)\n",
    "t=timeit('fun1', 'from __main__ import fun1')\n",
    "l_record.append((\"cpp_helper_euclidean\", t))\n",
    "print(\"cpp_helper_euclidean:\", t,'\\n')"
   ]
  },
  {
   "cell_type": "code",
   "execution_count": 12,
   "metadata": {
    "colab": {
     "base_uri": "https://localhost:8080/"
    },
    "id": "C_v5dwqU20HP",
    "outputId": "21b0eceb-dd99-42b1-f62c-8de226b7f017"
   },
   "outputs": [
    {
     "name": "stdout",
     "output_type": "stream",
     "text": [
      "python_helper_euclidean: 0.017564612000001034 \n",
      "\n"
     ]
    }
   ],
   "source": [
    "def fun2(): #python_helper_euclidean(vectorized knn clustering approach) \n",
    "    n_, K_dense = create_kernel(data, 'dense','euclidean')\n",
    "t=timeit('fun2', 'from __main__ import fun2')\n",
    "l_record.append((\"python_helper_euclidean\", t))\n",
    "print(\"python_helper_euclidean:\", t,'\\n')"
   ]
  },
  {
   "cell_type": "code",
   "execution_count": 13,
   "metadata": {
    "colab": {
     "base_uri": "https://localhost:8080/"
    },
    "id": "3aN1F4hT22wI",
    "outputId": "7ff6c945-5f7e-4358-9dba-b5c68d8ff647"
   },
   "outputs": [
    {
     "name": "stdout",
     "output_type": "stream",
     "text": [
      "cpp_helper_cosine: 0.01104083300003822 \n",
      "\n"
     ]
    }
   ],
   "source": [
    "def fun3():# cpp_helper_cosine (Non-vectorized, min-heap based approach)\n",
    "    subcp.create_kernel(data.tolist(), \"cosine\" ,num_neigh)\n",
    "t=timeit('fun3', 'from __main__ import fun3')\n",
    "l_record.append((\"cpp_helper_cosine\", t))\n",
    "print(\"cpp_helper_cosine:\", t,'\\n')"
   ]
  },
  {
   "cell_type": "code",
   "execution_count": 14,
   "metadata": {
    "colab": {
     "base_uri": "https://localhost:8080/"
    },
    "id": "mDySeNA624V0",
    "outputId": "f5b7e096-bc54-4c58-c3e8-ed54b04a68a7"
   },
   "outputs": [
    {
     "name": "stdout",
     "output_type": "stream",
     "text": [
      "python_helper_cosine: 0.016881258000012167 \n",
      "\n"
     ]
    }
   ],
   "source": [
    "def fun4(): #python_helper_cosine(vectorized knn clustering approach) \n",
    "    n_, K_dense = create_kernel(data, 'dense','cosine')\n",
    "t=timeit('fun4', 'from __main__ import fun4')\n",
    "l_record.append((\"python_helper_cosine\", t))\n",
    "print(\"python_helper_cosine:\", t,'\\n')"
   ]
  },
  {
   "cell_type": "markdown",
   "metadata": {
    "id": "FQgRvS1l26vo"
   },
   "source": [
    "**CPP Helper V/S Python Helper: SUMMARY**"
   ]
  },
  {
   "cell_type": "code",
   "execution_count": 15,
   "metadata": {
    "colab": {
     "base_uri": "https://localhost:8080/",
     "height": 168
    },
    "id": "1fOxFRCP27Lb",
    "outputId": "6069f810-6797-41be-dc67-23f0ebf8c00a"
   },
   "outputs": [
    {
     "data": {
      "text/html": [
       "<div>\n",
       "<style scoped>\n",
       "    .dataframe tbody tr th:only-of-type {\n",
       "        vertical-align: middle;\n",
       "    }\n",
       "\n",
       "    .dataframe tbody tr th {\n",
       "        vertical-align: top;\n",
       "    }\n",
       "\n",
       "    .dataframe thead th {\n",
       "        text-align: right;\n",
       "    }\n",
       "</style>\n",
       "<table border=\"1\" class=\"dataframe\">\n",
       "  <thead>\n",
       "    <tr style=\"text-align: right;\">\n",
       "      <th></th>\n",
       "      <th>name</th>\n",
       "      <th>time</th>\n",
       "    </tr>\n",
       "  </thead>\n",
       "  <tbody>\n",
       "    <tr>\n",
       "      <th>0</th>\n",
       "      <td>cpp_helper_euclidean</td>\n",
       "      <td>0.009766</td>\n",
       "    </tr>\n",
       "    <tr>\n",
       "      <th>1</th>\n",
       "      <td>python_helper_euclidean</td>\n",
       "      <td>0.017565</td>\n",
       "    </tr>\n",
       "    <tr>\n",
       "      <th>2</th>\n",
       "      <td>cpp_helper_cosine</td>\n",
       "      <td>0.011041</td>\n",
       "    </tr>\n",
       "    <tr>\n",
       "      <th>3</th>\n",
       "      <td>python_helper_cosine</td>\n",
       "      <td>0.016881</td>\n",
       "    </tr>\n",
       "  </tbody>\n",
       "</table>\n",
       "</div>"
      ],
      "text/plain": [
       "                      name      time\n",
       "0     cpp_helper_euclidean  0.009766\n",
       "1  python_helper_euclidean  0.017565\n",
       "2        cpp_helper_cosine  0.011041\n",
       "3     python_helper_cosine  0.016881"
      ]
     },
     "execution_count": 15,
     "metadata": {
      "tags": []
     },
     "output_type": "execute_result"
    }
   ],
   "source": [
    "df = pd.DataFrame(columns = ['name', 'time'],data=l_record)\n",
    "df"
   ]
  },
  {
   "cell_type": "markdown",
   "metadata": {
    "id": "PaMiqc0kPcZe"
   },
   "source": [
    "## 2) FacilityLocation: evaluate() maximize() and marginalGain() against various modes"
   ]
  },
  {
   "cell_type": "code",
   "execution_count": null,
   "metadata": {
    "id": "kPpSnYfKO-PG"
   },
   "outputs": [],
   "source": [
    "#Collab Session crashed while running this (memory overflow)\n",
    "from submodlib.functions.facilityLocation import FacilityLocationFunction\n",
    "obj = FacilityLocationFunction(n=n, data=data, mode=\"sparse\", metric=\"euclidean\", num_neigh=1000)\n",
    "l_record=[]"
   ]
  }
 ],
 "metadata": {
  "accelerator": "GPU",
  "colab": {
   "collapsed_sections": [],
   "name": "large_data_gen.ipynb",
   "provenance": []
  },
  "kernelspec": {
   "display_name": "Python 3",
   "language": "python",
   "name": "python3"
  },
  "language_info": {
   "codemirror_mode": {
    "name": "ipython",
    "version": 3
   },
   "file_extension": ".py",
   "mimetype": "text/x-python",
   "name": "python",
   "nbconvert_exporter": "python",
   "pygments_lexer": "ipython3",
   "version": "3.9.2"
  },
  "toc": {
   "base_numbering": 1,
   "nav_menu": {},
   "number_sections": true,
   "sideBar": true,
   "skip_h1_title": false,
   "title_cell": "Table of Contents",
   "title_sidebar": "Contents",
   "toc_cell": true,
   "toc_position": {},
   "toc_section_display": true,
   "toc_window_display": true
  }
 },
 "nbformat": 4,
 "nbformat_minor": 1
}

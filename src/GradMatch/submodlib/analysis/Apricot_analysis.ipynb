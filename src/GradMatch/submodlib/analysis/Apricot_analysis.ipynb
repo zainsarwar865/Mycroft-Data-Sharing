{
 "cells": [
  {
   "cell_type": "markdown",
   "metadata": {
    "toc": true
   },
   "source": [
    "<h1>Table of Contents<span class=\"tocSkip\"></span></h1>\n",
    "<div class=\"toc\"><ul class=\"toc-item\"></ul></div>"
   ]
  },
  {
   "cell_type": "code",
   "execution_count": null,
   "metadata": {
    "colab": {
     "base_uri": "https://localhost:8080/"
    },
    "id": "RTJNkc8S59S1",
    "outputId": "bfb2d471-bd29-4648-c13d-b344fce130b1"
   },
   "outputs": [
    {
     "name": "stdout",
     "output_type": "stream",
     "text": [
      "Requirement already satisfied: apricot-select in /usr/local/lib/python3.6/dist-packages (0.6.0)\n",
      "Requirement already satisfied: scipy>=1.0.0 in /usr/local/lib/python3.6/dist-packages (from apricot-select) (1.4.1)\n",
      "Requirement already satisfied: numpy>=1.14.2 in /usr/local/lib/python3.6/dist-packages (from apricot-select) (1.19.4)\n",
      "Requirement already satisfied: numba>=0.43.0 in /usr/local/lib/python3.6/dist-packages (from apricot-select) (0.48.0)\n",
      "Requirement already satisfied: tqdm>=4.24.0 in /usr/local/lib/python3.6/dist-packages (from apricot-select) (4.41.1)\n",
      "Requirement already satisfied: nose in /usr/local/lib/python3.6/dist-packages (from apricot-select) (1.3.7)\n",
      "Requirement already satisfied: setuptools in /usr/local/lib/python3.6/dist-packages (from numba>=0.43.0->apricot-select) (51.0.0)\n",
      "Requirement already satisfied: llvmlite<0.32.0,>=0.31.0dev0 in /usr/local/lib/python3.6/dist-packages (from numba>=0.43.0->apricot-select) (0.31.0)\n",
      "Requirement already satisfied: memory-profiler in /usr/local/lib/python3.6/dist-packages (0.58.0)\n",
      "Requirement already satisfied: psutil in /usr/local/lib/python3.6/dist-packages (from memory-profiler) (5.4.8)\n"
     ]
    }
   ],
   "source": [
    "!pip install apricot-select\n",
    "!pip install memory-profiler"
   ]
  },
  {
   "cell_type": "code",
   "execution_count": null,
   "metadata": {
    "colab": {
     "base_uri": "https://localhost:8080/"
    },
    "id": "wMk1rORh6086",
    "outputId": "ddfe3785-81bf-4b50-a967-8b2ad621f5f7"
   },
   "outputs": [
    {
     "name": "stdout",
     "output_type": "stream",
     "text": [
      "Drive already mounted at /content/drive; to attempt to forcibly remount, call drive.mount(\"/content/drive\", force_remount=True).\n"
     ]
    }
   ],
   "source": [
    "from google.colab import drive\n",
    "drive.mount('/content/drive')"
   ]
  },
  {
   "cell_type": "code",
   "execution_count": null,
   "metadata": {
    "id": "yUo7JLEKyCms"
   },
   "outputs": [],
   "source": [
    "import numpy as np\n",
    "from scipy import sparse\n",
    "import scipy\n",
    "import matplotlib.pyplot as plt\n",
    "from timeit import timeit \n",
    "%load_ext memory_profiler"
   ]
  },
  {
   "cell_type": "code",
   "execution_count": null,
   "metadata": {
    "id": "f7d9q0YTx54Z"
   },
   "outputs": [],
   "source": [
    "data =np.array( [(4.5,13.5), (5,13.5), (5.5,13.5), (14.5,13.5), (15,13.5), (15.5,13.5),\n",
    "(4.5,13), (5,13), (5.5,13), (14.5,13), (15,13), (15.5,13),\n",
    "(4.5,12.5), (5,12.5), (5.5,12.5), (14.5,12.5), (15,12.5), (15.5,12.5),\n",
    "(4.5,7.5), (5,7.5), (5.5,7.5), (14.5,7.5), (15,7.5), (15.5,7.5),\n",
    "(4.5,7), (5,7), (5.5,7), (14.5,7), (15,7), (15.5,7),\n",
    "(4.5,6.5), (5,6.5), (5.5,6.5), (14.5,6.5), (15,6.5), (15.5,6.5),\n",
    "(7.5,10), (12.5,10), (10,12.5), (10,7.5), (4.5, 15.5), (5,9.5), (5,10.5)] )"
   ]
  },
  {
   "cell_type": "code",
   "execution_count": null,
   "metadata": {
    "colab": {
     "base_uri": "https://localhost:8080/",
     "height": 265
    },
    "id": "mDTlWhCf5PDr",
    "outputId": "0578bf1d-a4fc-4724-96a7-1786a7d0cd07"
   },
   "outputs": [
    {
     "data": {
      "image/png": "[encoded data removed]",
      "text/plain": [
       "<Figure size 432x288 with 1 Axes>"
      ]
     },
     "metadata": {
      "needs_background": "light",
      "tags": []
     },
     "output_type": "display_data"
    }
   ],
   "source": [
    "#Plot of original data\n",
    "for el in data:\n",
    "    #print(el)\n",
    "    plt.plot(el[0],el[1],'ro')\n",
    "plt.show()"
   ]
  },
  {
   "cell_type": "code",
   "execution_count": null,
   "metadata": {
    "colab": {
     "base_uri": "https://localhost:8080/"
    },
    "id": "CX1y4O2uyA0J",
    "outputId": "5eb2d659-cada-40f5-d9d3-5a6e925e35a9"
   },
   "outputs": [
    {
     "data": {
      "text/plain": [
       "array([[ 7.5, 10. ],\n",
       "       [12.5, 10. ],\n",
       "       [ 5. , 13. ],\n",
       "       [ 5. ,  7.5],\n",
       "       [15. , 13. ],\n",
       "       [15. ,  7. ],\n",
       "       [10. , 12.5],\n",
       "       [10. ,  7.5],\n",
       "       [ 5. , 10.5],\n",
       "       [ 4.5, 15.5]])"
      ]
     },
     "execution_count": 6,
     "metadata": {
      "tags": []
     },
     "output_type": "execute_result"
    }
   ],
   "source": [
    "from apricot import FacilityLocationSelection\n",
    "num_subsets = 10\n",
    "obj = FacilityLocationSelection(num_subsets, metric='euclidean', optimizer='lazy')\n",
    "obj=obj.fit(data)\n",
    "subsets= obj.transform(data)\n",
    "subsets"
   ]
  },
  {
   "cell_type": "code",
   "execution_count": null,
   "metadata": {
    "colab": {
     "base_uri": "https://localhost:8080/"
    },
    "id": "xDR8w0wJEtd9",
    "outputId": "a99502cd-da79-4a10-e4ae-c12216476c5e"
   },
   "outputs": [
    {
     "name": "stdout",
     "output_type": "stream",
     "text": [
      "[36 37  7 19 10 28 38 39 42 40]\n",
      "[7.12275e+03 9.25000e+02 1.70250e+02 1.37500e+02 1.37250e+02 1.37250e+02\n",
      " 1.25000e+01 1.25000e+01 9.25000e+00 6.50000e+00]\n"
     ]
    }
   ],
   "source": [
    "print(obj.ranking) #Selected datapoints in order of their gain\n",
    "print(obj.gains) #Gain of the corrosponding datapoint when it was added to the growing subset"
   ]
  },
  {
   "cell_type": "code",
   "execution_count": null,
   "metadata": {
    "colab": {
     "base_uri": "https://localhost:8080/",
     "height": 265
    },
    "id": "YTafAxYH5bCs",
    "outputId": "9a8145a8-fd3d-4090-ef9b-0789adc8f5ed"
   },
   "outputs": [
    {
     "data": {
      "image/png": "[encoded data removed]",
      "text/plain": [
       "<Figure size 432x288 with 1 Axes>"
      ]
     },
     "metadata": {
      "needs_background": "light",
      "tags": []
     },
     "output_type": "display_data"
    }
   ],
   "source": [
    "#Plot of data discriminating selected data points (green) from others (red)\n",
    "for el in data:\n",
    "    plt.plot(el[0],el[1],'ro')\n",
    "\n",
    "for el in subsets:    \n",
    "    plt.plot(el[0],el[1],'go')\n",
    "\n",
    "plt.show()"
   ]
  },
  {
   "cell_type": "code",
   "execution_count": null,
   "metadata": {
    "id": "20oAzPME7RIg"
   },
   "outputs": [],
   "source": [
    "#Loading large dataset for space and time analysis\n",
    "data = None\n",
    "with open('/content/drive/MyDrive/submodlib_data/large_data.npy', 'rb') as f:\n",
    "        data = np.load(f, allow_pickle=True)"
   ]
  },
  {
   "cell_type": "code",
   "execution_count": null,
   "metadata": {
    "colab": {
     "base_uri": "https://localhost:8080/"
    },
    "id": "EHycVa0H7fpX",
    "outputId": "413bda1c-f424-4b4e-86e1-8a7de3dd0e1a"
   },
   "outputs": [
    {
     "data": {
      "text/plain": [
       "(100000, 2000)"
      ]
     },
     "execution_count": 10,
     "metadata": {
      "tags": []
     },
     "output_type": "execute_result"
    }
   ],
   "source": [
    "np.shape(data)"
   ]
  },
  {
   "cell_type": "code",
   "execution_count": null,
   "metadata": {
    "colab": {
     "base_uri": "https://localhost:8080/"
    },
    "id": "GUC28MWp8lF6",
    "outputId": "dd1ec37a-3fe2-4a78-e875-32784d8120fa"
   },
   "outputs": [
    {
     "name": "stdout",
     "output_type": "stream",
     "text": [
      "0.014942958999995426 \n",
      "\n"
     ]
    }
   ],
   "source": [
    "#Timing Analysis\n",
    "def f_time():\n",
    "  num_subsets = 10\n",
    "  obj = FacilityLocationSelection(num_subsets, metric='euclidean', optimizer='lazy')\n",
    "  obj=obj.fit(data)\n",
    "  subsets= obj.transform(data)\n",
    "\n",
    "print(timeit('f_time', 'from __main__ import f_time'),'\\n')"
   ]
  },
  {
   "cell_type": "code",
   "execution_count": null,
   "metadata": {
    "id": "EA2Heh2byHzQ"
   },
   "outputs": [],
   "source": [
    "#Space Analysis\n",
    "#%%file mprun_demo.py\n",
    "def f_space():\n",
    "  from apricot import FacilityLocationSelection\n",
    "  num_subsets = 10\n",
    "  obj = FacilityLocationSelection(num_subsets, metric='euclidean', optimizer='lazy')\n",
    "  obj=obj.fit(data)\n",
    "  subsets= obj.transform(data)"
   ]
  },
  {
   "cell_type": "code",
   "execution_count": null,
   "metadata": {
    "id": "IpcnZcfFL8Ds"
   },
   "outputs": [],
   "source": [
    "#from mprun_demo import f_space\n",
    "#%mprun -f f_space f_space()\n",
    "\n",
    "#%memit f_space() #Running this on larger dataset is causing memory overflow"
   ]
  },
  {
   "cell_type": "code",
   "execution_count": null,
   "metadata": {
    "colab": {
     "base_uri": "https://localhost:8080/"
    },
    "id": "SaAD1uFD7mqK",
    "outputId": "75f1263e-f6aa-4cd7-e6ef-6f83b71edd5d"
   },
   "outputs": [
    {
     "name": "stdout",
     "output_type": "stream",
     "text": [
      "/content/drive/MyDrive/submodlib_data\n",
      "Filename: apricot_mem_analysis_small.py\n",
      "\n",
      "Line #    Mem usage    Increment  Occurences   Line Contents\n",
      "============================================================\n",
      "    19    165.4 MiB    165.4 MiB           1   @profile\n",
      "    20                                         def f_analysis():\n",
      "    21    165.4 MiB      0.0 MiB           1     num_subsets = 10\n",
      "    22    165.4 MiB      0.0 MiB           1     obj = FacilityLocationSelection(num_subsets, metric='euclidean', optimizer='lazy')\n",
      "    23    179.9 MiB     14.5 MiB           1     obj=obj.fit(data)\n",
      "    24    179.9 MiB      0.0 MiB           1     subsets= obj.transform(data)\n",
      "\n",
      "\n"
     ]
    }
   ],
   "source": [
    "#Space Analysis on small handcrafted data\n",
    "%cd /content/drive/MyDrive/submodlib_data/\n",
    "\n",
    "!python apricot_mem_analysis_small.py"
   ]
  },
  {
   "cell_type": "code",
   "execution_count": null,
   "metadata": {
    "colab": {
     "base_uri": "https://localhost:8080/"
    },
    "id": "16WRd4kB9snc",
    "outputId": "1593035c-5d6b-4c5c-a0cf-2d56a6065804"
   },
   "outputs": [
    {
     "name": "stdout",
     "output_type": "stream",
     "text": [
      "/content/drive/MyDrive/submodlib_data\n",
      "tcmalloc: large alloc 1600004096 bytes == 0x3b66000 @  0x7f50fe8201e7 0x7f50fc3a041e 0x7f50fc3f4f1c 0x7f50fc3f5b4b 0x7f50fc497270 0x50a4a5 0x50cc96 0x507be4 0x509900 0x50a2fd 0x50cc96 0x507be4 0x509900 0x50a2fd 0x50cc96 0x507be4 0x50ad03 0x634e72 0x634f27 0x6386df 0x639281 0x4b0dc0 0x7f50fe41dbf7 0x5b259a\n",
      "tcmalloc: large alloc 80000000000 bytes == 0x63216000 @  0x7f50fe8201e7 0x7f50fc3a041e 0x7f50fc3f0bdb 0x7f50fc3f0c78 0x7f50fc4acb79 0x7f50fc4af8dd 0x7f50fc5d771a 0x7f50fc5d8276 0x5a48ec 0x5a4fb8 0x59c922 0x4a3ae0 0x513444 0x507be4 0x509900 0x50a2fd 0x50cc96 0x507be4 0x588e5c 0x59fd0e 0x50d256 0x507be4 0x588e5c 0x59fd0e 0x50d256 0x507be4 0x509900 0x50a2fd 0x50cc96 0x507be4 0x509900\n",
      "^C\n"
     ]
    }
   ],
   "source": [
    "#Space Analysis on very large randomly generated data\n",
    "#Given configuration of data is too large--> causes memory overflow issues\n",
    "%cd /content/drive/MyDrive/submodlib_data/ \n",
    "\n",
    "!python apricot_mem_analysis_large.py "
   ]
  },
  {
   "cell_type": "code",
   "execution_count": null,
   "metadata": {
    "id": "Tdx9xkWQQWHQ"
   },
   "outputs": [],
   "source": []
  }
 ],
 "metadata": {
  "accelerator": "GPU",
  "colab": {
   "collapsed_sections": [],
   "name": "Apricot.ipynb",
   "provenance": []
  },
  "kernelspec": {
   "display_name": "Python 3",
   "language": "python",
   "name": "python3"
  },
  "language_info": {
   "codemirror_mode": {
    "name": "ipython",
    "version": 3
   },
   "file_extension": ".py",
   "mimetype": "text/x-python",
   "name": "python",
   "nbconvert_exporter": "python",
   "pygments_lexer": "ipython3",
   "version": "3.9.2"
  },
  "toc": {
   "base_numbering": 1,
   "nav_menu": {},
   "number_sections": true,
   "sideBar": true,
   "skip_h1_title": false,
   "title_cell": "Table of Contents",
   "title_sidebar": "Contents",
   "toc_cell": true,
   "toc_position": {},
   "toc_section_display": true,
   "toc_window_display": false
  }
 },
 "nbformat": 4,
 "nbformat_minor": 1
}

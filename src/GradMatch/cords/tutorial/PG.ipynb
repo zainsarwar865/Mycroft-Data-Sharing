{
 "cells": [
  {
   "cell_type": "code",
   "execution_count": 1,
   "metadata": {},
   "outputs": [],
   "source": [
    "import numpy as np\n",
    "import pandas as pd\n",
    "import torch\n",
    "from glob import glob\n",
    "import time"
   ]
  },
  {
   "cell_type": "code",
   "execution_count": 2,
   "metadata": {},
   "outputs": [],
   "source": [
    "pretrained_ckpt_directory = \"/bigstor/zsarwar/spurious_classifiers/checkpoints/MT_3_10-classes_8_imagenet-non-wolf-dogs_gradmatch_616df4bb5989b9e583f3864bf77b25be/*\"\n",
    "all_ckpts = glob(pretrained_ckpt_directory)\n",
    "all_ckpts = [ckpt for ckpt in all_ckpts if '.yaml' not in ckpt]\n",
    "new_list = []\n",
    "\n",
    "\n",
    "# Read the iter numbers\n",
    "all_ckpt_iters = []\n",
    "for ckpt in all_ckpts:\n",
    "    iter_num = ckpt.split(\"/\")[-1].split(\"_\")[1]\n",
    "    all_ckpt_iters.append(iter_num)\n",
    "all_ckpt_iters = list(set(all_ckpt_iters))\n",
    "\n",
    "\n",
    "\n",
    "for i in range(10):\n",
    "    for ckpt in all_ckpts:\n",
    "        for iter_num in all_ckpt_iters:\n",
    "            if f'/{str(i)}_{iter_num}_checkpoint.pth.tar' in ckpt:\n",
    "                new_list.append(ckpt)\n",
    "                break    \n",
    "    \n",
    "new_list.sort()\n",
    "\n",
    "for new_ckpt in new_list:\n",
    "    idx = all_ckpts.index(new_ckpt)\n",
    "    all_ckpts.pop(idx)\n",
    "\n",
    "all_ckpts.sort()\n",
    "all_ckpts = new_list + all_ckpts"
   ]
  },
  {
   "cell_type": "code",
   "execution_count": 25,
   "metadata": {},
   "outputs": [],
   "source": [
    "start = 0\n",
    "end = 51\n",
    "jump = 5\n"
   ]
  },
  {
   "cell_type": "code",
   "execution_count": 1,
   "metadata": {},
   "outputs": [],
   "source": [
    "from glob import glob"
   ]
  },
  {
   "cell_type": "code",
   "execution_count": 2,
   "metadata": {},
   "outputs": [],
   "source": [
    "all_ckpts = \"/bigstor/zsarwar/spurious_classifiers/checkpoints/DO_5_Imagenet_48_no-wolf-dog-animals_gradmatch_22531f929e5d782ab5abdfc66761414c/*\"\n",
    "\n",
    "all_ckpts = glob(all_ckpts)\n",
    "all_ckpts = [ckpt for ckpt in all_ckpts if '.yaml' not in ckpt]\n",
    "all_ckpts = [ckpt for ckpt in all_ckpts if 'best' not in ckpt]\n",
    "new_list = []\n",
    "\n",
    "# Read the iter numbers\n",
    "\"\"\"\n",
    "all_ckpt_iters = []\n",
    "for ckpt in all_ckpts:\n",
    "    iter_num = ckpt.split(\"/\")[-1].split(\"_\")[1]\n",
    "    all_ckpt_iters.append(iter_num)\n",
    "all_ckpt_iters = list(set(all_ckpt_iters))\n",
    "\"\"\"\n",
    "\n",
    "for i in range(10):\n",
    "    for ckpt in all_ckpts:\n",
    "        if f'/{str(i)}_checkpoint.pth.tar' in ckpt:\n",
    "            new_list.append(ckpt)\n",
    "        \n",
    "new_list.sort()\n",
    "for new_ckpt in new_list:\n",
    "    idx = all_ckpts.index(new_ckpt)\n",
    "    all_ckpts.pop(idx)\n",
    "\n",
    "all_ckpts.sort()\n",
    "all_ckpts = new_list + all_ckpts\n"
   ]
  },
  {
   "cell_type": "code",
   "execution_count": 28,
   "metadata": {},
   "outputs": [],
   "source": [
    "files = sorted(files)"
   ]
  },
  {
   "cell_type": "code",
   "execution_count": 6,
   "metadata": {},
   "outputs": [],
   "source": [
    "df = pd.read_pickle(\"/bigstor/zsarwar/Imagenet_2012_subsets/MT_DO_Splits/df_train_DO_2_Imagenet_48_no-wolf-dog-animals.pkl\")\n",
    "stats = pd.read_pickle(\"/bigstor/zsarwar/GradMatch/GradMatch_Retrievals/df_retrieved_DO_2_Imagenet_48_no-wolf-dog-animals_gradmatch_budget-100_perclass-False_998a279aa5e0f1725090a2af352e1ab7_retrieval-budget-perclass-40.pkl\")"
   ]
  }
 ],
 "metadata": {
  "kernelspec": {
   "display_name": "ffcv_2",
   "language": "python",
   "name": "python3"
  },
  "language_info": {
   "codemirror_mode": {
    "name": "ipython",
    "version": 3
   },
   "file_extension": ".py",
   "mimetype": "text/x-python",
   "name": "python",
   "nbconvert_exporter": "python",
   "pygments_lexer": "ipython3",
   "version": "3.9.16"
  },
  "orig_nbformat": 4
 },
 "nbformat": 4,
 "nbformat_minor": 2
}

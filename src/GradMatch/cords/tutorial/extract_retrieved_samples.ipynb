{
 "cells": [
  {
   "cell_type": "code",
   "execution_count": 1,
   "metadata": {},
   "outputs": [],
   "source": [
    "# This script will read a stats.pkl file from the gradmatch run and the df_train set and save a retrieved DF which will then be fed to an MT_Augmented_D_Useful script to be merged with MT\n",
    "# training data\n",
    "# This needs to be a config file which I will run via another bash script to batch process all the retrieved samples\n",
    "import os\n",
    "import pandas as pd\n",
    "import numpy as np\n",
    "import pickle\n",
    "import torch\n",
    "from glob import glob\n",
    "from tqdm import tqdm\n",
    "import argparse\n",
    "import yaml"
   ]
  },
  {
   "cell_type": "code",
   "execution_count": 2,
   "metadata": {},
   "outputs": [
    {
     "data": {
      "text/plain": [
       "_StoreAction(option_strings=['--extra_classes_possible'], dest='extra_classes_possible', nargs=None, const=None, default=False, type=<class 'bool'>, choices=None, required=False, help=None, metavar=None)"
      ]
     },
     "execution_count": 2,
     "metadata": {},
     "output_type": "execute_result"
    }
   ],
   "source": [
    "parser = argparse.ArgumentParser()\n",
    "# Args to reconstruct the hash function leading to the right directory for latent space data\n",
    "############\n",
    "parser = argparse.ArgumentParser(description='PyTorch ImageNet Training')\n",
    "parser.add_argument('-config')\n",
    "parser.add_argument('--dataset', default='Dogs_vs_Wolves', type=str,\n",
    "                    help='path to latest checkpoint (default: none)')\n",
    "parser.add_argument('--num_classes_dhard', type=int, default=2)\n",
    "parser.add_argument('--per_class_gradmatch', type=bool, default=False)\n",
    "parser.add_argument('--df_root', type=str, default=\"/bigstor/zsarwar/Imagenet_2012_subsets/MT_DO_Splits/\")\n",
    "parser.add_argument('--df_retrieve_config', type=str, default=\"df_train_DO_1_Imagenet_48_no-wolf-dog-animals.pkl\")\n",
    "parser.add_argument('--gradmatch_retrieved_path', type=str, default=\"/bigstor/zsarwar/GradMatch\")\n",
    "parser.add_argument('--gradmatch_retrieved_config', type=str, default=\"DO_1_Imagenet_48_no-wolf-dog-animals_gradmatch_budget-100_perclass-False_b447f8befed9527c2c1607fbdf46b9c2\")\n",
    "parser.add_argument('--gradmatch_retrieved_out_path', type=str, default=\"/bigstor/zsarwar/GradMatch/GradMatch_Retrievals/\")\n",
    "parser.add_argument('--tot_samples_per_class_needed', type=int, default=20)\n",
    "parser.add_argument('--extra_classes_possible', type=bool, default=False)"
   ]
  },
  {
   "cell_type": "code",
   "execution_count": 3,
   "metadata": {},
   "outputs": [],
   "source": [
    "# Use config files\n",
    "\"\"\"\n",
    "p = parser.parse_args()\n",
    "if p.config is not None:\n",
    "    with open(p.config, 'r') as f:\n",
    "        default_arg = yaml.safe_load(f)\n",
    "    key = vars(p).keys()\n",
    "    for k in default_arg.keys():        \n",
    "        if k not in key:\n",
    "            print('WRONG ARG: {}'.format(k))\n",
    "            assert (k in key)\n",
    "    \n",
    "    parser.set_defaults(**default_arg)\n",
    "\"\"\"\n",
    "args = parser.parse_args([])"
   ]
  },
  {
   "cell_type": "code",
   "execution_count": 4,
   "metadata": {},
   "outputs": [],
   "source": [
    "# Load stuff\n",
    "do_config_path = os.path.join(args.df_root, args.df_retrieve_config)\n",
    "df_do_train = pd.read_pickle(do_config_path)\n",
    "\n",
    "# GradMatch retreived files\n",
    "retrieved_config_path = os.path.join(args.gradmatch_retrieved_path, args.gradmatch_retrieved_config)\n",
    "retrieved_stats_path = os.path.join(retrieved_config_path, \"stats.pkl\")\n",
    "stats = pd.read_pickle(retrieved_stats_path)\n"
   ]
  },
  {
   "cell_type": "code",
   "execution_count": 5,
   "metadata": {},
   "outputs": [],
   "source": [
    "# This will be ALL CLASSES based retrieval"
   ]
  },
  {
   "cell_type": "code",
   "execution_count": 6,
   "metadata": {},
   "outputs": [],
   "source": [
    "all_weights = stats['all_classes']['encountered_weights_dict']\n",
    "all_indices = stats['all_classes']['encountered_idxs_dict']\n",
    "budget = args.tot_samples_per_class_needed * args.num_classes_dhard\n",
    "# By default, use the second ckpt for now\n",
    "idx_ckpt_to_use = list(stats['all_classes']['encountered_idxs_dict'].keys())[1]\n"
   ]
  },
  {
   "cell_type": "code",
   "execution_count": 7,
   "metadata": {},
   "outputs": [],
   "source": [
    "# Construct a df_sub_strain which has all retrieved samples\n",
    "# then weight by sorted weights and create final df_retrieved\n",
    "\n",
    "df_subset = df_do_train.iloc[all_indices[idx_ckpt_to_use]]\n",
    "argsort_indices = np.flip(np.argsort(all_weights[idx_ckpt_to_use].numpy()), axis=0)    \n",
    "df_subset_weighted = df_subset.iloc[argsort_indices]\n",
    "df_subset_weighted = df_subset_weighted[0:budget]\n",
    "df_retrieved_gradmatch = df_subset_weighted.copy()\n",
    "\n",
    "\n",
    "if not args.extra_classes_possible:\n",
    "    # Remove all classes not presentg in D_hard\n",
    "    d_hard_config = args.df_retrieve_config.replace(\"train\", \"test\")\n",
    "    d_hard_path = os.path.join(args.df_root, d_hard_config)\n",
    "    df_mt_hard = pd.read_pickle(d_hard_path)\n",
    "    unique_classes_d_hard = df_mt_hard['class'].unique()\n",
    "    df_retrieved_gradmatch = df_retrieved_gradmatch[df_retrieved_gradmatch['class'].isin(unique_classes_d_hard)]"
   ]
  },
  {
   "cell_type": "code",
   "execution_count": 14,
   "metadata": {},
   "outputs": [],
   "source": [
    "# Save\n",
    "out_df_name = \"df_retrieved_\" + args.gradmatch_retrieved_config \n",
    "full_outpath = os.path.join(args.gradmatch_retrieved_out_path, out_df_name)\n",
    "df_retrieved_gradmatch.to_pickle(full_outpath)\n"
   ]
  },
  {
   "cell_type": "code",
   "execution_count": 15,
   "metadata": {},
   "outputs": [],
   "source": [
    "df_ = pd.read_pickle(\"/bigstor/zsarwar/GradMatch/GradMatch_Retrievals/df_retrieved_DO_1_Imagenet_48_no-wolf-dog-animals_gradmatch_budget-100_perclass-False_b447f8befed9527c2c1607fbdf46b9c2\")"
   ]
  },
  {
   "cell_type": "code",
   "execution_count": null,
   "metadata": {},
   "outputs": [],
   "source": []
  }
 ],
 "metadata": {
  "kernelspec": {
   "display_name": "ffcv",
   "language": "python",
   "name": "python3"
  },
  "language_info": {
   "codemirror_mode": {
    "name": "ipython",
    "version": 3
   },
   "file_extension": ".py",
   "mimetype": "text/x-python",
   "name": "python",
   "nbconvert_exporter": "python",
   "pygments_lexer": "ipython3",
   "version": "3.9.16"
  },
  "orig_nbformat": 4
 },
 "nbformat": 4,
 "nbformat_minor": 2
}
